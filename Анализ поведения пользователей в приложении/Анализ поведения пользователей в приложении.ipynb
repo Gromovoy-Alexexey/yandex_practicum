{
 "cells": [
  {
   "cell_type": "markdown",
   "id": "49f393bb",
   "metadata": {},
   "source": [
    "### Декомпозиция\n",
    "\n",
    "#### 1. Ознакомление с данными\n",
    "- ##### Откроем файл с данными и изучим общую информацию\n",
    "\n",
    "#### 2. Выполним предобработку данных\n",
    "- ##### Посмотрим кол-во пропусков в датасетах\n",
    "- ##### Проверим явные дубликаты\n",
    "- ##### Изменим названия столбцов датасетов\n",
    "- ##### Поменяем тип данных в столбце event_time\n",
    "- ##### Проверим наличие неявных дубликатов\n",
    "\n",
    "\n",
    "\n",
    "\n",
    "#### 3. Исследовательский анализ данных\n",
    "- ##### Найдем сумму уникальных пользователей\n",
    "- ##### Найдем кол-во уникальных пользователей в разрезе по источнику установки\n",
    "- ##### Найдем рамки временного диапазона исследования\n",
    "- ##### Найдем кол-во событий в датасете по типу действий\n",
    "- ##### Посчитаем, сколько уникальных пользователей совершали каждое из этих событий и их долю\n",
    "- ##### Выделим кол-во сессий пользователей\n",
    "- ##### Посмотрим сколько сессий приходиться на пользователя\n",
    "- ##### Посмотрим на кол-во совершаемых действий внутри сессий\n",
    "- ##### Найдем среднюю продолжительность сессии\n",
    "- ##### Посмотрим на сценарии использования приложения\n",
    "- ##### Построим воронки по выделенным сценариям. Посмотрим на конверсию в целевое действие.\n",
    "- ##### Посчитаем временную разницу между событиями\n",
    "- ##### Посмотрим, какие события влияют на конверсию в целевое действие\n",
    "\n",
    "#### 4. Проверка гипотез\n",
    "- ##### Одни пользователи совершают действия tips_show и tips_click, другие — только tips_show. Проверим гипотезу: конверсия в просмотры контактов различается у этих двух групп\n",
    "- ##### Пользователи устанавливают приложения из разных источников. Проверим гипотезу: источник установки приложения влияет на конверсию целевого действия contacts_show\n",
    "\n",
    "#### 5. Общий вывод\n",
    "--- "
   ]
  },
  {
   "cell_type": "markdown",
   "id": "1808bca4",
   "metadata": {},
   "source": [
    "#### 1. Ознакомление с данными"
   ]
  },
  {
   "cell_type": "markdown",
   "id": "1a868768",
   "metadata": {},
   "source": [
    "##### Откроем файл с данными и изучим общую информацию"
   ]
  },
  {
   "cell_type": "code",
   "execution_count": 1,
   "id": "7e1b61e2",
   "metadata": {},
   "outputs": [],
   "source": [
    "# Имопртируем библиотеки\n",
    "import pandas as pd\n",
    "import numpy as np\n",
    "import scipy.stats as stats\n",
    "import math as mth\n",
    "import plotly.express as px\n",
    "import json as json\n",
    "import seaborn as sns\n",
    "from datetime import datetime, timedelta\n",
    "from plotly import graph_objects as go\n",
    "from matplotlib import pyplot as plt\n",
    "from scipy import stats as st\n",
    "from tqdm import tqdm\n",
    "import plotly.io as pio\n",
    "pio.renderers.default = \"png\""
   ]
  },
  {
   "cell_type": "code",
   "execution_count": 2,
   "id": "a91572f9",
   "metadata": {},
   "outputs": [],
   "source": [
    "# Зададим переменные датасетов\n",
    "try:\n",
    "    mobile_dataset = pd.read_csv('https://code.s3.yandex.net/datasets/mobile_dataset.csv')\n",
    "    mobile_sourсes = pd.read_csv('https://code.s3.yandex.net/datasets/mobile_sources.csv')\n",
    "except:\n",
    "    mobile_dataset = pd.read_csv('practicum_datasets/mobile_dataset.csv')\n",
    "    mobile_sourсes = pd.read_csv('practicum_datasets/mobile_sources.csv')\n",
    "\n",
    "# Зададим настройки отображения\n",
    "pd.set_option('display.max_columns', None)\n",
    "pd.set_option('display.max_rows', None)\n",
    "pd.set_option('display.max_colwidth', None)"
   ]
  },
  {
   "cell_type": "code",
   "execution_count": 3,
   "id": "cd5190a8",
   "metadata": {},
   "outputs": [
    {
     "data": {
      "text/html": [
       "<div>\n",
       "<style scoped>\n",
       "    .dataframe tbody tr th:only-of-type {\n",
       "        vertical-align: middle;\n",
       "    }\n",
       "\n",
       "    .dataframe tbody tr th {\n",
       "        vertical-align: top;\n",
       "    }\n",
       "\n",
       "    .dataframe thead th {\n",
       "        text-align: right;\n",
       "    }\n",
       "</style>\n",
       "<table border=\"1\" class=\"dataframe\">\n",
       "  <thead>\n",
       "    <tr style=\"text-align: right;\">\n",
       "      <th></th>\n",
       "      <th>event.time</th>\n",
       "      <th>event.name</th>\n",
       "      <th>user.id</th>\n",
       "    </tr>\n",
       "  </thead>\n",
       "  <tbody>\n",
       "    <tr>\n",
       "      <th>0</th>\n",
       "      <td>2019-10-07 00:00:00.431357</td>\n",
       "      <td>advert_open</td>\n",
       "      <td>020292ab-89bc-4156-9acf-68bc2783f894</td>\n",
       "    </tr>\n",
       "    <tr>\n",
       "      <th>1</th>\n",
       "      <td>2019-10-07 00:00:01.236320</td>\n",
       "      <td>tips_show</td>\n",
       "      <td>020292ab-89bc-4156-9acf-68bc2783f894</td>\n",
       "    </tr>\n",
       "    <tr>\n",
       "      <th>2</th>\n",
       "      <td>2019-10-07 00:00:02.245341</td>\n",
       "      <td>tips_show</td>\n",
       "      <td>cf7eda61-9349-469f-ac27-e5b6f5ec475c</td>\n",
       "    </tr>\n",
       "    <tr>\n",
       "      <th>3</th>\n",
       "      <td>2019-10-07 00:00:07.039334</td>\n",
       "      <td>tips_show</td>\n",
       "      <td>020292ab-89bc-4156-9acf-68bc2783f894</td>\n",
       "    </tr>\n",
       "    <tr>\n",
       "      <th>4</th>\n",
       "      <td>2019-10-07 00:00:56.319813</td>\n",
       "      <td>advert_open</td>\n",
       "      <td>cf7eda61-9349-469f-ac27-e5b6f5ec475c</td>\n",
       "    </tr>\n",
       "  </tbody>\n",
       "</table>\n",
       "</div>"
      ],
      "text/plain": [
       "                   event.time   event.name  \\\n",
       "0  2019-10-07 00:00:00.431357  advert_open   \n",
       "1  2019-10-07 00:00:01.236320    tips_show   \n",
       "2  2019-10-07 00:00:02.245341    tips_show   \n",
       "3  2019-10-07 00:00:07.039334    tips_show   \n",
       "4  2019-10-07 00:00:56.319813  advert_open   \n",
       "\n",
       "                                user.id  \n",
       "0  020292ab-89bc-4156-9acf-68bc2783f894  \n",
       "1  020292ab-89bc-4156-9acf-68bc2783f894  \n",
       "2  cf7eda61-9349-469f-ac27-e5b6f5ec475c  \n",
       "3  020292ab-89bc-4156-9acf-68bc2783f894  \n",
       "4  cf7eda61-9349-469f-ac27-e5b6f5ec475c  "
      ]
     },
     "metadata": {},
     "output_type": "display_data"
    },
    {
     "name": "stdout",
     "output_type": "stream",
     "text": [
      "<class 'pandas.core.frame.DataFrame'>\n",
      "RangeIndex: 74197 entries, 0 to 74196\n",
      "Data columns (total 3 columns):\n",
      " #   Column      Non-Null Count  Dtype \n",
      "---  ------      --------------  ----- \n",
      " 0   event.time  74197 non-null  object\n",
      " 1   event.name  74197 non-null  object\n",
      " 2   user.id     74197 non-null  object\n",
      "dtypes: object(3)\n",
      "memory usage: 1.7+ MB\n"
     ]
    },
    {
     "data": {
      "text/plain": [
       "None"
      ]
     },
     "metadata": {},
     "output_type": "display_data"
    }
   ],
   "source": [
    "# Выведем первые 5 сток и общую информацию датасета mobile_dataset\n",
    "display(mobile_dataset.head())\n",
    "display(mobile_dataset.info())"
   ]
  },
  {
   "cell_type": "code",
   "execution_count": 4,
   "id": "3165c954",
   "metadata": {},
   "outputs": [
    {
     "data": {
      "text/html": [
       "<div>\n",
       "<style scoped>\n",
       "    .dataframe tbody tr th:only-of-type {\n",
       "        vertical-align: middle;\n",
       "    }\n",
       "\n",
       "    .dataframe tbody tr th {\n",
       "        vertical-align: top;\n",
       "    }\n",
       "\n",
       "    .dataframe thead th {\n",
       "        text-align: right;\n",
       "    }\n",
       "</style>\n",
       "<table border=\"1\" class=\"dataframe\">\n",
       "  <thead>\n",
       "    <tr style=\"text-align: right;\">\n",
       "      <th></th>\n",
       "      <th>userId</th>\n",
       "      <th>source</th>\n",
       "    </tr>\n",
       "  </thead>\n",
       "  <tbody>\n",
       "    <tr>\n",
       "      <th>0</th>\n",
       "      <td>020292ab-89bc-4156-9acf-68bc2783f894</td>\n",
       "      <td>other</td>\n",
       "    </tr>\n",
       "    <tr>\n",
       "      <th>1</th>\n",
       "      <td>cf7eda61-9349-469f-ac27-e5b6f5ec475c</td>\n",
       "      <td>yandex</td>\n",
       "    </tr>\n",
       "    <tr>\n",
       "      <th>2</th>\n",
       "      <td>8c356c42-3ba9-4cb6-80b8-3f868d0192c3</td>\n",
       "      <td>yandex</td>\n",
       "    </tr>\n",
       "    <tr>\n",
       "      <th>3</th>\n",
       "      <td>d9b06b47-0f36-419b-bbb0-3533e582a6cb</td>\n",
       "      <td>other</td>\n",
       "    </tr>\n",
       "    <tr>\n",
       "      <th>4</th>\n",
       "      <td>f32e1e2a-3027-4693-b793-b7b3ff274439</td>\n",
       "      <td>google</td>\n",
       "    </tr>\n",
       "  </tbody>\n",
       "</table>\n",
       "</div>"
      ],
      "text/plain": [
       "                                 userId  source\n",
       "0  020292ab-89bc-4156-9acf-68bc2783f894   other\n",
       "1  cf7eda61-9349-469f-ac27-e5b6f5ec475c  yandex\n",
       "2  8c356c42-3ba9-4cb6-80b8-3f868d0192c3  yandex\n",
       "3  d9b06b47-0f36-419b-bbb0-3533e582a6cb   other\n",
       "4  f32e1e2a-3027-4693-b793-b7b3ff274439  google"
      ]
     },
     "metadata": {},
     "output_type": "display_data"
    },
    {
     "name": "stdout",
     "output_type": "stream",
     "text": [
      "<class 'pandas.core.frame.DataFrame'>\n",
      "RangeIndex: 4293 entries, 0 to 4292\n",
      "Data columns (total 2 columns):\n",
      " #   Column  Non-Null Count  Dtype \n",
      "---  ------  --------------  ----- \n",
      " 0   userId  4293 non-null   object\n",
      " 1   source  4293 non-null   object\n",
      "dtypes: object(2)\n",
      "memory usage: 67.2+ KB\n"
     ]
    },
    {
     "data": {
      "text/plain": [
       "None"
      ]
     },
     "metadata": {},
     "output_type": "display_data"
    }
   ],
   "source": [
    "# Выведем первые 5 сток и общую информацию датасета mobile_sourсes\n",
    "display(mobile_sourсes.head())\n",
    "display(mobile_sourсes.info())"
   ]
  },
  {
   "cell_type": "markdown",
   "id": "3f634046",
   "metadata": {},
   "source": [
    "**Вывод:** \n",
    "- В датасете mobile_dataset 74 197 строк, тип данных во всех колонках - object\n",
    "- В датасете mobile_sourсes 4 293 строки, тип данных во всех колонках - object"
   ]
  },
  {
   "cell_type": "markdown",
   "id": "60657f6a",
   "metadata": {},
   "source": [
    "#### 2. Выполним предобработку данных"
   ]
  },
  {
   "cell_type": "markdown",
   "id": "b4401fce",
   "metadata": {},
   "source": [
    "##### Посмотрим кол-во пропусков в датасетах"
   ]
  },
  {
   "cell_type": "code",
   "execution_count": 5,
   "id": "ca4b2253",
   "metadata": {},
   "outputs": [
    {
     "name": "stdout",
     "output_type": "stream",
     "text": [
      "Кол-во пропусков в mobile_dataset:\n"
     ]
    },
    {
     "data": {
      "text/plain": [
       "event.time    0\n",
       "event.name    0\n",
       "user.id       0\n",
       "dtype: int64"
      ]
     },
     "metadata": {},
     "output_type": "display_data"
    }
   ],
   "source": [
    "# Выведем сумму пропусков в датасете mobile_dataset\n",
    "print('Кол-во пропусков в mobile_dataset:')\n",
    "\n",
    "display(mobile_dataset.isna().sum())"
   ]
  },
  {
   "cell_type": "code",
   "execution_count": 6,
   "id": "cf774abc",
   "metadata": {},
   "outputs": [
    {
     "name": "stdout",
     "output_type": "stream",
     "text": [
      "Кол-во пропусков в mobile_sourсes:\n"
     ]
    },
    {
     "data": {
      "text/plain": [
       "userId    0\n",
       "source    0\n",
       "dtype: int64"
      ]
     },
     "metadata": {},
     "output_type": "display_data"
    }
   ],
   "source": [
    "# Выведем сумму пропусков в датасете mobile_sourсes\n",
    "print('Кол-во пропусков в mobile_sourсes:')\n",
    "\n",
    "display(mobile_sourсes.isna().sum())"
   ]
  },
  {
   "cell_type": "markdown",
   "id": "e4a00b55",
   "metadata": {},
   "source": [
    "Пропусков в датасетах не обнаружено."
   ]
  },
  {
   "cell_type": "markdown",
   "id": "362f2bf8",
   "metadata": {},
   "source": [
    "##### Проверим явные дубликаты"
   ]
  },
  {
   "cell_type": "code",
   "execution_count": 7,
   "id": "99a02604",
   "metadata": {},
   "outputs": [
    {
     "name": "stdout",
     "output_type": "stream",
     "text": [
      "Ко-во дубликатов: 0\n"
     ]
    }
   ],
   "source": [
    "# Найдем явные дуюликаты в датасете mobile_dataset\n",
    "print('Ко-во дубликатов:', mobile_dataset.duplicated().sum())"
   ]
  },
  {
   "cell_type": "code",
   "execution_count": 8,
   "id": "c161bfd3",
   "metadata": {},
   "outputs": [
    {
     "name": "stdout",
     "output_type": "stream",
     "text": [
      "Ко-во дубликатов: 0\n"
     ]
    }
   ],
   "source": [
    "# Найдем явные дуюликаты в датасете mobile_sourсes\n",
    "print('Ко-во дубликатов:', mobile_sourсes.duplicated().sum())"
   ]
  },
  {
   "cell_type": "markdown",
   "id": "6b1f176e",
   "metadata": {},
   "source": [
    "Явных дубликатов не обнаружено."
   ]
  },
  {
   "cell_type": "markdown",
   "id": "49f43ad5",
   "metadata": {},
   "source": [
    "##### Изменим названия столбцов датасетов"
   ]
  },
  {
   "cell_type": "code",
   "execution_count": 9,
   "id": "6b863393",
   "metadata": {},
   "outputs": [
    {
     "data": {
      "text/html": [
       "<div>\n",
       "<style scoped>\n",
       "    .dataframe tbody tr th:only-of-type {\n",
       "        vertical-align: middle;\n",
       "    }\n",
       "\n",
       "    .dataframe tbody tr th {\n",
       "        vertical-align: top;\n",
       "    }\n",
       "\n",
       "    .dataframe thead th {\n",
       "        text-align: right;\n",
       "    }\n",
       "</style>\n",
       "<table border=\"1\" class=\"dataframe\">\n",
       "  <thead>\n",
       "    <tr style=\"text-align: right;\">\n",
       "      <th></th>\n",
       "      <th>event_time</th>\n",
       "      <th>event_name</th>\n",
       "      <th>user_id</th>\n",
       "    </tr>\n",
       "  </thead>\n",
       "  <tbody>\n",
       "    <tr>\n",
       "      <th>0</th>\n",
       "      <td>2019-10-07 00:00:00.431357</td>\n",
       "      <td>advert_open</td>\n",
       "      <td>020292ab-89bc-4156-9acf-68bc2783f894</td>\n",
       "    </tr>\n",
       "    <tr>\n",
       "      <th>1</th>\n",
       "      <td>2019-10-07 00:00:01.236320</td>\n",
       "      <td>tips_show</td>\n",
       "      <td>020292ab-89bc-4156-9acf-68bc2783f894</td>\n",
       "    </tr>\n",
       "    <tr>\n",
       "      <th>2</th>\n",
       "      <td>2019-10-07 00:00:02.245341</td>\n",
       "      <td>tips_show</td>\n",
       "      <td>cf7eda61-9349-469f-ac27-e5b6f5ec475c</td>\n",
       "    </tr>\n",
       "    <tr>\n",
       "      <th>3</th>\n",
       "      <td>2019-10-07 00:00:07.039334</td>\n",
       "      <td>tips_show</td>\n",
       "      <td>020292ab-89bc-4156-9acf-68bc2783f894</td>\n",
       "    </tr>\n",
       "    <tr>\n",
       "      <th>4</th>\n",
       "      <td>2019-10-07 00:00:56.319813</td>\n",
       "      <td>advert_open</td>\n",
       "      <td>cf7eda61-9349-469f-ac27-e5b6f5ec475c</td>\n",
       "    </tr>\n",
       "  </tbody>\n",
       "</table>\n",
       "</div>"
      ],
      "text/plain": [
       "                   event_time   event_name  \\\n",
       "0  2019-10-07 00:00:00.431357  advert_open   \n",
       "1  2019-10-07 00:00:01.236320    tips_show   \n",
       "2  2019-10-07 00:00:02.245341    tips_show   \n",
       "3  2019-10-07 00:00:07.039334    tips_show   \n",
       "4  2019-10-07 00:00:56.319813  advert_open   \n",
       "\n",
       "                                user_id  \n",
       "0  020292ab-89bc-4156-9acf-68bc2783f894  \n",
       "1  020292ab-89bc-4156-9acf-68bc2783f894  \n",
       "2  cf7eda61-9349-469f-ac27-e5b6f5ec475c  \n",
       "3  020292ab-89bc-4156-9acf-68bc2783f894  \n",
       "4  cf7eda61-9349-469f-ac27-e5b6f5ec475c  "
      ]
     },
     "metadata": {},
     "output_type": "display_data"
    }
   ],
   "source": [
    "# Заменим название столбцов в датасете mobile_dataset\n",
    "mobile_dataset = mobile_dataset.rename(columns={'event.time': 'event_time', 'event.name': 'event_name', \n",
    "                                                'user.id': 'user_id'})\n",
    "display(mobile_dataset.head())"
   ]
  },
  {
   "cell_type": "code",
   "execution_count": 10,
   "id": "aa0d5f87",
   "metadata": {},
   "outputs": [
    {
     "data": {
      "text/html": [
       "<div>\n",
       "<style scoped>\n",
       "    .dataframe tbody tr th:only-of-type {\n",
       "        vertical-align: middle;\n",
       "    }\n",
       "\n",
       "    .dataframe tbody tr th {\n",
       "        vertical-align: top;\n",
       "    }\n",
       "\n",
       "    .dataframe thead th {\n",
       "        text-align: right;\n",
       "    }\n",
       "</style>\n",
       "<table border=\"1\" class=\"dataframe\">\n",
       "  <thead>\n",
       "    <tr style=\"text-align: right;\">\n",
       "      <th></th>\n",
       "      <th>user_id</th>\n",
       "      <th>source</th>\n",
       "    </tr>\n",
       "  </thead>\n",
       "  <tbody>\n",
       "    <tr>\n",
       "      <th>0</th>\n",
       "      <td>020292ab-89bc-4156-9acf-68bc2783f894</td>\n",
       "      <td>other</td>\n",
       "    </tr>\n",
       "    <tr>\n",
       "      <th>1</th>\n",
       "      <td>cf7eda61-9349-469f-ac27-e5b6f5ec475c</td>\n",
       "      <td>yandex</td>\n",
       "    </tr>\n",
       "    <tr>\n",
       "      <th>2</th>\n",
       "      <td>8c356c42-3ba9-4cb6-80b8-3f868d0192c3</td>\n",
       "      <td>yandex</td>\n",
       "    </tr>\n",
       "    <tr>\n",
       "      <th>3</th>\n",
       "      <td>d9b06b47-0f36-419b-bbb0-3533e582a6cb</td>\n",
       "      <td>other</td>\n",
       "    </tr>\n",
       "    <tr>\n",
       "      <th>4</th>\n",
       "      <td>f32e1e2a-3027-4693-b793-b7b3ff274439</td>\n",
       "      <td>google</td>\n",
       "    </tr>\n",
       "  </tbody>\n",
       "</table>\n",
       "</div>"
      ],
      "text/plain": [
       "                                user_id  source\n",
       "0  020292ab-89bc-4156-9acf-68bc2783f894   other\n",
       "1  cf7eda61-9349-469f-ac27-e5b6f5ec475c  yandex\n",
       "2  8c356c42-3ba9-4cb6-80b8-3f868d0192c3  yandex\n",
       "3  d9b06b47-0f36-419b-bbb0-3533e582a6cb   other\n",
       "4  f32e1e2a-3027-4693-b793-b7b3ff274439  google"
      ]
     },
     "metadata": {},
     "output_type": "display_data"
    }
   ],
   "source": [
    "# Заменим название столбцов в датасете mobile_sourсes\n",
    "mobile_sourсes.columns = mobile_sourсes.columns.str.lower()\n",
    "mobile_sourсes = mobile_sourсes.rename(columns={'userid': 'user_id'})\n",
    "\n",
    "display(mobile_sourсes.head())"
   ]
  },
  {
   "cell_type": "markdown",
   "id": "f23c91d0",
   "metadata": {},
   "source": [
    "Названия столбцов приведены к змеиному регистру."
   ]
  },
  {
   "cell_type": "markdown",
   "id": "23b7d0ba",
   "metadata": {},
   "source": [
    "##### Поменяем тип данных в столбце event_time"
   ]
  },
  {
   "cell_type": "code",
   "execution_count": 11,
   "id": "32117667",
   "metadata": {},
   "outputs": [
    {
     "data": {
      "text/html": [
       "<div>\n",
       "<style scoped>\n",
       "    .dataframe tbody tr th:only-of-type {\n",
       "        vertical-align: middle;\n",
       "    }\n",
       "\n",
       "    .dataframe tbody tr th {\n",
       "        vertical-align: top;\n",
       "    }\n",
       "\n",
       "    .dataframe thead th {\n",
       "        text-align: right;\n",
       "    }\n",
       "</style>\n",
       "<table border=\"1\" class=\"dataframe\">\n",
       "  <thead>\n",
       "    <tr style=\"text-align: right;\">\n",
       "      <th></th>\n",
       "      <th>event_time</th>\n",
       "      <th>event_name</th>\n",
       "      <th>user_id</th>\n",
       "      <th>date</th>\n",
       "    </tr>\n",
       "  </thead>\n",
       "  <tbody>\n",
       "    <tr>\n",
       "      <th>0</th>\n",
       "      <td>2019-10-07 00:00:00</td>\n",
       "      <td>advert_open</td>\n",
       "      <td>020292ab-89bc-4156-9acf-68bc2783f894</td>\n",
       "      <td>2019-10-07</td>\n",
       "    </tr>\n",
       "    <tr>\n",
       "      <th>1</th>\n",
       "      <td>2019-10-07 00:00:01</td>\n",
       "      <td>tips_show</td>\n",
       "      <td>020292ab-89bc-4156-9acf-68bc2783f894</td>\n",
       "      <td>2019-10-07</td>\n",
       "    </tr>\n",
       "    <tr>\n",
       "      <th>2</th>\n",
       "      <td>2019-10-07 00:00:02</td>\n",
       "      <td>tips_show</td>\n",
       "      <td>cf7eda61-9349-469f-ac27-e5b6f5ec475c</td>\n",
       "      <td>2019-10-07</td>\n",
       "    </tr>\n",
       "    <tr>\n",
       "      <th>3</th>\n",
       "      <td>2019-10-07 00:00:07</td>\n",
       "      <td>tips_show</td>\n",
       "      <td>020292ab-89bc-4156-9acf-68bc2783f894</td>\n",
       "      <td>2019-10-07</td>\n",
       "    </tr>\n",
       "    <tr>\n",
       "      <th>4</th>\n",
       "      <td>2019-10-07 00:00:56</td>\n",
       "      <td>advert_open</td>\n",
       "      <td>cf7eda61-9349-469f-ac27-e5b6f5ec475c</td>\n",
       "      <td>2019-10-07</td>\n",
       "    </tr>\n",
       "  </tbody>\n",
       "</table>\n",
       "</div>"
      ],
      "text/plain": [
       "           event_time   event_name                               user_id  \\\n",
       "0 2019-10-07 00:00:00  advert_open  020292ab-89bc-4156-9acf-68bc2783f894   \n",
       "1 2019-10-07 00:00:01    tips_show  020292ab-89bc-4156-9acf-68bc2783f894   \n",
       "2 2019-10-07 00:00:02    tips_show  cf7eda61-9349-469f-ac27-e5b6f5ec475c   \n",
       "3 2019-10-07 00:00:07    tips_show  020292ab-89bc-4156-9acf-68bc2783f894   \n",
       "4 2019-10-07 00:00:56  advert_open  cf7eda61-9349-469f-ac27-e5b6f5ec475c   \n",
       "\n",
       "         date  \n",
       "0  2019-10-07  \n",
       "1  2019-10-07  \n",
       "2  2019-10-07  \n",
       "3  2019-10-07  \n",
       "4  2019-10-07  "
      ]
     },
     "metadata": {},
     "output_type": "display_data"
    },
    {
     "name": "stdout",
     "output_type": "stream",
     "text": [
      "<class 'pandas.core.frame.DataFrame'>\n",
      "RangeIndex: 74197 entries, 0 to 74196\n",
      "Data columns (total 4 columns):\n",
      " #   Column      Non-Null Count  Dtype         \n",
      "---  ------      --------------  -----         \n",
      " 0   event_time  74197 non-null  datetime64[ns]\n",
      " 1   event_name  74197 non-null  object        \n",
      " 2   user_id     74197 non-null  object        \n",
      " 3   date        74197 non-null  object        \n",
      "dtypes: datetime64[ns](1), object(3)\n",
      "memory usage: 2.3+ MB\n"
     ]
    },
    {
     "data": {
      "text/plain": [
       "None"
      ]
     },
     "metadata": {},
     "output_type": "display_data"
    }
   ],
   "source": [
    "# Поменяем тип данных в столбце event_time и округлим значения до секунд\n",
    "mobile_dataset['event_time'] = pd.to_datetime(mobile_dataset['event_time'], \n",
    "                                              format='%Y-%m-%d %H:%M:%S').dt.round('1S')\n",
    "\n",
    "\n",
    "# Создадим отдельный столбец с датой\n",
    "mobile_dataset['date'] = mobile_dataset['event_time'].dt.date\n",
    "\n",
    "display(mobile_dataset.head())\n",
    "display(mobile_dataset.info())"
   ]
  },
  {
   "cell_type": "markdown",
   "id": "b60f4b25",
   "metadata": {},
   "source": [
    "##### Проверим наличие неявных дубликатов"
   ]
  },
  {
   "cell_type": "code",
   "execution_count": 12,
   "id": "f0161b68",
   "metadata": {},
   "outputs": [
    {
     "data": {
      "text/plain": [
       "array(['other', 'yandex', 'google'], dtype=object)"
      ]
     },
     "metadata": {},
     "output_type": "display_data"
    }
   ],
   "source": [
    "# Проверим наличие неявных дубликатов в датасете mobile_sourсes\n",
    "display(mobile_sourсes['source'].unique())"
   ]
  },
  {
   "cell_type": "code",
   "execution_count": 13,
   "id": "238f194f",
   "metadata": {},
   "outputs": [
    {
     "data": {
      "text/plain": [
       "array(['advert_open', 'contacts_call', 'contacts_show', 'favorites_add',\n",
       "       'map', 'photos_show', 'search_1', 'search_2', 'search_3',\n",
       "       'search_4', 'search_5', 'search_6', 'search_7', 'show_contacts',\n",
       "       'tips_click', 'tips_show'], dtype=object)"
      ]
     },
     "metadata": {},
     "output_type": "display_data"
    }
   ],
   "source": [
    "# Проверим наличие неявных дубликатов в датасете mobile_dataset\n",
    "display(mobile_dataset['event_name'].sort_values().unique())"
   ]
  },
  {
   "cell_type": "code",
   "execution_count": 14,
   "id": "1dc52079",
   "metadata": {},
   "outputs": [
    {
     "data": {
      "text/plain": [
       "array(['advert_open', 'contacts_call', 'contacts_show', 'favorites_add',\n",
       "       'map', 'photos_show', 'search_1', 'search_2', 'search_3',\n",
       "       'search_4', 'search_5', 'search_6', 'search_7', 'tips_click',\n",
       "       'tips_show'], dtype=object)"
      ]
     },
     "metadata": {},
     "output_type": "display_data"
    }
   ],
   "source": [
    "# Заменим название show_contacts в столбце event_name\n",
    "mobile_dataset['event_name'] = mobile_dataset['event_name'].replace('show_contacts', 'contacts_show', regex = True)\n",
    "\n",
    "display(mobile_dataset['event_name'].sort_values().unique())"
   ]
  },
  {
   "cell_type": "markdown",
   "id": "21540ef3",
   "metadata": {},
   "source": [
    "В датасете \"mobile_dataset\" в столбце \"event_name\" найдены 2 столбца различающиеся записью: 'contacts_show' и 'show_contacts'. Заменили название на единое - 'contacts_show'."
   ]
  },
  {
   "cell_type": "markdown",
   "id": "dc682aa6",
   "metadata": {},
   "source": [
    "**Выводы предобработки данных:**\n",
    "- Пропусков в датасетах не обнаружено\n",
    "- Явных дубликатов не обнаружено\n",
    "- Заменили название show_contacts в столбце event_name\n",
    "- Названия столбцов приведены к змеиному регистру\n",
    "- Поменяли тип данных в столбце event_time"
   ]
  },
  {
   "cell_type": "markdown",
   "id": "b3261807",
   "metadata": {},
   "source": [
    "#### 3. Исследовательский анализ данных"
   ]
  },
  {
   "cell_type": "markdown",
   "id": "2c650d17",
   "metadata": {},
   "source": [
    "##### Найдем сумму уникальных пользователей"
   ]
  },
  {
   "cell_type": "code",
   "execution_count": 15,
   "id": "a177a6cb",
   "metadata": {},
   "outputs": [],
   "source": [
    "# Соединим датасеты и перезапишем в df\n",
    "df = mobile_dataset.merge(mobile_sourсes)"
   ]
  },
  {
   "cell_type": "code",
   "execution_count": 16,
   "id": "9e1a4857",
   "metadata": {},
   "outputs": [
    {
     "data": {
      "text/plain": [
       "4293"
      ]
     },
     "metadata": {},
     "output_type": "display_data"
    }
   ],
   "source": [
    "# Найдем кол-во уникальных пользователей\n",
    "unique_user = df['user_id'].nunique()\n",
    "display(unique_user)"
   ]
  },
  {
   "cell_type": "markdown",
   "id": "f863e46a",
   "metadata": {},
   "source": [
    "В датасете 4 293 уникальных пользователя. Столько же строк в датасете mobile_sourсes."
   ]
  },
  {
   "cell_type": "markdown",
   "id": "3cfea5a0",
   "metadata": {},
   "source": [
    "##### Найдем кол-во уникальных пользователей в разрезе по источнику установки"
   ]
  },
  {
   "cell_type": "code",
   "execution_count": 17,
   "id": "a178b852",
   "metadata": {},
   "outputs": [
    {
     "data": {
      "text/html": [
       "<div>\n",
       "<style scoped>\n",
       "    .dataframe tbody tr th:only-of-type {\n",
       "        vertical-align: middle;\n",
       "    }\n",
       "\n",
       "    .dataframe tbody tr th {\n",
       "        vertical-align: top;\n",
       "    }\n",
       "\n",
       "    .dataframe thead th {\n",
       "        text-align: right;\n",
       "    }\n",
       "</style>\n",
       "<table border=\"1\" class=\"dataframe\">\n",
       "  <thead>\n",
       "    <tr style=\"text-align: right;\">\n",
       "      <th></th>\n",
       "      <th>source</th>\n",
       "      <th>user_id</th>\n",
       "      <th>percent</th>\n",
       "    </tr>\n",
       "  </thead>\n",
       "  <tbody>\n",
       "    <tr>\n",
       "      <th>0</th>\n",
       "      <td>yandex</td>\n",
       "      <td>1934</td>\n",
       "      <td>45.05</td>\n",
       "    </tr>\n",
       "    <tr>\n",
       "      <th>1</th>\n",
       "      <td>other</td>\n",
       "      <td>1230</td>\n",
       "      <td>28.65</td>\n",
       "    </tr>\n",
       "    <tr>\n",
       "      <th>2</th>\n",
       "      <td>google</td>\n",
       "      <td>1129</td>\n",
       "      <td>26.30</td>\n",
       "    </tr>\n",
       "  </tbody>\n",
       "</table>\n",
       "</div>"
      ],
      "text/plain": [
       "   source  user_id  percent\n",
       "0  yandex     1934    45.05\n",
       "1   other     1230    28.65\n",
       "2  google     1129    26.30"
      ]
     },
     "metadata": {},
     "output_type": "display_data"
    },
    {
     "data": {
      "image/png": "[encoded data removed]",
      "text/plain": [
       "<Figure size 720x720 with 1 Axes>"
      ]
     },
     "metadata": {},
     "output_type": "display_data"
    }
   ],
   "source": [
    "# Найдем кол-во уникальных пользователей\n",
    "user_by_source = df.groupby('source').agg({'user_id': 'nunique'}).sort_values(by='user_id', \n",
    "                                                                              ascending=False).reset_index()\n",
    "\n",
    "# Создадим столбец, отражающий долю пользователей в процентах\n",
    "user_by_source['percent'] = round(user_by_source['user_id']/user_by_source['user_id'].sum()*100, 2)\n",
    "display(user_by_source)\n",
    "\n",
    "# Построим график\n",
    "plt.figure(figsize=(10, 10))\n",
    "colors = ['#f54123', '#ffeb00', '#e5e7de']\n",
    "explode = (0.1, 0.1, 0.1)\n",
    "plt.pie(user_by_source['user_id'],\n",
    "        labels=user_by_source['source'],\n",
    "        colors=colors,\n",
    "        explode=explode, \n",
    "        autopct='%1.1f%%',\n",
    "        counterclock=False, \n",
    "        shadow=True)\n",
    "\n",
    "plt.title('Соотношение пользователей по каналу привлечения')\n",
    "plt.show()"
   ]
  },
  {
   "cell_type": "markdown",
   "id": "6f16fb90",
   "metadata": {},
   "source": [
    "Мы видим, почти половина всех пользователей установило приложение из Яндекса (45,1 %), далее следует источник other (28,7 %), затем google (26,3 %)."
   ]
  },
  {
   "cell_type": "markdown",
   "id": "c59730a6",
   "metadata": {},
   "source": [
    "##### Найдем рамки временного диапазона исследования"
   ]
  },
  {
   "cell_type": "code",
   "execution_count": 18,
   "id": "5bee3ce6",
   "metadata": {},
   "outputs": [
    {
     "name": "stdout",
     "output_type": "stream",
     "text": [
      "Минимальная дата исследования: 2019-10-07 00:00:00\n",
      "Максимальная дата исследования: 2019-11-03 23:58:13\n"
     ]
    }
   ],
   "source": [
    "# Найдем минимальную и максимальную дату\n",
    "print('Минимальная дата исследования:', df['event_time'].min())\n",
    "print('Максимальная дата исследования:', df['event_time'].max())"
   ]
  },
  {
   "cell_type": "code",
   "execution_count": 19,
   "id": "2bd770cb",
   "metadata": {},
   "outputs": [
    {
     "data": {
      "image/png": "[encoded data removed]",
      "text/plain": [
       "<Figure size 1440x720 with 1 Axes>"
      ]
     },
     "metadata": {
      "needs_background": "light"
     },
     "output_type": "display_data"
    }
   ],
   "source": [
    "# Построим распределение даты\n",
    "df['date'].hist(figsize=(20, 10), bins=28)\n",
    "plt.xlabel('Дата', fontsize=12)\n",
    "plt.ylabel('События', fontsize=12)\n",
    "plt.title('Распределение событий по дате')\n",
    "plt.show()"
   ]
  },
  {
   "cell_type": "markdown",
   "id": "921df2bf",
   "metadata": {},
   "source": [
    "Посмотрим сколько событий приходиться на определенную дату"
   ]
  },
  {
   "cell_type": "code",
   "execution_count": 20,
   "id": "8bf9d500",
   "metadata": {},
   "outputs": [
    {
     "data": {
      "text/html": [
       "<div>\n",
       "<style scoped>\n",
       "    .dataframe tbody tr th:only-of-type {\n",
       "        vertical-align: middle;\n",
       "    }\n",
       "\n",
       "    .dataframe tbody tr th {\n",
       "        vertical-align: top;\n",
       "    }\n",
       "\n",
       "    .dataframe thead th {\n",
       "        text-align: right;\n",
       "    }\n",
       "</style>\n",
       "<table border=\"1\" class=\"dataframe\">\n",
       "  <thead>\n",
       "    <tr style=\"text-align: right;\">\n",
       "      <th></th>\n",
       "      <th>date</th>\n",
       "      <th>event_count</th>\n",
       "    </tr>\n",
       "  </thead>\n",
       "  <tbody>\n",
       "    <tr>\n",
       "      <th>0</th>\n",
       "      <td>2019-10-07</td>\n",
       "      <td>2545</td>\n",
       "    </tr>\n",
       "    <tr>\n",
       "      <th>1</th>\n",
       "      <td>2019-10-08</td>\n",
       "      <td>2499</td>\n",
       "    </tr>\n",
       "    <tr>\n",
       "      <th>2</th>\n",
       "      <td>2019-10-09</td>\n",
       "      <td>2027</td>\n",
       "    </tr>\n",
       "    <tr>\n",
       "      <th>3</th>\n",
       "      <td>2019-10-10</td>\n",
       "      <td>2243</td>\n",
       "    </tr>\n",
       "    <tr>\n",
       "      <th>4</th>\n",
       "      <td>2019-10-11</td>\n",
       "      <td>2030</td>\n",
       "    </tr>\n",
       "    <tr>\n",
       "      <th>5</th>\n",
       "      <td>2019-10-12</td>\n",
       "      <td>1843</td>\n",
       "    </tr>\n",
       "    <tr>\n",
       "      <th>6</th>\n",
       "      <td>2019-10-13</td>\n",
       "      <td>2635</td>\n",
       "    </tr>\n",
       "    <tr>\n",
       "      <th>7</th>\n",
       "      <td>2019-10-14</td>\n",
       "      <td>3034</td>\n",
       "    </tr>\n",
       "    <tr>\n",
       "      <th>8</th>\n",
       "      <td>2019-10-15</td>\n",
       "      <td>2722</td>\n",
       "    </tr>\n",
       "    <tr>\n",
       "      <th>9</th>\n",
       "      <td>2019-10-16</td>\n",
       "      <td>2730</td>\n",
       "    </tr>\n",
       "    <tr>\n",
       "      <th>10</th>\n",
       "      <td>2019-10-17</td>\n",
       "      <td>2618</td>\n",
       "    </tr>\n",
       "    <tr>\n",
       "      <th>11</th>\n",
       "      <td>2019-10-18</td>\n",
       "      <td>2744</td>\n",
       "    </tr>\n",
       "    <tr>\n",
       "      <th>12</th>\n",
       "      <td>2019-10-19</td>\n",
       "      <td>2331</td>\n",
       "    </tr>\n",
       "    <tr>\n",
       "      <th>13</th>\n",
       "      <td>2019-10-20</td>\n",
       "      <td>2144</td>\n",
       "    </tr>\n",
       "    <tr>\n",
       "      <th>14</th>\n",
       "      <td>2019-10-21</td>\n",
       "      <td>2908</td>\n",
       "    </tr>\n",
       "    <tr>\n",
       "      <th>15</th>\n",
       "      <td>2019-10-22</td>\n",
       "      <td>2728</td>\n",
       "    </tr>\n",
       "    <tr>\n",
       "      <th>16</th>\n",
       "      <td>2019-10-23</td>\n",
       "      <td>3360</td>\n",
       "    </tr>\n",
       "    <tr>\n",
       "      <th>17</th>\n",
       "      <td>2019-10-24</td>\n",
       "      <td>3034</td>\n",
       "    </tr>\n",
       "    <tr>\n",
       "      <th>18</th>\n",
       "      <td>2019-10-25</td>\n",
       "      <td>2618</td>\n",
       "    </tr>\n",
       "    <tr>\n",
       "      <th>19</th>\n",
       "      <td>2019-10-26</td>\n",
       "      <td>3127</td>\n",
       "    </tr>\n",
       "    <tr>\n",
       "      <th>20</th>\n",
       "      <td>2019-10-27</td>\n",
       "      <td>2861</td>\n",
       "    </tr>\n",
       "    <tr>\n",
       "      <th>21</th>\n",
       "      <td>2019-10-28</td>\n",
       "      <td>3184</td>\n",
       "    </tr>\n",
       "    <tr>\n",
       "      <th>22</th>\n",
       "      <td>2019-10-29</td>\n",
       "      <td>3196</td>\n",
       "    </tr>\n",
       "    <tr>\n",
       "      <th>23</th>\n",
       "      <td>2019-10-30</td>\n",
       "      <td>2877</td>\n",
       "    </tr>\n",
       "    <tr>\n",
       "      <th>24</th>\n",
       "      <td>2019-10-31</td>\n",
       "      <td>2868</td>\n",
       "    </tr>\n",
       "    <tr>\n",
       "      <th>25</th>\n",
       "      <td>2019-11-01</td>\n",
       "      <td>2577</td>\n",
       "    </tr>\n",
       "    <tr>\n",
       "      <th>26</th>\n",
       "      <td>2019-11-02</td>\n",
       "      <td>1853</td>\n",
       "    </tr>\n",
       "    <tr>\n",
       "      <th>27</th>\n",
       "      <td>2019-11-03</td>\n",
       "      <td>2861</td>\n",
       "    </tr>\n",
       "  </tbody>\n",
       "</table>\n",
       "</div>"
      ],
      "text/plain": [
       "          date  event_count\n",
       "0   2019-10-07         2545\n",
       "1   2019-10-08         2499\n",
       "2   2019-10-09         2027\n",
       "3   2019-10-10         2243\n",
       "4   2019-10-11         2030\n",
       "5   2019-10-12         1843\n",
       "6   2019-10-13         2635\n",
       "7   2019-10-14         3034\n",
       "8   2019-10-15         2722\n",
       "9   2019-10-16         2730\n",
       "10  2019-10-17         2618\n",
       "11  2019-10-18         2744\n",
       "12  2019-10-19         2331\n",
       "13  2019-10-20         2144\n",
       "14  2019-10-21         2908\n",
       "15  2019-10-22         2728\n",
       "16  2019-10-23         3360\n",
       "17  2019-10-24         3034\n",
       "18  2019-10-25         2618\n",
       "19  2019-10-26         3127\n",
       "20  2019-10-27         2861\n",
       "21  2019-10-28         3184\n",
       "22  2019-10-29         3196\n",
       "23  2019-10-30         2877\n",
       "24  2019-10-31         2868\n",
       "25  2019-11-01         2577\n",
       "26  2019-11-02         1853\n",
       "27  2019-11-03         2861"
      ]
     },
     "execution_count": 20,
     "metadata": {},
     "output_type": "execute_result"
    }
   ],
   "source": [
    "# Найдем кол-во событий по дате\n",
    "event_by_date = df.groupby('date').agg({'event_name': 'count'}).reset_index()\n",
    "event_by_date.columns = ['date', 'event_count']\n",
    "event_by_date"
   ]
  },
  {
   "cell_type": "markdown",
   "id": "7e84f32d",
   "metadata": {},
   "source": [
    "События по дате распределены равномерно, сильных отклонений и аномалий нет. Можно брать в работу весь исследуемый период."
   ]
  },
  {
   "cell_type": "markdown",
   "id": "5df2d6a4",
   "metadata": {},
   "source": [
    "##### Найдем кол-во событий в датасете по типу действий"
   ]
  },
  {
   "cell_type": "code",
   "execution_count": 21,
   "id": "2fd46096",
   "metadata": {},
   "outputs": [
    {
     "data": {
      "text/html": [
       "<div>\n",
       "<style scoped>\n",
       "    .dataframe tbody tr th:only-of-type {\n",
       "        vertical-align: middle;\n",
       "    }\n",
       "\n",
       "    .dataframe tbody tr th {\n",
       "        vertical-align: top;\n",
       "    }\n",
       "\n",
       "    .dataframe thead th {\n",
       "        text-align: right;\n",
       "    }\n",
       "</style>\n",
       "<table border=\"1\" class=\"dataframe\">\n",
       "  <thead>\n",
       "    <tr style=\"text-align: right;\">\n",
       "      <th></th>\n",
       "      <th>event_time</th>\n",
       "      <th>event_name</th>\n",
       "      <th>user_id</th>\n",
       "      <th>date</th>\n",
       "      <th>source</th>\n",
       "    </tr>\n",
       "  </thead>\n",
       "  <tbody>\n",
       "    <tr>\n",
       "      <th>0</th>\n",
       "      <td>2019-10-07 00:00:00</td>\n",
       "      <td>advert_open</td>\n",
       "      <td>020292ab-89bc-4156-9acf-68bc2783f894</td>\n",
       "      <td>2019-10-07</td>\n",
       "      <td>other</td>\n",
       "    </tr>\n",
       "    <tr>\n",
       "      <th>1</th>\n",
       "      <td>2019-10-07 00:00:01</td>\n",
       "      <td>tips_show</td>\n",
       "      <td>020292ab-89bc-4156-9acf-68bc2783f894</td>\n",
       "      <td>2019-10-07</td>\n",
       "      <td>other</td>\n",
       "    </tr>\n",
       "    <tr>\n",
       "      <th>2</th>\n",
       "      <td>2019-10-07 00:00:07</td>\n",
       "      <td>tips_show</td>\n",
       "      <td>020292ab-89bc-4156-9acf-68bc2783f894</td>\n",
       "      <td>2019-10-07</td>\n",
       "      <td>other</td>\n",
       "    </tr>\n",
       "    <tr>\n",
       "      <th>3</th>\n",
       "      <td>2019-10-07 00:01:28</td>\n",
       "      <td>advert_open</td>\n",
       "      <td>020292ab-89bc-4156-9acf-68bc2783f894</td>\n",
       "      <td>2019-10-07</td>\n",
       "      <td>other</td>\n",
       "    </tr>\n",
       "    <tr>\n",
       "      <th>4</th>\n",
       "      <td>2019-10-07 00:01:35</td>\n",
       "      <td>tips_show</td>\n",
       "      <td>020292ab-89bc-4156-9acf-68bc2783f894</td>\n",
       "      <td>2019-10-07</td>\n",
       "      <td>other</td>\n",
       "    </tr>\n",
       "  </tbody>\n",
       "</table>\n",
       "</div>"
      ],
      "text/plain": [
       "           event_time   event_name                               user_id  \\\n",
       "0 2019-10-07 00:00:00  advert_open  020292ab-89bc-4156-9acf-68bc2783f894   \n",
       "1 2019-10-07 00:00:01    tips_show  020292ab-89bc-4156-9acf-68bc2783f894   \n",
       "2 2019-10-07 00:00:07    tips_show  020292ab-89bc-4156-9acf-68bc2783f894   \n",
       "3 2019-10-07 00:01:28  advert_open  020292ab-89bc-4156-9acf-68bc2783f894   \n",
       "4 2019-10-07 00:01:35    tips_show  020292ab-89bc-4156-9acf-68bc2783f894   \n",
       "\n",
       "         date source  \n",
       "0  2019-10-07  other  \n",
       "1  2019-10-07  other  \n",
       "2  2019-10-07  other  \n",
       "3  2019-10-07  other  \n",
       "4  2019-10-07  other  "
      ]
     },
     "metadata": {},
     "output_type": "display_data"
    }
   ],
   "source": [
    "display(df.head())"
   ]
  },
  {
   "cell_type": "markdown",
   "id": "5a220276",
   "metadata": {},
   "source": [
    "Действия \"search_n\" можно объединить в одну категорию для наглядности, т.к. это действие обозначает поиск по сайту"
   ]
  },
  {
   "cell_type": "code",
   "execution_count": 22,
   "id": "6fecddfb",
   "metadata": {},
   "outputs": [],
   "source": [
    "# Объединяем search\n",
    "df['event_name'] = df['event_name'].str.replace('search_+\\d', 'search', regex=True)"
   ]
  },
  {
   "cell_type": "code",
   "execution_count": 23,
   "id": "de7106f1",
   "metadata": {},
   "outputs": [
    {
     "data": {
      "text/html": [
       "<div>\n",
       "<style scoped>\n",
       "    .dataframe tbody tr th:only-of-type {\n",
       "        vertical-align: middle;\n",
       "    }\n",
       "\n",
       "    .dataframe tbody tr th {\n",
       "        vertical-align: top;\n",
       "    }\n",
       "\n",
       "    .dataframe thead th {\n",
       "        text-align: right;\n",
       "    }\n",
       "</style>\n",
       "<table border=\"1\" class=\"dataframe\">\n",
       "  <thead>\n",
       "    <tr style=\"text-align: right;\">\n",
       "      <th></th>\n",
       "      <th>event_name</th>\n",
       "      <th>event_count</th>\n",
       "    </tr>\n",
       "  </thead>\n",
       "  <tbody>\n",
       "    <tr>\n",
       "      <th>0</th>\n",
       "      <td>tips_show</td>\n",
       "      <td>40055</td>\n",
       "    </tr>\n",
       "    <tr>\n",
       "      <th>1</th>\n",
       "      <td>photos_show</td>\n",
       "      <td>10012</td>\n",
       "    </tr>\n",
       "    <tr>\n",
       "      <th>2</th>\n",
       "      <td>search</td>\n",
       "      <td>6784</td>\n",
       "    </tr>\n",
       "    <tr>\n",
       "      <th>3</th>\n",
       "      <td>advert_open</td>\n",
       "      <td>6164</td>\n",
       "    </tr>\n",
       "    <tr>\n",
       "      <th>4</th>\n",
       "      <td>contacts_show</td>\n",
       "      <td>4529</td>\n",
       "    </tr>\n",
       "    <tr>\n",
       "      <th>5</th>\n",
       "      <td>map</td>\n",
       "      <td>3881</td>\n",
       "    </tr>\n",
       "    <tr>\n",
       "      <th>6</th>\n",
       "      <td>favorites_add</td>\n",
       "      <td>1417</td>\n",
       "    </tr>\n",
       "    <tr>\n",
       "      <th>7</th>\n",
       "      <td>tips_click</td>\n",
       "      <td>814</td>\n",
       "    </tr>\n",
       "    <tr>\n",
       "      <th>8</th>\n",
       "      <td>contacts_call</td>\n",
       "      <td>541</td>\n",
       "    </tr>\n",
       "  </tbody>\n",
       "</table>\n",
       "</div>"
      ],
      "text/plain": [
       "      event_name  event_count\n",
       "0      tips_show        40055\n",
       "1    photos_show        10012\n",
       "2         search         6784\n",
       "3    advert_open         6164\n",
       "4  contacts_show         4529\n",
       "5            map         3881\n",
       "6  favorites_add         1417\n",
       "7     tips_click          814\n",
       "8  contacts_call          541"
      ]
     },
     "metadata": {},
     "output_type": "display_data"
    },
    {
     "data": {
      "image/png": "[encoded data removed]",
      "text/plain": [
       "<Figure size 1080x720 with 1 Axes>"
      ]
     },
     "metadata": {
      "needs_background": "light"
     },
     "output_type": "display_data"
    }
   ],
   "source": [
    "# Сгруппируем кол-во событий по типу события\n",
    "event_count = df.groupby('event_name').agg({\n",
    "    'event_time': 'count'}).sort_values(by='event_time', ascending=False).reset_index()\n",
    "event_count.columns = ['event_name', 'event_count']\n",
    "\n",
    "display(event_count)\n",
    "\n",
    "plt.figure(figsize=(15, 10))\n",
    "ax = sns.barplot(x='event_count', y='event_name', data=event_count)\n",
    "ax.set_title('Кол-во событий в датасете по типу действий')\n",
    "ax.set_xlabel('Кол-во событий') \n",
    "ax.set_ylabel('Виды действий')\n",
    "plt.show()"
   ]
  },
  {
   "cell_type": "markdown",
   "id": "72b74a26",
   "metadata": {},
   "source": [
    "Из графика можно сделать следующие выводы:\n",
    "- Больше всего показов занимает событие: рекомендованное объявление\n",
    "- Просмотры фото происходят чаще чем открытие карточки объявления\n",
    "- Самое нераспространенное действие - звонок по объявлению\n",
    "\n",
    "Важно отметить, tips_show (показы объявления) - происходят автоматически на всех пользователей в приложении. Данные показы не являются явным целевым действием, поэтому его можно не брать в рассчет в некоторых пунктах исследования."
   ]
  },
  {
   "cell_type": "markdown",
   "id": "dbda31fe",
   "metadata": {},
   "source": [
    "##### Посчитаем, сколько уникальных пользователей совершали каждое из этих событий и их долю"
   ]
  },
  {
   "cell_type": "code",
   "execution_count": 24,
   "id": "c8cced9f",
   "metadata": {},
   "outputs": [
    {
     "data": {
      "text/html": [
       "<div>\n",
       "<style scoped>\n",
       "    .dataframe tbody tr th:only-of-type {\n",
       "        vertical-align: middle;\n",
       "    }\n",
       "\n",
       "    .dataframe tbody tr th {\n",
       "        vertical-align: top;\n",
       "    }\n",
       "\n",
       "    .dataframe thead th {\n",
       "        text-align: right;\n",
       "    }\n",
       "</style>\n",
       "<table border=\"1\" class=\"dataframe\">\n",
       "  <thead>\n",
       "    <tr style=\"text-align: right;\">\n",
       "      <th></th>\n",
       "      <th>event_name</th>\n",
       "      <th>user_count</th>\n",
       "      <th>user_percent</th>\n",
       "    </tr>\n",
       "  </thead>\n",
       "  <tbody>\n",
       "    <tr>\n",
       "      <th>0</th>\n",
       "      <td>tips_show</td>\n",
       "      <td>2801</td>\n",
       "      <td>65.25</td>\n",
       "    </tr>\n",
       "    <tr>\n",
       "      <th>1</th>\n",
       "      <td>search</td>\n",
       "      <td>1666</td>\n",
       "      <td>38.81</td>\n",
       "    </tr>\n",
       "    <tr>\n",
       "      <th>2</th>\n",
       "      <td>map</td>\n",
       "      <td>1456</td>\n",
       "      <td>33.92</td>\n",
       "    </tr>\n",
       "    <tr>\n",
       "      <th>3</th>\n",
       "      <td>photos_show</td>\n",
       "      <td>1095</td>\n",
       "      <td>25.51</td>\n",
       "    </tr>\n",
       "    <tr>\n",
       "      <th>4</th>\n",
       "      <td>contacts_show</td>\n",
       "      <td>981</td>\n",
       "      <td>22.85</td>\n",
       "    </tr>\n",
       "    <tr>\n",
       "      <th>5</th>\n",
       "      <td>advert_open</td>\n",
       "      <td>751</td>\n",
       "      <td>17.49</td>\n",
       "    </tr>\n",
       "    <tr>\n",
       "      <th>6</th>\n",
       "      <td>favorites_add</td>\n",
       "      <td>351</td>\n",
       "      <td>8.18</td>\n",
       "    </tr>\n",
       "    <tr>\n",
       "      <th>7</th>\n",
       "      <td>tips_click</td>\n",
       "      <td>322</td>\n",
       "      <td>7.50</td>\n",
       "    </tr>\n",
       "    <tr>\n",
       "      <th>8</th>\n",
       "      <td>contacts_call</td>\n",
       "      <td>213</td>\n",
       "      <td>4.96</td>\n",
       "    </tr>\n",
       "  </tbody>\n",
       "</table>\n",
       "</div>"
      ],
      "text/plain": [
       "      event_name  user_count  user_percent\n",
       "0      tips_show        2801         65.25\n",
       "1         search        1666         38.81\n",
       "2            map        1456         33.92\n",
       "3    photos_show        1095         25.51\n",
       "4  contacts_show         981         22.85\n",
       "5    advert_open         751         17.49\n",
       "6  favorites_add         351          8.18\n",
       "7     tips_click         322          7.50\n",
       "8  contacts_call         213          4.96"
      ]
     },
     "metadata": {},
     "output_type": "display_data"
    },
    {
     "data": {
      "image/png": "[encoded data removed]",
      "text/plain": [
       "<Figure size 1080x720 with 1 Axes>"
      ]
     },
     "metadata": {
      "needs_background": "light"
     },
     "output_type": "display_data"
    }
   ],
   "source": [
    "# Группируем кол-во униальных пользователей по событию\n",
    "event_user = df.groupby('event_name').agg({\n",
    "    'user_id': 'nunique'}).sort_values(by='user_id', ascending=False).reset_index()\n",
    "event_user.columns = ['event_name', 'user_count']\n",
    "event_user['user_percent'] = round((event_user['user_count'].apply(lambda x: x/unique_user) * 100), 2)\n",
    "\n",
    "display(event_user)\n",
    "\n",
    "\n",
    "plt.figure(figsize=(15, 10))\n",
    "ax = sns.barplot(x='user_count', y='event_name', data=event_user)\n",
    "ax.set_title('Кол-во событий в датасете по типу действий')\n",
    "ax.set_xlabel('Кол-во событий') \n",
    "ax.set_ylabel('Виды действий')\n",
    "plt.show()"
   ]
  },
  {
   "cell_type": "markdown",
   "id": "44b481b3",
   "metadata": {},
   "source": [
    "- tips_show является лидером. Показы рекомендаций работают хорошо.\n",
    "- 2 и 3 место занимают поиск и карта объявлений. Можно сделать вывод, что большинство пользователей не уходит дальше первых двух шагов.\n",
    "- contacts_show совершают 22,85% пользователей. Важно отметить, что данное событие совершает больший процент людей, чем событие advert_open. Скорее всего пользователи смотрят контакты, не проваливаясь в объявление."
   ]
  },
  {
   "cell_type": "markdown",
   "id": "51392f43",
   "metadata": {},
   "source": [
    "##### Выделим кол-во сессий пользователей"
   ]
  },
  {
   "cell_type": "markdown",
   "id": "0bd4229f",
   "metadata": {},
   "source": [
    "Пользователи активно используют приложение, просматривая фото, объявления и другую информацию. Единственные времязатратные шаги - это просмотр карты событий и просмотр фото. \n",
    "\n",
    "30 минут более чем достаточно для совершения одного из целевых действий (просмотра фотографий или открытия карточки), поэтому за максимальнодопустимую границу возьмем - 30 мин на шаг. Если активности нету свыше 30 мин, то сессию будем считать закрытой. Во многих мобильных приложениях таймаут сессии равен данному временному интервалу."
   ]
  },
  {
   "cell_type": "code",
   "execution_count": 25,
   "id": "73553dca",
   "metadata": {},
   "outputs": [
    {
     "data": {
      "text/html": [
       "<div>\n",
       "<style scoped>\n",
       "    .dataframe tbody tr th:only-of-type {\n",
       "        vertical-align: middle;\n",
       "    }\n",
       "\n",
       "    .dataframe tbody tr th {\n",
       "        vertical-align: top;\n",
       "    }\n",
       "\n",
       "    .dataframe thead th {\n",
       "        text-align: right;\n",
       "    }\n",
       "</style>\n",
       "<table border=\"1\" class=\"dataframe\">\n",
       "  <thead>\n",
       "    <tr style=\"text-align: right;\">\n",
       "      <th></th>\n",
       "      <th>event_time</th>\n",
       "      <th>event_name</th>\n",
       "      <th>user_id</th>\n",
       "      <th>date</th>\n",
       "      <th>source</th>\n",
       "      <th>session_id</th>\n",
       "    </tr>\n",
       "  </thead>\n",
       "  <tbody>\n",
       "    <tr>\n",
       "      <th>0</th>\n",
       "      <td>2019-10-07 00:00:00</td>\n",
       "      <td>advert_open</td>\n",
       "      <td>020292ab-89bc-4156-9acf-68bc2783f894</td>\n",
       "      <td>2019-10-07</td>\n",
       "      <td>other</td>\n",
       "      <td>1</td>\n",
       "    </tr>\n",
       "    <tr>\n",
       "      <th>1</th>\n",
       "      <td>2019-10-07 00:00:01</td>\n",
       "      <td>tips_show</td>\n",
       "      <td>020292ab-89bc-4156-9acf-68bc2783f894</td>\n",
       "      <td>2019-10-07</td>\n",
       "      <td>other</td>\n",
       "      <td>1</td>\n",
       "    </tr>\n",
       "    <tr>\n",
       "      <th>2</th>\n",
       "      <td>2019-10-07 00:00:07</td>\n",
       "      <td>tips_show</td>\n",
       "      <td>020292ab-89bc-4156-9acf-68bc2783f894</td>\n",
       "      <td>2019-10-07</td>\n",
       "      <td>other</td>\n",
       "      <td>1</td>\n",
       "    </tr>\n",
       "    <tr>\n",
       "      <th>3</th>\n",
       "      <td>2019-10-07 00:01:28</td>\n",
       "      <td>advert_open</td>\n",
       "      <td>020292ab-89bc-4156-9acf-68bc2783f894</td>\n",
       "      <td>2019-10-07</td>\n",
       "      <td>other</td>\n",
       "      <td>1</td>\n",
       "    </tr>\n",
       "    <tr>\n",
       "      <th>4</th>\n",
       "      <td>2019-10-07 00:01:35</td>\n",
       "      <td>tips_show</td>\n",
       "      <td>020292ab-89bc-4156-9acf-68bc2783f894</td>\n",
       "      <td>2019-10-07</td>\n",
       "      <td>other</td>\n",
       "      <td>1</td>\n",
       "    </tr>\n",
       "  </tbody>\n",
       "</table>\n",
       "</div>"
      ],
      "text/plain": [
       "           event_time   event_name                               user_id  \\\n",
       "0 2019-10-07 00:00:00  advert_open  020292ab-89bc-4156-9acf-68bc2783f894   \n",
       "1 2019-10-07 00:00:01    tips_show  020292ab-89bc-4156-9acf-68bc2783f894   \n",
       "2 2019-10-07 00:00:07    tips_show  020292ab-89bc-4156-9acf-68bc2783f894   \n",
       "3 2019-10-07 00:01:28  advert_open  020292ab-89bc-4156-9acf-68bc2783f894   \n",
       "4 2019-10-07 00:01:35    tips_show  020292ab-89bc-4156-9acf-68bc2783f894   \n",
       "\n",
       "         date source  session_id  \n",
       "0  2019-10-07  other           1  \n",
       "1  2019-10-07  other           1  \n",
       "2  2019-10-07  other           1  \n",
       "3  2019-10-07  other           1  \n",
       "4  2019-10-07  other           1  "
      ]
     },
     "metadata": {},
     "output_type": "display_data"
    }
   ],
   "source": [
    "# Выделяем сессии\n",
    "session = (df.groupby('user_id')['event_time'].diff() > pd.Timedelta('30Min')).cumsum()\n",
    "df['session_id'] = df.groupby(['user_id', session], sort=False).ngroup() + 1\n",
    "display(df.head())"
   ]
  },
  {
   "cell_type": "code",
   "execution_count": 26,
   "id": "68f47889",
   "metadata": {},
   "outputs": [
    {
     "data": {
      "text/plain": [
       "10368"
      ]
     },
     "metadata": {},
     "output_type": "display_data"
    }
   ],
   "source": [
    "# Посмотрим на кол-во сессий\n",
    "display(df['session_id'].nunique())"
   ]
  },
  {
   "cell_type": "markdown",
   "id": "a6fa4bb3",
   "metadata": {},
   "source": [
    "Всего в датасете получилось 10 368 сессий."
   ]
  },
  {
   "cell_type": "markdown",
   "id": "68b5434e",
   "metadata": {},
   "source": [
    "##### Посмотрим сколько сессий приходиться на пользователя"
   ]
  },
  {
   "cell_type": "code",
   "execution_count": 27,
   "id": "9b6b18f9",
   "metadata": {
    "scrolled": true
   },
   "outputs": [
    {
     "data": {
      "text/html": [
       "<div>\n",
       "<style scoped>\n",
       "    .dataframe tbody tr th:only-of-type {\n",
       "        vertical-align: middle;\n",
       "    }\n",
       "\n",
       "    .dataframe tbody tr th {\n",
       "        vertical-align: top;\n",
       "    }\n",
       "\n",
       "    .dataframe thead th {\n",
       "        text-align: right;\n",
       "    }\n",
       "</style>\n",
       "<table border=\"1\" class=\"dataframe\">\n",
       "  <thead>\n",
       "    <tr style=\"text-align: right;\">\n",
       "      <th></th>\n",
       "      <th>user_id</th>\n",
       "      <th>session_count</th>\n",
       "    </tr>\n",
       "  </thead>\n",
       "  <tbody>\n",
       "    <tr>\n",
       "      <th>0</th>\n",
       "      <td>0001b1d5-b74a-4cbf-aeb0-7df5947bf349</td>\n",
       "      <td>4</td>\n",
       "    </tr>\n",
       "    <tr>\n",
       "      <th>1</th>\n",
       "      <td>00157779-810c-4498-9e05-a1e9e3cedf93</td>\n",
       "      <td>6</td>\n",
       "    </tr>\n",
       "    <tr>\n",
       "      <th>2</th>\n",
       "      <td>00463033-5717-4bf1-91b4-09183923b9df</td>\n",
       "      <td>1</td>\n",
       "    </tr>\n",
       "    <tr>\n",
       "      <th>3</th>\n",
       "      <td>004690c3-5a84-4bb7-a8af-e0c8f8fca64e</td>\n",
       "      <td>6</td>\n",
       "    </tr>\n",
       "    <tr>\n",
       "      <th>4</th>\n",
       "      <td>00551e79-152e-4441-9cf7-565d7eb04090</td>\n",
       "      <td>3</td>\n",
       "    </tr>\n",
       "  </tbody>\n",
       "</table>\n",
       "</div>"
      ],
      "text/plain": [
       "                                user_id  session_count\n",
       "0  0001b1d5-b74a-4cbf-aeb0-7df5947bf349              4\n",
       "1  00157779-810c-4498-9e05-a1e9e3cedf93              6\n",
       "2  00463033-5717-4bf1-91b4-09183923b9df              1\n",
       "3  004690c3-5a84-4bb7-a8af-e0c8f8fca64e              6\n",
       "4  00551e79-152e-4441-9cf7-565d7eb04090              3"
      ]
     },
     "metadata": {},
     "output_type": "display_data"
    }
   ],
   "source": [
    "# Создадим датафрейм\n",
    "user_sessions = df.groupby('user_id').agg({'session_id': 'nunique'}).reset_index()\n",
    "user_sessions.columns = ['user_id', 'session_count']\n",
    "display(user_sessions.head())"
   ]
  },
  {
   "cell_type": "code",
   "execution_count": 28,
   "id": "187b40a7",
   "metadata": {},
   "outputs": [
    {
     "data": {
      "text/plain": [
       "array([ 4.,  6.,  7., 17.])"
      ]
     },
     "metadata": {},
     "output_type": "display_data"
    },
    {
     "data": {
      "text/html": [
       "<div>\n",
       "<style scoped>\n",
       "    .dataframe tbody tr th:only-of-type {\n",
       "        vertical-align: middle;\n",
       "    }\n",
       "\n",
       "    .dataframe tbody tr th {\n",
       "        vertical-align: top;\n",
       "    }\n",
       "\n",
       "    .dataframe thead th {\n",
       "        text-align: right;\n",
       "    }\n",
       "</style>\n",
       "<table border=\"1\" class=\"dataframe\">\n",
       "  <thead>\n",
       "    <tr style=\"text-align: right;\">\n",
       "      <th></th>\n",
       "      <th>session_count</th>\n",
       "    </tr>\n",
       "  </thead>\n",
       "  <tbody>\n",
       "    <tr>\n",
       "      <th>count</th>\n",
       "      <td>4293.000000</td>\n",
       "    </tr>\n",
       "    <tr>\n",
       "      <th>mean</th>\n",
       "      <td>2.415094</td>\n",
       "    </tr>\n",
       "    <tr>\n",
       "      <th>std</th>\n",
       "      <td>3.536466</td>\n",
       "    </tr>\n",
       "    <tr>\n",
       "      <th>min</th>\n",
       "      <td>1.000000</td>\n",
       "    </tr>\n",
       "    <tr>\n",
       "      <th>25%</th>\n",
       "      <td>1.000000</td>\n",
       "    </tr>\n",
       "    <tr>\n",
       "      <th>50%</th>\n",
       "      <td>1.000000</td>\n",
       "    </tr>\n",
       "    <tr>\n",
       "      <th>75%</th>\n",
       "      <td>3.000000</td>\n",
       "    </tr>\n",
       "    <tr>\n",
       "      <th>max</th>\n",
       "      <td>99.000000</td>\n",
       "    </tr>\n",
       "  </tbody>\n",
       "</table>\n",
       "</div>"
      ],
      "text/plain": [
       "       session_count\n",
       "count    4293.000000\n",
       "mean        2.415094\n",
       "std         3.536466\n",
       "min         1.000000\n",
       "25%         1.000000\n",
       "50%         1.000000\n",
       "75%         3.000000\n",
       "max        99.000000"
      ]
     },
     "metadata": {},
     "output_type": "display_data"
    }
   ],
   "source": [
    "# Посмотрим на 90, 95, 99 персентиль\n",
    "display(np.percentile(user_sessions['session_count'], [90, 94, 95, 99]))\n",
    "display(user_sessions.describe())"
   ]
  },
  {
   "cell_type": "code",
   "execution_count": 29,
   "id": "0e8ddcf9",
   "metadata": {},
   "outputs": [
    {
     "data": {
      "image/png": "[encoded data removed]",
      "text/plain": [
       "<Figure size 1080x360 with 1 Axes>"
      ]
     },
     "metadata": {
      "needs_background": "light"
     },
     "output_type": "display_data"
    }
   ],
   "source": [
    "# Построим распределение\n",
    "plt.figure(figsize=(15,5))\n",
    "sns.boxplot(data=user_sessions, x='session_count')\n",
    "plt.title('Распределение кол-ва сессий на пользователя', fontsize = 15)\n",
    "plt.xlabel('Кол-во сессий', fontsize = 15)\n",
    "plt.xticks(fontsize=15)\n",
    "plt.xlim(-1, 10)\n",
    "plt.show()"
   ]
  },
  {
   "cell_type": "markdown",
   "id": "09232e21",
   "metadata": {},
   "source": [
    "99% пользователей имеют не более 17 сессий, а 94% - не больше 6 сессий. Половина пользователей использовала приложение только 1 раз за исследуемый период. \n",
    "Более 6 сессий можно считать выбросами, исходя из графика распределения."
   ]
  },
  {
   "cell_type": "markdown",
   "id": "7a1a94f9",
   "metadata": {},
   "source": [
    "##### Посмотрим на кол-во совершаемых действий внутри сессий"
   ]
  },
  {
   "cell_type": "code",
   "execution_count": 30,
   "id": "683e614e",
   "metadata": {},
   "outputs": [
    {
     "data": {
      "text/html": [
       "<div>\n",
       "<style scoped>\n",
       "    .dataframe tbody tr th:only-of-type {\n",
       "        vertical-align: middle;\n",
       "    }\n",
       "\n",
       "    .dataframe tbody tr th {\n",
       "        vertical-align: top;\n",
       "    }\n",
       "\n",
       "    .dataframe thead th {\n",
       "        text-align: right;\n",
       "    }\n",
       "</style>\n",
       "<table border=\"1\" class=\"dataframe\">\n",
       "  <thead>\n",
       "    <tr style=\"text-align: right;\">\n",
       "      <th></th>\n",
       "      <th>session_id</th>\n",
       "      <th>count_event</th>\n",
       "    </tr>\n",
       "  </thead>\n",
       "  <tbody>\n",
       "    <tr>\n",
       "      <th>0</th>\n",
       "      <td>1</td>\n",
       "      <td>28</td>\n",
       "    </tr>\n",
       "    <tr>\n",
       "      <th>1</th>\n",
       "      <td>2</td>\n",
       "      <td>25</td>\n",
       "    </tr>\n",
       "    <tr>\n",
       "      <th>2</th>\n",
       "      <td>3</td>\n",
       "      <td>8</td>\n",
       "    </tr>\n",
       "    <tr>\n",
       "      <th>3</th>\n",
       "      <td>4</td>\n",
       "      <td>16</td>\n",
       "    </tr>\n",
       "    <tr>\n",
       "      <th>4</th>\n",
       "      <td>5</td>\n",
       "      <td>20</td>\n",
       "    </tr>\n",
       "  </tbody>\n",
       "</table>\n",
       "</div>"
      ],
      "text/plain": [
       "   session_id  count_event\n",
       "0           1           28\n",
       "1           2           25\n",
       "2           3            8\n",
       "3           4           16\n",
       "4           5           20"
      ]
     },
     "metadata": {},
     "output_type": "display_data"
    }
   ],
   "source": [
    "# Создадим датафрейм\n",
    "session_event = df.groupby('session_id').agg({'event_time': 'nunique'}).reset_index()\n",
    "session_event.columns = ['session_id', 'count_event']\n",
    "\n",
    "display(session_event.head())"
   ]
  },
  {
   "cell_type": "code",
   "execution_count": 31,
   "id": "3205e782",
   "metadata": {},
   "outputs": [
    {
     "data": {
      "text/plain": [
       "array([16.  , 24.  , 45.33])"
      ]
     },
     "metadata": {},
     "output_type": "display_data"
    },
    {
     "data": {
      "text/plain": [
       "count    10368.000000\n",
       "mean         7.035108\n",
       "std          9.398076\n",
       "min          1.000000\n",
       "25%          2.000000\n",
       "50%          4.000000\n",
       "75%          8.000000\n",
       "max        149.000000\n",
       "Name: count_event, dtype: float64"
      ]
     },
     "metadata": {},
     "output_type": "display_data"
    }
   ],
   "source": [
    "# Посмотрим на 90, 95, 99 персентиль\n",
    "display(np.percentile(session_event['count_event'], [90, 95, 99]))\n",
    "display(session_event['count_event'].describe())"
   ]
  },
  {
   "cell_type": "code",
   "execution_count": 32,
   "id": "43fbed9b",
   "metadata": {},
   "outputs": [
    {
     "data": {
      "image/png": "[encoded data removed]",
      "text/plain": [
       "<Figure size 1080x360 with 1 Axes>"
      ]
     },
     "metadata": {
      "needs_background": "light"
     },
     "output_type": "display_data"
    }
   ],
   "source": [
    "# Построим распределение\n",
    "plt.figure(figsize=(15,5))\n",
    "sns.boxplot(data=session_event, x='count_event')\n",
    "plt.title('Распределение кол-ва событий на сессию', fontsize = 15)\n",
    "plt.xlabel('Кол-во событий', fontsize = 15)\n",
    "plt.xticks(fontsize=15)\n",
    "plt.xlim(-1, 20)\n",
    "plt.show()"
   ]
  },
  {
   "cell_type": "markdown",
   "id": "efb4cbed",
   "metadata": {},
   "source": [
    "В среднем, пользователи совершают от 2 до 8 действий в сессии. Более 16 действий можно считать выбросами по 90 персентилю. "
   ]
  },
  {
   "cell_type": "markdown",
   "id": "17542b74",
   "metadata": {},
   "source": [
    "##### Найдем среднюю продолжительность сессии"
   ]
  },
  {
   "cell_type": "code",
   "execution_count": 33,
   "id": "860fbc94",
   "metadata": {
    "scrolled": true
   },
   "outputs": [
    {
     "data": {
      "text/html": [
       "<div>\n",
       "<style scoped>\n",
       "    .dataframe tbody tr th:only-of-type {\n",
       "        vertical-align: middle;\n",
       "    }\n",
       "\n",
       "    .dataframe tbody tr th {\n",
       "        vertical-align: top;\n",
       "    }\n",
       "\n",
       "    .dataframe thead th {\n",
       "        text-align: right;\n",
       "    }\n",
       "</style>\n",
       "<table border=\"1\" class=\"dataframe\">\n",
       "  <thead>\n",
       "    <tr style=\"text-align: right;\">\n",
       "      <th></th>\n",
       "      <th>session_id</th>\n",
       "      <th>session_duration</th>\n",
       "    </tr>\n",
       "  </thead>\n",
       "  <tbody>\n",
       "    <tr>\n",
       "      <th>count</th>\n",
       "      <td>10368.00000</td>\n",
       "      <td>10368</td>\n",
       "    </tr>\n",
       "    <tr>\n",
       "      <th>mean</th>\n",
       "      <td>5184.50000</td>\n",
       "      <td>0 days 00:12:52.668981481</td>\n",
       "    </tr>\n",
       "    <tr>\n",
       "      <th>std</th>\n",
       "      <td>2993.12813</td>\n",
       "      <td>0 days 00:19:51.607952024</td>\n",
       "    </tr>\n",
       "    <tr>\n",
       "      <th>min</th>\n",
       "      <td>1.00000</td>\n",
       "      <td>0 days 00:00:00</td>\n",
       "    </tr>\n",
       "    <tr>\n",
       "      <th>25%</th>\n",
       "      <td>2592.75000</td>\n",
       "      <td>0 days 00:00:21</td>\n",
       "    </tr>\n",
       "    <tr>\n",
       "      <th>50%</th>\n",
       "      <td>5184.50000</td>\n",
       "      <td>0 days 00:05:35</td>\n",
       "    </tr>\n",
       "    <tr>\n",
       "      <th>75%</th>\n",
       "      <td>7776.25000</td>\n",
       "      <td>0 days 00:17:25.250000</td>\n",
       "    </tr>\n",
       "    <tr>\n",
       "      <th>max</th>\n",
       "      <td>10368.00000</td>\n",
       "      <td>0 days 05:21:58</td>\n",
       "    </tr>\n",
       "  </tbody>\n",
       "</table>\n",
       "</div>"
      ],
      "text/plain": [
       "        session_id           session_duration\n",
       "count  10368.00000                      10368\n",
       "mean    5184.50000  0 days 00:12:52.668981481\n",
       "std     2993.12813  0 days 00:19:51.607952024\n",
       "min        1.00000            0 days 00:00:00\n",
       "25%     2592.75000            0 days 00:00:21\n",
       "50%     5184.50000            0 days 00:05:35\n",
       "75%     7776.25000     0 days 00:17:25.250000\n",
       "max    10368.00000            0 days 05:21:58"
      ]
     },
     "metadata": {},
     "output_type": "display_data"
    }
   ],
   "source": [
    "# Сгруппируем информацию о продолжительности сессий\n",
    "df_time = df.groupby('session_id').agg({'event_time': ['min', 'max']}).reset_index()\n",
    "df_time.columns = ['session_id', 'min_date', 'max_date']\n",
    "df_time['session_duration'] = df_time['max_date'] - df_time['min_date']\n",
    "\n",
    "display(df_time.describe())"
   ]
  },
  {
   "cell_type": "markdown",
   "id": "0022daaa",
   "metadata": {},
   "source": [
    "Средняя продолжительность сессии составляет от 21 секунды до 17 минут. Середина - 5,5 минуты. Возможна ситуация, когда приложение вылетает и минимальные значения составляют 0 минут. Так же возможен вариант открытия приложения по ошибке, что тоже может сдвинуть временной диапазон."
   ]
  },
  {
   "cell_type": "code",
   "execution_count": 34,
   "id": "ac0d1321",
   "metadata": {},
   "outputs": [
    {
     "data": {
      "text/html": [
       "<div>\n",
       "<style scoped>\n",
       "    .dataframe tbody tr th:only-of-type {\n",
       "        vertical-align: middle;\n",
       "    }\n",
       "\n",
       "    .dataframe tbody tr th {\n",
       "        vertical-align: top;\n",
       "    }\n",
       "\n",
       "    .dataframe thead th {\n",
       "        text-align: right;\n",
       "    }\n",
       "</style>\n",
       "<table border=\"1\" class=\"dataframe\">\n",
       "  <thead>\n",
       "    <tr style=\"text-align: right;\">\n",
       "      <th></th>\n",
       "      <th>session_step</th>\n",
       "      <th>time</th>\n",
       "    </tr>\n",
       "  </thead>\n",
       "  <tbody>\n",
       "    <tr>\n",
       "      <th>count</th>\n",
       "      <td>74197.000000</td>\n",
       "      <td>63829</td>\n",
       "    </tr>\n",
       "    <tr>\n",
       "      <th>mean</th>\n",
       "      <td>37098.000000</td>\n",
       "      <td>0 days 00:02:05.507715928</td>\n",
       "    </tr>\n",
       "    <tr>\n",
       "      <th>std</th>\n",
       "      <td>21418.973299</td>\n",
       "      <td>0 days 00:03:28.693288715</td>\n",
       "    </tr>\n",
       "    <tr>\n",
       "      <th>min</th>\n",
       "      <td>0.000000</td>\n",
       "      <td>0 days 00:00:00</td>\n",
       "    </tr>\n",
       "    <tr>\n",
       "      <th>25%</th>\n",
       "      <td>18549.000000</td>\n",
       "      <td>0 days 00:00:20</td>\n",
       "    </tr>\n",
       "    <tr>\n",
       "      <th>50%</th>\n",
       "      <td>37098.000000</td>\n",
       "      <td>0 days 00:01:01</td>\n",
       "    </tr>\n",
       "    <tr>\n",
       "      <th>75%</th>\n",
       "      <td>55647.000000</td>\n",
       "      <td>0 days 00:02:16</td>\n",
       "    </tr>\n",
       "    <tr>\n",
       "      <th>max</th>\n",
       "      <td>74196.000000</td>\n",
       "      <td>0 days 00:30:00</td>\n",
       "    </tr>\n",
       "  </tbody>\n",
       "</table>\n",
       "</div>"
      ],
      "text/plain": [
       "       session_step                       time\n",
       "count  74197.000000                      63829\n",
       "mean   37098.000000  0 days 00:02:05.507715928\n",
       "std    21418.973299  0 days 00:03:28.693288715\n",
       "min        0.000000            0 days 00:00:00\n",
       "25%    18549.000000            0 days 00:00:20\n",
       "50%    37098.000000            0 days 00:01:01\n",
       "75%    55647.000000            0 days 00:02:16\n",
       "max    74196.000000            0 days 00:30:00"
      ]
     },
     "metadata": {},
     "output_type": "display_data"
    }
   ],
   "source": [
    "# Сгруппируем информацию о продолжительности шага\n",
    "df_step = df.groupby('session_id').agg(diff_time=('event_time', 'diff')).reset_index()\n",
    "df_step.columns = ['session_step', 'time']\n",
    "\n",
    "display(df_step.describe())"
   ]
  },
  {
   "cell_type": "markdown",
   "id": "290aacc9",
   "metadata": {},
   "source": [
    "Средняя продолжительность шага внутри сессии составляет от 20 секунд до 2.16 минут. "
   ]
  },
  {
   "cell_type": "markdown",
   "id": "a2af0db5",
   "metadata": {},
   "source": [
    "**Промежуточные выводы:**\n",
    "- Самое распространенное событие - tips_show, затем идет search и map\n",
    "- В датасете 10368 уникальных сессий\n",
    " - временной диапазон продолжительности сесии составляет от 21 секунды до 17 минут 26 секунд (от 25 дл 75 % пользователей)\n",
    " - временной диапазон действия пользователя составляет от 20 секунд до 2 минут 16 секунд (от 25 дл 75 % пользователей)\n",
    "- В среднем, пользователи совершают от 2 до 8 действий в сессии (от 25 дл 75 % пользователей)\n",
    "- В среднем на пользователя приходится от 1 до 3 сессий (от 25 дл 75 % пользователей)"
   ]
  },
  {
   "cell_type": "markdown",
   "id": "c92ca3c9",
   "metadata": {},
   "source": [
    "##### Посмотрим на сценарии использования приложения"
   ]
  },
  {
   "cell_type": "markdown",
   "id": "c2b3fde7",
   "metadata": {},
   "source": [
    "Построим диаграмму Сэнкея и посмотрим на сценарии использования приложения"
   ]
  },
  {
   "cell_type": "code",
   "execution_count": 35,
   "id": "37084415",
   "metadata": {
    "scrolled": false
   },
   "outputs": [
    {
     "data": {
      "text/html": [
       "<div>\n",
       "<style scoped>\n",
       "    .dataframe tbody tr th:only-of-type {\n",
       "        vertical-align: middle;\n",
       "    }\n",
       "\n",
       "    .dataframe tbody tr th {\n",
       "        vertical-align: top;\n",
       "    }\n",
       "\n",
       "    .dataframe thead th {\n",
       "        text-align: right;\n",
       "    }\n",
       "</style>\n",
       "<table border=\"1\" class=\"dataframe\">\n",
       "  <thead>\n",
       "    <tr style=\"text-align: right;\">\n",
       "      <th></th>\n",
       "      <th>user_id</th>\n",
       "      <th>event_time</th>\n",
       "      <th>event_name</th>\n",
       "    </tr>\n",
       "  </thead>\n",
       "  <tbody>\n",
       "    <tr>\n",
       "      <th>0</th>\n",
       "      <td>1</td>\n",
       "      <td>2019-10-07 00:00:00</td>\n",
       "      <td>advert_open</td>\n",
       "    </tr>\n",
       "    <tr>\n",
       "      <th>1</th>\n",
       "      <td>1</td>\n",
       "      <td>2019-10-07 00:00:01</td>\n",
       "      <td>tips_show</td>\n",
       "    </tr>\n",
       "    <tr>\n",
       "      <th>10</th>\n",
       "      <td>1</td>\n",
       "      <td>2019-10-07 00:04:12</td>\n",
       "      <td>map</td>\n",
       "    </tr>\n",
       "    <tr>\n",
       "      <th>28</th>\n",
       "      <td>2</td>\n",
       "      <td>2019-10-07 00:00:02</td>\n",
       "      <td>tips_show</td>\n",
       "    </tr>\n",
       "    <tr>\n",
       "      <th>29</th>\n",
       "      <td>2</td>\n",
       "      <td>2019-10-07 00:00:56</td>\n",
       "      <td>advert_open</td>\n",
       "    </tr>\n",
       "  </tbody>\n",
       "</table>\n",
       "</div>"
      ],
      "text/plain": [
       "    user_id          event_time   event_name\n",
       "0         1 2019-10-07 00:00:00  advert_open\n",
       "1         1 2019-10-07 00:00:01    tips_show\n",
       "10        1 2019-10-07 00:04:12          map\n",
       "28        2 2019-10-07 00:00:02    tips_show\n",
       "29        2 2019-10-07 00:00:56  advert_open"
      ]
     },
     "metadata": {},
     "output_type": "display_data"
    }
   ],
   "source": [
    "# Уберем повторяющиеся события внутри сессии\n",
    "session_df = df.drop_duplicates(['session_id', 'event_name'])\n",
    "\n",
    "# Создадим датафрейм table для диаграммы\n",
    "table = session_df[['session_id', 'event_time', 'event_name']]\n",
    "table = table.rename(columns = {'session_id':'user_id'})\n",
    "display(table.head())"
   ]
  },
  {
   "cell_type": "code",
   "execution_count": 36,
   "id": "0b82eb26",
   "metadata": {},
   "outputs": [
    {
     "data": {
      "text/html": [
       "<div>\n",
       "<style scoped>\n",
       "    .dataframe tbody tr th:only-of-type {\n",
       "        vertical-align: middle;\n",
       "    }\n",
       "\n",
       "    .dataframe tbody tr th {\n",
       "        vertical-align: top;\n",
       "    }\n",
       "\n",
       "    .dataframe thead th {\n",
       "        text-align: right;\n",
       "    }\n",
       "</style>\n",
       "<table border=\"1\" class=\"dataframe\">\n",
       "  <thead>\n",
       "    <tr style=\"text-align: right;\">\n",
       "      <th></th>\n",
       "      <th>user_id</th>\n",
       "      <th>event_time</th>\n",
       "      <th>step</th>\n",
       "      <th>source</th>\n",
       "      <th>target</th>\n",
       "    </tr>\n",
       "  </thead>\n",
       "  <tbody>\n",
       "    <tr>\n",
       "      <th>0</th>\n",
       "      <td>1</td>\n",
       "      <td>2019-10-07 00:00:00</td>\n",
       "      <td>1</td>\n",
       "      <td>advert_open</td>\n",
       "      <td>tips_show</td>\n",
       "    </tr>\n",
       "    <tr>\n",
       "      <th>1</th>\n",
       "      <td>1</td>\n",
       "      <td>2019-10-07 00:00:01</td>\n",
       "      <td>2</td>\n",
       "      <td>tips_show</td>\n",
       "      <td>map</td>\n",
       "    </tr>\n",
       "    <tr>\n",
       "      <th>10</th>\n",
       "      <td>1</td>\n",
       "      <td>2019-10-07 00:04:12</td>\n",
       "      <td>3</td>\n",
       "      <td>map</td>\n",
       "      <td>NaN</td>\n",
       "    </tr>\n",
       "    <tr>\n",
       "      <th>28</th>\n",
       "      <td>2</td>\n",
       "      <td>2019-10-07 00:00:02</td>\n",
       "      <td>1</td>\n",
       "      <td>tips_show</td>\n",
       "      <td>advert_open</td>\n",
       "    </tr>\n",
       "    <tr>\n",
       "      <th>29</th>\n",
       "      <td>2</td>\n",
       "      <td>2019-10-07 00:00:56</td>\n",
       "      <td>2</td>\n",
       "      <td>advert_open</td>\n",
       "      <td>tips_click</td>\n",
       "    </tr>\n",
       "  </tbody>\n",
       "</table>\n",
       "</div>"
      ],
      "text/plain": [
       "    user_id          event_time  step       source       target\n",
       "0         1 2019-10-07 00:00:00     1  advert_open    tips_show\n",
       "1         1 2019-10-07 00:00:01     2    tips_show          map\n",
       "10        1 2019-10-07 00:04:12     3          map          NaN\n",
       "28        2 2019-10-07 00:00:02     1    tips_show  advert_open\n",
       "29        2 2019-10-07 00:00:56     2  advert_open   tips_click"
      ]
     },
     "execution_count": 36,
     "metadata": {},
     "output_type": "execute_result"
    }
   ],
   "source": [
    "# Определим пары source-target\n",
    "\n",
    "def add_features(df):\n",
    "\n",
    "    \n",
    "    # сортируем по id и времени\n",
    "    sorted_df = df.sort_values(by=['user_id', 'event_time']).copy()\n",
    "    # добавляем шаги событий\n",
    "    sorted_df['step'] = sorted_df.groupby('user_id').cumcount() + 1\n",
    "    \n",
    "    # добавляем узлы-источники и целевые узлы\n",
    "    # узлы-источники - это сами события\n",
    "    sorted_df['source'] = sorted_df['event_name']\n",
    "    # добавляем целевые узлы\n",
    "    sorted_df['target'] = sorted_df.groupby('user_id')['source'].shift(-1)\n",
    "    \n",
    "    # возврат таблицы без имени событий\n",
    "    return sorted_df.drop(['event_name'], axis=1)\n",
    "  \n",
    "# преобразуем таблицу\n",
    "table = add_features(table)\n",
    "table.head()"
   ]
  },
  {
   "cell_type": "code",
   "execution_count": 37,
   "id": "f117d250",
   "metadata": {},
   "outputs": [],
   "source": [
    "# Удалим пропуски в target\n",
    "table = table.dropna()"
   ]
  },
  {
   "cell_type": "markdown",
   "id": "dba4be61",
   "metadata": {},
   "source": [
    "Выберем количество шагов на нашей будущей диаграмме. Границей будет служить 75% пользователей, которые совершают не более 8 действий внутри сессии. Сохраним результат в новую переменную."
   ]
  },
  {
   "cell_type": "code",
   "execution_count": 38,
   "id": "41f1f520",
   "metadata": {},
   "outputs": [],
   "source": [
    "df_comp = table[table['step'] <= 8].copy().reset_index(drop=True)"
   ]
  },
  {
   "cell_type": "code",
   "execution_count": 39,
   "id": "7522efe6",
   "metadata": {},
   "outputs": [],
   "source": [
    "# Создание индексов \n",
    "\n",
    "def get_source_index(data):\n",
    "    \n",
    "    res_dict = {}\n",
    "    \n",
    "    count = 0\n",
    "    # получаем индексы источников\n",
    "    for no, step in enumerate(data['step'].unique().tolist()):\n",
    "        # получаем уникальные наименования для шага\n",
    "        res_dict[no+1] = {}\n",
    "        res_dict[no+1]['sources'] = data[data['step'] == step]['source'].unique().tolist()\n",
    "        res_dict[no+1]['sources_index'] = []\n",
    "        for i in range(len(res_dict[no+1]['sources'])):\n",
    "            res_dict[no+1]['sources_index'].append(count)\n",
    "            count += 1\n",
    "            \n",
    "    # соединим списки\n",
    "    for key in res_dict:\n",
    "        res_dict[key]['sources_dict'] = {}\n",
    "        for name, no in zip(res_dict[key]['sources'], res_dict[key]['sources_index']):\n",
    "            res_dict[key]['sources_dict'][name] = no\n",
    "    return res_dict\n",
    "  \n",
    "# создаем словарь\n",
    "source_indexes = get_source_index(df_comp)"
   ]
  },
  {
   "cell_type": "code",
   "execution_count": 40,
   "id": "0d56df73",
   "metadata": {},
   "outputs": [],
   "source": [
    "# Сгенерируем цвета для sources\n",
    "\n",
    "def generate_random_color():\n",
    "    \n",
    "    # сгенерим значение для каждого канала\n",
    "    r, g, b = np.random.randint(255, size=3)\n",
    "    return f'rgba({r}, {g}, {b}, 1)'\n",
    "\n",
    "def colors_for_sources(mode):\n",
    "    \n",
    "    # словарь, в который сложим цвета в соответствии с индексом\n",
    "    colors_dict = {}\n",
    "    \n",
    "    if mode == 'random':\n",
    "        # генерим случайные цвета\n",
    "        for label in df_comp['source'].unique():\n",
    "            r, g, b = np.random.randint(255, size=3)            \n",
    "            colors_dict[label] = f'rgba({r}, {g}, {b}, 1)'\n",
    " \n",
    "    \n",
    "    return colors_dict\n",
    "\n",
    "colors_dict = colors_for_sources(mode='random')"
   ]
  },
  {
   "cell_type": "markdown",
   "id": "7e9f66bc",
   "metadata": {},
   "source": [
    "Создаем словарь с данными:\n",
    "- sources - список с индексами sources;\n",
    "- targets - список с индексами target;\n",
    "- values - количество уникальных пользователей, совершивших переход между узлами source-target (\"объем\" потока между узлами);\n",
    "- labels - названия узлов;\n",
    "- colors_labels - цвет узлов;\n",
    "- link_color - цвет потоков между узлами;\n",
    "- link_text - дополнительная информация.\n",
    "\n"
   ]
  },
  {
   "cell_type": "code",
   "execution_count": 41,
   "id": "4b998604",
   "metadata": {},
   "outputs": [],
   "source": [
    "# Рассчитываем количество уникальных пользователей в процентах\n",
    "\n",
    "def percent_users(sources, targets, values):\n",
    "    \n",
    "    # объединим источники и метки и найдем пары\n",
    "    zip_lists = list(zip(sources, targets, values))\n",
    "    \n",
    "    new_list = []\n",
    "    \n",
    "    # подготовим список словарь с общим объемом трафика в узлах\n",
    "    unique_dict = {}\n",
    "    \n",
    "    # проходим по каждому узлу\n",
    "    for source, target, value in zip_lists:\n",
    "        if source not in unique_dict:\n",
    "            # находим все источники и считаем общий трафик\n",
    "            unique_dict[source] = 0\n",
    "            for sr, tg, vl in zip_lists:\n",
    "                if sr == source:\n",
    "                    unique_dict[source] += vl\n",
    "                    \n",
    "    # считаем проценты\n",
    "    for source, target, value in zip_lists:\n",
    "        new_list.append(round(100 * value / unique_dict[source], 1))\n",
    "    \n",
    "    return new_list"
   ]
  },
  {
   "cell_type": "code",
   "execution_count": 42,
   "id": "154e921d",
   "metadata": {},
   "outputs": [
    {
     "name": "stderr",
     "output_type": "stream",
     "text": [
      "Шаг:   0%|                                                | 0/5 [00:00<?, ?it/s]\n",
      "  0%|                                                     | 0/8 [00:00<?, ?it/s]\u001b[A\n",
      "100%|█████████████████████████████████████████████| 8/8 [00:00<00:00, 78.74it/s]\u001b[A\n",
      "Шаг:  20%|████████                                | 1/5 [00:00<00:00,  9.64it/s]\n",
      "  0%|                                                     | 0/9 [00:00<?, ?it/s]\u001b[A\n",
      "100%|█████████████████████████████████████████████| 9/9 [00:00<00:00, 82.15it/s]\u001b[A\n",
      "Шаг:  40%|████████████████                        | 2/5 [00:00<00:00,  9.20it/s]\n",
      "  0%|                                                     | 0/9 [00:00<?, ?it/s]\u001b[A\n",
      "100%|█████████████████████████████████████████████| 9/9 [00:00<00:00, 83.29it/s]\u001b[A\n",
      "Шаг:  60%|████████████████████████                | 3/5 [00:00<00:00,  9.14it/s]\n",
      "100%|████████████████████████████████████████████| 9/9 [00:00<00:00, 186.38it/s]\u001b[A\n",
      "Шаг: 100%|████████████████████████████████████████| 5/5 [00:00<00:00, 13.27it/s]\n"
     ]
    }
   ],
   "source": [
    "# Создаем словарь с данными для отрисовки диаграммы\n",
    "\n",
    "def lists_for_plot(source_indexes=source_indexes, colors=colors_dict, frac=10):\n",
    "    \n",
    "    sources = []\n",
    "    targets = []\n",
    "    values = []\n",
    "    labels = []\n",
    "    link_color = []\n",
    "    link_text = []\n",
    "\n",
    "    # проходим по каждому шагу\n",
    "    for step in tqdm(sorted(df_comp['step'].unique()), desc='Шаг'):\n",
    "        if step + 1 not in source_indexes:\n",
    "            continue\n",
    "\n",
    "        # получаем индекс источника\n",
    "        temp_dict_source = source_indexes[step]['sources_dict']\n",
    "\n",
    "        # получаем индексы цели\n",
    "        temp_dict_target = source_indexes[step+1]['sources_dict']\n",
    "\n",
    "        # проходим по каждой возможной паре, считаем количество таких пар\n",
    "        for source, index_source in tqdm(temp_dict_source.items()):\n",
    "            for target, index_target in temp_dict_target.items():\n",
    "                # делаем срез данных и считаем количество id            \n",
    "                temp_df = df_comp[(df_comp['step'] == step)&(df_comp['source'] == source)&(df_comp['target'] == target)]\n",
    "                value = len(temp_df)\n",
    "                # проверяем минимальный объем потока и добавляем нужные данные\n",
    "                if value > frac:\n",
    "                    sources.append(index_source)\n",
    "                    targets.append(index_target)\n",
    "                    values.append(value)\n",
    "                    # делаем поток прозрачным для лучшего отображения\n",
    "                    link_color.append(colors[source].replace(', 1)', ', 0.2)'))\n",
    "                    \n",
    "    labels = []\n",
    "    colors_labels = []\n",
    "    for key in source_indexes:\n",
    "        for name in source_indexes[key]['sources']:\n",
    "            labels.append(name)\n",
    "            colors_labels.append(colors[name])\n",
    "            \n",
    "    # посчитаем проценты всех потоков\n",
    "    perc_values = percent_users(sources, targets, values)\n",
    "    \n",
    "    # добавим значения процентов для howertext\n",
    "    link_text = []\n",
    "    for perc in perc_values:\n",
    "        link_text.append(f\"{perc}%\")\n",
    "    \n",
    "    # возвратим словарь с вложенными списками\n",
    "    return {'sources': sources, \n",
    "            'targets': targets, \n",
    "            'values': values, \n",
    "            'labels': labels, \n",
    "            'colors_labels': colors_labels, \n",
    "            'link_color': link_color, \n",
    "            'link_text': link_text}\n",
    "  \n",
    "\n",
    "# создаем словарь\n",
    "data_for_plot = lists_for_plot()"
   ]
  },
  {
   "cell_type": "code",
   "execution_count": 43,
   "id": "8955afc7",
   "metadata": {},
   "outputs": [],
   "source": [
    "# Создаем объект диаграммы\n",
    "\n",
    "def plot_senkey_diagram(data_dict=data_for_plot):    \n",
    "    \n",
    "    fig = go.Figure(data=[go.Sankey(\n",
    "        domain = dict(\n",
    "          x =  [0,1],\n",
    "          y =  [0,1]\n",
    "        ),\n",
    "        orientation = \"h\",\n",
    "        valueformat = \".0f\",\n",
    "        node = dict(\n",
    "          pad = 50,\n",
    "          thickness = 15,\n",
    "          line = dict(color = \"black\", width = 0.1),\n",
    "          label = data_dict['labels'],\n",
    "          color = data_dict['colors_labels']\n",
    "        ),\n",
    "        link = dict(\n",
    "          source = data_dict['sources'],\n",
    "          target = data_dict['targets'],\n",
    "          value = data_dict['values'],\n",
    "          label = data_dict['link_text'],\n",
    "          color = data_dict['link_color']\n",
    "      ))])\n",
    "    fig.update_layout(title_text=\"Сценарии использования приложения\", font_size=10, width=1000, height=800)\n",
    "    \n",
    "    # возвращаем объект диаграммы\n",
    "    return fig\n",
    "  \n",
    "\n",
    "# сохраняем диаграмму в переменную\n",
    "senkey_diagram = plot_senkey_diagram()"
   ]
  },
  {
   "cell_type": "code",
   "execution_count": 44,
   "id": "83e68ada",
   "metadata": {
    "scrolled": false
   },
   "outputs": [
    {
     "data": {
      "image/png": "[encoded data removed]"
     },
     "metadata": {},
     "output_type": "display_data"
    }
   ],
   "source": [
    "# Выводим график\n",
    "\n",
    "senkey_diagram.show()"
   ]
  },
  {
   "cell_type": "markdown",
   "id": "ea36b9dd",
   "metadata": {},
   "source": [
    "На графике представлены основные сценарии использования приложения. Важно учесть, на смартфонах приложение не закрывается полностью, а сворачивается, поэтому пользователи, с началом новой сессии, могут начать пользоваться приложением с последнего момента, на котором они остановились. \n",
    "\n",
    "Выделим основные сценарии использования приложения.\n",
    "\n",
    "Стандартное использование приложения начинается с открытия карты. Выберем данное действие как отправную точку. Обязательное условие - наличие действия открытия карточки, т.к. информация о контактах обычно храниться внутри карточки. Посмотрим, какие сценария использования, приводящие к целевому действию contacts_show, возможны:\n",
    "\n",
    "- map - search - advert_open - contacts_show (1 ый сценарий)\n",
    "- map - advert_open - contacts_show (2 ой сценарий)\n",
    "- map - tips_show - advert_open - contacts_show (3 ий сценарий)"
   ]
  },
  {
   "cell_type": "markdown",
   "id": "a4fad26a",
   "metadata": {},
   "source": [
    "##### Построим воронки по выделенным сценариям. Посмотрим на конверсию в целевое действие."
   ]
  },
  {
   "cell_type": "code",
   "execution_count": 45,
   "id": "6417d737",
   "metadata": {},
   "outputs": [],
   "source": [
    "# Создадим датасет для воронок\n",
    "data = df"
   ]
  },
  {
   "cell_type": "code",
   "execution_count": 46,
   "id": "8eec65a5",
   "metadata": {},
   "outputs": [],
   "source": [
    "# Создаем столбцы со следующим шагом внутри сессии\n",
    "data['step_1'] = data['event_name'].shift(-1)\n",
    "data['step_2'] = data['step_1'].shift(-1)\n",
    "data['step_3'] = data['step_2'].shift(-1)"
   ]
  },
  {
   "cell_type": "code",
   "execution_count": 47,
   "id": "e4e61e2f",
   "metadata": {},
   "outputs": [
    {
     "data": {
      "image/png": "[encoded data removed]"
     },
     "metadata": {},
     "output_type": "display_data"
    }
   ],
   "source": [
    "# Строим воронку для первогго сценария\n",
    "fig = go.Figure()\n",
    "fig = go.Figure(go.Funnel(\n",
    "    y = ['map', 'search', 'advert_open', 'contacts_show'],\n",
    "    x = [data.query('event_name==\"map\"')['user_id'].nunique(), \\\n",
    "         data.query('event_name==\"map\" and step_1==\"search\"')['user_id'].nunique(), \\\n",
    "         data.query('step_1==\"search\" and step_2==\"advert_open\"')['user_id'].nunique(), \\\n",
    "         data.query('step_2==\"advert_open\" and step_3==\"contacts_show\"')['user_id'].nunique()], \\\n",
    "    textinfo = \"value+percent previous\"))\n",
    "fig.update_layout(title=\"Воронка первого сценария\")\n",
    "fig.show()"
   ]
  },
  {
   "cell_type": "code",
   "execution_count": 48,
   "id": "4195120b",
   "metadata": {},
   "outputs": [
    {
     "data": {
      "image/png": "[encoded data removed]"
     },
     "metadata": {},
     "output_type": "display_data"
    }
   ],
   "source": [
    "# Строим воронку для второго сценария\n",
    "fig = go.Figure()\n",
    "fig = go.Figure(go.Funnel(\n",
    "    y = ['map', 'advert_open', 'contacts_show'],\n",
    "    x = [data.query('event_name==\"map\"')['user_id'].nunique(), \\\n",
    "         data.query('event_name==\"map\" and step_1==\"advert_open\"')['user_id'].nunique(), \\\n",
    "         data.query('step_1==\"advert_open\" and step_2==\"contacts_show\"')['user_id'].nunique()], \\\n",
    "    textinfo = \"value+percent previous\"))\n",
    "fig.update_layout(title=\"Воронка второго сценария\")\n",
    "fig.show()"
   ]
  },
  {
   "cell_type": "code",
   "execution_count": 49,
   "id": "865ef3dc",
   "metadata": {},
   "outputs": [
    {
     "data": {
      "image/png": "[encoded data removed]"
     },
     "metadata": {},
     "output_type": "display_data"
    }
   ],
   "source": [
    "# Строим воронку для третьего сценария\n",
    "fig = go.Figure()\n",
    "fig = go.Figure(go.Funnel(\n",
    "    y = ['map', 'tips_show', 'advert_open', 'contacts_show'],\n",
    "    x = [data.query('event_name==\"map\"')['user_id'].nunique(), \\\n",
    "         data.query('event_name==\"map\" and step_1==\"tips_show\"')['user_id'].nunique(), \\\n",
    "         data.query('step_1==\"tips_show\" and step_2==\"advert_open\"')['user_id'].nunique(), \\\n",
    "         df.query('step_2==\"advert_open\" and step_3==\"contacts_show\"')['user_id'].nunique()], \\\n",
    "    textinfo = \"value+percent previous\"))\n",
    "fig.update_layout(title=\"Воронка третьего сценария\")\n",
    "fig.show()"
   ]
  },
  {
   "cell_type": "markdown",
   "id": "e0daa1b3",
   "metadata": {},
   "source": [
    "\n",
    "- 1 сценарий:\n",
    " - конверсия в целевое действие 2,6 % от общего\n",
    " - предшествующие события - map - search - advert_open\n",
    "- 2 сценарий: \n",
    " - конверсия в целевое действие 2,7 % от общего\n",
    " - предшествующие события - map - advert_open\n",
    "- 3 сценарий: \n",
    " - конверсия в целевое действие 1,6 % от общего\n",
    " - предшествующие события - map - tips_show - advert_open \n",
    " \n",
    "В целом не самые сильные показатели конверсии. Скорее всего они обусловлены тем, что в карточке объявления находиться дополнительная информация, которую просматривают пользователи. Пользователи выбирают товар, поэтому, даже если он им понравился, они могут выбирать дальше из имеющихся предложений.\n",
    "Можно отметить хорошие показатели конверсии на 3 графике. Рекомендованные объявления хорошо себя показали на карте объявлений. Так же можно выделить слабую конверсию с карты в поиск. Можно предположить, что пользователи выбирают из предлагаемых карточек товара."
   ]
  },
  {
   "cell_type": "markdown",
   "id": "e3cbcd7f",
   "metadata": {},
   "source": [
    "##### Посчитаем временную разницу между событиями\n",
    "\n"
   ]
  },
  {
   "cell_type": "markdown",
   "id": "809c3b28",
   "metadata": {},
   "source": [
    "У нас есть 3 основных сценария использования:\n",
    "- map - search - advert_open - contacts_show (1 ый сценарий)\n",
    "- map - advert_open - contacts_show (2 ой сценарий)\n",
    "- map - tips_show - advert_open - contacts_show (3 ий сценарий)\n",
    "\n",
    "Выделим несколько пар просмотра событий:\n",
    "- map - tips_show\n",
    "- map - advert_open\n",
    "- map - search\n",
    "- search - advert_open\n",
    "- tips_show - advert_open\n",
    "- advert_open - contacts_show"
   ]
  },
  {
   "cell_type": "code",
   "execution_count": 50,
   "id": "8fd17003",
   "metadata": {
    "scrolled": true
   },
   "outputs": [],
   "source": [
    "# Создадим списки для сессий\n",
    "id_map = df.query('event_name == \"map\"')['session_id'].unique().tolist()\n",
    "id_tips_show = df.query('event_name == \"tips_show\"')['session_id'].unique().tolist()\n",
    "id_search = df.query('event_name == \"search\"')['session_id'].unique().tolist()\n",
    "id_advert_open = df.query('event_name == \"advert_open\"')['session_id'].unique().tolist()\n",
    "id_contacts_show = df.query('event_name == \"contacts_show\"')['session_id'].unique().tolist()"
   ]
  },
  {
   "cell_type": "code",
   "execution_count": 51,
   "id": "a0fe9217",
   "metadata": {},
   "outputs": [
    {
     "data": {
      "text/html": [
       "<div>\n",
       "<style scoped>\n",
       "    .dataframe tbody tr th:only-of-type {\n",
       "        vertical-align: middle;\n",
       "    }\n",
       "\n",
       "    .dataframe tbody tr th {\n",
       "        vertical-align: top;\n",
       "    }\n",
       "\n",
       "    .dataframe thead th {\n",
       "        text-align: right;\n",
       "    }\n",
       "</style>\n",
       "<table border=\"1\" class=\"dataframe\">\n",
       "  <thead>\n",
       "    <tr style=\"text-align: right;\">\n",
       "      <th></th>\n",
       "      <th>index</th>\n",
       "      <th>diff_time</th>\n",
       "    </tr>\n",
       "  </thead>\n",
       "  <tbody>\n",
       "    <tr>\n",
       "      <th>count</th>\n",
       "      <td>54.000000</td>\n",
       "      <td>27</td>\n",
       "    </tr>\n",
       "    <tr>\n",
       "      <th>mean</th>\n",
       "      <td>37478.907407</td>\n",
       "      <td>0 days 00:08:32.629629629</td>\n",
       "    </tr>\n",
       "    <tr>\n",
       "      <th>std</th>\n",
       "      <td>20093.059390</td>\n",
       "      <td>0 days 00:14:01.381242963</td>\n",
       "    </tr>\n",
       "    <tr>\n",
       "      <th>min</th>\n",
       "      <td>9523.000000</td>\n",
       "      <td>0 days 00:00:24</td>\n",
       "    </tr>\n",
       "    <tr>\n",
       "      <th>25%</th>\n",
       "      <td>20415.750000</td>\n",
       "      <td>0 days 00:01:31.500000</td>\n",
       "    </tr>\n",
       "    <tr>\n",
       "      <th>50%</th>\n",
       "      <td>38128.500000</td>\n",
       "      <td>0 days 00:02:36</td>\n",
       "    </tr>\n",
       "    <tr>\n",
       "      <th>75%</th>\n",
       "      <td>53552.250000</td>\n",
       "      <td>0 days 00:08:00.500000</td>\n",
       "    </tr>\n",
       "    <tr>\n",
       "      <th>max</th>\n",
       "      <td>73115.000000</td>\n",
       "      <td>0 days 01:02:00</td>\n",
       "    </tr>\n",
       "  </tbody>\n",
       "</table>\n",
       "</div>"
      ],
      "text/plain": [
       "              index                  diff_time\n",
       "count     54.000000                         27\n",
       "mean   37478.907407  0 days 00:08:32.629629629\n",
       "std    20093.059390  0 days 00:14:01.381242963\n",
       "min     9523.000000            0 days 00:00:24\n",
       "25%    20415.750000     0 days 00:01:31.500000\n",
       "50%    38128.500000            0 days 00:02:36\n",
       "75%    53552.250000     0 days 00:08:00.500000\n",
       "max    73115.000000            0 days 01:02:00"
      ]
     },
     "execution_count": 51,
     "metadata": {},
     "output_type": "execute_result"
    }
   ],
   "source": [
    "# Создадим датафрейм с подходящими сессиями \n",
    "time_df = df.query('session_id in @id_map and session_id in @id_tips_show and session_id in @id_advert_open \\\n",
    "and session_id in @id_contacts_show and session_id in @id_search')\n",
    "\n",
    "# Построим датафрейм для map - tips_show\n",
    "map_tips_show = time_df.query('event_name == \"map\" or event_name == \"tips_show\"').drop_duplicates(\n",
    "    ['event_name', 'user_id']).sort_values(by=['session_id', 'event_time'])\n",
    "\n",
    "# Посмотрим на распределение времени\n",
    "map_tips_show.groupby('session_id').agg(diff_time=('event_time', 'diff')).reset_index().describe()"
   ]
  },
  {
   "cell_type": "code",
   "execution_count": 52,
   "id": "ff4911c1",
   "metadata": {},
   "outputs": [
    {
     "data": {
      "text/html": [
       "<div>\n",
       "<style scoped>\n",
       "    .dataframe tbody tr th:only-of-type {\n",
       "        vertical-align: middle;\n",
       "    }\n",
       "\n",
       "    .dataframe tbody tr th {\n",
       "        vertical-align: top;\n",
       "    }\n",
       "\n",
       "    .dataframe thead th {\n",
       "        text-align: right;\n",
       "    }\n",
       "</style>\n",
       "<table border=\"1\" class=\"dataframe\">\n",
       "  <thead>\n",
       "    <tr style=\"text-align: right;\">\n",
       "      <th></th>\n",
       "      <th>index</th>\n",
       "      <th>diff_time</th>\n",
       "    </tr>\n",
       "  </thead>\n",
       "  <tbody>\n",
       "    <tr>\n",
       "      <th>count</th>\n",
       "      <td>54.000000</td>\n",
       "      <td>27</td>\n",
       "    </tr>\n",
       "    <tr>\n",
       "      <th>mean</th>\n",
       "      <td>37479.814815</td>\n",
       "      <td>0 days 00:08:13.222222222</td>\n",
       "    </tr>\n",
       "    <tr>\n",
       "      <th>std</th>\n",
       "      <td>20091.964763</td>\n",
       "      <td>0 days 00:14:32.643699135</td>\n",
       "    </tr>\n",
       "    <tr>\n",
       "      <th>min</th>\n",
       "      <td>9527.000000</td>\n",
       "      <td>0 days 00:00:18</td>\n",
       "    </tr>\n",
       "    <tr>\n",
       "      <th>25%</th>\n",
       "      <td>20416.250000</td>\n",
       "      <td>0 days 00:00:45.500000</td>\n",
       "    </tr>\n",
       "    <tr>\n",
       "      <th>50%</th>\n",
       "      <td>38129.500000</td>\n",
       "      <td>0 days 00:02:10</td>\n",
       "    </tr>\n",
       "    <tr>\n",
       "      <th>75%</th>\n",
       "      <td>53552.000000</td>\n",
       "      <td>0 days 00:05:40</td>\n",
       "    </tr>\n",
       "    <tr>\n",
       "      <th>max</th>\n",
       "      <td>73111.000000</td>\n",
       "      <td>0 days 01:02:17</td>\n",
       "    </tr>\n",
       "  </tbody>\n",
       "</table>\n",
       "</div>"
      ],
      "text/plain": [
       "              index                  diff_time\n",
       "count     54.000000                         27\n",
       "mean   37479.814815  0 days 00:08:13.222222222\n",
       "std    20091.964763  0 days 00:14:32.643699135\n",
       "min     9527.000000            0 days 00:00:18\n",
       "25%    20416.250000     0 days 00:00:45.500000\n",
       "50%    38129.500000            0 days 00:02:10\n",
       "75%    53552.000000            0 days 00:05:40\n",
       "max    73111.000000            0 days 01:02:17"
      ]
     },
     "execution_count": 52,
     "metadata": {},
     "output_type": "execute_result"
    }
   ],
   "source": [
    "# Построим датафрейм для map - advert_open\n",
    "map_tips_show = time_df.query('event_name == \"map\" or event_name == \"advert_open\"').drop_duplicates(\n",
    "    ['event_name', 'user_id']).sort_values(by=['session_id', 'event_time'])\n",
    "\n",
    "# Посмотрим на распределение времени\n",
    "map_tips_show.groupby('session_id').agg(diff_time=('event_time', 'diff')).reset_index().describe()"
   ]
  },
  {
   "cell_type": "code",
   "execution_count": 53,
   "id": "918c30e1",
   "metadata": {},
   "outputs": [
    {
     "data": {
      "text/html": [
       "<div>\n",
       "<style scoped>\n",
       "    .dataframe tbody tr th:only-of-type {\n",
       "        vertical-align: middle;\n",
       "    }\n",
       "\n",
       "    .dataframe tbody tr th {\n",
       "        vertical-align: top;\n",
       "    }\n",
       "\n",
       "    .dataframe thead th {\n",
       "        text-align: right;\n",
       "    }\n",
       "</style>\n",
       "<table border=\"1\" class=\"dataframe\">\n",
       "  <thead>\n",
       "    <tr style=\"text-align: right;\">\n",
       "      <th></th>\n",
       "      <th>index</th>\n",
       "      <th>diff_time</th>\n",
       "    </tr>\n",
       "  </thead>\n",
       "  <tbody>\n",
       "    <tr>\n",
       "      <th>count</th>\n",
       "      <td>54.000000</td>\n",
       "      <td>27</td>\n",
       "    </tr>\n",
       "    <tr>\n",
       "      <th>mean</th>\n",
       "      <td>37480.629630</td>\n",
       "      <td>0 days 00:06:16</td>\n",
       "    </tr>\n",
       "    <tr>\n",
       "      <th>std</th>\n",
       "      <td>20093.516452</td>\n",
       "      <td>0 days 00:13:33.758800023</td>\n",
       "    </tr>\n",
       "    <tr>\n",
       "      <th>min</th>\n",
       "      <td>9527.000000</td>\n",
       "      <td>0 days 00:00:02</td>\n",
       "    </tr>\n",
       "    <tr>\n",
       "      <th>25%</th>\n",
       "      <td>20417.250000</td>\n",
       "      <td>0 days 00:00:10</td>\n",
       "    </tr>\n",
       "    <tr>\n",
       "      <th>50%</th>\n",
       "      <td>38127.000000</td>\n",
       "      <td>0 days 00:00:37</td>\n",
       "    </tr>\n",
       "    <tr>\n",
       "      <th>75%</th>\n",
       "      <td>53552.000000</td>\n",
       "      <td>0 days 00:02:32</td>\n",
       "    </tr>\n",
       "    <tr>\n",
       "      <th>max</th>\n",
       "      <td>73112.000000</td>\n",
       "      <td>0 days 00:55:47</td>\n",
       "    </tr>\n",
       "  </tbody>\n",
       "</table>\n",
       "</div>"
      ],
      "text/plain": [
       "              index                  diff_time\n",
       "count     54.000000                         27\n",
       "mean   37480.629630            0 days 00:06:16\n",
       "std    20093.516452  0 days 00:13:33.758800023\n",
       "min     9527.000000            0 days 00:00:02\n",
       "25%    20417.250000            0 days 00:00:10\n",
       "50%    38127.000000            0 days 00:00:37\n",
       "75%    53552.000000            0 days 00:02:32\n",
       "max    73112.000000            0 days 00:55:47"
      ]
     },
     "execution_count": 53,
     "metadata": {},
     "output_type": "execute_result"
    }
   ],
   "source": [
    "# Построим датафрейм для map - search\n",
    "map_tips_show = time_df.query('event_name == \"map\" or event_name == \"search\"').drop_duplicates(\n",
    "    ['event_name', 'user_id']).sort_values(by=['session_id', 'event_time'])\n",
    "\n",
    "# Посмотрим на распределение времени\n",
    "map_tips_show.groupby('session_id').agg(diff_time=('event_time', 'diff')).reset_index().describe()"
   ]
  },
  {
   "cell_type": "code",
   "execution_count": 54,
   "id": "5eaceba3",
   "metadata": {},
   "outputs": [
    {
     "data": {
      "text/html": [
       "<div>\n",
       "<style scoped>\n",
       "    .dataframe tbody tr th:only-of-type {\n",
       "        vertical-align: middle;\n",
       "    }\n",
       "\n",
       "    .dataframe tbody tr th {\n",
       "        vertical-align: top;\n",
       "    }\n",
       "\n",
       "    .dataframe thead th {\n",
       "        text-align: right;\n",
       "    }\n",
       "</style>\n",
       "<table border=\"1\" class=\"dataframe\">\n",
       "  <thead>\n",
       "    <tr style=\"text-align: right;\">\n",
       "      <th></th>\n",
       "      <th>index</th>\n",
       "      <th>diff_time</th>\n",
       "    </tr>\n",
       "  </thead>\n",
       "  <tbody>\n",
       "    <tr>\n",
       "      <th>count</th>\n",
       "      <td>54.000000</td>\n",
       "      <td>27</td>\n",
       "    </tr>\n",
       "    <tr>\n",
       "      <th>mean</th>\n",
       "      <td>37479.962963</td>\n",
       "      <td>0 days 00:10:33</td>\n",
       "    </tr>\n",
       "    <tr>\n",
       "      <th>std</th>\n",
       "      <td>20093.257720</td>\n",
       "      <td>0 days 00:22:56.020991566</td>\n",
       "    </tr>\n",
       "    <tr>\n",
       "      <th>min</th>\n",
       "      <td>9528.000000</td>\n",
       "      <td>0 days 00:00:27</td>\n",
       "    </tr>\n",
       "    <tr>\n",
       "      <th>25%</th>\n",
       "      <td>20393.750000</td>\n",
       "      <td>0 days 00:00:51.500000</td>\n",
       "    </tr>\n",
       "    <tr>\n",
       "      <th>50%</th>\n",
       "      <td>38127.500000</td>\n",
       "      <td>0 days 00:03:27</td>\n",
       "    </tr>\n",
       "    <tr>\n",
       "      <th>75%</th>\n",
       "      <td>53552.500000</td>\n",
       "      <td>0 days 00:09:06</td>\n",
       "    </tr>\n",
       "    <tr>\n",
       "      <th>max</th>\n",
       "      <td>73112.000000</td>\n",
       "      <td>0 days 01:58:04</td>\n",
       "    </tr>\n",
       "  </tbody>\n",
       "</table>\n",
       "</div>"
      ],
      "text/plain": [
       "              index                  diff_time\n",
       "count     54.000000                         27\n",
       "mean   37479.962963            0 days 00:10:33\n",
       "std    20093.257720  0 days 00:22:56.020991566\n",
       "min     9528.000000            0 days 00:00:27\n",
       "25%    20393.750000     0 days 00:00:51.500000\n",
       "50%    38127.500000            0 days 00:03:27\n",
       "75%    53552.500000            0 days 00:09:06\n",
       "max    73112.000000            0 days 01:58:04"
      ]
     },
     "execution_count": 54,
     "metadata": {},
     "output_type": "execute_result"
    }
   ],
   "source": [
    "# Построим датафрейм для search - advert_open\n",
    "map_tips_show = time_df.query('event_name == \"search\" or event_name == \"advert_open\"').drop_duplicates(\n",
    "    ['event_name', 'user_id']).sort_values(by=['session_id', 'event_time'])\n",
    "\n",
    "# Посмотрим на распределение времени\n",
    "map_tips_show.groupby('session_id').agg(diff_time=('event_time', 'diff')).reset_index().describe()"
   ]
  },
  {
   "cell_type": "code",
   "execution_count": 55,
   "id": "3c3223ea",
   "metadata": {},
   "outputs": [
    {
     "data": {
      "text/html": [
       "<div>\n",
       "<style scoped>\n",
       "    .dataframe tbody tr th:only-of-type {\n",
       "        vertical-align: middle;\n",
       "    }\n",
       "\n",
       "    .dataframe tbody tr th {\n",
       "        vertical-align: top;\n",
       "    }\n",
       "\n",
       "    .dataframe thead th {\n",
       "        text-align: right;\n",
       "    }\n",
       "</style>\n",
       "<table border=\"1\" class=\"dataframe\">\n",
       "  <thead>\n",
       "    <tr style=\"text-align: right;\">\n",
       "      <th></th>\n",
       "      <th>index</th>\n",
       "      <th>diff_time</th>\n",
       "    </tr>\n",
       "  </thead>\n",
       "  <tbody>\n",
       "    <tr>\n",
       "      <th>count</th>\n",
       "      <td>54.000000</td>\n",
       "      <td>27</td>\n",
       "    </tr>\n",
       "    <tr>\n",
       "      <th>mean</th>\n",
       "      <td>37478.240741</td>\n",
       "      <td>0 days 00:05:49.407407407</td>\n",
       "    </tr>\n",
       "    <tr>\n",
       "      <th>std</th>\n",
       "      <td>20092.800594</td>\n",
       "      <td>0 days 00:08:54.704681918</td>\n",
       "    </tr>\n",
       "    <tr>\n",
       "      <th>min</th>\n",
       "      <td>9523.000000</td>\n",
       "      <td>0 days 00:00:05</td>\n",
       "    </tr>\n",
       "    <tr>\n",
       "      <th>25%</th>\n",
       "      <td>20394.750000</td>\n",
       "      <td>0 days 00:00:14.500000</td>\n",
       "    </tr>\n",
       "    <tr>\n",
       "      <th>50%</th>\n",
       "      <td>38129.000000</td>\n",
       "      <td>0 days 00:02:16</td>\n",
       "    </tr>\n",
       "    <tr>\n",
       "      <th>75%</th>\n",
       "      <td>53555.250000</td>\n",
       "      <td>0 days 00:06:51.500000</td>\n",
       "    </tr>\n",
       "    <tr>\n",
       "      <th>max</th>\n",
       "      <td>73115.000000</td>\n",
       "      <td>0 days 00:33:12</td>\n",
       "    </tr>\n",
       "  </tbody>\n",
       "</table>\n",
       "</div>"
      ],
      "text/plain": [
       "              index                  diff_time\n",
       "count     54.000000                         27\n",
       "mean   37478.240741  0 days 00:05:49.407407407\n",
       "std    20092.800594  0 days 00:08:54.704681918\n",
       "min     9523.000000            0 days 00:00:05\n",
       "25%    20394.750000     0 days 00:00:14.500000\n",
       "50%    38129.000000            0 days 00:02:16\n",
       "75%    53555.250000     0 days 00:06:51.500000\n",
       "max    73115.000000            0 days 00:33:12"
      ]
     },
     "execution_count": 55,
     "metadata": {},
     "output_type": "execute_result"
    }
   ],
   "source": [
    "# Построим датафрейм для tips_show - advert_open\n",
    "map_tips_show = time_df.query('event_name == \"tips_show\" or event_name == \"advert_open\"').drop_duplicates(\n",
    "    ['event_name', 'user_id']).sort_values(by=['session_id', 'event_time'])\n",
    "\n",
    "# Посмотрим на распределение времени\n",
    "map_tips_show.groupby('session_id').agg(diff_time=('event_time', 'diff')).reset_index().describe()"
   ]
  },
  {
   "cell_type": "code",
   "execution_count": 56,
   "id": "e2e5e8a0",
   "metadata": {},
   "outputs": [
    {
     "data": {
      "text/html": [
       "<div>\n",
       "<style scoped>\n",
       "    .dataframe tbody tr th:only-of-type {\n",
       "        vertical-align: middle;\n",
       "    }\n",
       "\n",
       "    .dataframe tbody tr th {\n",
       "        vertical-align: top;\n",
       "    }\n",
       "\n",
       "    .dataframe thead th {\n",
       "        text-align: right;\n",
       "    }\n",
       "</style>\n",
       "<table border=\"1\" class=\"dataframe\">\n",
       "  <thead>\n",
       "    <tr style=\"text-align: right;\">\n",
       "      <th></th>\n",
       "      <th>index</th>\n",
       "      <th>diff_time</th>\n",
       "    </tr>\n",
       "  </thead>\n",
       "  <tbody>\n",
       "    <tr>\n",
       "      <th>count</th>\n",
       "      <td>54.000000</td>\n",
       "      <td>27</td>\n",
       "    </tr>\n",
       "    <tr>\n",
       "      <th>mean</th>\n",
       "      <td>37483.666667</td>\n",
       "      <td>0 days 00:12:38.037037037</td>\n",
       "    </tr>\n",
       "    <tr>\n",
       "      <th>std</th>\n",
       "      <td>20090.629775</td>\n",
       "      <td>0 days 00:16:04.935290037</td>\n",
       "    </tr>\n",
       "    <tr>\n",
       "      <th>min</th>\n",
       "      <td>9530.000000</td>\n",
       "      <td>0 days 00:00:21</td>\n",
       "    </tr>\n",
       "    <tr>\n",
       "      <th>25%</th>\n",
       "      <td>20438.000000</td>\n",
       "      <td>0 days 00:01:50</td>\n",
       "    </tr>\n",
       "    <tr>\n",
       "      <th>50%</th>\n",
       "      <td>38147.500000</td>\n",
       "      <td>0 days 00:05:32</td>\n",
       "    </tr>\n",
       "    <tr>\n",
       "      <th>75%</th>\n",
       "      <td>53557.500000</td>\n",
       "      <td>0 days 00:18:49.500000</td>\n",
       "    </tr>\n",
       "    <tr>\n",
       "      <th>max</th>\n",
       "      <td>73137.000000</td>\n",
       "      <td>0 days 01:10:51</td>\n",
       "    </tr>\n",
       "  </tbody>\n",
       "</table>\n",
       "</div>"
      ],
      "text/plain": [
       "              index                  diff_time\n",
       "count     54.000000                         27\n",
       "mean   37483.666667  0 days 00:12:38.037037037\n",
       "std    20090.629775  0 days 00:16:04.935290037\n",
       "min     9530.000000            0 days 00:00:21\n",
       "25%    20438.000000            0 days 00:01:50\n",
       "50%    38147.500000            0 days 00:05:32\n",
       "75%    53557.500000     0 days 00:18:49.500000\n",
       "max    73137.000000            0 days 01:10:51"
      ]
     },
     "execution_count": 56,
     "metadata": {},
     "output_type": "execute_result"
    }
   ],
   "source": [
    "# Построим датафрейм для advert_open - contacts_show\n",
    "map_tips_show = time_df.query('event_name == \"advert_open\" or event_name == \"contacts_show\"').drop_duplicates(\n",
    "    ['event_name', 'user_id']).sort_values(by=['session_id', 'event_time'])\n",
    "\n",
    "# Посмотрим на распределение времени\n",
    "map_tips_show.groupby('session_id').agg(diff_time=('event_time', 'diff')).reset_index().describe()"
   ]
  },
  {
   "cell_type": "markdown",
   "id": "c920c462",
   "metadata": {},
   "source": [
    "Медианное время по парам составило:\n",
    "- map - tips_show (2:35 секунд)\n",
    "- map - advert_open (2:11 секунд)\n",
    "- map - search (0:37 секунд)\n",
    "- search - advert_open (3:27 секунд)\n",
    "- tips_show - advert_open (2:16 секунд)\n",
    "- advert_open - contacts_show (5:32 секунды)\n",
    "\n",
    "Самые продолжительные действия - поиск и открытие карточки, открытие карточки и просмотр котактов.\n",
    "В среднем, пользователи задерживаюся дольше в самой карточке, чем на поиске подходящего товара. Это может говорить нам о том, что люди подробно изучают информацию и анализируют данные внутри карточки."
   ]
  },
  {
   "cell_type": "markdown",
   "id": "9525b8ef",
   "metadata": {},
   "source": [
    "##### Посмотрим, какие события влияют на конверсию в целевое действие"
   ]
  },
  {
   "cell_type": "markdown",
   "id": "456e862b",
   "metadata": {},
   "source": [
    "У нас есть следующие виды действий:\n",
    "\n",
    "- 'advert_open', \n",
    "- 'contacts_call',  \n",
    "- 'favorites_add',\n",
    "- 'map', \n",
    "- 'photos_show', \n",
    "- 'search', \n",
    "- 'tips_click',\n",
    "- 'tips_show'\n",
    "\n",
    "Исключим из этого списка 'contacts_call' т.к. это дейсвие идет после 'contacts_show'\n",
    "\n",
    "Посмотрим как эти дейсвия влияют на конверсию в 'contacts_show':"
   ]
  },
  {
   "cell_type": "code",
   "execution_count": 57,
   "id": "f3166b24",
   "metadata": {
    "scrolled": true
   },
   "outputs": [
    {
     "name": "stdout",
     "output_type": "stream",
     "text": [
      "Количество пользователей посмотревших фотографии: 1095\n",
      "Количество пользователей среди photo_users посмотревших контакты: 339\n",
      "Конверсия: 30.958904109589042%\n"
     ]
    }
   ],
   "source": [
    "# Посмотрим на конверсию из источника photo\n",
    "\n",
    "photo_users = df.query('event_name == \"photos_show\"')['user_id'].unique()\n",
    "print(f'Количество пользователей посмотревших фотографии: {len(photo_users)}')\n",
    "\n",
    "photo_contacts_users = (df.query('user_id in @photo_users')\n",
    "                                        .query('event_name == \"contacts_show\"')['user_id'].nunique())\n",
    "\n",
    "print(f'Количество пользователей среди photo_users посмотревших контакты: {photo_contacts_users}')\n",
    "print(f'Конверсия: {photo_contacts_users/len(photo_users)*100}%')"
   ]
  },
  {
   "cell_type": "code",
   "execution_count": 58,
   "id": "51b54f2a",
   "metadata": {},
   "outputs": [
    {
     "name": "stdout",
     "output_type": "stream",
     "text": [
      "Количество пользователей открывших объявление: 751\n",
      "Количество пользователей среди advert_open_contacts_users посмотревших контакты: 138\n",
      "Конверсия: 18.38%\n"
     ]
    }
   ],
   "source": [
    "# Посмотрим на конверсию из источника advert_open\n",
    "advert_open_users = df.query('event_name == \"advert_open\"')['user_id'].unique()\n",
    "print(f'Количество пользователей открывших объявление: {len(advert_open_users)}')\n",
    "\n",
    "advert_open_contacts_users = (df.query('user_id in @advert_open_users')\n",
    "                                        .query('event_name == \"contacts_show\"')['user_id'].nunique())\n",
    "\n",
    "print(f'Количество пользователей среди advert_open_contacts_users посмотревших контакты: {advert_open_contacts_users}')\n",
    "print(f'Конверсия: {round((advert_open_contacts_users/len(advert_open_users)*100), 2)}%')"
   ]
  },
  {
   "cell_type": "code",
   "execution_count": 59,
   "id": "0cc2114f",
   "metadata": {},
   "outputs": [
    {
     "name": "stdout",
     "output_type": "stream",
     "text": [
      "Количество пользователей добавивших в избранное: 351\n",
      "Количество пользователей среди favorites_add_users посмотревших контакты: 136\n",
      "Конверсия: 38.75%\n"
     ]
    }
   ],
   "source": [
    "# Посмотрим на конверсию из источника favorites_add\n",
    "favorites_add_users = df.query('event_name == \"favorites_add\"')['user_id'].unique()\n",
    "print(f'Количество пользователей добавивших в избранное: {len(favorites_add_users)}')\n",
    "\n",
    "favorites_add_contacts_users = (df.query('user_id in @favorites_add_users')\n",
    "                                        .query('event_name == \"contacts_show\"')['user_id'].nunique())\n",
    "\n",
    "print(f'Количество пользователей среди favorites_add_users посмотревших контакты: {favorites_add_contacts_users}')\n",
    "print(f'Конверсия: {round((favorites_add_contacts_users/len(favorites_add_users)*100), 2)}%')"
   ]
  },
  {
   "cell_type": "code",
   "execution_count": 60,
   "id": "00a77db5",
   "metadata": {},
   "outputs": [
    {
     "name": "stdout",
     "output_type": "stream",
     "text": [
      "Количество пользователей открывших карту действий: 1456\n",
      "Количество пользователей среди map_users посмотревших контакты: 289\n",
      "Конверсия: 19.85%\n"
     ]
    }
   ],
   "source": [
    "# Посмотрим на конверсию из источника map\n",
    "map_users = df.query('event_name == \"map\"')['user_id'].unique()\n",
    "print(f'Количество пользователей открывших карту действий: {len(map_users)}')\n",
    "\n",
    "map_contacts_users = (df.query('user_id in @map_users')\n",
    "                                        .query('event_name == \"contacts_show\"')['user_id'].nunique())\n",
    "\n",
    "print(f'Количество пользователей среди map_users посмотревших контакты: {map_contacts_users}')\n",
    "print(f'Конверсия: {round((map_contacts_users/len(map_users)*100), 2)}%')"
   ]
  },
  {
   "cell_type": "code",
   "execution_count": 61,
   "id": "c9ed6299",
   "metadata": {},
   "outputs": [
    {
     "name": "stdout",
     "output_type": "stream",
     "text": [
      "Количество пользователей совершивших поиск: 1666\n",
      "Количество пользователей среди search_users посмотревших контакты: 377\n",
      "Конверсия: 22.63%\n"
     ]
    }
   ],
   "source": [
    "# Посмотрим на конверсию из источника search\n",
    "search_users = df.query('event_name == \"search\"')['user_id'].unique()\n",
    "print(f'Количество пользователей совершивших поиск: {len(search_users)}')\n",
    "\n",
    "search_users_contacts_users = (df.query('user_id in @search_users')\n",
    "                                        .query('event_name == \"contacts_show\"')['user_id'].nunique())\n",
    "\n",
    "print(f'Количество пользователей среди search_users посмотревших контакты: {search_users_contacts_users}')\n",
    "print(f'Конверсия: {round((search_users_contacts_users/len(search_users)*100), 2)}%')"
   ]
  },
  {
   "cell_type": "code",
   "execution_count": 62,
   "id": "b45d4b18",
   "metadata": {},
   "outputs": [
    {
     "name": "stdout",
     "output_type": "stream",
     "text": [
      "Количество пользователей кликнувших по рекомендованному объявлению: 322\n",
      "Количество пользователей среди tips_click посмотревших контакты: 100\n",
      "Конверсия: 31.06%\n"
     ]
    }
   ],
   "source": [
    "# Посмотрим на конверсию из источника tips_click\n",
    "tips_click_users = df.query('event_name == \"tips_click\"')['user_id'].unique()\n",
    "print(f'Количество пользователей кликнувших по рекомендованному объявлению: {len(tips_click_users)}')\n",
    "\n",
    "tips_click_contacts_users = (df.query('user_id in @tips_click_users')\n",
    "                                        .query('event_name == \"contacts_show\"')['user_id'].nunique())\n",
    "\n",
    "print(f'Количество пользователей среди tips_click посмотревших контакты: {tips_click_contacts_users}')\n",
    "print(f'Конверсия: {round((tips_click_contacts_users/len(tips_click_users)*100), 2)}%')"
   ]
  },
  {
   "cell_type": "code",
   "execution_count": 63,
   "id": "c8cb4a1a",
   "metadata": {},
   "outputs": [
    {
     "name": "stdout",
     "output_type": "stream",
     "text": [
      "Количество пользователей увидевших рекомендованное объявление: 2801\n",
      "Количество пользователей среди tips_show посмотревших контакты: 516\n",
      "Конверсия: 18.42%\n"
     ]
    }
   ],
   "source": [
    "# Посмотрим на конверсию из источника tips_show\n",
    "tips_show_users = df.query('event_name == \"tips_show\"')['user_id'].unique()\n",
    "print(f'Количество пользователей увидевших рекомендованное объявление: {len(tips_show_users)}')\n",
    "\n",
    "tips_show_contacts_users = (df.query('user_id in @tips_show_users')\n",
    "                                        .query('event_name == \"contacts_show\"')['user_id'].nunique())\n",
    "\n",
    "print(f'Количество пользователей среди tips_show посмотревших контакты: {tips_show_contacts_users}')\n",
    "print(f'Конверсия: {round((tips_show_contacts_users/len(tips_show_users)*100), 2)}%')"
   ]
  },
  {
   "cell_type": "markdown",
   "id": "41be4b3d",
   "metadata": {},
   "source": [
    "Мы получили следующую конверсию в contacts_show по видам действий:\n",
    "- advert_open (18,38%), \n",
    "- favorites_add (38,75%),\n",
    "- map (19,85%), \n",
    "- photos_show (30,95%), \n",
    "- search (22,63%), \n",
    "- tips_click (31,06%),\n",
    "- tips_show (18,42%)\n",
    "\n",
    "Наилучший результат показало действие favorites_add. Скорее всего это дейсвие служит неким фильтром. Пользователи добавляют понравившееся объявление в избранное перед конечной сделкой.\n",
    "\n",
    "Следующим идет photos_show. Товар выбирают глазами, следовательно показ фото прямо влияет на конверсию. \n",
    "\n",
    "31% совершают целевое действие после нажатия на рекомендованное объявление. Рекомендации работают хорошо."
   ]
  },
  {
   "cell_type": "markdown",
   "id": "1a1b829f",
   "metadata": {},
   "source": [
    "#### 4. Проверка гипотез"
   ]
  },
  {
   "cell_type": "markdown",
   "id": "85fe1a12",
   "metadata": {},
   "source": [
    "##### Одни пользователи совершают действия tips_show и tips_click, другие — только tips_show. Проверим гипотезу: конверсия в просмотры контактов различается у этих двух групп"
   ]
  },
  {
   "cell_type": "markdown",
   "id": "7b497167",
   "metadata": {},
   "source": [
    "Проверим гипотеу о равенстве конверсии между группами пользователей, которые совершают действия tips_show и tips_click, и группой с tips_show.\n",
    "Сформулируем гипотезы:\n",
    "- H0: Конверсия в просмотры равна в обеих группах\n",
    "- H1: Конверсия в просмотры контактов различается у этих двух групп\n",
    "\n",
    "- alpha = 0.05"
   ]
  },
  {
   "cell_type": "code",
   "execution_count": 64,
   "id": "029a8db5",
   "metadata": {},
   "outputs": [],
   "source": [
    "# Зададим функцию для проверки гипотез\n",
    "\n",
    "def z_test(successes1, successes2, trials1, trials2, alpha=0.05):\n",
    "    p1 = successes1 / trials1\n",
    "    p2 = successes2 / trials2\n",
    "    \n",
    "    p_combined = (successes1 + successes2) / (trials1 + trials2)\n",
    "    difference = p1 - p2\n",
    "    \n",
    "    z_value = difference / mth.sqrt(p_combined * (1 - p_combined) * (1/trials1 + 1/trials2)) \n",
    "    distr = st.norm(0, 1)  \n",
    "    p_value = (1 - distr.cdf(abs(z_value))) * 2 \n",
    "    print('p-значение: {0:.10f}'.format(p_value))\n",
    " \n",
    "    if (p_value < alpha): \n",
    "        print('Отвергаем нулевую гипотезу, между выборками есть статистически значимые различия.')\n",
    "    else:\n",
    "        print('Не получилось отвергнуть нулевую гипотезу, статистически значимых различий в выборках нет.')"
   ]
  },
  {
   "cell_type": "code",
   "execution_count": 65,
   "id": "f7c4f1b8",
   "metadata": {
    "scrolled": true
   },
   "outputs": [
    {
     "data": {
      "text/plain": [
       "'Кол-во пересекающихся пользователей:'"
      ]
     },
     "metadata": {},
     "output_type": "display_data"
    },
    {
     "data": {
      "text/plain": [
       "297"
      ]
     },
     "metadata": {},
     "output_type": "display_data"
    }
   ],
   "source": [
    "# Найдем уникальные user_id для группы, совершающие действия tips_show\n",
    "show = df.query('event_name == \"tips_show\"')['user_id'].unique().tolist()\n",
    "\n",
    "# Найдем уникальные user_id для группы, совершающие действия tips_show и tips_click\n",
    "show_click = df.query('event_name == \"tips_click\" and user_id in @show')['user_id'].unique().tolist()\n",
    "\n",
    "# Посмотрим пересекаются ли пользователеи в данных группах\n",
    "display('Кол-во пересекающихся пользователей:', len(np.intersect1d(np.array(show), np.array(show_click))))"
   ]
  },
  {
   "cell_type": "markdown",
   "id": "67abfe2a",
   "metadata": {},
   "source": [
    "* t1, t2 - общее количество уникальных пользователей в группе \n",
    "* s1, s2 - количество уникальных пользователей которые совершили contacts_show\n",
    "\n",
    "Группа 1 (t1, s1): tips_show \n",
    "\n",
    "Группа 2 (t2, s2): tips_show и tips_click"
   ]
  },
  {
   "cell_type": "markdown",
   "id": "0abac8ba",
   "metadata": {},
   "source": [
    "Уберем пользователей группы tips_show из группы tips_show и tips_click, т.к. пользователи, совершившие действие tips_show повторяются во второй группе."
   ]
  },
  {
   "cell_type": "code",
   "execution_count": 66,
   "id": "cf4d755b",
   "metadata": {},
   "outputs": [
    {
     "name": "stdout",
     "output_type": "stream",
     "text": [
      "Кол-во уникальных пользователей в группе \"tips_show\": 2504\n",
      "Кол-во уникальных пользователей в группе \"ttips_show и tips_click\": 297\n",
      "Кол-во уникальных пользователей, совершивших целевое действие в группе \"tips_show\": 425\n",
      "Кол-во уникальных пользователей, совершивших целевое действие в группе \"tips_show и tips_click\": 91\n",
      "Конверсия для группы \"tips_show\": 16.97 %\n",
      "Конверсия для группы \"ttips_show и tips_click\": 30.64 %\n"
     ]
    }
   ],
   "source": [
    "# Создадим список с дубликатами\n",
    "duplicated = np.intersect1d(np.array(show), np.array(show_click))\n",
    "\n",
    "# Найдем уникальных пользователей для группы 1\n",
    "user_group_1 = df.query('user_id in @show and user_id not in @duplicated')\n",
    "t1 = user_group_1['user_id'].nunique()\n",
    "\n",
    "# Найдем уникальных пользователей для группы 2\n",
    "user_group_2 = df.query('user_id in @show_click')\n",
    "t2 = user_group_2['user_id'].nunique()\n",
    "\n",
    "# Найдем уникальных пользователей которые совершили contacts_show для группы 1\n",
    "s1 = user_group_1.query('event_name == \"contacts_show\"')['user_id'].nunique()\n",
    "\n",
    "# Найдем уникальных пользователей которые совершили contacts_show для группы 1\n",
    "s2 = user_group_2.query('event_name == \"contacts_show\"')['user_id'].nunique()\n",
    "\n",
    "print('Кол-во уникальных пользователей в группе \"tips_show\":', t1)\n",
    "print('Кол-во уникальных пользователей в группе \"ttips_show и tips_click\":', t2)\n",
    "print('Кол-во уникальных пользователей, совершивших целевое действие в группе \"tips_show\":', s1)\n",
    "print('Кол-во уникальных пользователей, совершивших целевое действие в группе \"tips_show и tips_click\":', s2)\n",
    "print('Конверсия для группы \"tips_show\":', round((s1 / t1 * 100), 2), '%')\n",
    "print('Конверсия для группы \"ttips_show и tips_click\":', round((s2 / t2 * 100), 2), '%')"
   ]
  },
  {
   "cell_type": "code",
   "execution_count": 67,
   "id": "6f26c77a",
   "metadata": {},
   "outputs": [
    {
     "name": "stdout",
     "output_type": "stream",
     "text": [
      "p-значение: 0.0000000092\n",
      "Отвергаем нулевую гипотезу, между выборками есть статистически значимые различия.\n"
     ]
    }
   ],
   "source": [
    "# Проверяем гипотезу\n",
    "z_test(s1, s2, t1, t2)"
   ]
  },
  {
   "cell_type": "markdown",
   "id": "cbb6a9b3",
   "metadata": {},
   "source": [
    "Мы видим значимое различие в целом по количеству пользователей и большую разницу конверсии в contacts_show. Группа \"tips_show и tips_click\" показала лучшую конверсию. Это обуславливается действием tips_click. После просмотра объявления пользователи проваливаются в карточку и интересуются выбранным товаром. Следовательно конверсия целевого действия выше."
   ]
  },
  {
   "cell_type": "markdown",
   "id": "7f274e0a",
   "metadata": {},
   "source": [
    "##### Пользователи устанавливают приложения из разных источников. Проверим гипотезу: источник установки приложения влияет на конверсию целевого действия contacts_show"
   ]
  },
  {
   "cell_type": "markdown",
   "id": "0808f77c",
   "metadata": {},
   "source": [
    "У нас есть 3 источника: Яндекс, Гугл и Другие. Проведем проверку для всех источников попарно.\n",
    "\n",
    "Сформулируем гипотезы:\n",
    "- H0: Конверсия в просмотры равна в обеих группах\n",
    "- H1: Конверсия в просмотры контактов различается у этих двух групп\n",
    "\n",
    "- alpha = 0.05"
   ]
  },
  {
   "cell_type": "code",
   "execution_count": 68,
   "id": "c42937fa",
   "metadata": {},
   "outputs": [
    {
     "data": {
      "text/plain": [
       "'Кол-во пересекающихся пользователей Яндекс и Гугл:'"
      ]
     },
     "metadata": {},
     "output_type": "display_data"
    },
    {
     "data": {
      "text/plain": [
       "0"
      ]
     },
     "metadata": {},
     "output_type": "display_data"
    },
    {
     "data": {
      "text/plain": [
       "'Кол-во пересекающихся пользователей Яндекс и Другие:'"
      ]
     },
     "metadata": {},
     "output_type": "display_data"
    },
    {
     "data": {
      "text/plain": [
       "0"
      ]
     },
     "metadata": {},
     "output_type": "display_data"
    },
    {
     "data": {
      "text/plain": [
       "'Кол-во пересекающихся пользователей Гугл и Другие:'"
      ]
     },
     "metadata": {},
     "output_type": "display_data"
    },
    {
     "data": {
      "text/plain": [
       "0"
      ]
     },
     "metadata": {},
     "output_type": "display_data"
    }
   ],
   "source": [
    "# Найдем уникальные user_id для источника \"Яндекс\"\n",
    "yandex = df.query('source == \"yandex\"')['user_id'].unique().tolist()\n",
    "\n",
    "# Найдем уникальные user_id для источника \"Гугл\"\n",
    "google = df.query('source == \"google\"')['user_id'].unique().tolist()\n",
    "\n",
    "# Найдем уникальные user_id для источника \"Другие\"\n",
    "other = df.query('source == \"other\"')['user_id'].unique().tolist()\n",
    "\n",
    "# Посмотрим пересекаются ли пользователеи в данных группах\n",
    "display('Кол-во пересекающихся пользователей Яндекс и Гугл:',\\\n",
    "        len(np.intersect1d(np.array(yandex), np.array(google))))\n",
    "\n",
    "display('Кол-во пересекающихся пользователей Яндекс и Другие:',\\\n",
    "        len(np.intersect1d(np.array(yandex), np.array(other))))\n",
    "\n",
    "display('Кол-во пересекающихся пользователей Гугл и Другие:',\\\n",
    "        len(np.intersect1d(np.array(google), np.array(other))))"
   ]
  },
  {
   "cell_type": "markdown",
   "id": "c92ea48a",
   "metadata": {},
   "source": [
    "Пересекающихся пользователей не обнаружено."
   ]
  },
  {
   "cell_type": "code",
   "execution_count": 69,
   "id": "fd913704",
   "metadata": {},
   "outputs": [
    {
     "name": "stdout",
     "output_type": "stream",
     "text": [
      "Кол-во уникальных пользователей с источника \"Яндекс\": 1934\n",
      "Кол-во уникальных пользователей с источника \"Гугл\": 1129\n",
      "Кол-во уникальных пользователей с источника \"Другие\": 1230\n",
      "Кол-во уникальных пользователей, совершивших целевое действие с источника \"Яндекс\":: 478\n",
      "Кол-во уникальных пользователей, совершивших целевое действие с источника \"Гугл\": 275\n",
      "Кол-во уникальных пользователей, совершивших целевое действие с источника \"Другие\": 275\n",
      "Конверсия для группы с источника \"Яндекс\": 24.72 %\n",
      "Конверсия для группы с источника \"Гугл\": 24.36 %\n",
      "Конверсия для группы с источника \"Другие\": 18.54 %\n"
     ]
    }
   ],
   "source": [
    "# Создадим список с дубликатами\n",
    "duplicated = np.intersect1d(np.array(yandex), np.array(other))\n",
    "\n",
    "# Найдем уникальных пользователей для группы \"Яндекс\"\n",
    "user_group_1 = df.query('user_id in @yandex')\n",
    "t1 = user_group_1['user_id'].nunique()\n",
    "\n",
    "# Найдем уникальных пользователей для группы \"Гугл\"\n",
    "user_group_2 = df.query('user_id in @google')\n",
    "t2 = user_group_2['user_id'].nunique()\n",
    "\n",
    "# Найдем уникальных пользователей для группы \"Другие\"\n",
    "user_group_3 = df.query('user_id in @other')\n",
    "t3 = user_group_3['user_id'].nunique()\n",
    "\n",
    "# Найдем уникальных пользователей которые совершили contacts_show для группы \"Яндекс\"\n",
    "s1 = user_group_1.query('event_name == \"contacts_show\"')['user_id'].nunique()\n",
    "\n",
    "# Найдем уникальных пользователей которые совершили contacts_show для группы \"Гугл\"\n",
    "s2 = user_group_2.query('event_name == \"contacts_show\"')['user_id'].nunique()\n",
    "\n",
    "# Найдем уникальных пользователей которые совершили contacts_show для группы \"Гугл\"\n",
    "s3 = user_group_3.query('event_name == \"contacts_show\"')['user_id'].nunique()\n",
    "\n",
    "print('Кол-во уникальных пользователей с источника \"Яндекс\":', t1)\n",
    "print('Кол-во уникальных пользователей с источника \"Гугл\":', t2)\n",
    "print('Кол-во уникальных пользователей с источника \"Другие\":', t3)\n",
    "print('Кол-во уникальных пользователей, совершивших целевое действие с источника \"Яндекс\"::', s1)\n",
    "print('Кол-во уникальных пользователей, совершивших целевое действие с источника \"Гугл\":', s2)\n",
    "print('Кол-во уникальных пользователей, совершивших целевое действие с источника \"Другие\":', s2)\n",
    "print('Конверсия для группы с источника \"Яндекс\":', round((s1 / t1 * 100), 2), '%')\n",
    "print('Конверсия для группы с источника \"Гугл\":', round((s2 / t2 * 100), 2), '%')\n",
    "print('Конверсия для группы с источника \"Другие\":', round((s3 / t3 * 100), 2), '%')"
   ]
  },
  {
   "cell_type": "code",
   "execution_count": 70,
   "id": "8ef982a8",
   "metadata": {},
   "outputs": [
    {
     "name": "stdout",
     "output_type": "stream",
     "text": [
      "p-значение: 0.8244316028\n",
      "Не получилось отвергнуть нулевую гипотезу, статистически значимых различий в выборках нет.\n"
     ]
    }
   ],
   "source": [
    "# Проверяем гипотезу для каналов \"Яндекс\" и \"Гугл\"\n",
    "z_test(s1, s2, t1, t2)"
   ]
  },
  {
   "cell_type": "code",
   "execution_count": 71,
   "id": "63e9b41a",
   "metadata": {},
   "outputs": [
    {
     "name": "stdout",
     "output_type": "stream",
     "text": [
      "p-значение: 0.0000471426\n",
      "Отвергаем нулевую гипотезу, между выборками есть статистически значимые различия.\n"
     ]
    }
   ],
   "source": [
    "# Проверяем гипотезу для каналов \"Яндекс\" и \"Другие\"\n",
    "z_test(s1, s3, t1, t3)"
   ]
  },
  {
   "cell_type": "code",
   "execution_count": 72,
   "id": "14312c65",
   "metadata": {},
   "outputs": [
    {
     "name": "stdout",
     "output_type": "stream",
     "text": [
      "p-значение: 0.0005640942\n",
      "Отвергаем нулевую гипотезу, между выборками есть статистически значимые различия.\n"
     ]
    }
   ],
   "source": [
    "# Проверяем гипотезу для каналов \"Яндекс\" и \"Другие\"\n",
    "z_test(s2, s3, t2, t3)"
   ]
  },
  {
   "cell_type": "markdown",
   "id": "349a4015",
   "metadata": {},
   "source": [
    "Яндекс и Гугл показали хорошие показатели конверсии 24,72% и 24,36% соответсвенно. Канал Другие - 18,54%. Данная разница напрямую сказалась на статистической значимости. Яндекс и Гугл - популярные корпорации с большой историей и \"Именем\" на рынке. Люди доверяют данным сервисам больше при установке приложений, что доказал проводимый эксперимент. Как итог - выбор канала привлечения играет значимую роль на установку приложения, что в последствии влияет на конверсию в целевое действие. "
   ]
  },
  {
   "cell_type": "markdown",
   "id": "409b36b8",
   "metadata": {},
   "source": [
    "#### 5. Общий вывод"
   ]
  },
  {
   "cell_type": "markdown",
   "id": "820ff680",
   "metadata": {},
   "source": [
    "**Выводы по ходу исследования:**\n",
    "\n",
    "- В датасете 4 293 уникальных пользователя\n",
    "- 3 основных канала привлечения пользователей: Яндекс, Гугл и Другие. Почти половина всех пользователей установило приложение из Яндекса (45,1 %), далее следует источник other (28,7 %), затем google (26,3 %).\n",
    "- Минимальная дата исследования: 2019-10-07 00:00:00, Максимальная дата исследования: 2019-11-03 23:58:13\n",
    "- Распределение видов дейсвий по колличеству:\n",
    "  - Больше всего показов занимает событие: рекомендованное объявление\n",
    "  - Просмотры фото происходят чаще чем открытие карточки объявления\n",
    "  - Самое нераспространенное действие - звонок по объявлению\n",
    "- Распределение видов дейсвий по уникальным пользователям:\n",
    "  - tips_show является лидером. Показы рекомендаций работают хорошо\n",
    "  - 2 и 3 место занимают поиск и карта объявлений. Можно сделать вывод, что большинство пользователей не уходит дальше первых двух шагов\n",
    "  - contacts_show совершают 22,85% пользователей. Важно отметить, что данное событие совершает больший процент людей, чем событие advert_open. Скорее всего пользователи смотрят контакты, не проваливаясь в объявление\n",
    "- Всего в датасете 10 368 уникальных сессий\n",
    "  - В среднем на пользователя приходится от 1 до 3 сессий. Половина пользователей использовала приложение только 1 раз за исследуемый период. Более 6 сессий можно считать выбросами, исходя из графика распределения.\n",
    "  - В среднем, пользователи совершают от 2 до 8 действий в сессии. Более 16 действий можно считать выбросами.\n",
    "  - Средняя продолжительность сессии составляет от 21 секунды до 17 минут. Середина - 5,5 минуты.\n",
    "  \n",
    "*Основные сценарии использования приложения* \n",
    "\n",
    "Важно учесть, на смартфонах приложение не закрывается полностью, а сворачивается, поэтому пользователи, с началом новой сессии, могут начать пользоваться приложением с последнего момента, на котором они остановились.\n",
    "Стандартное использование приложения начинается с открытия карты. Обязательное условие - наличие действия открытия карточки, т.к. информация о контактах обычно храниться внутри карточки. Посмотрим, какие сценария использования, приводящие к целевому действию contacts_show, возможны:\n",
    "  - map - search - advert_open - contacts_show (1 ый сценарий)\n",
    "  - map - advert_open - contacts_show (2 ой сценарий)\n",
    "  - map - tips_show - advert_open - contacts_show (3 ий сценарий)\n",
    "\n",
    "* 1 сценарий:\n",
    "    * конверсия в целевое действие 2,6 % от общего\n",
    "    * предшествующие события - map - search - advert_open\n",
    "* 2 сценарий:\n",
    "    * конверсия в целевое действие 2,7 % от общего\n",
    "    * предшествующие события - map - advert_open\n",
    "* 3 сценарий:\n",
    "    * конверсия в целевое действие 1,6 % от общего\n",
    "    * предшествующие события - map - tips_show - advert_open\n",
    "\n",
    "В целом не самые сильные показатели конверсии. Скорее всего они обусловлены тем, что в карточке объявления находиться дополнительная информация, которую просматривают пользователи. Пользователи выбирают товар, поэтому, даже если он им понравился, они могут выбирать дальше из имеющихся предложений. Рекомендованные объявления хорошо себя показали на карте объявлений. Так же можно выделить слабую конверсию с карты в поиск. Можно предположить, что пользователи выбирают из предлагаемых карточек товара.\n",
    "\n",
    "- Медианное время по парам дейсвий составило:\n",
    "* map - tips_show (2:35 секунд)\n",
    "* map - advert_open (2:11 секунд)\n",
    "* map - search (0:37 секунд)\n",
    "* search - advert_open (3:27 секунд)\n",
    "* tips_show - advert_open (2:16 секунд)\n",
    "* advert_open - contacts_show (5:32 секунды)\n",
    "\n",
    "Самые продолжительные действия - поиск и открытие карточки, открытие карточки и просмотр котактов. В среднем, пользователи задерживаюся дольше в самой карточке, чем на поиске подходящего товара. Это может говорить нам о том, что люди подробно изучают информацию и анализируют данные внутри карточки.\n",
    "\n",
    "Мы получили слудующую конверсию в contacts_show по видам действий:\n",
    "- advert_open (18,38%), \n",
    "- favorites_add (38,75%),\n",
    "- map (19,85%), \n",
    "- photos_show (30,95%), \n",
    "- search (22,63%), \n",
    "- tips_click (31,06%),\n",
    "- tips_show (18,42%)\n",
    "\n",
    "Наилучший результат показало действие favorites_add. Скорее всего это дейсвие служит неким фильтром. Пользователи добавляют понравившееся объявление в избранное перед конечной сделкой.\n",
    "\n",
    "Следующим идет photos_show. Товар выбирают глазами, следовательно показ фото прямо влияет на конверсию. \n",
    "\n",
    "31% совершают целевое действие после нажатия на рекомендованное объявление. Рекомендации работают хорошо.\n",
    "\n",
    "*Проверка гипотиз*\n",
    "\n",
    "- Мы видим значимое различие в целом по количеству пользователей и большую разницу конверсии в contacts_show. Группа \"tips_show и tips_click\" показала лучшую конверсию. Это обуславливается действием tips_click. После просмотра объявления пользователи проваливаются в карточку и интересуются выбранным товаром. Следовательно конверсия целевого действия выше.\n",
    "- Яндекс и Гугл показали хорошие показатели конверсии 24,72% и 24,36% соответсвенно. Канал Другие - 18,54%. Данная разница напрямую сказалась на статистической значимости. Яндекс и Гугл - популярные корпорации с большой историей и \"Именем\" на рынке. Люди доверяют данным сервисам больше при установке приложений, что доказал проводимый эксперимент. Как итог - выбор канала привлечения играет значимую роль на установку приложения, что в последствии влияет на конверсию в целевое действие.\n",
    "--- "
   ]
  },
  {
   "cell_type": "markdown",
   "id": "27ea3ebd",
   "metadata": {},
   "source": [
    "**Рекомендации для бизнеса:**\n",
    "\n",
    "- Для достоверной аналитики поведения пользователей следует создать таймаут сессии. После окончания заданного промежутка времени отсутствия активности пользователя, приложение должно автоматически сбрасываться на начальный экран. Таким образом, можно будет задать отправную точку начала сессии (например: открытие карты объявлений) и строить дальнейший анализ поведения пользователя. На данный момент мы можем иметь сильную погрешность в действиях, что не желательно для принятия ключевых решений развития приложения.\n",
    "- Выявлен слабый переход от показа рекомендованного объявления до клика на это объявление. Стоит уделить большее внимание к оформлению и вовлечению пользователя в карточку продукта. Возможен вариант добавления дополнительной информации в предпоказ карточки, для усиленного вовлечения пользователя. Внутри карточки, так же, стоит уделить внимание оформлению целевого действия, для дополнительного вовлечения. Хорошей идеей – будет добавления чата для связи с покупателем, т.к. звонок подходит далеко не всем. Покупателям будет полезно узнать дополнительную информацию о продукте и задать дополнительные вопросы о продукте. Это так же повлияет на конверсию в целевое действие, т.к. монетизация завязана на продвижение объявления. Звонки и чат прямо показывают продавцу о том, что его продажа идет интенсивнее и люди начинают больше интересоваться данным объявлением. \n",
    "-  Показы рекомендаций работают хорошо. Сильнее всего это проявляется при просмотре карты объявления. При формировании маркетинговой стратегии, важно учитывать источник привлечения пользователя, т.к. это прямо влияет на качество пользователей. Возможно следует сократить долю малоизвестных источников привлечения в пользу известных компаний."
   ]
  }
 ],
 "metadata": {
  "ExecuteTimeLog": [
   {
    "duration": 1237,
    "start_time": "2023-03-04T07:11:48.062Z"
   },
   {
    "duration": 231,
    "start_time": "2023-03-04T07:11:49.301Z"
   },
   {
    "duration": 28,
    "start_time": "2023-03-04T07:11:49.537Z"
   },
   {
    "duration": 95,
    "start_time": "2023-03-04T07:11:49.567Z"
   },
   {
    "duration": 14,
    "start_time": "2023-03-04T07:11:49.664Z"
   },
   {
    "duration": 21,
    "start_time": "2023-03-04T07:11:49.680Z"
   },
   {
    "duration": 41,
    "start_time": "2023-03-04T07:11:49.703Z"
   },
   {
    "duration": 4,
    "start_time": "2023-03-04T07:11:49.748Z"
   },
   {
    "duration": 19,
    "start_time": "2023-03-04T07:11:49.755Z"
   },
   {
    "duration": 21,
    "start_time": "2023-03-04T07:11:49.776Z"
   },
   {
    "duration": 74,
    "start_time": "2023-03-04T07:11:49.799Z"
   },
   {
    "duration": 5,
    "start_time": "2023-03-04T07:11:49.875Z"
   },
   {
    "duration": 75,
    "start_time": "2023-03-04T07:11:49.882Z"
   },
   {
    "duration": 109,
    "start_time": "2023-03-04T07:11:49.959Z"
   },
   {
    "duration": 20,
    "start_time": "2023-03-04T07:11:50.070Z"
   },
   {
    "duration": 14,
    "start_time": "2023-03-04T07:11:50.092Z"
   },
   {
    "duration": 260,
    "start_time": "2023-03-04T07:11:50.108Z"
   },
   {
    "duration": 4,
    "start_time": "2023-03-04T07:11:50.370Z"
   },
   {
    "duration": 422,
    "start_time": "2023-03-04T07:11:50.376Z"
   },
   {
    "duration": 23,
    "start_time": "2023-03-04T07:11:50.799Z"
   },
   {
    "duration": 25,
    "start_time": "2023-03-04T07:11:50.823Z"
   },
   {
    "duration": 36,
    "start_time": "2023-03-04T07:11:50.850Z"
   },
   {
    "duration": 245,
    "start_time": "2023-03-04T07:11:50.888Z"
   },
   {
    "duration": 227,
    "start_time": "2023-03-04T07:11:51.135Z"
   },
   {
    "duration": 938,
    "start_time": "2023-03-04T07:11:51.365Z"
   },
   {
    "duration": 5,
    "start_time": "2023-03-04T07:11:52.305Z"
   },
   {
    "duration": 38,
    "start_time": "2023-03-04T07:11:52.313Z"
   },
   {
    "duration": 13,
    "start_time": "2023-03-04T07:11:52.352Z"
   },
   {
    "duration": 126,
    "start_time": "2023-03-04T07:11:52.366Z"
   },
   {
    "duration": 16,
    "start_time": "2023-03-04T07:11:52.494Z"
   },
   {
    "duration": 8,
    "start_time": "2023-03-04T07:11:52.511Z"
   },
   {
    "duration": 142,
    "start_time": "2023-03-04T07:11:52.521Z"
   },
   {
    "duration": 21,
    "start_time": "2023-03-04T07:11:52.665Z"
   },
   {
    "duration": 2108,
    "start_time": "2023-03-04T07:11:52.688Z"
   },
   {
    "duration": 18,
    "start_time": "2023-03-04T07:11:54.798Z"
   },
   {
    "duration": 36,
    "start_time": "2023-03-04T07:11:54.817Z"
   },
   {
    "duration": 6,
    "start_time": "2023-03-04T07:11:54.855Z"
   },
   {
    "duration": 6,
    "start_time": "2023-03-04T07:11:54.863Z"
   },
   {
    "duration": 10,
    "start_time": "2023-03-04T07:11:54.870Z"
   },
   {
    "duration": 6,
    "start_time": "2023-03-04T07:11:54.881Z"
   },
   {
    "duration": 7,
    "start_time": "2023-03-04T07:11:54.888Z"
   },
   {
    "duration": 501,
    "start_time": "2023-03-04T07:11:54.896Z"
   },
   {
    "duration": 31,
    "start_time": "2023-03-04T07:11:55.399Z"
   },
   {
    "duration": 438,
    "start_time": "2023-03-04T07:11:55.431Z"
   },
   {
    "duration": 2,
    "start_time": "2023-03-04T07:11:55.870Z"
   },
   {
    "duration": 11,
    "start_time": "2023-03-04T07:11:55.874Z"
   },
   {
    "duration": 76,
    "start_time": "2023-03-04T07:11:55.886Z"
   },
   {
    "duration": 24,
    "start_time": "2023-03-04T07:11:55.964Z"
   },
   {
    "duration": 87,
    "start_time": "2023-03-04T07:11:55.990Z"
   },
   {
    "duration": 27,
    "start_time": "2023-03-04T07:11:56.079Z"
   },
   {
    "duration": 57,
    "start_time": "2023-03-04T07:11:56.108Z"
   },
   {
    "duration": 33,
    "start_time": "2023-03-04T07:11:56.166Z"
   },
   {
    "duration": 55,
    "start_time": "2023-03-04T07:11:56.200Z"
   },
   {
    "duration": 32,
    "start_time": "2023-03-04T07:11:56.256Z"
   },
   {
    "duration": 60,
    "start_time": "2023-03-04T07:11:56.289Z"
   },
   {
    "duration": 40,
    "start_time": "2023-03-04T07:11:56.351Z"
   },
   {
    "duration": 8,
    "start_time": "2023-03-04T07:11:56.393Z"
   },
   {
    "duration": 48,
    "start_time": "2023-03-04T07:11:56.403Z"
   },
   {
    "duration": 46,
    "start_time": "2023-03-04T07:11:56.453Z"
   },
   {
    "duration": 5,
    "start_time": "2023-03-04T07:11:56.501Z"
   },
   {
    "duration": 70,
    "start_time": "2023-03-04T07:11:56.508Z"
   },
   {
    "duration": 68,
    "start_time": "2023-03-04T07:11:56.581Z"
   },
   {
    "duration": 5,
    "start_time": "2023-03-04T07:11:56.651Z"
   },
   {
    "duration": 6,
    "start_time": "2023-03-04T07:11:56.657Z"
   },
   {
    "duration": 7,
    "start_time": "2023-03-04T07:11:56.664Z"
   },
   {
    "duration": 57,
    "start_time": "2023-03-05T03:32:45.752Z"
   },
   {
    "duration": 1279,
    "start_time": "2023-03-05T03:32:57.922Z"
   },
   {
    "duration": 428,
    "start_time": "2023-03-05T03:32:59.203Z"
   },
   {
    "duration": 25,
    "start_time": "2023-03-05T03:32:59.633Z"
   },
   {
    "duration": 14,
    "start_time": "2023-03-05T03:32:59.659Z"
   },
   {
    "duration": 14,
    "start_time": "2023-03-05T03:32:59.674Z"
   },
   {
    "duration": 6,
    "start_time": "2023-03-05T03:32:59.690Z"
   },
   {
    "duration": 30,
    "start_time": "2023-03-05T03:32:59.698Z"
   },
   {
    "duration": 6,
    "start_time": "2023-03-05T03:32:59.729Z"
   },
   {
    "duration": 11,
    "start_time": "2023-03-05T03:32:59.736Z"
   },
   {
    "duration": 10,
    "start_time": "2023-03-05T03:32:59.750Z"
   },
   {
    "duration": 91,
    "start_time": "2023-03-05T03:32:59.761Z"
   },
   {
    "duration": 5,
    "start_time": "2023-03-05T03:32:59.854Z"
   },
   {
    "duration": 58,
    "start_time": "2023-03-05T03:32:59.861Z"
   },
   {
    "duration": 99,
    "start_time": "2023-03-05T03:32:59.921Z"
   },
   {
    "duration": 18,
    "start_time": "2023-03-05T03:33:00.022Z"
   },
   {
    "duration": 15,
    "start_time": "2023-03-05T03:33:00.042Z"
   },
   {
    "duration": 130,
    "start_time": "2023-03-05T03:33:04.777Z"
   },
   {
    "duration": 140,
    "start_time": "2023-03-05T03:33:15.373Z"
   },
   {
    "duration": 5,
    "start_time": "2023-03-05T03:33:54.412Z"
   },
   {
    "duration": 348,
    "start_time": "2023-03-05T03:33:54.916Z"
   },
   {
    "duration": 19,
    "start_time": "2023-03-05T03:33:58.278Z"
   },
   {
    "duration": 9,
    "start_time": "2023-03-05T03:35:24.203Z"
   },
   {
    "duration": 48,
    "start_time": "2023-03-05T03:37:15.805Z"
   },
   {
    "duration": 201,
    "start_time": "2023-03-05T03:38:36.922Z"
   },
   {
    "duration": 209,
    "start_time": "2023-03-05T03:41:44.584Z"
   },
   {
    "duration": 846,
    "start_time": "2023-03-05T03:46:17.297Z"
   },
   {
    "duration": 5,
    "start_time": "2023-03-05T03:46:20.931Z"
   },
   {
    "duration": 20,
    "start_time": "2023-03-05T03:46:21.897Z"
   },
   {
    "duration": 15,
    "start_time": "2023-03-05T03:46:22.241Z"
   },
   {
    "duration": 108,
    "start_time": "2023-03-05T03:46:24.893Z"
   },
   {
    "duration": 17,
    "start_time": "2023-03-05T03:46:27.792Z"
   },
   {
    "duration": 11,
    "start_time": "2023-03-05T03:46:28.048Z"
   },
   {
    "duration": 114,
    "start_time": "2023-03-05T03:46:28.328Z"
   },
   {
    "duration": 23,
    "start_time": "2023-03-05T03:46:46.974Z"
   },
   {
    "duration": 2048,
    "start_time": "2023-03-05T03:46:47.633Z"
   },
   {
    "duration": 19,
    "start_time": "2023-03-05T03:46:55.981Z"
   },
   {
    "duration": 18,
    "start_time": "2023-03-05T03:51:22.101Z"
   },
   {
    "duration": 6,
    "start_time": "2023-03-05T03:55:10.005Z"
   },
   {
    "duration": 1213,
    "start_time": "2023-03-05T03:55:10.652Z"
   },
   {
    "duration": 24,
    "start_time": "2023-03-05T03:55:21.168Z"
   },
   {
    "duration": 7,
    "start_time": "2023-03-05T03:55:22.587Z"
   },
   {
    "duration": 5,
    "start_time": "2023-03-05T03:55:23.625Z"
   },
   {
    "duration": 9,
    "start_time": "2023-03-05T03:55:26.801Z"
   },
   {
    "duration": 5,
    "start_time": "2023-03-05T03:55:27.159Z"
   },
   {
    "duration": 4,
    "start_time": "2023-03-05T03:55:27.952Z"
   },
   {
    "duration": 434,
    "start_time": "2023-03-05T03:55:28.423Z"
   },
   {
    "duration": 92,
    "start_time": "2023-03-05T03:55:31.601Z"
   },
   {
    "duration": 155,
    "start_time": "2023-03-05T03:55:31.964Z"
   },
   {
    "duration": 3,
    "start_time": "2023-03-05T04:01:47.640Z"
   },
   {
    "duration": 6,
    "start_time": "2023-03-05T04:01:48.145Z"
   },
   {
    "duration": 34,
    "start_time": "2023-03-05T04:01:50.530Z"
   },
   {
    "duration": 25,
    "start_time": "2023-03-05T04:01:55.456Z"
   },
   {
    "duration": 35,
    "start_time": "2023-03-05T04:01:55.482Z"
   },
   {
    "duration": 25,
    "start_time": "2023-03-05T04:02:02.753Z"
   },
   {
    "duration": 36,
    "start_time": "2023-03-05T04:02:02.989Z"
   },
   {
    "duration": 29,
    "start_time": "2023-03-05T04:02:03.297Z"
   },
   {
    "duration": 28,
    "start_time": "2023-03-05T04:02:03.703Z"
   },
   {
    "duration": 30,
    "start_time": "2023-03-05T04:02:03.989Z"
   },
   {
    "duration": 30,
    "start_time": "2023-03-05T04:02:04.318Z"
   },
   {
    "duration": 28,
    "start_time": "2023-03-05T04:02:04.611Z"
   },
   {
    "duration": 11,
    "start_time": "2023-03-05T04:21:05.438Z"
   },
   {
    "duration": 9,
    "start_time": "2023-03-05T04:21:42.391Z"
   },
   {
    "duration": 10,
    "start_time": "2023-03-05T04:23:03.392Z"
   },
   {
    "duration": 14,
    "start_time": "2023-03-05T04:23:45.185Z"
   },
   {
    "duration": 15,
    "start_time": "2023-03-05T04:24:05.919Z"
   },
   {
    "duration": 9,
    "start_time": "2023-03-05T04:25:48.853Z"
   },
   {
    "duration": 9,
    "start_time": "2023-03-05T04:25:53.657Z"
   },
   {
    "duration": 13,
    "start_time": "2023-03-05T04:26:18.124Z"
   },
   {
    "duration": 14,
    "start_time": "2023-03-05T04:26:27.750Z"
   },
   {
    "duration": 15,
    "start_time": "2023-03-05T04:27:04.313Z"
   },
   {
    "duration": 14,
    "start_time": "2023-03-05T04:27:09.277Z"
   },
   {
    "duration": 30,
    "start_time": "2023-03-05T04:30:18.451Z"
   },
   {
    "duration": 12,
    "start_time": "2023-03-05T04:31:09.047Z"
   },
   {
    "duration": 16,
    "start_time": "2023-03-05T04:31:44.912Z"
   },
   {
    "duration": 12,
    "start_time": "2023-03-05T04:32:26.787Z"
   },
   {
    "duration": 21,
    "start_time": "2023-03-05T04:42:49.509Z"
   },
   {
    "duration": 1208,
    "start_time": "2023-03-05T04:58:52.795Z"
   },
   {
    "duration": 346,
    "start_time": "2023-03-05T04:58:54.005Z"
   },
   {
    "duration": 35,
    "start_time": "2023-03-05T04:58:54.353Z"
   },
   {
    "duration": 12,
    "start_time": "2023-03-05T04:58:54.390Z"
   },
   {
    "duration": 13,
    "start_time": "2023-03-05T04:58:54.404Z"
   },
   {
    "duration": 16,
    "start_time": "2023-03-05T04:58:54.418Z"
   },
   {
    "duration": 34,
    "start_time": "2023-03-05T04:58:54.436Z"
   },
   {
    "duration": 19,
    "start_time": "2023-03-05T04:58:54.472Z"
   },
   {
    "duration": 9,
    "start_time": "2023-03-05T04:58:54.493Z"
   },
   {
    "duration": 8,
    "start_time": "2023-03-05T04:58:54.504Z"
   },
   {
    "duration": 78,
    "start_time": "2023-03-05T04:58:54.514Z"
   },
   {
    "duration": 4,
    "start_time": "2023-03-05T04:58:54.593Z"
   },
   {
    "duration": 41,
    "start_time": "2023-03-05T04:58:54.599Z"
   },
   {
    "duration": 115,
    "start_time": "2023-03-05T04:58:54.644Z"
   },
   {
    "duration": 19,
    "start_time": "2023-03-05T04:58:54.760Z"
   },
   {
    "duration": 22,
    "start_time": "2023-03-05T04:58:54.780Z"
   },
   {
    "duration": 154,
    "start_time": "2023-03-05T04:58:54.804Z"
   },
   {
    "duration": 4,
    "start_time": "2023-03-05T04:58:54.960Z"
   },
   {
    "duration": 368,
    "start_time": "2023-03-05T04:58:54.966Z"
   },
   {
    "duration": 32,
    "start_time": "2023-03-05T04:58:55.336Z"
   },
   {
    "duration": 24,
    "start_time": "2023-03-05T04:58:55.369Z"
   },
   {
    "duration": 37,
    "start_time": "2023-03-05T04:58:55.395Z"
   },
   {
    "duration": 221,
    "start_time": "2023-03-05T04:58:55.434Z"
   },
   {
    "duration": 226,
    "start_time": "2023-03-05T04:58:55.657Z"
   },
   {
    "duration": 962,
    "start_time": "2023-03-05T04:58:55.885Z"
   },
   {
    "duration": 6,
    "start_time": "2023-03-05T04:58:56.848Z"
   },
   {
    "duration": 36,
    "start_time": "2023-03-05T04:58:56.855Z"
   },
   {
    "duration": 13,
    "start_time": "2023-03-05T04:58:56.893Z"
   },
   {
    "duration": 123,
    "start_time": "2023-03-05T04:58:56.908Z"
   },
   {
    "duration": 16,
    "start_time": "2023-03-05T04:58:57.033Z"
   },
   {
    "duration": 10,
    "start_time": "2023-03-05T04:58:57.051Z"
   },
   {
    "duration": 138,
    "start_time": "2023-03-05T04:58:57.062Z"
   },
   {
    "duration": 22,
    "start_time": "2023-03-05T04:58:57.201Z"
   },
   {
    "duration": 1985,
    "start_time": "2023-03-05T04:58:57.225Z"
   },
   {
    "duration": 17,
    "start_time": "2023-03-05T04:58:59.212Z"
   },
   {
    "duration": 24,
    "start_time": "2023-03-05T04:58:59.230Z"
   },
   {
    "duration": 5,
    "start_time": "2023-03-05T04:58:59.256Z"
   },
   {
    "duration": 28,
    "start_time": "2023-03-05T04:58:59.263Z"
   },
   {
    "duration": 9,
    "start_time": "2023-03-05T04:58:59.293Z"
   },
   {
    "duration": 5,
    "start_time": "2023-03-05T04:58:59.303Z"
   },
   {
    "duration": 5,
    "start_time": "2023-03-05T04:58:59.312Z"
   },
   {
    "duration": 483,
    "start_time": "2023-03-05T04:58:59.319Z"
   },
   {
    "duration": 32,
    "start_time": "2023-03-05T04:58:59.803Z"
   },
   {
    "duration": 175,
    "start_time": "2023-03-05T04:58:59.837Z"
   },
   {
    "duration": 3,
    "start_time": "2023-03-05T04:59:00.013Z"
   },
   {
    "duration": 14,
    "start_time": "2023-03-05T04:59:00.017Z"
   },
   {
    "duration": 70,
    "start_time": "2023-03-05T04:59:00.032Z"
   },
   {
    "duration": 25,
    "start_time": "2023-03-05T04:59:00.103Z"
   },
   {
    "duration": 81,
    "start_time": "2023-03-05T04:59:00.129Z"
   },
   {
    "duration": 26,
    "start_time": "2023-03-05T04:59:00.212Z"
   },
   {
    "duration": 54,
    "start_time": "2023-03-05T04:59:00.240Z"
   },
   {
    "duration": 30,
    "start_time": "2023-03-05T04:59:00.296Z"
   },
   {
    "duration": 31,
    "start_time": "2023-03-05T04:59:00.328Z"
   },
   {
    "duration": 46,
    "start_time": "2023-03-05T04:59:00.361Z"
   },
   {
    "duration": 42,
    "start_time": "2023-03-05T04:59:00.408Z"
   },
   {
    "duration": 29,
    "start_time": "2023-03-05T04:59:00.451Z"
   },
   {
    "duration": 22,
    "start_time": "2023-03-05T04:59:00.482Z"
   },
   {
    "duration": 24,
    "start_time": "2023-03-05T04:59:00.506Z"
   },
   {
    "duration": 33,
    "start_time": "2023-03-05T04:59:00.532Z"
   },
   {
    "duration": 24,
    "start_time": "2023-03-05T04:59:00.567Z"
   },
   {
    "duration": 27,
    "start_time": "2023-03-05T04:59:00.592Z"
   },
   {
    "duration": 24,
    "start_time": "2023-03-05T04:59:00.621Z"
   },
   {
    "duration": 49,
    "start_time": "2023-03-05T04:59:00.646Z"
   },
   {
    "duration": 55,
    "start_time": "2023-03-05T04:59:00.697Z"
   },
   {
    "duration": 28,
    "start_time": "2023-03-05T04:59:00.754Z"
   },
   {
    "duration": 63,
    "start_time": "2023-03-05T04:59:00.783Z"
   },
   {
    "duration": 44,
    "start_time": "2023-03-05T04:59:00.848Z"
   },
   {
    "duration": 10,
    "start_time": "2023-03-05T04:59:00.894Z"
   },
   {
    "duration": 33,
    "start_time": "2023-03-05T04:59:00.906Z"
   },
   {
    "duration": 25,
    "start_time": "2023-03-05T04:59:00.940Z"
   },
   {
    "duration": 1281,
    "start_time": "2023-03-05T08:21:09.073Z"
   },
   {
    "duration": 477,
    "start_time": "2023-03-05T08:21:10.356Z"
   },
   {
    "duration": 27,
    "start_time": "2023-03-05T08:21:10.834Z"
   },
   {
    "duration": 14,
    "start_time": "2023-03-05T08:21:10.863Z"
   },
   {
    "duration": 14,
    "start_time": "2023-03-05T08:21:10.879Z"
   },
   {
    "duration": 32,
    "start_time": "2023-03-05T08:21:10.895Z"
   },
   {
    "duration": 32,
    "start_time": "2023-03-05T08:21:10.928Z"
   },
   {
    "duration": 5,
    "start_time": "2023-03-05T08:21:10.962Z"
   },
   {
    "duration": 12,
    "start_time": "2023-03-05T08:21:10.968Z"
   },
   {
    "duration": 9,
    "start_time": "2023-03-05T08:21:10.982Z"
   },
   {
    "duration": 67,
    "start_time": "2023-03-05T08:21:11.024Z"
   },
   {
    "duration": 4,
    "start_time": "2023-03-05T08:21:11.093Z"
   },
   {
    "duration": 68,
    "start_time": "2023-03-05T08:21:11.099Z"
   },
   {
    "duration": 120,
    "start_time": "2023-03-05T08:21:11.169Z"
   },
   {
    "duration": 21,
    "start_time": "2023-03-05T08:21:11.290Z"
   },
   {
    "duration": 20,
    "start_time": "2023-03-05T08:21:11.323Z"
   },
   {
    "duration": 200,
    "start_time": "2023-03-05T08:21:11.345Z"
   },
   {
    "duration": 5,
    "start_time": "2023-03-05T08:21:11.547Z"
   },
   {
    "duration": 454,
    "start_time": "2023-03-05T08:21:11.553Z"
   },
   {
    "duration": 27,
    "start_time": "2023-03-05T08:21:12.008Z"
   },
   {
    "duration": 10,
    "start_time": "2023-03-05T08:21:12.036Z"
   },
   {
    "duration": 44,
    "start_time": "2023-03-05T08:21:12.047Z"
   },
   {
    "duration": 274,
    "start_time": "2023-03-05T08:21:12.093Z"
   },
   {
    "duration": 257,
    "start_time": "2023-03-05T08:21:12.369Z"
   },
   {
    "duration": 1002,
    "start_time": "2023-03-05T08:21:12.628Z"
   },
   {
    "duration": 6,
    "start_time": "2023-03-05T08:21:13.632Z"
   },
   {
    "duration": 29,
    "start_time": "2023-03-05T08:21:13.639Z"
   },
   {
    "duration": 24,
    "start_time": "2023-03-05T08:21:13.672Z"
   },
   {
    "duration": 145,
    "start_time": "2023-03-05T08:21:13.698Z"
   },
   {
    "duration": 18,
    "start_time": "2023-03-05T08:21:13.845Z"
   },
   {
    "duration": 10,
    "start_time": "2023-03-05T08:21:13.865Z"
   },
   {
    "duration": 156,
    "start_time": "2023-03-05T08:21:13.876Z"
   },
   {
    "duration": 24,
    "start_time": "2023-03-05T08:21:14.034Z"
   },
   {
    "duration": 2186,
    "start_time": "2023-03-05T08:21:14.060Z"
   },
   {
    "duration": 19,
    "start_time": "2023-03-05T08:21:16.248Z"
   },
   {
    "duration": 27,
    "start_time": "2023-03-05T08:21:16.269Z"
   },
   {
    "duration": 32,
    "start_time": "2023-03-05T08:21:16.298Z"
   },
   {
    "duration": 5,
    "start_time": "2023-03-05T08:21:16.332Z"
   },
   {
    "duration": 12,
    "start_time": "2023-03-05T08:21:16.339Z"
   },
   {
    "duration": 4,
    "start_time": "2023-03-05T08:21:16.353Z"
   },
   {
    "duration": 10,
    "start_time": "2023-03-05T08:21:16.359Z"
   },
   {
    "duration": 560,
    "start_time": "2023-03-05T08:21:16.371Z"
   },
   {
    "duration": 35,
    "start_time": "2023-03-05T08:21:16.933Z"
   },
   {
    "duration": 393,
    "start_time": "2023-03-05T08:21:16.969Z"
   },
   {
    "duration": 2,
    "start_time": "2023-03-05T08:21:17.364Z"
   },
   {
    "duration": 10,
    "start_time": "2023-03-05T08:21:17.367Z"
   },
   {
    "duration": 81,
    "start_time": "2023-03-05T08:21:17.379Z"
   },
   {
    "duration": 85,
    "start_time": "2023-03-05T08:21:17.462Z"
   },
   {
    "duration": 37,
    "start_time": "2023-03-05T08:21:17.549Z"
   },
   {
    "duration": 60,
    "start_time": "2023-03-05T08:21:17.588Z"
   },
   {
    "duration": 42,
    "start_time": "2023-03-05T08:21:17.650Z"
   },
   {
    "duration": 57,
    "start_time": "2023-03-05T08:21:17.694Z"
   },
   {
    "duration": 33,
    "start_time": "2023-03-05T08:21:17.752Z"
   },
   {
    "duration": 53,
    "start_time": "2023-03-05T08:21:17.787Z"
   },
   {
    "duration": 34,
    "start_time": "2023-03-05T08:21:17.841Z"
   },
   {
    "duration": 53,
    "start_time": "2023-03-05T08:21:17.877Z"
   },
   {
    "duration": 16,
    "start_time": "2023-03-05T08:21:17.932Z"
   },
   {
    "duration": 23,
    "start_time": "2023-03-05T08:21:17.950Z"
   },
   {
    "duration": 17,
    "start_time": "2023-03-05T08:21:17.975Z"
   },
   {
    "duration": 35,
    "start_time": "2023-03-05T08:21:17.994Z"
   },
   {
    "duration": 24,
    "start_time": "2023-03-05T08:21:18.031Z"
   },
   {
    "duration": 4,
    "start_time": "2023-03-05T08:21:18.057Z"
   },
   {
    "duration": 27,
    "start_time": "2023-03-05T08:21:18.063Z"
   },
   {
    "duration": 65,
    "start_time": "2023-03-05T08:21:18.091Z"
   },
   {
    "duration": 4,
    "start_time": "2023-03-05T08:21:18.157Z"
   },
   {
    "duration": 61,
    "start_time": "2023-03-05T08:21:18.163Z"
   },
   {
    "duration": 53,
    "start_time": "2023-03-05T08:21:18.225Z"
   },
   {
    "duration": 5,
    "start_time": "2023-03-05T08:21:18.280Z"
   },
   {
    "duration": 5,
    "start_time": "2023-03-05T08:21:18.287Z"
   },
   {
    "duration": 4,
    "start_time": "2023-03-05T08:21:18.324Z"
   },
   {
    "duration": 15,
    "start_time": "2023-03-05T08:26:15.976Z"
   },
   {
    "duration": 20,
    "start_time": "2023-03-05T08:27:11.006Z"
   },
   {
    "duration": 1415,
    "start_time": "2023-03-05T20:51:38.356Z"
   },
   {
    "duration": 279,
    "start_time": "2023-03-05T20:51:39.773Z"
   },
   {
    "duration": 26,
    "start_time": "2023-03-05T20:51:40.054Z"
   },
   {
    "duration": 15,
    "start_time": "2023-03-05T20:51:40.082Z"
   },
   {
    "duration": 13,
    "start_time": "2023-03-05T20:51:40.099Z"
   },
   {
    "duration": 30,
    "start_time": "2023-03-05T20:51:40.113Z"
   },
   {
    "duration": 34,
    "start_time": "2023-03-05T20:51:40.145Z"
   },
   {
    "duration": 4,
    "start_time": "2023-03-05T20:51:40.181Z"
   },
   {
    "duration": 12,
    "start_time": "2023-03-05T20:51:40.187Z"
   },
   {
    "duration": 11,
    "start_time": "2023-03-05T20:51:40.201Z"
   },
   {
    "duration": 78,
    "start_time": "2023-03-05T20:51:40.213Z"
   },
   {
    "duration": 4,
    "start_time": "2023-03-05T20:51:40.292Z"
   },
   {
    "duration": 51,
    "start_time": "2023-03-05T20:51:40.298Z"
   },
   {
    "duration": 101,
    "start_time": "2023-03-05T20:51:40.352Z"
   },
   {
    "duration": 20,
    "start_time": "2023-03-05T20:51:40.454Z"
   },
   {
    "duration": 15,
    "start_time": "2023-03-05T20:51:40.475Z"
   },
   {
    "duration": 181,
    "start_time": "2023-03-05T20:51:40.492Z"
   },
   {
    "duration": 5,
    "start_time": "2023-03-05T20:51:40.675Z"
   },
   {
    "duration": 395,
    "start_time": "2023-03-05T20:51:40.681Z"
   },
   {
    "duration": 20,
    "start_time": "2023-03-05T20:51:41.078Z"
   },
   {
    "duration": 8,
    "start_time": "2023-03-05T20:51:41.100Z"
   },
   {
    "duration": 51,
    "start_time": "2023-03-05T20:51:41.110Z"
   },
   {
    "duration": 211,
    "start_time": "2023-03-05T20:51:41.163Z"
   },
   {
    "duration": 207,
    "start_time": "2023-03-05T20:51:41.375Z"
   },
   {
    "duration": 858,
    "start_time": "2023-03-05T20:51:41.584Z"
   },
   {
    "duration": 6,
    "start_time": "2023-03-05T20:51:42.444Z"
   },
   {
    "duration": 25,
    "start_time": "2023-03-05T20:51:42.452Z"
   },
   {
    "duration": 16,
    "start_time": "2023-03-05T20:51:42.478Z"
   },
   {
    "duration": 145,
    "start_time": "2023-03-05T20:51:42.496Z"
   },
   {
    "duration": 15,
    "start_time": "2023-03-05T20:51:42.643Z"
   },
   {
    "duration": 9,
    "start_time": "2023-03-05T20:51:42.659Z"
   },
   {
    "duration": 129,
    "start_time": "2023-03-05T20:51:42.669Z"
   },
   {
    "duration": 21,
    "start_time": "2023-03-05T20:51:42.799Z"
   },
   {
    "duration": 2028,
    "start_time": "2023-03-05T20:51:42.822Z"
   },
   {
    "duration": 19,
    "start_time": "2023-03-05T20:51:44.852Z"
   },
   {
    "duration": 24,
    "start_time": "2023-03-05T20:51:44.873Z"
   },
   {
    "duration": 6,
    "start_time": "2023-03-05T20:51:44.899Z"
   },
   {
    "duration": 10,
    "start_time": "2023-03-05T20:51:44.906Z"
   },
   {
    "duration": 12,
    "start_time": "2023-03-05T20:51:44.939Z"
   },
   {
    "duration": 8,
    "start_time": "2023-03-05T20:51:44.952Z"
   },
   {
    "duration": 8,
    "start_time": "2023-03-05T20:51:44.964Z"
   },
   {
    "duration": 486,
    "start_time": "2023-03-05T20:51:44.974Z"
   },
   {
    "duration": 33,
    "start_time": "2023-03-05T20:51:45.462Z"
   },
   {
    "duration": 129,
    "start_time": "2023-03-05T20:51:45.497Z"
   },
   {
    "duration": 2,
    "start_time": "2023-03-05T20:51:45.628Z"
   },
   {
    "duration": 19,
    "start_time": "2023-03-05T20:51:45.631Z"
   },
   {
    "duration": 90,
    "start_time": "2023-03-05T20:51:45.652Z"
   },
   {
    "duration": 26,
    "start_time": "2023-03-05T20:51:45.744Z"
   },
   {
    "duration": 34,
    "start_time": "2023-03-05T20:51:45.772Z"
   },
   {
    "duration": 58,
    "start_time": "2023-03-05T20:51:45.810Z"
   },
   {
    "duration": 36,
    "start_time": "2023-03-05T20:51:45.870Z"
   },
   {
    "duration": 45,
    "start_time": "2023-03-05T20:51:45.907Z"
   },
   {
    "duration": 28,
    "start_time": "2023-03-05T20:51:45.954Z"
   },
   {
    "duration": 28,
    "start_time": "2023-03-05T20:51:45.983Z"
   },
   {
    "duration": 52,
    "start_time": "2023-03-05T20:51:46.013Z"
   },
   {
    "duration": 30,
    "start_time": "2023-03-05T20:51:46.067Z"
   },
   {
    "duration": 15,
    "start_time": "2023-03-05T20:51:46.099Z"
   },
   {
    "duration": 30,
    "start_time": "2023-03-05T20:51:46.115Z"
   },
   {
    "duration": 13,
    "start_time": "2023-03-05T20:51:46.147Z"
   },
   {
    "duration": 12,
    "start_time": "2023-03-05T20:51:46.161Z"
   },
   {
    "duration": 16,
    "start_time": "2023-03-05T20:51:46.175Z"
   },
   {
    "duration": 20,
    "start_time": "2023-03-05T20:51:46.192Z"
   },
   {
    "duration": 4,
    "start_time": "2023-03-05T20:51:46.240Z"
   },
   {
    "duration": 32,
    "start_time": "2023-03-05T20:51:46.245Z"
   },
   {
    "duration": 34,
    "start_time": "2023-03-05T20:51:46.279Z"
   },
   {
    "duration": 4,
    "start_time": "2023-03-05T20:51:46.314Z"
   },
   {
    "duration": 53,
    "start_time": "2023-03-05T20:51:46.320Z"
   },
   {
    "duration": 44,
    "start_time": "2023-03-05T20:51:46.375Z"
   },
   {
    "duration": 23,
    "start_time": "2023-03-05T20:51:46.420Z"
   },
   {
    "duration": 8,
    "start_time": "2023-03-05T20:51:46.444Z"
   },
   {
    "duration": 8,
    "start_time": "2023-03-05T20:51:46.454Z"
   },
   {
    "duration": 1149,
    "start_time": "2023-03-05T23:15:01.050Z"
   },
   {
    "duration": 427,
    "start_time": "2023-03-05T23:15:02.202Z"
   },
   {
    "duration": 24,
    "start_time": "2023-03-05T23:15:02.631Z"
   },
   {
    "duration": 14,
    "start_time": "2023-03-05T23:15:02.657Z"
   },
   {
    "duration": 26,
    "start_time": "2023-03-05T23:15:02.674Z"
   },
   {
    "duration": 7,
    "start_time": "2023-03-05T23:15:02.702Z"
   },
   {
    "duration": 50,
    "start_time": "2023-03-05T23:15:02.711Z"
   },
   {
    "duration": 6,
    "start_time": "2023-03-05T23:15:02.763Z"
   },
   {
    "duration": 19,
    "start_time": "2023-03-05T23:15:02.771Z"
   },
   {
    "duration": 11,
    "start_time": "2023-03-05T23:15:02.792Z"
   },
   {
    "duration": 77,
    "start_time": "2023-03-05T23:15:02.804Z"
   },
   {
    "duration": 4,
    "start_time": "2023-03-05T23:15:02.884Z"
   },
   {
    "duration": 55,
    "start_time": "2023-03-05T23:15:02.890Z"
   },
   {
    "duration": 98,
    "start_time": "2023-03-05T23:15:02.947Z"
   },
   {
    "duration": 18,
    "start_time": "2023-03-05T23:15:03.047Z"
   },
   {
    "duration": 13,
    "start_time": "2023-03-05T23:15:03.066Z"
   },
   {
    "duration": 167,
    "start_time": "2023-03-05T23:15:03.080Z"
   },
   {
    "duration": 4,
    "start_time": "2023-03-05T23:15:03.249Z"
   },
   {
    "duration": 365,
    "start_time": "2023-03-05T23:15:03.255Z"
   },
   {
    "duration": 27,
    "start_time": "2023-03-05T23:15:03.621Z"
   },
   {
    "duration": 8,
    "start_time": "2023-03-05T23:15:03.650Z"
   },
   {
    "duration": 35,
    "start_time": "2023-03-05T23:15:03.659Z"
   },
   {
    "duration": 222,
    "start_time": "2023-03-05T23:15:03.696Z"
   },
   {
    "duration": 216,
    "start_time": "2023-03-05T23:15:03.920Z"
   },
   {
    "duration": 895,
    "start_time": "2023-03-05T23:15:04.139Z"
   },
   {
    "duration": 8,
    "start_time": "2023-03-05T23:15:05.035Z"
   },
   {
    "duration": 24,
    "start_time": "2023-03-05T23:15:05.045Z"
   },
   {
    "duration": 12,
    "start_time": "2023-03-05T23:15:05.071Z"
   },
   {
    "duration": 119,
    "start_time": "2023-03-05T23:15:05.085Z"
   },
   {
    "duration": 15,
    "start_time": "2023-03-05T23:15:05.206Z"
   },
   {
    "duration": 23,
    "start_time": "2023-03-05T23:15:05.223Z"
   },
   {
    "duration": 119,
    "start_time": "2023-03-05T23:15:05.247Z"
   },
   {
    "duration": 21,
    "start_time": "2023-03-05T23:15:05.368Z"
   },
   {
    "duration": 1963,
    "start_time": "2023-03-05T23:15:05.390Z"
   },
   {
    "duration": 16,
    "start_time": "2023-03-05T23:15:07.355Z"
   },
   {
    "duration": 23,
    "start_time": "2023-03-05T23:15:07.372Z"
   },
   {
    "duration": 6,
    "start_time": "2023-03-05T23:15:07.396Z"
   },
   {
    "duration": 5,
    "start_time": "2023-03-05T23:15:07.403Z"
   },
   {
    "duration": 32,
    "start_time": "2023-03-05T23:15:07.409Z"
   },
   {
    "duration": 4,
    "start_time": "2023-03-05T23:15:07.442Z"
   },
   {
    "duration": 4,
    "start_time": "2023-03-05T23:15:07.450Z"
   },
   {
    "duration": 430,
    "start_time": "2023-03-05T23:15:07.456Z"
   },
   {
    "duration": 29,
    "start_time": "2023-03-05T23:15:07.888Z"
   },
   {
    "duration": 124,
    "start_time": "2023-03-05T23:15:07.918Z"
   },
   {
    "duration": 2,
    "start_time": "2023-03-05T23:15:08.043Z"
   },
   {
    "duration": 14,
    "start_time": "2023-03-05T23:15:08.047Z"
   },
   {
    "duration": 90,
    "start_time": "2023-03-05T23:15:08.063Z"
   },
   {
    "duration": 24,
    "start_time": "2023-03-05T23:15:08.155Z"
   },
   {
    "duration": 63,
    "start_time": "2023-03-05T23:15:08.180Z"
   },
   {
    "duration": 27,
    "start_time": "2023-03-05T23:15:08.244Z"
   },
   {
    "duration": 36,
    "start_time": "2023-03-05T23:15:08.273Z"
   },
   {
    "duration": 49,
    "start_time": "2023-03-05T23:15:08.310Z"
   },
   {
    "duration": 29,
    "start_time": "2023-03-05T23:15:08.361Z"
   },
   {
    "duration": 28,
    "start_time": "2023-03-05T23:15:08.391Z"
   },
   {
    "duration": 43,
    "start_time": "2023-03-05T23:15:08.421Z"
   },
   {
    "duration": 30,
    "start_time": "2023-03-05T23:15:08.465Z"
   },
   {
    "duration": 14,
    "start_time": "2023-03-05T23:15:08.497Z"
   },
   {
    "duration": 13,
    "start_time": "2023-03-05T23:15:08.541Z"
   },
   {
    "duration": 14,
    "start_time": "2023-03-05T23:15:08.556Z"
   },
   {
    "duration": 12,
    "start_time": "2023-03-05T23:15:08.571Z"
   },
   {
    "duration": 19,
    "start_time": "2023-03-05T23:15:29.312Z"
   },
   {
    "duration": 17,
    "start_time": "2023-03-05T23:17:36.373Z"
   },
   {
    "duration": 20,
    "start_time": "2023-03-05T23:19:27.365Z"
   },
   {
    "duration": 15,
    "start_time": "2023-03-05T23:21:23.647Z"
   },
   {
    "duration": 16,
    "start_time": "2023-03-05T23:22:40.404Z"
   },
   {
    "duration": 22,
    "start_time": "2023-03-05T23:23:43.394Z"
   },
   {
    "duration": 24,
    "start_time": "2023-03-05T23:24:44.532Z"
   },
   {
    "duration": 17,
    "start_time": "2023-03-05T23:25:48.711Z"
   },
   {
    "duration": 16,
    "start_time": "2023-03-05T23:26:16.044Z"
   },
   {
    "duration": 30,
    "start_time": "2023-03-05T23:27:38.435Z"
   },
   {
    "duration": 17,
    "start_time": "2023-03-05T23:29:19.259Z"
   },
   {
    "duration": 20,
    "start_time": "2023-03-05T23:30:13.974Z"
   },
   {
    "duration": 21,
    "start_time": "2023-03-05T23:30:28.648Z"
   },
   {
    "duration": 105,
    "start_time": "2023-03-05T23:31:08.338Z"
   },
   {
    "duration": 24,
    "start_time": "2023-03-05T23:31:26.548Z"
   },
   {
    "duration": 16,
    "start_time": "2023-03-05T23:31:55.999Z"
   },
   {
    "duration": 14,
    "start_time": "2023-03-05T23:32:29.262Z"
   },
   {
    "duration": 21,
    "start_time": "2023-03-05T23:34:22.457Z"
   },
   {
    "duration": 20,
    "start_time": "2023-03-05T23:34:51.066Z"
   },
   {
    "duration": 19,
    "start_time": "2023-03-05T23:35:20.017Z"
   },
   {
    "duration": 16,
    "start_time": "2023-03-05T23:36:00.119Z"
   },
   {
    "duration": 30,
    "start_time": "2023-03-05T23:36:23.203Z"
   },
   {
    "duration": 27,
    "start_time": "2023-03-05T23:36:34.058Z"
   },
   {
    "duration": 26,
    "start_time": "2023-03-05T23:37:42.136Z"
   },
   {
    "duration": 32,
    "start_time": "2023-03-05T23:37:52.427Z"
   },
   {
    "duration": 33,
    "start_time": "2023-03-05T23:38:16.527Z"
   },
   {
    "duration": 28,
    "start_time": "2023-03-05T23:38:53.239Z"
   },
   {
    "duration": 16,
    "start_time": "2023-03-05T23:39:10.104Z"
   },
   {
    "duration": 18,
    "start_time": "2023-03-05T23:39:22.893Z"
   },
   {
    "duration": 23,
    "start_time": "2023-03-05T23:39:34.156Z"
   },
   {
    "duration": 17,
    "start_time": "2023-03-05T23:39:44.915Z"
   },
   {
    "duration": 19,
    "start_time": "2023-03-05T23:50:42.493Z"
   },
   {
    "duration": 25,
    "start_time": "2023-03-05T23:52:09.470Z"
   },
   {
    "duration": 19,
    "start_time": "2023-03-05T23:52:28.951Z"
   },
   {
    "duration": 19,
    "start_time": "2023-03-05T23:52:56.348Z"
   },
   {
    "duration": 17,
    "start_time": "2023-03-06T00:29:32.414Z"
   },
   {
    "duration": 7,
    "start_time": "2023-03-06T00:29:34.739Z"
   },
   {
    "duration": 1099,
    "start_time": "2023-03-06T01:17:22.789Z"
   },
   {
    "duration": 322,
    "start_time": "2023-03-06T01:17:23.890Z"
   },
   {
    "duration": 22,
    "start_time": "2023-03-06T01:17:24.214Z"
   },
   {
    "duration": 13,
    "start_time": "2023-03-06T01:17:24.237Z"
   },
   {
    "duration": 10,
    "start_time": "2023-03-06T01:17:24.252Z"
   },
   {
    "duration": 8,
    "start_time": "2023-03-06T01:17:24.264Z"
   },
   {
    "duration": 30,
    "start_time": "2023-03-06T01:17:24.273Z"
   },
   {
    "duration": 4,
    "start_time": "2023-03-06T01:17:24.305Z"
   },
   {
    "duration": 36,
    "start_time": "2023-03-06T01:17:24.310Z"
   },
   {
    "duration": 7,
    "start_time": "2023-03-06T01:17:24.347Z"
   },
   {
    "duration": 58,
    "start_time": "2023-03-06T01:17:24.355Z"
   },
   {
    "duration": 4,
    "start_time": "2023-03-06T01:17:24.414Z"
   },
   {
    "duration": 51,
    "start_time": "2023-03-06T01:17:24.419Z"
   },
   {
    "duration": 101,
    "start_time": "2023-03-06T01:17:24.473Z"
   },
   {
    "duration": 19,
    "start_time": "2023-03-06T01:17:24.575Z"
   },
   {
    "duration": 12,
    "start_time": "2023-03-06T01:17:24.596Z"
   },
   {
    "duration": 163,
    "start_time": "2023-03-06T01:17:24.610Z"
   },
   {
    "duration": 5,
    "start_time": "2023-03-06T01:17:24.775Z"
   },
   {
    "duration": 371,
    "start_time": "2023-03-06T01:17:24.781Z"
   },
   {
    "duration": 21,
    "start_time": "2023-03-06T01:17:25.154Z"
   },
   {
    "duration": 8,
    "start_time": "2023-03-06T01:17:25.177Z"
   },
   {
    "duration": 36,
    "start_time": "2023-03-06T01:17:25.186Z"
   },
   {
    "duration": 206,
    "start_time": "2023-03-06T01:17:25.240Z"
   },
   {
    "duration": 208,
    "start_time": "2023-03-06T01:17:25.447Z"
   },
   {
    "duration": 827,
    "start_time": "2023-03-06T01:17:25.657Z"
   },
   {
    "duration": 4,
    "start_time": "2023-03-06T01:17:26.485Z"
   },
   {
    "duration": 23,
    "start_time": "2023-03-06T01:17:26.490Z"
   },
   {
    "duration": 33,
    "start_time": "2023-03-06T01:17:26.515Z"
   },
   {
    "duration": 117,
    "start_time": "2023-03-06T01:17:26.550Z"
   },
   {
    "duration": 15,
    "start_time": "2023-03-06T01:17:26.669Z"
   },
   {
    "duration": 8,
    "start_time": "2023-03-06T01:17:26.685Z"
   },
   {
    "duration": 133,
    "start_time": "2023-03-06T01:17:26.695Z"
   },
   {
    "duration": 25,
    "start_time": "2023-03-06T01:17:26.829Z"
   },
   {
    "duration": 1949,
    "start_time": "2023-03-06T01:17:26.856Z"
   },
   {
    "duration": 16,
    "start_time": "2023-03-06T01:17:28.807Z"
   },
   {
    "duration": 28,
    "start_time": "2023-03-06T01:17:28.825Z"
   },
   {
    "duration": 6,
    "start_time": "2023-03-06T01:17:28.854Z"
   },
   {
    "duration": 7,
    "start_time": "2023-03-06T01:17:28.861Z"
   },
   {
    "duration": 16,
    "start_time": "2023-03-06T01:17:28.869Z"
   },
   {
    "duration": 15,
    "start_time": "2023-03-06T01:17:28.886Z"
   },
   {
    "duration": 18,
    "start_time": "2023-03-06T01:17:28.905Z"
   },
   {
    "duration": 423,
    "start_time": "2023-03-06T01:17:28.925Z"
   },
   {
    "duration": 29,
    "start_time": "2023-03-06T01:17:29.350Z"
   },
   {
    "duration": 121,
    "start_time": "2023-03-06T01:17:29.381Z"
   },
   {
    "duration": 2,
    "start_time": "2023-03-06T01:17:29.504Z"
   },
   {
    "duration": 9,
    "start_time": "2023-03-06T01:17:29.508Z"
   },
   {
    "duration": 51,
    "start_time": "2023-03-06T01:17:29.520Z"
   },
   {
    "duration": 74,
    "start_time": "2023-03-06T01:17:29.573Z"
   },
   {
    "duration": 31,
    "start_time": "2023-03-06T01:17:29.648Z"
   },
   {
    "duration": 27,
    "start_time": "2023-03-06T01:17:29.680Z"
   },
   {
    "duration": 66,
    "start_time": "2023-03-06T01:17:29.708Z"
   },
   {
    "duration": 30,
    "start_time": "2023-03-06T01:17:29.775Z"
   },
   {
    "duration": 47,
    "start_time": "2023-03-06T01:17:29.807Z"
   },
   {
    "duration": 32,
    "start_time": "2023-03-06T01:17:29.855Z"
   },
   {
    "duration": 38,
    "start_time": "2023-03-06T01:17:29.889Z"
   },
   {
    "duration": 40,
    "start_time": "2023-03-06T01:17:29.928Z"
   },
   {
    "duration": 17,
    "start_time": "2023-03-06T01:17:29.969Z"
   },
   {
    "duration": 18,
    "start_time": "2023-03-06T01:17:29.988Z"
   },
   {
    "duration": 44,
    "start_time": "2023-03-06T01:17:30.009Z"
   },
   {
    "duration": 20,
    "start_time": "2023-03-06T01:17:30.055Z"
   },
   {
    "duration": 21,
    "start_time": "2023-03-06T01:17:30.076Z"
   },
   {
    "duration": 23,
    "start_time": "2023-03-06T01:17:30.098Z"
   },
   {
    "duration": 45,
    "start_time": "2023-03-06T01:17:30.123Z"
   },
   {
    "duration": 4,
    "start_time": "2023-03-06T01:17:30.170Z"
   },
   {
    "duration": 36,
    "start_time": "2023-03-06T01:17:30.176Z"
   },
   {
    "duration": 44,
    "start_time": "2023-03-06T01:17:30.214Z"
   },
   {
    "duration": 7,
    "start_time": "2023-03-06T01:17:30.260Z"
   },
   {
    "duration": 78,
    "start_time": "2023-03-06T01:17:30.269Z"
   },
   {
    "duration": 46,
    "start_time": "2023-03-06T01:17:30.348Z"
   },
   {
    "duration": 4,
    "start_time": "2023-03-06T01:17:30.395Z"
   },
   {
    "duration": 17,
    "start_time": "2023-03-06T01:17:30.400Z"
   },
   {
    "duration": 15,
    "start_time": "2023-03-06T01:17:30.418Z"
   },
   {
    "duration": 1343,
    "start_time": "2023-03-06T10:45:32.119Z"
   },
   {
    "duration": 364,
    "start_time": "2023-03-06T10:45:33.465Z"
   },
   {
    "duration": 35,
    "start_time": "2023-03-06T10:45:33.832Z"
   },
   {
    "duration": 18,
    "start_time": "2023-03-06T10:45:33.869Z"
   },
   {
    "duration": 20,
    "start_time": "2023-03-06T10:45:33.890Z"
   },
   {
    "duration": 10,
    "start_time": "2023-03-06T10:45:33.912Z"
   },
   {
    "duration": 73,
    "start_time": "2023-03-06T10:45:33.924Z"
   },
   {
    "duration": 6,
    "start_time": "2023-03-06T10:45:33.999Z"
   },
   {
    "duration": 16,
    "start_time": "2023-03-06T10:45:34.006Z"
   },
   {
    "duration": 9,
    "start_time": "2023-03-06T10:45:34.024Z"
   },
   {
    "duration": 77,
    "start_time": "2023-03-06T10:45:34.065Z"
   },
   {
    "duration": 20,
    "start_time": "2023-03-06T10:45:34.144Z"
   },
   {
    "duration": 52,
    "start_time": "2023-03-06T10:45:34.166Z"
   },
   {
    "duration": 141,
    "start_time": "2023-03-06T10:45:34.221Z"
   },
   {
    "duration": 21,
    "start_time": "2023-03-06T10:45:34.364Z"
   },
   {
    "duration": 23,
    "start_time": "2023-03-06T10:45:34.387Z"
   },
   {
    "duration": 247,
    "start_time": "2023-03-06T10:45:34.412Z"
   },
   {
    "duration": 6,
    "start_time": "2023-03-06T10:45:34.664Z"
   },
   {
    "duration": 444,
    "start_time": "2023-03-06T10:45:34.672Z"
   },
   {
    "duration": 25,
    "start_time": "2023-03-06T10:45:35.118Z"
   },
   {
    "duration": 26,
    "start_time": "2023-03-06T10:45:35.145Z"
   },
   {
    "duration": 42,
    "start_time": "2023-03-06T10:45:35.173Z"
   },
   {
    "duration": 269,
    "start_time": "2023-03-06T10:45:35.217Z"
   },
   {
    "duration": 251,
    "start_time": "2023-03-06T10:45:35.488Z"
   },
   {
    "duration": 1093,
    "start_time": "2023-03-06T10:45:35.741Z"
   },
   {
    "duration": 6,
    "start_time": "2023-03-06T10:45:36.835Z"
   },
   {
    "duration": 45,
    "start_time": "2023-03-06T10:45:36.843Z"
   },
   {
    "duration": 15,
    "start_time": "2023-03-06T10:45:36.889Z"
   },
   {
    "duration": 151,
    "start_time": "2023-03-06T10:45:36.906Z"
   },
   {
    "duration": 19,
    "start_time": "2023-03-06T10:45:37.064Z"
   },
   {
    "duration": 10,
    "start_time": "2023-03-06T10:45:37.085Z"
   },
   {
    "duration": 163,
    "start_time": "2023-03-06T10:45:37.097Z"
   },
   {
    "duration": 25,
    "start_time": "2023-03-06T10:45:37.263Z"
   },
   {
    "duration": 2269,
    "start_time": "2023-03-06T10:45:37.290Z"
   },
   {
    "duration": 21,
    "start_time": "2023-03-06T10:45:39.563Z"
   },
   {
    "duration": 28,
    "start_time": "2023-03-06T10:45:39.586Z"
   },
   {
    "duration": 8,
    "start_time": "2023-03-06T10:45:39.616Z"
   },
   {
    "duration": 5,
    "start_time": "2023-03-06T10:45:39.626Z"
   },
   {
    "duration": 42,
    "start_time": "2023-03-06T10:45:39.633Z"
   },
   {
    "duration": 8,
    "start_time": "2023-03-06T10:45:39.676Z"
   },
   {
    "duration": 16,
    "start_time": "2023-03-06T10:45:39.689Z"
   },
   {
    "duration": 557,
    "start_time": "2023-03-06T10:45:39.707Z"
   },
   {
    "duration": 38,
    "start_time": "2023-03-06T10:45:40.266Z"
   },
   {
    "duration": 437,
    "start_time": "2023-03-06T10:45:40.306Z"
   },
   {
    "duration": 3,
    "start_time": "2023-03-06T10:45:40.745Z"
   },
   {
    "duration": 15,
    "start_time": "2023-03-06T10:45:40.749Z"
   },
   {
    "duration": 102,
    "start_time": "2023-03-06T10:45:40.766Z"
   },
   {
    "duration": 28,
    "start_time": "2023-03-06T10:45:40.870Z"
   },
   {
    "duration": 73,
    "start_time": "2023-03-06T10:45:40.899Z"
   },
   {
    "duration": 36,
    "start_time": "2023-03-06T10:45:40.973Z"
   },
   {
    "duration": 67,
    "start_time": "2023-03-06T10:45:41.010Z"
   },
   {
    "duration": 35,
    "start_time": "2023-03-06T10:45:41.079Z"
   },
   {
    "duration": 52,
    "start_time": "2023-03-06T10:45:41.116Z"
   },
   {
    "duration": 34,
    "start_time": "2023-03-06T10:45:41.170Z"
   },
   {
    "duration": 35,
    "start_time": "2023-03-06T10:45:41.206Z"
   },
   {
    "duration": 38,
    "start_time": "2023-03-06T10:45:41.263Z"
   },
   {
    "duration": 22,
    "start_time": "2023-03-06T10:45:41.303Z"
   },
   {
    "duration": 53,
    "start_time": "2023-03-06T10:45:41.326Z"
   },
   {
    "duration": 20,
    "start_time": "2023-03-06T10:45:41.381Z"
   },
   {
    "duration": 24,
    "start_time": "2023-03-06T10:45:41.403Z"
   },
   {
    "duration": 49,
    "start_time": "2023-03-06T10:45:41.429Z"
   },
   {
    "duration": 20,
    "start_time": "2023-03-06T10:45:41.480Z"
   },
   {
    "duration": 33,
    "start_time": "2023-03-06T10:45:41.502Z"
   },
   {
    "duration": 27,
    "start_time": "2023-03-06T10:45:41.537Z"
   },
   {
    "duration": 33,
    "start_time": "2023-03-06T10:45:41.567Z"
   },
   {
    "duration": 67,
    "start_time": "2023-03-06T10:45:41.603Z"
   },
   {
    "duration": 5,
    "start_time": "2023-03-06T10:45:41.672Z"
   },
   {
    "duration": 51,
    "start_time": "2023-03-06T10:45:41.680Z"
   },
   {
    "duration": 83,
    "start_time": "2023-03-06T10:45:41.733Z"
   },
   {
    "duration": 6,
    "start_time": "2023-03-06T10:45:41.818Z"
   },
   {
    "duration": 16,
    "start_time": "2023-03-06T10:45:41.827Z"
   },
   {
    "duration": 6,
    "start_time": "2023-03-06T10:45:41.865Z"
   }
  ],
  "kernelspec": {
   "display_name": "Python 3 (ipykernel)",
   "language": "python",
   "name": "python3"
  },
  "language_info": {
   "codemirror_mode": {
    "name": "ipython",
    "version": 3
   },
   "file_extension": ".py",
   "mimetype": "text/x-python",
   "name": "python",
   "nbconvert_exporter": "python",
   "pygments_lexer": "ipython3",
   "version": "3.9.12"
  },
  "toc": {
   "base_numbering": 1,
   "nav_menu": {},
   "number_sections": true,
   "sideBar": true,
   "skip_h1_title": true,
   "title_cell": "Table of Contents",
   "title_sidebar": "Contents",
   "toc_cell": false,
   "toc_position": {},
   "toc_section_display": true,
   "toc_window_display": false
  }
 },
 "nbformat": 4,
 "nbformat_minor": 5
}
