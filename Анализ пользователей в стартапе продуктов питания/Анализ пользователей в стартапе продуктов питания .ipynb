{
 "cells": [
  {
   "cell_type": "markdown",
   "metadata": {},
   "source": [
    "### Декомпозиция\n",
    "\n",
    "#### 1. Откроем файл с данными и изучим общую информацию\n",
    "\n",
    "#### 2. Предобработка данных\n",
    "- ##### Удалим явные дубликаты\n",
    "- ##### Заменим названия столбцов\n",
    "- ##### Создадим столбцы с датой\n",
    "\n",
    "#### 3. Исследовательский анализ данных\n",
    "- ##### Посмотрим сколько всего событий в логе\n",
    "- ##### Посмотрим сколько всего пользователей в логе\n",
    "- ##### Посмотрим сколько в среднем событий приходится на пользователя\n",
    "- ##### Посмотрим на распределение событий по дате\n",
    "- ##### Задаем рамки исследуемого диапазона\n",
    "\n",
    "#### 4. Изучим воронку событий\n",
    "- ##### Посмотрим, какие события есть в логах и как часто они встречаются\n",
    "- ##### Посчитаем, сколько пользователей совершали каждое из этих событий\n",
    "- ##### Посчитаем долю пользователей, которые хоть раз совершали событие\n",
    "- ##### По воронке событий посчитаем, какая доля пользователей проходит на следующий шаг воронки (от числа пользователей на предыдущем)\n",
    "\n",
    "#### 5. Изучим результаты эксперимента\n",
    "- ##### Посмотрим сколько пользователей в каждой экспериментальной группе\n",
    "- ##### Проверим, находят ли статистические критерии разницу между выборками 246 и 247\n",
    "- ##### Посчитаем число пользователей, совершивших самое популярное событие в каждой из контрольных групп\n",
    "- ##### Посчитаем долю пользователей, совершивших это событие\n",
    "- ##### Проверим, будет ли отличие между группами статистически достоверным\n",
    "- ##### Проведем анализ для остальных событий с контрольными группами\n",
    "- ##### Сравним результаты группы 248 с каждой из контрольных групп в отдельности по каждому событию\n",
    "\n",
    "#### 6. Общий вывод\n",
    "---"
   ]
  },
  {
   "cell_type": "markdown",
   "metadata": {},
   "source": [
    "#### 1. Откроем файл с данными и изучим общую информацию"
   ]
  },
  {
   "cell_type": "code",
   "execution_count": 29,
   "metadata": {},
   "outputs": [],
   "source": [
    "# Импортируем библиотеки\n",
    "import pandas as pd\n",
    "import numpy as np\n",
    "import scipy.stats as stats\n",
    "import math as mth\n",
    "import plotly.express as px\n",
    "import plotly.io as pio\n",
    "pio.renderers.default = \"png\"\n",
    "from plotly import graph_objects as go\n",
    "from matplotlib import pyplot as plt\n",
    "from datetime import datetime, timedelta\n",
    "from scipy import stats as st"
   ]
  },
  {
   "cell_type": "code",
   "execution_count": 30,
   "metadata": {},
   "outputs": [],
   "source": [
    "# Задаем параметры просмотра\n",
    "try:\n",
    "    df = pd.read_csv('/datasets/logs_exp.csv', sep='\\t') \n",
    "except:\n",
    "    df = pd.read_csv('practicum_datasets/logs_exp.csv', sep='\\t')\n",
    "\n",
    "# Задаем настройки отображения\n",
    "pd.set_option('display.max_columns', None)\n",
    "pd.set_option('display.max_rows', None)\n",
    "pd.set_option('display.max_colwidth', None)"
   ]
  },
  {
   "cell_type": "code",
   "execution_count": 31,
   "metadata": {},
   "outputs": [
    {
     "data": {
      "text/html": [
       "<div>\n",
       "<style scoped>\n",
       "    .dataframe tbody tr th:only-of-type {\n",
       "        vertical-align: middle;\n",
       "    }\n",
       "\n",
       "    .dataframe tbody tr th {\n",
       "        vertical-align: top;\n",
       "    }\n",
       "\n",
       "    .dataframe thead th {\n",
       "        text-align: right;\n",
       "    }\n",
       "</style>\n",
       "<table border=\"1\" class=\"dataframe\">\n",
       "  <thead>\n",
       "    <tr style=\"text-align: right;\">\n",
       "      <th></th>\n",
       "      <th>EventName</th>\n",
       "      <th>DeviceIDHash</th>\n",
       "      <th>EventTimestamp</th>\n",
       "      <th>ExpId</th>\n",
       "    </tr>\n",
       "  </thead>\n",
       "  <tbody>\n",
       "    <tr>\n",
       "      <th>0</th>\n",
       "      <td>MainScreenAppear</td>\n",
       "      <td>4575588528974610257</td>\n",
       "      <td>1564029816</td>\n",
       "      <td>246</td>\n",
       "    </tr>\n",
       "    <tr>\n",
       "      <th>1</th>\n",
       "      <td>MainScreenAppear</td>\n",
       "      <td>7416695313311560658</td>\n",
       "      <td>1564053102</td>\n",
       "      <td>246</td>\n",
       "    </tr>\n",
       "    <tr>\n",
       "      <th>2</th>\n",
       "      <td>PaymentScreenSuccessful</td>\n",
       "      <td>3518123091307005509</td>\n",
       "      <td>1564054127</td>\n",
       "      <td>248</td>\n",
       "    </tr>\n",
       "    <tr>\n",
       "      <th>3</th>\n",
       "      <td>CartScreenAppear</td>\n",
       "      <td>3518123091307005509</td>\n",
       "      <td>1564054127</td>\n",
       "      <td>248</td>\n",
       "    </tr>\n",
       "    <tr>\n",
       "      <th>4</th>\n",
       "      <td>PaymentScreenSuccessful</td>\n",
       "      <td>6217807653094995999</td>\n",
       "      <td>1564055322</td>\n",
       "      <td>248</td>\n",
       "    </tr>\n",
       "  </tbody>\n",
       "</table>\n",
       "</div>"
      ],
      "text/plain": [
       "                 EventName         DeviceIDHash  EventTimestamp  ExpId\n",
       "0         MainScreenAppear  4575588528974610257      1564029816    246\n",
       "1         MainScreenAppear  7416695313311560658      1564053102    246\n",
       "2  PaymentScreenSuccessful  3518123091307005509      1564054127    248\n",
       "3         CartScreenAppear  3518123091307005509      1564054127    248\n",
       "4  PaymentScreenSuccessful  6217807653094995999      1564055322    248"
      ]
     },
     "execution_count": 31,
     "metadata": {},
     "output_type": "execute_result"
    }
   ],
   "source": [
    "# Выведем первые пять строк датасета\n",
    "df.head()"
   ]
  },
  {
   "cell_type": "code",
   "execution_count": 32,
   "metadata": {},
   "outputs": [
    {
     "name": "stdout",
     "output_type": "stream",
     "text": [
      "<class 'pandas.core.frame.DataFrame'>\n",
      "RangeIndex: 244126 entries, 0 to 244125\n",
      "Data columns (total 4 columns):\n",
      " #   Column          Non-Null Count   Dtype \n",
      "---  ------          --------------   ----- \n",
      " 0   EventName       244126 non-null  object\n",
      " 1   DeviceIDHash    244126 non-null  int64 \n",
      " 2   EventTimestamp  244126 non-null  int64 \n",
      " 3   ExpId           244126 non-null  int64 \n",
      "dtypes: int64(3), object(1)\n",
      "memory usage: 7.5+ MB\n"
     ]
    }
   ],
   "source": [
    "# Выведем общую информацию\n",
    "df.info()"
   ]
  },
  {
   "cell_type": "code",
   "execution_count": 33,
   "metadata": {},
   "outputs": [
    {
     "data": {
      "text/plain": [
       "EventName         0\n",
       "DeviceIDHash      0\n",
       "EventTimestamp    0\n",
       "ExpId             0\n",
       "dtype: int64"
      ]
     },
     "execution_count": 33,
     "metadata": {},
     "output_type": "execute_result"
    }
   ],
   "source": [
    "# Посмотрим кол-во пропусков\n",
    "df.isna().sum()"
   ]
  },
  {
   "cell_type": "code",
   "execution_count": 34,
   "metadata": {},
   "outputs": [
    {
     "name": "stdout",
     "output_type": "stream",
     "text": [
      "Ко-во дубликатов: 413\n"
     ]
    }
   ],
   "source": [
    "# Найдем явные дуюликаты\n",
    "print('Ко-во дубликатов:', df.duplicated().sum())"
   ]
  },
  {
   "cell_type": "code",
   "execution_count": 35,
   "metadata": {},
   "outputs": [
    {
     "data": {
      "text/plain": [
       "array(['MainScreenAppear', 'PaymentScreenSuccessful', 'CartScreenAppear',\n",
       "       'OffersScreenAppear', 'Tutorial'], dtype=object)"
      ]
     },
     "execution_count": 35,
     "metadata": {},
     "output_type": "execute_result"
    }
   ],
   "source": [
    "# Посмотрим неявные дубликаты в столбце event_name\n",
    "df['EventName'].unique()"
   ]
  },
  {
   "cell_type": "code",
   "execution_count": 36,
   "metadata": {},
   "outputs": [
    {
     "data": {
      "text/plain": [
       "array([246, 248, 247])"
      ]
     },
     "execution_count": 36,
     "metadata": {},
     "output_type": "execute_result"
    }
   ],
   "source": [
    "# Посмотрим неявные дубликаты в столбце exp_id\n",
    "df['ExpId'].unique()"
   ]
  },
  {
   "cell_type": "markdown",
   "metadata": {},
   "source": [
    "**Вывод:** \n",
    "- Найдено 413 явных дубликата\n",
    "- Скрытых дубликатов в столбцах EventName и ExpId не обнаружено\n",
    "- Столбец EventTimestamp имеет тип int64 \n",
    "- Названия столбцов датасета не приведены к змеиному регистру\n",
    "- Пропусков не обнаружено"
   ]
  },
  {
   "cell_type": "markdown",
   "metadata": {},
   "source": [
    "#### 2. Предобработка данных"
   ]
  },
  {
   "cell_type": "markdown",
   "metadata": {},
   "source": [
    "##### Удалим явные дубликаты"
   ]
  },
  {
   "cell_type": "code",
   "execution_count": 37,
   "metadata": {},
   "outputs": [
    {
     "name": "stdout",
     "output_type": "stream",
     "text": [
      "Ко-во дубликатов: 0\n"
     ]
    }
   ],
   "source": [
    "# Удаляем дубликаты\n",
    "df = df.drop_duplicates()\n",
    "\n",
    "# Выводим информацию\n",
    "print('Ко-во дубликатов:', df.duplicated().sum())"
   ]
  },
  {
   "cell_type": "markdown",
   "metadata": {},
   "source": [
    "##### Заменим названия столбцов"
   ]
  },
  {
   "cell_type": "code",
   "execution_count": 38,
   "metadata": {},
   "outputs": [],
   "source": [
    "# Переименуем стобцы\n",
    "df.columns = df.columns.str.lower()\n",
    "df = df.rename(columns={'eventname': 'event_name', 'deviceidhash': 'user_id', \n",
    "                        'eventtimestamp': 'event_timestamp', 'expid': 'group_number'})"
   ]
  },
  {
   "cell_type": "code",
   "execution_count": 39,
   "metadata": {},
   "outputs": [],
   "source": [
    "# Заменим названия в столбце event_name\n",
    "df['event_name'] = df['event_name'].replace('MainScreenAppear', 'main_screen_appear', regex = True)\n",
    "df['event_name'] = df['event_name'].replace('PaymentScreenSuccessful', 'payment_screen_successful', regex = True)\n",
    "df['event_name'] = df['event_name'].replace('CartScreenAppear', 'cart_screen_appear', regex = True)\n",
    "df['event_name'] = df['event_name'].replace('OffersScreenAppear', 'offers_screen_appear', regex = True)\n",
    "df['event_name'] = df['event_name'].replace('Tutorial', 'tutorial', regex = True)"
   ]
  },
  {
   "cell_type": "markdown",
   "metadata": {},
   "source": [
    "##### Создадим столбцы с датой"
   ]
  },
  {
   "cell_type": "code",
   "execution_count": 40,
   "metadata": {},
   "outputs": [],
   "source": [
    "# Создаем столбец с датой\n",
    "df['date_time'] = pd.to_datetime(df['event_timestamp'], unit = 's')\n",
    "df['date'] = df['date_time'].dt.date\n",
    "\n",
    "# Приводим date к нужному типу данных\n",
    "df = df.astype({'date': 'datetime64[ns]'})"
   ]
  },
  {
   "cell_type": "markdown",
   "metadata": {},
   "source": [
    "**Вывод:**\n",
    "- Дубликаты удалены \n",
    "- Названия столбцов приведены к змеиному регистру\n",
    "- Созданы два столбца date и date_time с датой и датой с временем соответственно"
   ]
  },
  {
   "cell_type": "markdown",
   "metadata": {},
   "source": [
    "#### 3. Исследовательский анализ данных"
   ]
  },
  {
   "cell_type": "code",
   "execution_count": 41,
   "metadata": {},
   "outputs": [
    {
     "data": {
      "text/html": [
       "<div>\n",
       "<style scoped>\n",
       "    .dataframe tbody tr th:only-of-type {\n",
       "        vertical-align: middle;\n",
       "    }\n",
       "\n",
       "    .dataframe tbody tr th {\n",
       "        vertical-align: top;\n",
       "    }\n",
       "\n",
       "    .dataframe thead th {\n",
       "        text-align: right;\n",
       "    }\n",
       "</style>\n",
       "<table border=\"1\" class=\"dataframe\">\n",
       "  <thead>\n",
       "    <tr style=\"text-align: right;\">\n",
       "      <th></th>\n",
       "      <th>event_name</th>\n",
       "      <th>user_id</th>\n",
       "      <th>event_timestamp</th>\n",
       "      <th>group_number</th>\n",
       "      <th>date_time</th>\n",
       "      <th>date</th>\n",
       "    </tr>\n",
       "  </thead>\n",
       "  <tbody>\n",
       "    <tr>\n",
       "      <th>0</th>\n",
       "      <td>main_screen_appear</td>\n",
       "      <td>4575588528974610257</td>\n",
       "      <td>1564029816</td>\n",
       "      <td>246</td>\n",
       "      <td>2019-07-25 04:43:36</td>\n",
       "      <td>2019-07-25</td>\n",
       "    </tr>\n",
       "    <tr>\n",
       "      <th>1</th>\n",
       "      <td>main_screen_appear</td>\n",
       "      <td>7416695313311560658</td>\n",
       "      <td>1564053102</td>\n",
       "      <td>246</td>\n",
       "      <td>2019-07-25 11:11:42</td>\n",
       "      <td>2019-07-25</td>\n",
       "    </tr>\n",
       "    <tr>\n",
       "      <th>2</th>\n",
       "      <td>payment_screen_successful</td>\n",
       "      <td>3518123091307005509</td>\n",
       "      <td>1564054127</td>\n",
       "      <td>248</td>\n",
       "      <td>2019-07-25 11:28:47</td>\n",
       "      <td>2019-07-25</td>\n",
       "    </tr>\n",
       "    <tr>\n",
       "      <th>3</th>\n",
       "      <td>cart_screen_appear</td>\n",
       "      <td>3518123091307005509</td>\n",
       "      <td>1564054127</td>\n",
       "      <td>248</td>\n",
       "      <td>2019-07-25 11:28:47</td>\n",
       "      <td>2019-07-25</td>\n",
       "    </tr>\n",
       "    <tr>\n",
       "      <th>4</th>\n",
       "      <td>payment_screen_successful</td>\n",
       "      <td>6217807653094995999</td>\n",
       "      <td>1564055322</td>\n",
       "      <td>248</td>\n",
       "      <td>2019-07-25 11:48:42</td>\n",
       "      <td>2019-07-25</td>\n",
       "    </tr>\n",
       "  </tbody>\n",
       "</table>\n",
       "</div>"
      ],
      "text/plain": [
       "                  event_name              user_id  event_timestamp  \\\n",
       "0         main_screen_appear  4575588528974610257       1564029816   \n",
       "1         main_screen_appear  7416695313311560658       1564053102   \n",
       "2  payment_screen_successful  3518123091307005509       1564054127   \n",
       "3         cart_screen_appear  3518123091307005509       1564054127   \n",
       "4  payment_screen_successful  6217807653094995999       1564055322   \n",
       "\n",
       "   group_number           date_time       date  \n",
       "0           246 2019-07-25 04:43:36 2019-07-25  \n",
       "1           246 2019-07-25 11:11:42 2019-07-25  \n",
       "2           248 2019-07-25 11:28:47 2019-07-25  \n",
       "3           248 2019-07-25 11:28:47 2019-07-25  \n",
       "4           248 2019-07-25 11:48:42 2019-07-25  "
      ]
     },
     "metadata": {},
     "output_type": "display_data"
    }
   ],
   "source": [
    "# Выведем первые 5 строк\n",
    "display(df.head())"
   ]
  },
  {
   "cell_type": "markdown",
   "metadata": {},
   "source": [
    "##### Посмотрим сколько всего событий в логе"
   ]
  },
  {
   "cell_type": "code",
   "execution_count": 42,
   "metadata": {},
   "outputs": [
    {
     "name": "stdout",
     "output_type": "stream",
     "text": [
      "Событий в логе: 243713\n"
     ]
    }
   ],
   "source": [
    "# Выводим кол-во событий\n",
    "print('Событий в логе:', df['event_name'].count())"
   ]
  },
  {
   "cell_type": "code",
   "execution_count": 43,
   "metadata": {},
   "outputs": [
    {
     "data": {
      "text/plain": [
       "event_name\n",
       "main_screen_appear           119101\n",
       "offers_screen_appear          46808\n",
       "cart_screen_appear            42668\n",
       "payment_screen_successful     34118\n",
       "tutorial                       1018\n",
       "dtype: int64"
      ]
     },
     "metadata": {},
     "output_type": "display_data"
    }
   ],
   "source": [
    "# Выводим кол-во событий в разрезе по названию\n",
    "display(df.value_counts('event_name'))"
   ]
  },
  {
   "cell_type": "markdown",
   "metadata": {},
   "source": [
    "##### Посмотрим сколько всего пользователей в логе"
   ]
  },
  {
   "cell_type": "code",
   "execution_count": 44,
   "metadata": {},
   "outputs": [
    {
     "name": "stdout",
     "output_type": "stream",
     "text": [
      "Пользователей в логе: 7551\n"
     ]
    }
   ],
   "source": [
    "# Выводим кол-во пользователей\n",
    "print('Пользователей в логе:', df['user_id'].nunique())"
   ]
  },
  {
   "cell_type": "markdown",
   "metadata": {},
   "source": [
    "##### Посмотрим сколько в среднем событий приходится на пользователя"
   ]
  },
  {
   "cell_type": "code",
   "execution_count": 45,
   "metadata": {},
   "outputs": [
    {
     "name": "stdout",
     "output_type": "stream",
     "text": [
      "В среднем на одного пользователя приходится: 32.3 события\n"
     ]
    }
   ],
   "source": [
    "# Выводим кол-во событий на пользователя\n",
    "print('В среднем на одного пользователя приходится:', \n",
    "      round(df['event_name'].count()/df['user_id'].nunique(), 1), 'события')"
   ]
  },
  {
   "cell_type": "markdown",
   "metadata": {},
   "source": [
    "##### Посмотрим на распределение событий по дате"
   ]
  },
  {
   "cell_type": "code",
   "execution_count": 46,
   "metadata": {},
   "outputs": [
    {
     "name": "stdout",
     "output_type": "stream",
     "text": [
      "Минимальная дата: 2019-07-25 04:43:36\n",
      "Максимальная дата: 2019-08-07 21:15:17\n"
     ]
    }
   ],
   "source": [
    "# Выводим минимальную дату\n",
    "print('Минимальная дата:', df['date_time'].min())\n",
    "\n",
    "# Выводим максимальную дату\n",
    "print('Максимальная дата:', df['date_time'].max())"
   ]
  },
  {
   "cell_type": "markdown",
   "metadata": {},
   "source": [
    "Рамки временного диапазона датасета составляют: 2019-07-25 - 2019-08-07"
   ]
  },
  {
   "cell_type": "code",
   "execution_count": 47,
   "metadata": {},
   "outputs": [
    {
     "data": {
      "image/png": "[encoded data removed]",
      "text/plain": [
       "<Figure size 1152x576 with 1 Axes>"
      ]
     },
     "metadata": {
      "needs_background": "light"
     },
     "output_type": "display_data"
    }
   ],
   "source": [
    "# Построим график распределения даты\n",
    "df['date_time'].hist(figsize=(16, 8), bins=25)\n",
    "plt.title('Распределение даты')\n",
    "plt.xlabel('Дата', fontsize = 12)\n",
    "plt.ylabel('Кол-во событий', fontsize = 12)\n",
    "plt.show()"
   ]
  },
  {
   "cell_type": "code",
   "execution_count": 48,
   "metadata": {},
   "outputs": [
    {
     "data": {
      "text/plain": [
       "date\n",
       "2019-07-25        9\n",
       "2019-07-26       31\n",
       "2019-07-27       55\n",
       "2019-07-28      105\n",
       "2019-07-29      184\n",
       "2019-07-30      412\n",
       "2019-07-31     2030\n",
       "2019-08-01    36141\n",
       "2019-08-02    35554\n",
       "2019-08-03    33282\n",
       "2019-08-04    32968\n",
       "2019-08-05    36058\n",
       "2019-08-06    35788\n",
       "2019-08-07    31096\n",
       "Name: event_name, dtype: int64"
      ]
     },
     "metadata": {},
     "output_type": "display_data"
    }
   ],
   "source": [
    "# Выведем кол-во событий в разрезе по дате\n",
    "display(df.groupby('date')['event_name'].count())"
   ]
  },
  {
   "cell_type": "markdown",
   "metadata": {},
   "source": [
    "Мы видим неравномерное распределение данных. Начиная с 01.08.2019 данные становятся пригодными для анализа. Все события до этой даты мы отбрасываем, т.к. они могут исказить результат. "
   ]
  },
  {
   "cell_type": "markdown",
   "metadata": {},
   "source": [
    "##### Задаем рамки исследуемого диапазона"
   ]
  },
  {
   "cell_type": "code",
   "execution_count": 49,
   "metadata": {},
   "outputs": [],
   "source": [
    "# Создадим датафрейм data с заданным интервалом\n",
    "data = df.loc[(df['date'] >= '2019-08-01')]"
   ]
  },
  {
   "cell_type": "code",
   "execution_count": 50,
   "metadata": {},
   "outputs": [
    {
     "name": "stdout",
     "output_type": "stream",
     "text": [
      "Минимальная дата: 2019-08-01 00:07:28\n",
      "Максимальная дата: 2019-08-07 21:15:17\n"
     ]
    }
   ],
   "source": [
    "# Выводим минимальную дату\n",
    "print('Минимальная дата:', data['date_time'].min())\n",
    "\n",
    "# Выводим максимальную дату\n",
    "print('Максимальная дата:', data['date_time'].max())"
   ]
  },
  {
   "cell_type": "markdown",
   "metadata": {},
   "source": [
    "Мы распологаем данными с 01.08.2019 по 07.08.2019 (7 дней)."
   ]
  },
  {
   "cell_type": "code",
   "execution_count": 51,
   "metadata": {},
   "outputs": [
    {
     "name": "stdout",
     "output_type": "stream",
     "text": [
      "Событий отсечено: 2826 В процентном соотношении: 1.16 %\n",
      "Пользователей отсечено: 17 В процентном соотношении: 0.23 %\n"
     ]
    }
   ],
   "source": [
    "# Проверим много ли событий и пользователей мы потеряли, отбросив старые данные\n",
    "# Кол-во событий\n",
    "print('Событий отсечено:', df['event_name'].count() - data['event_name'].count(), 'В процентном соотношении:',\n",
    "     round((df['event_name'].count() - data['event_name'].count()) / df['event_name'].count() * 100, 2), '%')\n",
    "\n",
    "# Кол-во пользователей\n",
    "print('Пользователей отсечено:', df['user_id'].nunique() - data['user_id'].nunique(), 'В процентном соотношении:',\n",
    "     round((df['user_id'].nunique() - data['user_id'].nunique()) / df['user_id'].nunique() * 100, 2), '%')"
   ]
  },
  {
   "cell_type": "code",
   "execution_count": 52,
   "metadata": {},
   "outputs": [
    {
     "data": {
      "text/plain": [
       "array([246, 247, 248])"
      ]
     },
     "metadata": {},
     "output_type": "display_data"
    }
   ],
   "source": [
    "# Проверим, что у вас есть пользователи из всех трёх экспериментальных групп\n",
    "display(data['group_number'].unique())"
   ]
  },
  {
   "cell_type": "markdown",
   "metadata": {},
   "source": [
    "**Вывод:** \n",
    "\n",
    "Проанализировав датасет мы приняли решения отсечь данные для достоверного анализа. Мы отсекли 1.16 % событий и 0.23 % пользователей, что является допустимой погрешностью и не повлияет на общие результаты исследования. Исследуемый промежуток: с 01.08.2019 по 07.08.2019 (7 дней). Пользователи из всех трех экспериментальных групп присутствуют в обновленном датасете."
   ]
  },
  {
   "cell_type": "markdown",
   "metadata": {},
   "source": [
    "#### 4. Изучим воронку событий"
   ]
  },
  {
   "cell_type": "markdown",
   "metadata": {},
   "source": [
    "##### Посмотрим, какие события есть в логах и как часто они встречаются"
   ]
  },
  {
   "cell_type": "code",
   "execution_count": 54,
   "metadata": {},
   "outputs": [
    {
     "data": {
      "text/html": [
       "<div>\n",
       "<style scoped>\n",
       "    .dataframe tbody tr th:only-of-type {\n",
       "        vertical-align: middle;\n",
       "    }\n",
       "\n",
       "    .dataframe tbody tr th {\n",
       "        vertical-align: top;\n",
       "    }\n",
       "\n",
       "    .dataframe thead th {\n",
       "        text-align: right;\n",
       "    }\n",
       "</style>\n",
       "<table border=\"1\" class=\"dataframe\">\n",
       "  <thead>\n",
       "    <tr style=\"text-align: right;\">\n",
       "      <th></th>\n",
       "      <th>event_count</th>\n",
       "    </tr>\n",
       "    <tr>\n",
       "      <th>event_name</th>\n",
       "      <th></th>\n",
       "    </tr>\n",
       "  </thead>\n",
       "  <tbody>\n",
       "    <tr>\n",
       "      <th>main_screen_appear</th>\n",
       "      <td>117328</td>\n",
       "    </tr>\n",
       "    <tr>\n",
       "      <th>offers_screen_appear</th>\n",
       "      <td>46333</td>\n",
       "    </tr>\n",
       "    <tr>\n",
       "      <th>cart_screen_appear</th>\n",
       "      <td>42303</td>\n",
       "    </tr>\n",
       "    <tr>\n",
       "      <th>payment_screen_successful</th>\n",
       "      <td>33918</td>\n",
       "    </tr>\n",
       "    <tr>\n",
       "      <th>tutorial</th>\n",
       "      <td>1005</td>\n",
       "    </tr>\n",
       "  </tbody>\n",
       "</table>\n",
       "</div>"
      ],
      "text/plain": [
       "                           event_count\n",
       "event_name                            \n",
       "main_screen_appear              117328\n",
       "offers_screen_appear             46333\n",
       "cart_screen_appear               42303\n",
       "payment_screen_successful        33918\n",
       "tutorial                          1005"
      ]
     },
     "metadata": {},
     "output_type": "display_data"
    }
   ],
   "source": [
    "# Создаем таблицу\n",
    "event_count = data.groupby('event_name').agg({'event_name': 'count'})\n",
    "event_count.columns = ['event_count']\n",
    "\n",
    "# Выводим данные\n",
    "display(event_count.sort_values(by='event_count', ascending=False))"
   ]
  },
  {
   "cell_type": "markdown",
   "metadata": {},
   "source": [
    "##### Посчитаем, сколько пользователей совершали каждое из этих событий"
   ]
  },
  {
   "cell_type": "code",
   "execution_count": 55,
   "metadata": {},
   "outputs": [
    {
     "data": {
      "text/html": [
       "<div>\n",
       "<style scoped>\n",
       "    .dataframe tbody tr th:only-of-type {\n",
       "        vertical-align: middle;\n",
       "    }\n",
       "\n",
       "    .dataframe tbody tr th {\n",
       "        vertical-align: top;\n",
       "    }\n",
       "\n",
       "    .dataframe thead th {\n",
       "        text-align: right;\n",
       "    }\n",
       "</style>\n",
       "<table border=\"1\" class=\"dataframe\">\n",
       "  <thead>\n",
       "    <tr style=\"text-align: right;\">\n",
       "      <th></th>\n",
       "      <th>user_count</th>\n",
       "    </tr>\n",
       "    <tr>\n",
       "      <th>event_name</th>\n",
       "      <th></th>\n",
       "    </tr>\n",
       "  </thead>\n",
       "  <tbody>\n",
       "    <tr>\n",
       "      <th>main_screen_appear</th>\n",
       "      <td>7419</td>\n",
       "    </tr>\n",
       "    <tr>\n",
       "      <th>offers_screen_appear</th>\n",
       "      <td>4593</td>\n",
       "    </tr>\n",
       "    <tr>\n",
       "      <th>cart_screen_appear</th>\n",
       "      <td>3734</td>\n",
       "    </tr>\n",
       "    <tr>\n",
       "      <th>payment_screen_successful</th>\n",
       "      <td>3539</td>\n",
       "    </tr>\n",
       "    <tr>\n",
       "      <th>tutorial</th>\n",
       "      <td>840</td>\n",
       "    </tr>\n",
       "  </tbody>\n",
       "</table>\n",
       "</div>"
      ],
      "text/plain": [
       "                           user_count\n",
       "event_name                           \n",
       "main_screen_appear               7419\n",
       "offers_screen_appear             4593\n",
       "cart_screen_appear               3734\n",
       "payment_screen_successful        3539\n",
       "tutorial                          840"
      ]
     },
     "metadata": {},
     "output_type": "display_data"
    }
   ],
   "source": [
    "# Создаем таблицу\n",
    "user_count = data.groupby('event_name').agg({'user_id': 'nunique'}).sort_values(by='user_id', ascending=False)\n",
    "user_count.columns = ['user_count']\n",
    "\n",
    "# Выводим данные\n",
    "display(user_count)"
   ]
  },
  {
   "cell_type": "markdown",
   "metadata": {},
   "source": [
    "##### Посчитаем долю пользователей, которые хоть раз совершали событие"
   ]
  },
  {
   "cell_type": "code",
   "execution_count": 56,
   "metadata": {
    "scrolled": false
   },
   "outputs": [
    {
     "data": {
      "text/html": [
       "<div>\n",
       "<style scoped>\n",
       "    .dataframe tbody tr th:only-of-type {\n",
       "        vertical-align: middle;\n",
       "    }\n",
       "\n",
       "    .dataframe tbody tr th {\n",
       "        vertical-align: top;\n",
       "    }\n",
       "\n",
       "    .dataframe thead th {\n",
       "        text-align: right;\n",
       "    }\n",
       "</style>\n",
       "<table border=\"1\" class=\"dataframe\">\n",
       "  <thead>\n",
       "    <tr style=\"text-align: right;\">\n",
       "      <th></th>\n",
       "      <th>event_name</th>\n",
       "      <th>event_count</th>\n",
       "      <th>user_count</th>\n",
       "      <th>conversion</th>\n",
       "    </tr>\n",
       "  </thead>\n",
       "  <tbody>\n",
       "    <tr>\n",
       "      <th>0</th>\n",
       "      <td>main_screen_appear</td>\n",
       "      <td>117328</td>\n",
       "      <td>7419</td>\n",
       "      <td>98.47</td>\n",
       "    </tr>\n",
       "    <tr>\n",
       "      <th>1</th>\n",
       "      <td>offers_screen_appear</td>\n",
       "      <td>46333</td>\n",
       "      <td>4593</td>\n",
       "      <td>60.96</td>\n",
       "    </tr>\n",
       "    <tr>\n",
       "      <th>2</th>\n",
       "      <td>cart_screen_appear</td>\n",
       "      <td>42303</td>\n",
       "      <td>3734</td>\n",
       "      <td>49.56</td>\n",
       "    </tr>\n",
       "    <tr>\n",
       "      <th>3</th>\n",
       "      <td>payment_screen_successful</td>\n",
       "      <td>33918</td>\n",
       "      <td>3539</td>\n",
       "      <td>46.97</td>\n",
       "    </tr>\n",
       "  </tbody>\n",
       "</table>\n",
       "</div>"
      ],
      "text/plain": [
       "                  event_name  event_count  user_count  conversion\n",
       "0         main_screen_appear       117328        7419       98.47\n",
       "1       offers_screen_appear        46333        4593       60.96\n",
       "2         cart_screen_appear        42303        3734       49.56\n",
       "3  payment_screen_successful        33918        3539       46.97"
      ]
     },
     "metadata": {},
     "output_type": "display_data"
    }
   ],
   "source": [
    "# Соединяем таблицы\n",
    "user_activity = event_count.merge(user_count, on='event_name').sort_values(by='user_count', ascending=False)\n",
    "user_activity['conversion'] = round(user_activity['user_count'] / data['user_id'].nunique() * 100, 2)\n",
    "\n",
    "# Уберем tutorial из воронки\n",
    "user_activity = user_activity.query('event_name != \"tutorial\"').reset_index()\n",
    "\n",
    "# Выводим данные\n",
    "display(user_activity)"
   ]
  },
  {
   "cell_type": "code",
   "execution_count": 57,
   "metadata": {},
   "outputs": [
    {
     "data": {
      "image/png": "[encoded data removed]"
     },
     "metadata": {},
     "output_type": "display_data"
    }
   ],
   "source": [
    "# Строим воронку\n",
    "fig = go.Figure(go.Funnel(y = user_activity['event_name'],\n",
    "                          x = user_activity['conversion'],\n",
    "                          opacity = 0.6))\n",
    "fig.update_layout(title_text='Доля пользователей, которые хоть раз совершали событие')\n",
    "fig.show()"
   ]
  },
  {
   "cell_type": "markdown",
   "metadata": {},
   "source": [
    "Из расчетов можно предположить последовательность действий пользователей.\n",
    "- переход на главную страницу (98.47%)\n",
    "- переход на страницу товаров (60.96%)\n",
    "- переход в корзину (49.56%)\n",
    "- подтверждение оплаты (46.97%)\n"
   ]
  },
  {
   "cell_type": "markdown",
   "metadata": {},
   "source": [
    "##### По воронке событий посчитаем, какая доля пользователей проходит на следующий шаг воронки (от числа пользователей на предыдущем)"
   ]
  },
  {
   "cell_type": "code",
   "execution_count": 58,
   "metadata": {},
   "outputs": [
    {
     "data": {
      "image/png": "[encoded data removed]"
     },
     "metadata": {},
     "output_type": "display_data"
    }
   ],
   "source": [
    "# Добавляем столбец с конверсией\n",
    "user_activity['conversion_by_step'] = round((user_activity['user_count'].pct_change().fillna(0)+1) * 100, 2)\n",
    "\n",
    "# Строим воронку\n",
    "fig = go.Figure(go.Funnel(y = user_activity['event_name'],\n",
    "                          x = user_activity['conversion_by_step'],\n",
    "                          opacity = 0.6))\n",
    "fig.update_layout(title_text='Доля пользователей, проходящая на следующий шаг воронки')\n",
    "fig.show()"
   ]
  },
  {
   "cell_type": "markdown",
   "metadata": {},
   "source": [
    "**Вывод:**\n",
    "Последовательность действий выглядит следующим образом:\n",
    "- переход на главную страницу (98.47%)\n",
    "- переход на страницу товаров (60.96%)\n",
    "- переход в корзину (49.56%)\n",
    "- подтверждение оплаты (46.97%)\n",
    "\n",
    "От первого шага до оплаты доходит 46.97% покупателей. \n",
    "\n",
    "*Самый слабые шаг по конверсии - offers_screen_appear (61.91%).* \n",
    "\n",
    "Если tutorial для нас не так важен, т.к. покупатель уже совершил покупку, то на offers_screen_appear стоит обратить внимание, т.к. при переходе с главной страницы на страницу с предложением товара \"отваливается\" большой процент людей, а именно - 38%. Стоит поработать с конверсией именно на этом шаге."
   ]
  },
  {
   "cell_type": "markdown",
   "metadata": {},
   "source": [
    "#### 5. Изучим результаты эксперимента"
   ]
  },
  {
   "cell_type": "markdown",
   "metadata": {},
   "source": [
    "##### Посмотрим сколько пользователей в каждой экспериментальной группе"
   ]
  },
  {
   "cell_type": "code",
   "execution_count": 59,
   "metadata": {},
   "outputs": [
    {
     "data": {
      "text/html": [
       "<div>\n",
       "<style scoped>\n",
       "    .dataframe tbody tr th:only-of-type {\n",
       "        vertical-align: middle;\n",
       "    }\n",
       "\n",
       "    .dataframe tbody tr th {\n",
       "        vertical-align: top;\n",
       "    }\n",
       "\n",
       "    .dataframe thead th {\n",
       "        text-align: right;\n",
       "    }\n",
       "</style>\n",
       "<table border=\"1\" class=\"dataframe\">\n",
       "  <thead>\n",
       "    <tr style=\"text-align: right;\">\n",
       "      <th></th>\n",
       "      <th>user_id</th>\n",
       "    </tr>\n",
       "    <tr>\n",
       "      <th>group_number</th>\n",
       "      <th></th>\n",
       "    </tr>\n",
       "  </thead>\n",
       "  <tbody>\n",
       "    <tr>\n",
       "      <th>246</th>\n",
       "      <td>2484</td>\n",
       "    </tr>\n",
       "    <tr>\n",
       "      <th>247</th>\n",
       "      <td>2513</td>\n",
       "    </tr>\n",
       "    <tr>\n",
       "      <th>248</th>\n",
       "      <td>2537</td>\n",
       "    </tr>\n",
       "  </tbody>\n",
       "</table>\n",
       "</div>"
      ],
      "text/plain": [
       "              user_id\n",
       "group_number         \n",
       "246              2484\n",
       "247              2513\n",
       "248              2537"
      ]
     },
     "metadata": {},
     "output_type": "display_data"
    }
   ],
   "source": [
    "# Группируем таблицу\n",
    "group = data.groupby('group_number').agg({'user_id': 'nunique'})\n",
    "\n",
    "# Выводим данные\n",
    "display(group)"
   ]
  },
  {
   "cell_type": "markdown",
   "metadata": {},
   "source": [
    "- В группе 246 - 2484 пользователя\n",
    "- В группе 247 - 2513 пользователя\n",
    "- В группе 248 - 2537 пользователя"
   ]
  },
  {
   "cell_type": "code",
   "execution_count": 60,
   "metadata": {},
   "outputs": [
    {
     "data": {
      "text/html": [
       "<div>\n",
       "<style scoped>\n",
       "    .dataframe tbody tr th:only-of-type {\n",
       "        vertical-align: middle;\n",
       "    }\n",
       "\n",
       "    .dataframe tbody tr th {\n",
       "        vertical-align: top;\n",
       "    }\n",
       "\n",
       "    .dataframe thead th {\n",
       "        text-align: right;\n",
       "    }\n",
       "</style>\n",
       "<table border=\"1\" class=\"dataframe\">\n",
       "  <thead>\n",
       "    <tr style=\"text-align: right;\">\n",
       "      <th></th>\n",
       "      <th>group_number</th>\n",
       "      <th>user_id</th>\n",
       "    </tr>\n",
       "  </thead>\n",
       "  <tbody>\n",
       "    <tr>\n",
       "      <th>0</th>\n",
       "      <td>246</td>\n",
       "      <td>2484</td>\n",
       "    </tr>\n",
       "    <tr>\n",
       "      <th>1</th>\n",
       "      <td>247</td>\n",
       "      <td>2513</td>\n",
       "    </tr>\n",
       "    <tr>\n",
       "      <th>2</th>\n",
       "      <td>248</td>\n",
       "      <td>2537</td>\n",
       "    </tr>\n",
       "  </tbody>\n",
       "</table>\n",
       "</div>"
      ],
      "text/plain": [
       "   group_number  user_id\n",
       "0           246     2484\n",
       "1           247     2513\n",
       "2           248     2537"
      ]
     },
     "metadata": {},
     "output_type": "display_data"
    }
   ],
   "source": [
    "# Найдем пересекающихся пользователей\n",
    "group_crossed = group.reset_index()\n",
    "display(group_crossed)"
   ]
  },
  {
   "cell_type": "code",
   "execution_count": 61,
   "metadata": {},
   "outputs": [
    {
     "name": "stdout",
     "output_type": "stream",
     "text": [
      "Количество покупателей, которые попали в группы 246 и 247: 0\n",
      "Количество покупателей, которые попали в группы 247 и 248: 0\n",
      "Количество покупателей, которые попали в группы 246 и 248: 0\n"
     ]
    }
   ],
   "source": [
    "# Задаем таблицы\n",
    "group_246 = group_crossed.query('group_number == 246')\n",
    "group_247 = group_crossed.query('group_number == 247')\n",
    "group_248 = group_crossed.query('group_number == 248')\n",
    "\n",
    "# Попарно находим уникальные id пользователей\n",
    "group_aa = group_246.merge(group_247, on='user_id')['user_id'].unique()\n",
    "group_ab = group_247.merge(group_248, on='user_id')['user_id'].unique()\n",
    "group_bb = group_246.merge(group_248, on='user_id')['user_id'].unique()\n",
    "\n",
    "# Выводим данные\n",
    "print(f'Количество покупателей, которые попали в группы 246 и 247: {len(group_ab)}')\n",
    "print(f'Количество покупателей, которые попали в группы 247 и 248: {len(group_ab)}')\n",
    "print(f'Количество покупателей, которые попали в группы 246 и 248: {len(group_ab)}')"
   ]
  },
  {
   "cell_type": "markdown",
   "metadata": {},
   "source": [
    "Пересекающихся пользователей между группами 246, 247, 248 - не обнаружено."
   ]
  },
  {
   "cell_type": "markdown",
   "metadata": {},
   "source": [
    "##### Проверим, находят ли статистические критерии разницу между выборками 246 и 247"
   ]
  },
  {
   "cell_type": "code",
   "execution_count": 36,
   "metadata": {},
   "outputs": [
    {
     "name": "stdout",
     "output_type": "stream",
     "text": [
      "Разница пользователей между выборками составляет 1.15 %\n"
     ]
    }
   ],
   "source": [
    "# Находим разницу пользователей\n",
    "print('Разница пользователей между выборками составляет', \\\n",
    "      round(100 - (group.loc[246, 'user_id'] / group.loc[247, 'user_id'] * 100), 2), '%')"
   ]
  },
  {
   "cell_type": "markdown",
   "metadata": {},
   "source": [
    "1.15 % разницы пользователей не является критически значимой для исследования."
   ]
  },
  {
   "cell_type": "markdown",
   "metadata": {},
   "source": [
    "##### Посчитаем число пользователей, совершивших самое популярное событие в каждой из контрольных групп"
   ]
  },
  {
   "cell_type": "markdown",
   "metadata": {},
   "source": [
    "Исходя из предыдущих расчетов, самое популярное событие - main_screen_appear с конверсией 98.47% и кол-вом переходов 117 328 раз"
   ]
  },
  {
   "cell_type": "code",
   "execution_count": 62,
   "metadata": {},
   "outputs": [
    {
     "data": {
      "text/html": [
       "<div>\n",
       "<style scoped>\n",
       "    .dataframe tbody tr th:only-of-type {\n",
       "        vertical-align: middle;\n",
       "    }\n",
       "\n",
       "    .dataframe tbody tr th {\n",
       "        vertical-align: top;\n",
       "    }\n",
       "\n",
       "    .dataframe thead th {\n",
       "        text-align: right;\n",
       "    }\n",
       "</style>\n",
       "<table border=\"1\" class=\"dataframe\">\n",
       "  <thead>\n",
       "    <tr style=\"text-align: right;\">\n",
       "      <th>group_number</th>\n",
       "      <th>246</th>\n",
       "      <th>247</th>\n",
       "      <th>248</th>\n",
       "    </tr>\n",
       "    <tr>\n",
       "      <th>event_name</th>\n",
       "      <th></th>\n",
       "      <th></th>\n",
       "      <th></th>\n",
       "    </tr>\n",
       "  </thead>\n",
       "  <tbody>\n",
       "    <tr>\n",
       "      <th>main_screen_appear</th>\n",
       "      <td>2450</td>\n",
       "      <td>2476</td>\n",
       "      <td>2493</td>\n",
       "    </tr>\n",
       "    <tr>\n",
       "      <th>offers_screen_appear</th>\n",
       "      <td>1542</td>\n",
       "      <td>1520</td>\n",
       "      <td>1531</td>\n",
       "    </tr>\n",
       "    <tr>\n",
       "      <th>cart_screen_appear</th>\n",
       "      <td>1266</td>\n",
       "      <td>1238</td>\n",
       "      <td>1230</td>\n",
       "    </tr>\n",
       "    <tr>\n",
       "      <th>payment_screen_successful</th>\n",
       "      <td>1200</td>\n",
       "      <td>1158</td>\n",
       "      <td>1181</td>\n",
       "    </tr>\n",
       "    <tr>\n",
       "      <th>tutorial</th>\n",
       "      <td>278</td>\n",
       "      <td>283</td>\n",
       "      <td>279</td>\n",
       "    </tr>\n",
       "  </tbody>\n",
       "</table>\n",
       "</div>"
      ],
      "text/plain": [
       "group_number                246   247   248\n",
       "event_name                                 \n",
       "main_screen_appear         2450  2476  2493\n",
       "offers_screen_appear       1542  1520  1531\n",
       "cart_screen_appear         1266  1238  1230\n",
       "payment_screen_successful  1200  1158  1181\n",
       "tutorial                    278   283   279"
      ]
     },
     "metadata": {},
     "output_type": "display_data"
    }
   ],
   "source": [
    "# Строим таблицу с кол-вом пользователей по контрольным группам\n",
    "event = data.pivot_table(index='event_name', \n",
    "                         columns='group_number', \n",
    "                         values='user_id', \n",
    "                         aggfunc='nunique').sort_values(by=246, ascending=False)\n",
    "\n",
    "# Выводим данные\n",
    "display(event)"
   ]
  },
  {
   "cell_type": "markdown",
   "metadata": {},
   "source": [
    "- Количество уникальных пользователей в группе 246 = 2450\n",
    "- Количество уникальных пользователей в группе 247 = 2476"
   ]
  },
  {
   "cell_type": "markdown",
   "metadata": {},
   "source": [
    "##### Посчитаем долю пользователей, совершивших это событие"
   ]
  },
  {
   "cell_type": "code",
   "execution_count": 64,
   "metadata": {},
   "outputs": [
    {
     "data": {
      "text/html": [
       "<div>\n",
       "<style scoped>\n",
       "    .dataframe tbody tr th:only-of-type {\n",
       "        vertical-align: middle;\n",
       "    }\n",
       "\n",
       "    .dataframe tbody tr th {\n",
       "        vertical-align: top;\n",
       "    }\n",
       "\n",
       "    .dataframe thead th {\n",
       "        text-align: right;\n",
       "    }\n",
       "</style>\n",
       "<table border=\"1\" class=\"dataframe\">\n",
       "  <thead>\n",
       "    <tr style=\"text-align: right;\">\n",
       "      <th>group_number</th>\n",
       "      <th>246</th>\n",
       "      <th>247</th>\n",
       "      <th>248</th>\n",
       "      <th>user_percent_246</th>\n",
       "      <th>user_percent_247</th>\n",
       "    </tr>\n",
       "    <tr>\n",
       "      <th>event_name</th>\n",
       "      <th></th>\n",
       "      <th></th>\n",
       "      <th></th>\n",
       "      <th></th>\n",
       "      <th></th>\n",
       "    </tr>\n",
       "  </thead>\n",
       "  <tbody>\n",
       "    <tr>\n",
       "      <th>main_screen_appear</th>\n",
       "      <td>2450</td>\n",
       "      <td>2476</td>\n",
       "      <td>2493</td>\n",
       "      <td>32.52</td>\n",
       "      <td>32.86</td>\n",
       "    </tr>\n",
       "    <tr>\n",
       "      <th>offers_screen_appear</th>\n",
       "      <td>1542</td>\n",
       "      <td>1520</td>\n",
       "      <td>1531</td>\n",
       "      <td>20.47</td>\n",
       "      <td>20.18</td>\n",
       "    </tr>\n",
       "    <tr>\n",
       "      <th>cart_screen_appear</th>\n",
       "      <td>1266</td>\n",
       "      <td>1238</td>\n",
       "      <td>1230</td>\n",
       "      <td>16.80</td>\n",
       "      <td>16.43</td>\n",
       "    </tr>\n",
       "    <tr>\n",
       "      <th>payment_screen_successful</th>\n",
       "      <td>1200</td>\n",
       "      <td>1158</td>\n",
       "      <td>1181</td>\n",
       "      <td>15.93</td>\n",
       "      <td>15.37</td>\n",
       "    </tr>\n",
       "    <tr>\n",
       "      <th>tutorial</th>\n",
       "      <td>278</td>\n",
       "      <td>283</td>\n",
       "      <td>279</td>\n",
       "      <td>3.69</td>\n",
       "      <td>3.76</td>\n",
       "    </tr>\n",
       "  </tbody>\n",
       "</table>\n",
       "</div>"
      ],
      "text/plain": [
       "group_number                246   247   248  user_percent_246  \\\n",
       "event_name                                                      \n",
       "main_screen_appear         2450  2476  2493             32.52   \n",
       "offers_screen_appear       1542  1520  1531             20.47   \n",
       "cart_screen_appear         1266  1238  1230             16.80   \n",
       "payment_screen_successful  1200  1158  1181             15.93   \n",
       "tutorial                    278   283   279              3.69   \n",
       "\n",
       "group_number               user_percent_247  \n",
       "event_name                                   \n",
       "main_screen_appear                    32.86  \n",
       "offers_screen_appear                  20.18  \n",
       "cart_screen_appear                    16.43  \n",
       "payment_screen_successful             15.37  \n",
       "tutorial                               3.76  "
      ]
     },
     "metadata": {},
     "output_type": "display_data"
    }
   ],
   "source": [
    "# Создаем столбцы с долей пользователей по группам 246 и 247\n",
    "event['user_percent_246'] = round((event[246] / data['user_id'].nunique() * 100), 2)\n",
    "event['user_percent_247'] = round((event[247] / data['user_id'].nunique() * 100), 2)\n",
    "\n",
    "# Выводим данные\n",
    "display(event)"
   ]
  },
  {
   "cell_type": "markdown",
   "metadata": {},
   "source": [
    "- Доля уникальных пользователей в группе 246 = 32.52%\n",
    "- Доля уникальных пользователей в группе 247 = 32.86%"
   ]
  },
  {
   "cell_type": "markdown",
   "metadata": {},
   "source": [
    "##### Проверим, будет ли отличие между группами статистически достоверным"
   ]
  },
  {
   "cell_type": "markdown",
   "metadata": {},
   "source": [
    "Проверим гипотезу о равенстве долей уникальных пользователей между группами 246 и 247.\n",
    "Сформулируем гипотезы:\n",
    "- H0: Доля уникальных пользователей в обеих группах равна\n",
    "- H1: Количество уникальных пользователей в обеих группах имеет значимое различие\n",
    "\n",
    "- alpha = 0.05"
   ]
  },
  {
   "cell_type": "code",
   "execution_count": 39,
   "metadata": {},
   "outputs": [],
   "source": [
    "# Напишем функцию для z-теста:\n",
    "def z_test(a, b , c, d):\n",
    "\n",
    "    successes = np.array([c, d])\n",
    "    trials = np.array([a, b])\n",
    "    p1 = successes[0]/trials[0]\n",
    "    p2 = successes[1]/trials[1]\n",
    "    p_combined = (successes[0] + successes[1]) / (trials[0] + trials[1])\n",
    "    difference = p1 - p2 \n",
    "\n",
    "    z_value = difference / mth.sqrt(p_combined * (1 - p_combined) * (1/trials[0] + 1/trials[1]))\n",
    "    distr = st.norm(0, 1)  \n",
    "\n",
    "    p_value = (1 - distr.cdf(abs(z_value))) * 2\n",
    "    print('p-значение: ', p_value)\n",
    "\n",
    "    if p_value < alpha:\n",
    "        print('Отвергаем нулевую гипотезу, имеется значимое различие в группах')\n",
    "    else:\n",
    "        print(\n",
    "            'Не получилось отвергнуть нулевую гипотезу, значения в группах равны') "
   ]
  },
  {
   "cell_type": "code",
   "execution_count": 40,
   "metadata": {},
   "outputs": [
    {
     "name": "stdout",
     "output_type": "stream",
     "text": [
      "p-значение:  0.7570597232046099\n",
      "Не получилось отвергнуть нулевую гипотезу, значения в группах равны\n"
     ]
    }
   ],
   "source": [
    "# Зададим значения alpha:\n",
    "alpha = 0.05\n",
    "\n",
    "# Проведем z-тест:\n",
    "z_test(group.loc[246, 'user_id'], \n",
    "       group.loc[247, 'user_id'], \n",
    "       event.loc['main_screen_appear', 246], \n",
    "       event.loc['main_screen_appear', 247])"
   ]
  },
  {
   "cell_type": "markdown",
   "metadata": {},
   "source": [
    "##### Проведем анализ для остальных событий с контрольными группами"
   ]
  },
  {
   "cell_type": "code",
   "execution_count": 41,
   "metadata": {},
   "outputs": [
    {
     "name": "stdout",
     "output_type": "stream",
     "text": [
      "Столбец: main_screen_appear\n",
      "p-значение:  0.7570597232046099\n",
      "Не получилось отвергнуть нулевую гипотезу, значения в группах равны\n",
      "\n",
      "Столбец: offers_screen_appear\n",
      "p-значение:  0.2480954578522181\n",
      "Не получилось отвергнуть нулевую гипотезу, значения в группах равны\n",
      "\n",
      "Столбец: cart_screen_appear\n",
      "p-значение:  0.22883372237997213\n",
      "Не получилось отвергнуть нулевую гипотезу, значения в группах равны\n",
      "\n",
      "Столбец: payment_screen_successful\n",
      "p-значение:  0.11456679313141849\n",
      "Не получилось отвергнуть нулевую гипотезу, значения в группах равны\n",
      "\n",
      "Столбец: tutorial\n",
      "p-значение:  0.9376996189257114\n",
      "Не получилось отвергнуть нулевую гипотезу, значения в группах равны\n",
      "\n"
     ]
    }
   ],
   "source": [
    "# Зададим значения alpha:\n",
    "alpha = 0.05\n",
    "\n",
    "# Проведем z-тест:\n",
    "for c, r in event.iterrows():\n",
    "    print('Столбец:', c)\n",
    "    z_test(group.loc[246, 'user_id'], \n",
    "           group.loc[247, 'user_id'], \n",
    "           r[246],\n",
    "           r[247])\n",
    "    print()"
   ]
  },
  {
   "cell_type": "markdown",
   "metadata": {},
   "source": [
    "**Вывод:** между контрольными группами 246 и 247 нет статистической разницы. Разбитие на группы работает корректно."
   ]
  },
  {
   "cell_type": "markdown",
   "metadata": {},
   "source": [
    "##### Сравним результаты группы 248 с каждой из контрольных групп в отдельности по каждому событию"
   ]
  },
  {
   "cell_type": "code",
   "execution_count": 65,
   "metadata": {},
   "outputs": [
    {
     "data": {
      "text/html": [
       "<div>\n",
       "<style scoped>\n",
       "    .dataframe tbody tr th:only-of-type {\n",
       "        vertical-align: middle;\n",
       "    }\n",
       "\n",
       "    .dataframe tbody tr th {\n",
       "        vertical-align: top;\n",
       "    }\n",
       "\n",
       "    .dataframe thead th {\n",
       "        text-align: right;\n",
       "    }\n",
       "</style>\n",
       "<table border=\"1\" class=\"dataframe\">\n",
       "  <thead>\n",
       "    <tr style=\"text-align: right;\">\n",
       "      <th>group_number</th>\n",
       "      <th>246</th>\n",
       "      <th>247</th>\n",
       "      <th>248</th>\n",
       "      <th>user_percent_246</th>\n",
       "      <th>user_percent_247</th>\n",
       "      <th>join_group</th>\n",
       "    </tr>\n",
       "    <tr>\n",
       "      <th>event_name</th>\n",
       "      <th></th>\n",
       "      <th></th>\n",
       "      <th></th>\n",
       "      <th></th>\n",
       "      <th></th>\n",
       "      <th></th>\n",
       "    </tr>\n",
       "  </thead>\n",
       "  <tbody>\n",
       "    <tr>\n",
       "      <th>main_screen_appear</th>\n",
       "      <td>2450</td>\n",
       "      <td>2476</td>\n",
       "      <td>2493</td>\n",
       "      <td>32.52</td>\n",
       "      <td>32.86</td>\n",
       "      <td>4926</td>\n",
       "    </tr>\n",
       "    <tr>\n",
       "      <th>offers_screen_appear</th>\n",
       "      <td>1542</td>\n",
       "      <td>1520</td>\n",
       "      <td>1531</td>\n",
       "      <td>20.47</td>\n",
       "      <td>20.18</td>\n",
       "      <td>3062</td>\n",
       "    </tr>\n",
       "    <tr>\n",
       "      <th>cart_screen_appear</th>\n",
       "      <td>1266</td>\n",
       "      <td>1238</td>\n",
       "      <td>1230</td>\n",
       "      <td>16.80</td>\n",
       "      <td>16.43</td>\n",
       "      <td>2504</td>\n",
       "    </tr>\n",
       "    <tr>\n",
       "      <th>payment_screen_successful</th>\n",
       "      <td>1200</td>\n",
       "      <td>1158</td>\n",
       "      <td>1181</td>\n",
       "      <td>15.93</td>\n",
       "      <td>15.37</td>\n",
       "      <td>2358</td>\n",
       "    </tr>\n",
       "    <tr>\n",
       "      <th>tutorial</th>\n",
       "      <td>278</td>\n",
       "      <td>283</td>\n",
       "      <td>279</td>\n",
       "      <td>3.69</td>\n",
       "      <td>3.76</td>\n",
       "      <td>561</td>\n",
       "    </tr>\n",
       "  </tbody>\n",
       "</table>\n",
       "</div>"
      ],
      "text/plain": [
       "group_number                246   247   248  user_percent_246  \\\n",
       "event_name                                                      \n",
       "main_screen_appear         2450  2476  2493             32.52   \n",
       "offers_screen_appear       1542  1520  1531             20.47   \n",
       "cart_screen_appear         1266  1238  1230             16.80   \n",
       "payment_screen_successful  1200  1158  1181             15.93   \n",
       "tutorial                    278   283   279              3.69   \n",
       "\n",
       "group_number               user_percent_247  join_group  \n",
       "event_name                                               \n",
       "main_screen_appear                    32.86        4926  \n",
       "offers_screen_appear                  20.18        3062  \n",
       "cart_screen_appear                    16.43        2504  \n",
       "payment_screen_successful             15.37        2358  \n",
       "tutorial                               3.76         561  "
      ]
     },
     "metadata": {},
     "output_type": "display_data"
    }
   ],
   "source": [
    "# Добавим столбец join_group с суммой числа пользователей из 246 и 247 группы:\n",
    "event['join_group'] = event[246] + event[247]\n",
    "\n",
    "# Выводим данные\n",
    "display(event)"
   ]
  },
  {
   "cell_type": "code",
   "execution_count": 66,
   "metadata": {},
   "outputs": [
    {
     "data": {
      "text/html": [
       "<div>\n",
       "<style scoped>\n",
       "    .dataframe tbody tr th:only-of-type {\n",
       "        vertical-align: middle;\n",
       "    }\n",
       "\n",
       "    .dataframe tbody tr th {\n",
       "        vertical-align: top;\n",
       "    }\n",
       "\n",
       "    .dataframe thead th {\n",
       "        text-align: right;\n",
       "    }\n",
       "</style>\n",
       "<table border=\"1\" class=\"dataframe\">\n",
       "  <thead>\n",
       "    <tr style=\"text-align: right;\">\n",
       "      <th></th>\n",
       "      <th>user_id</th>\n",
       "    </tr>\n",
       "    <tr>\n",
       "      <th>group_number</th>\n",
       "      <th></th>\n",
       "    </tr>\n",
       "  </thead>\n",
       "  <tbody>\n",
       "    <tr>\n",
       "      <th>246</th>\n",
       "      <td>2484</td>\n",
       "    </tr>\n",
       "    <tr>\n",
       "      <th>247</th>\n",
       "      <td>2513</td>\n",
       "    </tr>\n",
       "    <tr>\n",
       "      <th>248</th>\n",
       "      <td>2537</td>\n",
       "    </tr>\n",
       "    <tr>\n",
       "      <th>sum</th>\n",
       "      <td>4997</td>\n",
       "    </tr>\n",
       "  </tbody>\n",
       "</table>\n",
       "</div>"
      ],
      "text/plain": [
       "              user_id\n",
       "group_number         \n",
       "246              2484\n",
       "247              2513\n",
       "248              2537\n",
       "sum              4997"
      ]
     },
     "metadata": {},
     "output_type": "display_data"
    }
   ],
   "source": [
    "# Добавим строку sum с суммой пользователей из 246 и 247 группой:\n",
    "group.loc['sum'] = group.loc[246, 'user_id'] + group.loc[247, 'user_id']\n",
    "\n",
    "# Выводим данные\n",
    "display(group)"
   ]
  },
  {
   "cell_type": "markdown",
   "metadata": {},
   "source": [
    "Сформулируем гипотезы:\n",
    "- H0: Доля уникальных пользователей в обеих группах равна\n",
    "- H1: Количество уникальных пользователей в обеих группах имеет значимое различие\n",
    "\n",
    "- alpha = 0.05"
   ]
  },
  {
   "cell_type": "markdown",
   "metadata": {},
   "source": [
    "Проведем тест для 246 и 248 групп:"
   ]
  },
  {
   "cell_type": "code",
   "execution_count": 44,
   "metadata": {},
   "outputs": [
    {
     "name": "stdout",
     "output_type": "stream",
     "text": [
      "Столбец: main_screen_appear\n",
      "p-значение:  0.2949721933554552\n",
      "Не получилось отвергнуть нулевую гипотезу, значения в группах равны\n",
      "\n",
      "Столбец: offers_screen_appear\n",
      "p-значение:  0.20836205402738917\n",
      "Не получилось отвергнуть нулевую гипотезу, значения в группах равны\n",
      "\n",
      "Столбец: cart_screen_appear\n",
      "p-значение:  0.07842923237520116\n",
      "Не получилось отвергнуть нулевую гипотезу, значения в группах равны\n",
      "\n",
      "Столбец: payment_screen_successful\n",
      "p-значение:  0.2122553275697796\n",
      "Не получилось отвергнуть нулевую гипотезу, значения в группах равны\n",
      "\n",
      "Столбец: tutorial\n",
      "p-значение:  0.8264294010087645\n",
      "Не получилось отвергнуть нулевую гипотезу, значения в группах равны\n",
      "\n"
     ]
    }
   ],
   "source": [
    "# Зададим значения alpha:\n",
    "alpha = 0.05\n",
    "\n",
    "# Проведем z-тест:\n",
    "for c, r in event.iterrows():\n",
    "    print('Столбец:', c)\n",
    "    z_test(group.loc[246, 'user_id'], \n",
    "           group.loc[248, 'user_id'], \n",
    "           r[246],\n",
    "           r[248])\n",
    "    print()"
   ]
  },
  {
   "cell_type": "markdown",
   "metadata": {},
   "source": [
    "Проведем тест для 247 и 248 групп:"
   ]
  },
  {
   "cell_type": "code",
   "execution_count": 45,
   "metadata": {},
   "outputs": [
    {
     "name": "stdout",
     "output_type": "stream",
     "text": [
      "Столбец: main_screen_appear\n",
      "p-значение:  0.4587053616621515\n",
      "Не получилось отвергнуть нулевую гипотезу, значения в группах равны\n",
      "\n",
      "Столбец: offers_screen_appear\n",
      "p-значение:  0.9197817830592261\n",
      "Не получилось отвергнуть нулевую гипотезу, значения в группах равны\n",
      "\n",
      "Столбец: cart_screen_appear\n",
      "p-значение:  0.5786197879539783\n",
      "Не получилось отвергнуть нулевую гипотезу, значения в группах равны\n",
      "\n",
      "Столбец: payment_screen_successful\n",
      "p-значение:  0.7373415053803964\n",
      "Не получилось отвергнуть нулевую гипотезу, значения в группах равны\n",
      "\n",
      "Столбец: tutorial\n",
      "p-значение:  0.765323922474501\n",
      "Не получилось отвергнуть нулевую гипотезу, значения в группах равны\n",
      "\n"
     ]
    }
   ],
   "source": [
    "# Зададим значения alpha:\n",
    "alpha = 0.05\n",
    "\n",
    "# Проведем z-тест:\n",
    "for c, r in event.iterrows():\n",
    "    print('Столбец:', c)\n",
    "    z_test(group.loc[247, 'user_id'], \n",
    "           group.loc[248, 'user_id'], \n",
    "           r[247],\n",
    "           r[248])\n",
    "    print()"
   ]
  },
  {
   "cell_type": "markdown",
   "metadata": {},
   "source": [
    "Проведем тест для суммы пользователей 246 + 247 и 248 групп:"
   ]
  },
  {
   "cell_type": "code",
   "execution_count": 46,
   "metadata": {},
   "outputs": [
    {
     "name": "stdout",
     "output_type": "stream",
     "text": [
      "Столбец: main_screen_appear\n",
      "p-значение:  0.29424526837179577\n",
      "Не получилось отвергнуть нулевую гипотезу, значения в группах равны\n",
      "\n",
      "Столбец: offers_screen_appear\n",
      "p-значение:  0.43425549655188256\n",
      "Не получилось отвергнуть нулевую гипотезу, значения в группах равны\n",
      "\n",
      "Столбец: cart_screen_appear\n",
      "p-значение:  0.18175875284404386\n",
      "Не получилось отвергнуть нулевую гипотезу, значения в группах равны\n",
      "\n",
      "Столбец: payment_screen_successful\n",
      "p-значение:  0.6004294282308704\n",
      "Не получилось отвергнуть нулевую гипотезу, значения в группах равны\n",
      "\n",
      "Столбец: tutorial\n",
      "p-значение:  0.764862472531507\n",
      "Не получилось отвергнуть нулевую гипотезу, значения в группах равны\n",
      "\n"
     ]
    }
   ],
   "source": [
    "# Зададим значения alpha:\n",
    "alpha = 0.05\n",
    "\n",
    "# Проведем z-тест:\n",
    "for c, r in event.iterrows():\n",
    "    print('Столбец:', c)\n",
    "    z_test(group.loc['sum', 'user_id'], \n",
    "           group.loc[248, 'user_id'], \n",
    "           r['join_group'],\n",
    "           r[248])\n",
    "    print()"
   ]
  },
  {
   "cell_type": "markdown",
   "metadata": {},
   "source": [
    "При всех возможных вариантах сравнения групп 246, 247, суммы 246 и 247 с 248 - значимого различия в группах не обнаружено. Можно предположить, что экспериментальная группа с новыми шрифтами не дает значимых результатов.\n",
    "\n",
    "В вышеперечисленных тестах мы использовали уровень значимости alpha = 0.05. При проведении 20 проверок Мы не нашли значимых различий количества уникальных пользователей. p-value во всех тестах был больше alpha, что не позволило отвергнуть нулевую гипотезу о равенстве долей уникальных пользователей в группах. При понижении значения alpha до 0.01 суть эксперимента не поменяется, т.к. alpha = 0.05 > alpha = 0.01, следовательно полученный результат p-value будет больше alpha = 0.01. \n",
    "Чрезмерное уменьшение уровня значимости alpha может привести к увеличению вероятности ошибки второго рода, то есть вероятности принять нулевую гипотезу, когда на самом деле она не верна. Это называется ложноотрицательным решением.\n",
    "\n",
    "Исходя из вышеперечисленного, следует остановить тест и сделать выводы по проведенным тестам.\n"
   ]
  },
  {
   "cell_type": "markdown",
   "metadata": {},
   "source": [
    "#### 6. Общий вывод:\n",
    "- Проанализировав датасет, мы выделили оптимальный промежуток для анализа данных с 01.08.2019 по 07.08.2019. Именно этот интервал обладает достаточным количеством данных для правильной интерпретации результатов. \n",
    "\n",
    "- Последовательностью прохождения воронки событий является:\n",
    "  1. переход на главную страницу (98.5%)\n",
    "  2. переход на страницу товаров (61%)\n",
    "  3. переход в корзину (49.57%)\n",
    "  4. подтверждение оплаты (47%)\n",
    "  5. описание (11.2%)\n",
    "\n",
    "- Изучив воронку событий можно отметить:\n",
    "  1. 46.97% покупателей доходит до оформления заказа\n",
    "  2. Наименьшую конверсию по шагам показал этап tutorial. Послу покупки, пользователям не интересно смотреть дополнительную информацию.\n",
    "  3. Самым проблемным моментом оказался этап перехода на страницу с товаром.\n",
    "  \n",
    "- При проведении А/А тестов групп 246 и 247 мы обнаружили разницу пользователей между выборками, которая составляет 1.15 %. Доля уникальных пользователей в группах оказалась примерно равна. Проведение z-теста не выявило значимых различий уникальных пользователей в группах.\n",
    "\n",
    "- При проведении А/А/B тестов с группой 248 мы, так же, не нашли значимых различий долей групп уникальных пользователей.\n",
    "---\n",
    "**Рекомендации:**\n",
    "- Провести глубокий анализ перехода покупателей на страницу товаров. Выявить и устранить причины спада конверсии на данном шаге. Возможно следует сделать более удобную и интуитивно-понятную навигацию сайта.\n",
    "- Так же можно увеличить конверсию пользователей, переходящих в корзину. 19% покупателей теряются на данном шаге. \n",
    "- Изменение шрифта не дает видимых результатов. Тесты подтвердили, что гипотеза дизайнеров не сработала. Возможно следует направить бюджет компании в более результативное направление, например на удержание пользователя на сайте и увеличение конверсии в покупку.\n"
   ]
  }
 ],
 "metadata": {
  "ExecuteTimeLog": [
   {
    "duration": 52,
    "start_time": "2023-01-13T07:31:37.439Z"
   },
   {
    "duration": 1173,
    "start_time": "2023-01-13T07:31:50.083Z"
   },
   {
    "duration": 535,
    "start_time": "2023-01-13T07:31:51.259Z"
   },
   {
    "duration": 10,
    "start_time": "2023-01-13T07:31:51.795Z"
   },
   {
    "duration": 27,
    "start_time": "2023-01-13T07:31:51.807Z"
   },
   {
    "duration": 17,
    "start_time": "2023-01-13T07:31:51.836Z"
   },
   {
    "duration": 72,
    "start_time": "2023-01-13T07:31:51.854Z"
   },
   {
    "duration": 18,
    "start_time": "2023-01-13T07:31:51.928Z"
   },
   {
    "duration": 27,
    "start_time": "2023-01-13T07:31:51.947Z"
   },
   {
    "duration": 90,
    "start_time": "2023-01-13T07:31:51.976Z"
   },
   {
    "duration": 65,
    "start_time": "2023-01-13T07:31:52.068Z"
   },
   {
    "duration": 7,
    "start_time": "2023-01-13T07:31:52.135Z"
   },
   {
    "duration": 1006,
    "start_time": "2023-01-13T07:31:52.144Z"
   },
   {
    "duration": 136,
    "start_time": "2023-01-13T07:31:53.152Z"
   },
   {
    "duration": 14,
    "start_time": "2023-01-13T07:31:53.291Z"
   },
   {
    "duration": 17,
    "start_time": "2023-01-13T07:31:53.306Z"
   },
   {
    "duration": 34,
    "start_time": "2023-01-13T07:31:53.324Z"
   },
   {
    "duration": 7,
    "start_time": "2023-01-13T07:31:53.359Z"
   },
   {
    "duration": 39,
    "start_time": "2023-01-13T07:31:53.367Z"
   },
   {
    "duration": 11,
    "start_time": "2023-01-13T07:31:53.408Z"
   },
   {
    "duration": 309,
    "start_time": "2023-01-13T07:31:53.420Z"
   },
   {
    "duration": 18,
    "start_time": "2023-01-13T07:31:53.731Z"
   },
   {
    "duration": 10,
    "start_time": "2023-01-13T07:31:53.750Z"
   },
   {
    "duration": 5,
    "start_time": "2023-01-13T07:31:53.762Z"
   },
   {
    "duration": 99,
    "start_time": "2023-01-13T07:31:53.770Z"
   },
   {
    "duration": 5,
    "start_time": "2023-01-13T07:31:53.871Z"
   },
   {
    "duration": 62,
    "start_time": "2023-01-13T07:31:53.878Z"
   },
   {
    "duration": 75,
    "start_time": "2023-01-13T07:31:53.941Z"
   },
   {
    "duration": 92,
    "start_time": "2023-01-13T07:31:58.683Z"
   },
   {
    "duration": 18,
    "start_time": "2023-01-13T07:32:17.414Z"
   },
   {
    "duration": 10,
    "start_time": "2023-01-13T07:32:23.571Z"
   },
   {
    "duration": 17,
    "start_time": "2023-01-13T07:33:33.381Z"
   },
   {
    "duration": 80,
    "start_time": "2023-01-13T07:36:44.061Z"
   },
   {
    "duration": 4,
    "start_time": "2023-01-13T07:36:55.616Z"
   },
   {
    "duration": 163,
    "start_time": "2023-01-13T07:36:55.622Z"
   },
   {
    "duration": 7,
    "start_time": "2023-01-13T07:36:55.787Z"
   },
   {
    "duration": 18,
    "start_time": "2023-01-13T07:36:55.797Z"
   },
   {
    "duration": 14,
    "start_time": "2023-01-13T07:36:55.818Z"
   },
   {
    "duration": 66,
    "start_time": "2023-01-13T07:36:55.833Z"
   },
   {
    "duration": 16,
    "start_time": "2023-01-13T07:36:55.901Z"
   },
   {
    "duration": 4,
    "start_time": "2023-01-13T07:36:55.918Z"
   },
   {
    "duration": 74,
    "start_time": "2023-01-13T07:36:55.923Z"
   },
   {
    "duration": 51,
    "start_time": "2023-01-13T07:36:55.999Z"
   },
   {
    "duration": 5,
    "start_time": "2023-01-13T07:36:56.052Z"
   },
   {
    "duration": 960,
    "start_time": "2023-01-13T07:36:56.058Z"
   },
   {
    "duration": 127,
    "start_time": "2023-01-13T07:36:57.019Z"
   },
   {
    "duration": 7,
    "start_time": "2023-01-13T07:36:57.148Z"
   },
   {
    "duration": 28,
    "start_time": "2023-01-13T07:36:57.157Z"
   },
   {
    "duration": 34,
    "start_time": "2023-01-13T07:36:57.186Z"
   },
   {
    "duration": 5,
    "start_time": "2023-01-13T07:36:57.222Z"
   },
   {
    "duration": 25,
    "start_time": "2023-01-13T07:36:57.229Z"
   },
   {
    "duration": 11,
    "start_time": "2023-01-13T07:36:57.256Z"
   },
   {
    "duration": 213,
    "start_time": "2023-01-13T07:36:57.269Z"
   },
   {
    "duration": 19,
    "start_time": "2023-01-13T07:36:57.484Z"
   },
   {
    "duration": 13,
    "start_time": "2023-01-13T07:36:57.505Z"
   },
   {
    "duration": 13,
    "start_time": "2023-01-13T07:36:57.520Z"
   },
   {
    "duration": 77,
    "start_time": "2023-01-13T07:36:57.534Z"
   },
   {
    "duration": 4,
    "start_time": "2023-01-13T07:36:57.613Z"
   },
   {
    "duration": 47,
    "start_time": "2023-01-13T07:36:57.618Z"
   },
   {
    "duration": 47,
    "start_time": "2023-01-13T07:36:57.667Z"
   },
   {
    "duration": 16,
    "start_time": "2023-01-13T07:36:57.715Z"
   },
   {
    "duration": 14,
    "start_time": "2023-01-13T07:39:00.216Z"
   },
   {
    "duration": 40,
    "start_time": "2023-01-13T07:40:38.110Z"
   },
   {
    "duration": 4,
    "start_time": "2023-01-13T07:41:25.945Z"
   },
   {
    "duration": 169,
    "start_time": "2023-01-13T07:41:25.951Z"
   },
   {
    "duration": 7,
    "start_time": "2023-01-13T07:41:26.122Z"
   },
   {
    "duration": 22,
    "start_time": "2023-01-13T07:41:26.130Z"
   },
   {
    "duration": 15,
    "start_time": "2023-01-13T07:41:26.154Z"
   },
   {
    "duration": 66,
    "start_time": "2023-01-13T07:41:26.170Z"
   },
   {
    "duration": 18,
    "start_time": "2023-01-13T07:41:26.238Z"
   },
   {
    "duration": 4,
    "start_time": "2023-01-13T07:41:26.258Z"
   },
   {
    "duration": 65,
    "start_time": "2023-01-13T07:41:26.263Z"
   },
   {
    "duration": 45,
    "start_time": "2023-01-13T07:41:26.329Z"
   },
   {
    "duration": 22,
    "start_time": "2023-01-13T07:41:26.376Z"
   },
   {
    "duration": 955,
    "start_time": "2023-01-13T07:41:26.399Z"
   },
   {
    "duration": 129,
    "start_time": "2023-01-13T07:41:27.356Z"
   },
   {
    "duration": 10,
    "start_time": "2023-01-13T07:41:27.488Z"
   },
   {
    "duration": 26,
    "start_time": "2023-01-13T07:41:27.500Z"
   },
   {
    "duration": 27,
    "start_time": "2023-01-13T07:41:27.528Z"
   },
   {
    "duration": 7,
    "start_time": "2023-01-13T07:41:27.557Z"
   },
   {
    "duration": 15,
    "start_time": "2023-01-13T07:41:27.566Z"
   },
   {
    "duration": 16,
    "start_time": "2023-01-13T07:41:27.583Z"
   },
   {
    "duration": 215,
    "start_time": "2023-01-13T07:41:27.600Z"
   },
   {
    "duration": 17,
    "start_time": "2023-01-13T07:41:27.816Z"
   },
   {
    "duration": 9,
    "start_time": "2023-01-13T07:41:27.835Z"
   },
   {
    "duration": 15,
    "start_time": "2023-01-13T07:41:27.845Z"
   },
   {
    "duration": 79,
    "start_time": "2023-01-13T07:41:27.862Z"
   },
   {
    "duration": 6,
    "start_time": "2023-01-13T07:41:27.943Z"
   },
   {
    "duration": 51,
    "start_time": "2023-01-13T07:41:27.951Z"
   },
   {
    "duration": 50,
    "start_time": "2023-01-13T07:41:28.004Z"
   },
   {
    "duration": 17,
    "start_time": "2023-01-13T07:41:28.056Z"
   },
   {
    "duration": 43,
    "start_time": "2023-01-13T07:42:35.041Z"
   },
   {
    "duration": 63,
    "start_time": "2023-01-13T07:42:42.512Z"
   },
   {
    "duration": 86,
    "start_time": "2023-01-13T07:43:37.568Z"
   },
   {
    "duration": 1043,
    "start_time": "2023-01-13T07:44:50.937Z"
   },
   {
    "duration": 965,
    "start_time": "2023-01-13T07:45:54.893Z"
   },
   {
    "duration": 1116,
    "start_time": "2023-01-13T07:46:41.557Z"
   },
   {
    "duration": 155,
    "start_time": "2023-01-13T07:46:42.675Z"
   },
   {
    "duration": 11,
    "start_time": "2023-01-13T07:46:42.832Z"
   },
   {
    "duration": 21,
    "start_time": "2023-01-13T07:46:42.845Z"
   },
   {
    "duration": 30,
    "start_time": "2023-01-13T07:46:42.868Z"
   },
   {
    "duration": 57,
    "start_time": "2023-01-13T07:46:42.900Z"
   },
   {
    "duration": 18,
    "start_time": "2023-01-13T07:46:42.958Z"
   },
   {
    "duration": 6,
    "start_time": "2023-01-13T07:46:42.998Z"
   },
   {
    "duration": 68,
    "start_time": "2023-01-13T07:46:43.005Z"
   },
   {
    "duration": 59,
    "start_time": "2023-01-13T07:46:43.075Z"
   },
   {
    "duration": 7,
    "start_time": "2023-01-13T07:46:43.135Z"
   },
   {
    "duration": 922,
    "start_time": "2023-01-13T07:46:43.143Z"
   },
   {
    "duration": 130,
    "start_time": "2023-01-13T07:46:44.067Z"
   },
   {
    "duration": 9,
    "start_time": "2023-01-13T07:46:44.199Z"
   },
   {
    "duration": 21,
    "start_time": "2023-01-13T07:46:44.209Z"
   },
   {
    "duration": 25,
    "start_time": "2023-01-13T07:46:44.231Z"
   },
   {
    "duration": 9,
    "start_time": "2023-01-13T07:46:44.258Z"
   },
   {
    "duration": 21,
    "start_time": "2023-01-13T07:46:44.268Z"
   },
   {
    "duration": 11,
    "start_time": "2023-01-13T07:46:44.290Z"
   },
   {
    "duration": 294,
    "start_time": "2023-01-13T07:46:44.303Z"
   },
   {
    "duration": 19,
    "start_time": "2023-01-13T07:46:44.599Z"
   },
   {
    "duration": 12,
    "start_time": "2023-01-13T07:46:44.620Z"
   },
   {
    "duration": 12,
    "start_time": "2023-01-13T07:46:44.634Z"
   },
   {
    "duration": 122,
    "start_time": "2023-01-13T07:46:44.649Z"
   },
   {
    "duration": 5,
    "start_time": "2023-01-13T07:46:44.773Z"
   },
   {
    "duration": 81,
    "start_time": "2023-01-13T07:46:44.780Z"
   },
   {
    "duration": 67,
    "start_time": "2023-01-13T07:46:44.862Z"
   },
   {
    "duration": 18,
    "start_time": "2023-01-13T07:46:44.930Z"
   },
   {
    "duration": 840,
    "start_time": "2023-01-13T07:46:50.892Z"
   },
   {
    "duration": 800,
    "start_time": "2023-01-13T07:47:32.155Z"
   },
   {
    "duration": 767,
    "start_time": "2023-01-13T07:48:34.027Z"
   },
   {
    "duration": 733,
    "start_time": "2023-01-13T07:48:44.158Z"
   },
   {
    "duration": 21,
    "start_time": "2023-01-13T07:48:59.636Z"
   },
   {
    "duration": 17,
    "start_time": "2023-01-13T07:49:14.563Z"
   },
   {
    "duration": 135,
    "start_time": "2023-01-13T07:49:18.857Z"
   },
   {
    "duration": 11,
    "start_time": "2023-01-13T07:49:54.968Z"
   },
   {
    "duration": 10,
    "start_time": "2023-01-13T07:50:05.328Z"
   },
   {
    "duration": 10,
    "start_time": "2023-01-13T07:50:41.707Z"
   },
   {
    "duration": 1074,
    "start_time": "2023-01-13T09:01:36.951Z"
   },
   {
    "duration": 152,
    "start_time": "2023-01-13T09:01:38.027Z"
   },
   {
    "duration": 9,
    "start_time": "2023-01-13T09:01:38.180Z"
   },
   {
    "duration": 18,
    "start_time": "2023-01-13T09:01:38.198Z"
   },
   {
    "duration": 14,
    "start_time": "2023-01-13T09:01:38.218Z"
   },
   {
    "duration": 80,
    "start_time": "2023-01-13T09:01:38.233Z"
   },
   {
    "duration": 17,
    "start_time": "2023-01-13T09:01:38.314Z"
   },
   {
    "duration": 6,
    "start_time": "2023-01-13T09:01:38.332Z"
   },
   {
    "duration": 84,
    "start_time": "2023-01-13T09:01:38.339Z"
   },
   {
    "duration": 55,
    "start_time": "2023-01-13T09:01:38.425Z"
   },
   {
    "duration": 19,
    "start_time": "2023-01-13T09:01:38.481Z"
   },
   {
    "duration": 975,
    "start_time": "2023-01-13T09:01:38.502Z"
   },
   {
    "duration": 137,
    "start_time": "2023-01-13T09:01:39.480Z"
   },
   {
    "duration": 9,
    "start_time": "2023-01-13T09:01:39.619Z"
   },
   {
    "duration": 16,
    "start_time": "2023-01-13T09:01:39.630Z"
   },
   {
    "duration": 37,
    "start_time": "2023-01-13T09:01:39.647Z"
   },
   {
    "duration": 42,
    "start_time": "2023-01-13T09:01:39.686Z"
   },
   {
    "duration": 55,
    "start_time": "2023-01-13T09:01:39.730Z"
   },
   {
    "duration": 21,
    "start_time": "2023-01-13T09:01:39.787Z"
   },
   {
    "duration": 311,
    "start_time": "2023-01-13T09:01:39.810Z"
   },
   {
    "duration": 17,
    "start_time": "2023-01-13T09:01:40.122Z"
   },
   {
    "duration": 26,
    "start_time": "2023-01-13T09:01:40.140Z"
   },
   {
    "duration": 76,
    "start_time": "2023-01-13T09:01:40.167Z"
   },
   {
    "duration": 112,
    "start_time": "2023-01-13T09:01:40.245Z"
   },
   {
    "duration": 5,
    "start_time": "2023-01-13T09:01:40.359Z"
   },
   {
    "duration": 42,
    "start_time": "2023-01-13T09:01:40.366Z"
   },
   {
    "duration": 51,
    "start_time": "2023-01-13T09:01:40.410Z"
   },
   {
    "duration": 39,
    "start_time": "2023-01-13T09:01:40.463Z"
   },
   {
    "duration": 155,
    "start_time": "2023-01-13T09:01:40.504Z"
   },
   {
    "duration": 11,
    "start_time": "2023-01-13T09:01:40.661Z"
   },
   {
    "duration": 24,
    "start_time": "2023-01-13T09:01:40.674Z"
   },
   {
    "duration": 15,
    "start_time": "2023-01-13T09:01:40.700Z"
   },
   {
    "duration": 85,
    "start_time": "2023-01-13T09:01:40.717Z"
   },
   {
    "duration": 4,
    "start_time": "2023-01-13T09:01:40.804Z"
   },
   {
    "duration": 88,
    "start_time": "2023-01-13T09:01:40.810Z"
   },
   {
    "duration": 16,
    "start_time": "2023-01-13T09:01:40.899Z"
   },
   {
    "duration": 5,
    "start_time": "2023-01-13T09:01:40.917Z"
   },
   {
    "duration": 13,
    "start_time": "2023-01-13T09:01:40.923Z"
   },
   {
    "duration": 22,
    "start_time": "2023-01-13T09:01:40.938Z"
   },
   {
    "duration": 10,
    "start_time": "2023-01-13T09:01:40.961Z"
   },
   {
    "duration": 26,
    "start_time": "2023-01-13T09:01:40.974Z"
   },
   {
    "duration": 16,
    "start_time": "2023-01-13T09:01:41.002Z"
   },
   {
    "duration": 13,
    "start_time": "2023-01-13T09:01:41.019Z"
   },
   {
    "duration": 18,
    "start_time": "2023-01-13T09:01:41.034Z"
   },
   {
    "duration": 10,
    "start_time": "2023-01-13T09:02:02.851Z"
   },
   {
    "duration": 10,
    "start_time": "2023-01-13T09:02:14.885Z"
   },
   {
    "duration": 48,
    "start_time": "2023-01-13T09:04:00.778Z"
   },
   {
    "duration": 151,
    "start_time": "2023-01-13T09:08:42.353Z"
   },
   {
    "duration": 918,
    "start_time": "2023-01-13T09:09:05.023Z"
   },
   {
    "duration": 801,
    "start_time": "2023-01-13T09:09:38.907Z"
   },
   {
    "duration": 55,
    "start_time": "2023-01-13T09:10:22.767Z"
   },
   {
    "duration": 880,
    "start_time": "2023-01-13T09:10:24.296Z"
   },
   {
    "duration": 24,
    "start_time": "2023-01-13T09:10:31.230Z"
   },
   {
    "duration": 32,
    "start_time": "2023-01-13T09:10:40.209Z"
   },
   {
    "duration": 737,
    "start_time": "2023-01-13T09:10:42.481Z"
   },
   {
    "duration": 5,
    "start_time": "2023-01-13T09:10:49.387Z"
   },
   {
    "duration": 10,
    "start_time": "2023-01-13T09:11:45.881Z"
   },
   {
    "duration": 49,
    "start_time": "2023-01-13T09:12:35.506Z"
   },
   {
    "duration": 23,
    "start_time": "2023-01-13T09:12:36.828Z"
   },
   {
    "duration": 48,
    "start_time": "2023-01-13T09:12:48.548Z"
   },
   {
    "duration": 14,
    "start_time": "2023-01-13T09:12:49.589Z"
   },
   {
    "duration": 10,
    "start_time": "2023-01-13T09:13:13.019Z"
   },
   {
    "duration": 5,
    "start_time": "2023-01-13T09:14:01.906Z"
   },
   {
    "duration": 9,
    "start_time": "2023-01-13T09:14:26.641Z"
   },
   {
    "duration": 13,
    "start_time": "2023-01-13T09:15:04.744Z"
   },
   {
    "duration": 4,
    "start_time": "2023-01-13T09:15:48.750Z"
   },
   {
    "duration": 11,
    "start_time": "2023-01-13T09:17:21.480Z"
   },
   {
    "duration": 10,
    "start_time": "2023-01-13T09:20:21.283Z"
   },
   {
    "duration": 51,
    "start_time": "2023-01-13T09:20:29.065Z"
   },
   {
    "duration": 25,
    "start_time": "2023-01-13T09:20:30.725Z"
   },
   {
    "duration": 18,
    "start_time": "2023-01-13T09:21:13.356Z"
   },
   {
    "duration": 31,
    "start_time": "2023-01-13T09:21:18.953Z"
   },
   {
    "duration": 5,
    "start_time": "2023-01-13T09:21:31.427Z"
   },
   {
    "duration": 5,
    "start_time": "2023-01-13T09:21:41.651Z"
   },
   {
    "duration": 6,
    "start_time": "2023-01-13T09:22:02.429Z"
   },
   {
    "duration": 6,
    "start_time": "2023-01-13T09:22:14.111Z"
   },
   {
    "duration": 12,
    "start_time": "2023-01-13T09:22:38.779Z"
   },
   {
    "duration": 41,
    "start_time": "2023-01-13T09:22:49.202Z"
   },
   {
    "duration": 23,
    "start_time": "2023-01-13T09:22:51.511Z"
   },
   {
    "duration": 36,
    "start_time": "2023-01-13T09:23:42.095Z"
   },
   {
    "duration": 15,
    "start_time": "2023-01-13T09:23:45.289Z"
   },
   {
    "duration": 5,
    "start_time": "2023-01-13T09:23:51.843Z"
   },
   {
    "duration": 4,
    "start_time": "2023-01-13T09:25:31.435Z"
   },
   {
    "duration": 10,
    "start_time": "2023-01-13T09:25:37.960Z"
   },
   {
    "duration": 11,
    "start_time": "2023-01-13T09:26:51.929Z"
   },
   {
    "duration": 1383,
    "start_time": "2023-01-13T09:27:10.513Z"
   },
   {
    "duration": 20,
    "start_time": "2023-01-13T09:27:20.593Z"
   },
   {
    "duration": 16,
    "start_time": "2023-01-13T09:29:32.671Z"
   },
   {
    "duration": 19,
    "start_time": "2023-01-13T09:29:45.022Z"
   },
   {
    "duration": 20,
    "start_time": "2023-01-13T09:30:21.013Z"
   },
   {
    "duration": 20,
    "start_time": "2023-01-13T09:30:30.642Z"
   },
   {
    "duration": 20,
    "start_time": "2023-01-13T09:31:46.068Z"
   },
   {
    "duration": 18,
    "start_time": "2023-01-13T09:32:16.221Z"
   },
   {
    "duration": 10,
    "start_time": "2023-01-13T09:32:24.269Z"
   },
   {
    "duration": 16,
    "start_time": "2023-01-13T09:32:56.804Z"
   },
   {
    "duration": 15,
    "start_time": "2023-01-13T09:33:03.934Z"
   },
   {
    "duration": 16,
    "start_time": "2023-01-13T09:36:18.031Z"
   },
   {
    "duration": 18,
    "start_time": "2023-01-13T09:37:24.568Z"
   },
   {
    "duration": 15,
    "start_time": "2023-01-13T09:37:46.145Z"
   },
   {
    "duration": 1099,
    "start_time": "2023-01-13T09:40:59.445Z"
   },
   {
    "duration": 166,
    "start_time": "2023-01-13T09:41:00.546Z"
   },
   {
    "duration": 12,
    "start_time": "2023-01-13T09:41:00.714Z"
   },
   {
    "duration": 33,
    "start_time": "2023-01-13T09:41:00.728Z"
   },
   {
    "duration": 19,
    "start_time": "2023-01-13T09:41:00.763Z"
   },
   {
    "duration": 81,
    "start_time": "2023-01-13T09:41:00.783Z"
   },
   {
    "duration": 17,
    "start_time": "2023-01-13T09:41:00.865Z"
   },
   {
    "duration": 74,
    "start_time": "2023-01-13T09:41:00.884Z"
   },
   {
    "duration": 91,
    "start_time": "2023-01-13T09:41:00.959Z"
   },
   {
    "duration": 61,
    "start_time": "2023-01-13T09:41:01.052Z"
   },
   {
    "duration": 10,
    "start_time": "2023-01-13T09:41:01.114Z"
   },
   {
    "duration": 1038,
    "start_time": "2023-01-13T09:41:01.126Z"
   },
   {
    "duration": 165,
    "start_time": "2023-01-13T09:41:02.166Z"
   },
   {
    "duration": 9,
    "start_time": "2023-01-13T09:41:02.333Z"
   },
   {
    "duration": 21,
    "start_time": "2023-01-13T09:41:02.343Z"
   },
   {
    "duration": 46,
    "start_time": "2023-01-13T09:41:02.366Z"
   },
   {
    "duration": 7,
    "start_time": "2023-01-13T09:41:02.417Z"
   },
   {
    "duration": 16,
    "start_time": "2023-01-13T09:41:02.426Z"
   },
   {
    "duration": 6,
    "start_time": "2023-01-13T09:41:02.443Z"
   },
   {
    "duration": 304,
    "start_time": "2023-01-13T09:41:02.450Z"
   },
   {
    "duration": 17,
    "start_time": "2023-01-13T09:41:02.755Z"
   },
   {
    "duration": 9,
    "start_time": "2023-01-13T09:41:02.773Z"
   },
   {
    "duration": 28,
    "start_time": "2023-01-13T09:41:02.797Z"
   },
   {
    "duration": 88,
    "start_time": "2023-01-13T09:41:02.826Z"
   },
   {
    "duration": 149,
    "start_time": "2023-01-13T09:41:02.915Z"
   },
   {
    "duration": 45,
    "start_time": "2023-01-13T09:41:03.066Z"
   },
   {
    "duration": 52,
    "start_time": "2023-01-13T09:41:03.113Z"
   },
   {
    "duration": 39,
    "start_time": "2023-01-13T09:41:03.167Z"
   },
   {
    "duration": 157,
    "start_time": "2023-01-13T09:41:03.209Z"
   },
   {
    "duration": 14,
    "start_time": "2023-01-13T09:41:03.368Z"
   },
   {
    "duration": 26,
    "start_time": "2023-01-13T09:41:03.384Z"
   },
   {
    "duration": 34,
    "start_time": "2023-01-13T09:41:03.412Z"
   },
   {
    "duration": 84,
    "start_time": "2023-01-13T09:41:03.448Z"
   },
   {
    "duration": 8,
    "start_time": "2023-01-13T09:41:03.534Z"
   },
   {
    "duration": 28,
    "start_time": "2023-01-13T09:41:03.544Z"
   },
   {
    "duration": 9,
    "start_time": "2023-01-13T09:41:03.574Z"
   },
   {
    "duration": 106,
    "start_time": "2023-01-13T09:41:03.584Z"
   },
   {
    "duration": 20,
    "start_time": "2023-01-13T09:41:03.691Z"
   },
   {
    "duration": 7,
    "start_time": "2023-01-13T09:41:03.713Z"
   },
   {
    "duration": 11,
    "start_time": "2023-01-13T09:41:03.722Z"
   },
   {
    "duration": 16,
    "start_time": "2023-01-13T09:41:03.738Z"
   },
   {
    "duration": 12,
    "start_time": "2023-01-13T09:41:03.755Z"
   },
   {
    "duration": 33,
    "start_time": "2023-01-13T09:41:03.769Z"
   },
   {
    "duration": 21,
    "start_time": "2023-01-13T09:41:03.803Z"
   },
   {
    "duration": 23,
    "start_time": "2023-01-13T09:41:03.826Z"
   },
   {
    "duration": 13,
    "start_time": "2023-01-13T09:41:03.851Z"
   }
  ],
  "kernelspec": {
   "display_name": "Python 3 (ipykernel)",
   "language": "python",
   "name": "python3"
  },
  "language_info": {
   "codemirror_mode": {
    "name": "ipython",
    "version": 3
   },
   "file_extension": ".py",
   "mimetype": "text/x-python",
   "name": "python",
   "nbconvert_exporter": "python",
   "pygments_lexer": "ipython3",
   "version": "3.9.12"
  },
  "toc": {
   "base_numbering": 1,
   "nav_menu": {},
   "number_sections": true,
   "sideBar": true,
   "skip_h1_title": true,
   "title_cell": "Table of Contents",
   "title_sidebar": "Contents",
   "toc_cell": false,
   "toc_position": {},
   "toc_section_display": true,
   "toc_window_display": false
  }
 },
 "nbformat": 4,
 "nbformat_minor": 2
}
