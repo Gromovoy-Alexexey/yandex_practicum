{
 "cells": [
  {
   "cell_type": "markdown",
   "id": "c81daeeb",
   "metadata": {
    "deletable": false,
    "id": "c81daeeb"
   },
   "source": [
    "# Исследование надежности заемщиков\n"
   ]
  },
  {
   "cell_type": "markdown",
   "id": "744d7639",
   "metadata": {
    "deletable": false,
    "id": "744d7639"
   },
   "source": [
    "## Откроем таблицу и изучим общую информацию о данных"
   ]
  },
  {
   "cell_type": "markdown",
   "id": "e7a14c31",
   "metadata": {
    "deletable": false,
    "id": "e7a14c31"
   },
   "source": [
    "**Задание 1. Импортируем библиотеку. Считаем данные из csv-файла в датафрейм и сохраним в переменную `data`.**"
   ]
  },
  {
   "cell_type": "code",
   "execution_count": 1,
   "id": "7bcf75c9",
   "metadata": {
    "deletable": false,
    "id": "7bcf75c9"
   },
   "outputs": [],
   "source": [
    "import pandas as pd\n",
    "\n",
    "try:\n",
    "    data = pd.read_csv('practicum_datasets/data.csv')\n",
    "except:\n",
    "    data = pd.read_csv('https://code.s3.yandex.net/datasets/data.csv')"
   ]
  },
  {
   "cell_type": "markdown",
   "id": "b8038fe3",
   "metadata": {
    "deletable": false,
    "id": "b8038fe3"
   },
   "source": [
    "**Задание 2. Выведем первые 20 строчек датафрейма `data` на экран.**"
   ]
  },
  {
   "cell_type": "code",
   "execution_count": 2,
   "id": "2a7cab99",
   "metadata": {
    "deletable": false,
    "id": "2a7cab99",
    "outputId": "1a8f3ef2-d323-4ec2-ddf7-89670b5944c4"
   },
   "outputs": [
    {
     "data": {
      "text/html": [
       "<div>\n",
       "<style scoped>\n",
       "    .dataframe tbody tr th:only-of-type {\n",
       "        vertical-align: middle;\n",
       "    }\n",
       "\n",
       "    .dataframe tbody tr th {\n",
       "        vertical-align: top;\n",
       "    }\n",
       "\n",
       "    .dataframe thead th {\n",
       "        text-align: right;\n",
       "    }\n",
       "</style>\n",
       "<table border=\"1\" class=\"dataframe\">\n",
       "  <thead>\n",
       "    <tr style=\"text-align: right;\">\n",
       "      <th></th>\n",
       "      <th>children</th>\n",
       "      <th>days_employed</th>\n",
       "      <th>dob_years</th>\n",
       "      <th>education</th>\n",
       "      <th>education_id</th>\n",
       "      <th>family_status</th>\n",
       "      <th>family_status_id</th>\n",
       "      <th>gender</th>\n",
       "      <th>income_type</th>\n",
       "      <th>debt</th>\n",
       "      <th>total_income</th>\n",
       "      <th>purpose</th>\n",
       "    </tr>\n",
       "  </thead>\n",
       "  <tbody>\n",
       "    <tr>\n",
       "      <th>0</th>\n",
       "      <td>1</td>\n",
       "      <td>-8437.673028</td>\n",
       "      <td>42</td>\n",
       "      <td>высшее</td>\n",
       "      <td>0</td>\n",
       "      <td>женат / замужем</td>\n",
       "      <td>0</td>\n",
       "      <td>F</td>\n",
       "      <td>сотрудник</td>\n",
       "      <td>0</td>\n",
       "      <td>253875.639453</td>\n",
       "      <td>покупка жилья</td>\n",
       "    </tr>\n",
       "    <tr>\n",
       "      <th>1</th>\n",
       "      <td>1</td>\n",
       "      <td>-4024.803754</td>\n",
       "      <td>36</td>\n",
       "      <td>среднее</td>\n",
       "      <td>1</td>\n",
       "      <td>женат / замужем</td>\n",
       "      <td>0</td>\n",
       "      <td>F</td>\n",
       "      <td>сотрудник</td>\n",
       "      <td>0</td>\n",
       "      <td>112080.014102</td>\n",
       "      <td>приобретение автомобиля</td>\n",
       "    </tr>\n",
       "    <tr>\n",
       "      <th>2</th>\n",
       "      <td>0</td>\n",
       "      <td>-5623.422610</td>\n",
       "      <td>33</td>\n",
       "      <td>Среднее</td>\n",
       "      <td>1</td>\n",
       "      <td>женат / замужем</td>\n",
       "      <td>0</td>\n",
       "      <td>M</td>\n",
       "      <td>сотрудник</td>\n",
       "      <td>0</td>\n",
       "      <td>145885.952297</td>\n",
       "      <td>покупка жилья</td>\n",
       "    </tr>\n",
       "    <tr>\n",
       "      <th>3</th>\n",
       "      <td>3</td>\n",
       "      <td>-4124.747207</td>\n",
       "      <td>32</td>\n",
       "      <td>среднее</td>\n",
       "      <td>1</td>\n",
       "      <td>женат / замужем</td>\n",
       "      <td>0</td>\n",
       "      <td>M</td>\n",
       "      <td>сотрудник</td>\n",
       "      <td>0</td>\n",
       "      <td>267628.550329</td>\n",
       "      <td>дополнительное образование</td>\n",
       "    </tr>\n",
       "    <tr>\n",
       "      <th>4</th>\n",
       "      <td>0</td>\n",
       "      <td>340266.072047</td>\n",
       "      <td>53</td>\n",
       "      <td>среднее</td>\n",
       "      <td>1</td>\n",
       "      <td>гражданский брак</td>\n",
       "      <td>1</td>\n",
       "      <td>F</td>\n",
       "      <td>пенсионер</td>\n",
       "      <td>0</td>\n",
       "      <td>158616.077870</td>\n",
       "      <td>сыграть свадьбу</td>\n",
       "    </tr>\n",
       "    <tr>\n",
       "      <th>5</th>\n",
       "      <td>0</td>\n",
       "      <td>-926.185831</td>\n",
       "      <td>27</td>\n",
       "      <td>высшее</td>\n",
       "      <td>0</td>\n",
       "      <td>гражданский брак</td>\n",
       "      <td>1</td>\n",
       "      <td>M</td>\n",
       "      <td>компаньон</td>\n",
       "      <td>0</td>\n",
       "      <td>255763.565419</td>\n",
       "      <td>покупка жилья</td>\n",
       "    </tr>\n",
       "    <tr>\n",
       "      <th>6</th>\n",
       "      <td>0</td>\n",
       "      <td>-2879.202052</td>\n",
       "      <td>43</td>\n",
       "      <td>высшее</td>\n",
       "      <td>0</td>\n",
       "      <td>женат / замужем</td>\n",
       "      <td>0</td>\n",
       "      <td>F</td>\n",
       "      <td>компаньон</td>\n",
       "      <td>0</td>\n",
       "      <td>240525.971920</td>\n",
       "      <td>операции с жильем</td>\n",
       "    </tr>\n",
       "    <tr>\n",
       "      <th>7</th>\n",
       "      <td>0</td>\n",
       "      <td>-152.779569</td>\n",
       "      <td>50</td>\n",
       "      <td>СРЕДНЕЕ</td>\n",
       "      <td>1</td>\n",
       "      <td>женат / замужем</td>\n",
       "      <td>0</td>\n",
       "      <td>M</td>\n",
       "      <td>сотрудник</td>\n",
       "      <td>0</td>\n",
       "      <td>135823.934197</td>\n",
       "      <td>образование</td>\n",
       "    </tr>\n",
       "    <tr>\n",
       "      <th>8</th>\n",
       "      <td>2</td>\n",
       "      <td>-6929.865299</td>\n",
       "      <td>35</td>\n",
       "      <td>ВЫСШЕЕ</td>\n",
       "      <td>0</td>\n",
       "      <td>гражданский брак</td>\n",
       "      <td>1</td>\n",
       "      <td>F</td>\n",
       "      <td>сотрудник</td>\n",
       "      <td>0</td>\n",
       "      <td>95856.832424</td>\n",
       "      <td>на проведение свадьбы</td>\n",
       "    </tr>\n",
       "    <tr>\n",
       "      <th>9</th>\n",
       "      <td>0</td>\n",
       "      <td>-2188.756445</td>\n",
       "      <td>41</td>\n",
       "      <td>среднее</td>\n",
       "      <td>1</td>\n",
       "      <td>женат / замужем</td>\n",
       "      <td>0</td>\n",
       "      <td>M</td>\n",
       "      <td>сотрудник</td>\n",
       "      <td>0</td>\n",
       "      <td>144425.938277</td>\n",
       "      <td>покупка жилья для семьи</td>\n",
       "    </tr>\n",
       "    <tr>\n",
       "      <th>10</th>\n",
       "      <td>2</td>\n",
       "      <td>-4171.483647</td>\n",
       "      <td>36</td>\n",
       "      <td>высшее</td>\n",
       "      <td>0</td>\n",
       "      <td>женат / замужем</td>\n",
       "      <td>0</td>\n",
       "      <td>M</td>\n",
       "      <td>компаньон</td>\n",
       "      <td>0</td>\n",
       "      <td>113943.491460</td>\n",
       "      <td>покупка недвижимости</td>\n",
       "    </tr>\n",
       "    <tr>\n",
       "      <th>11</th>\n",
       "      <td>0</td>\n",
       "      <td>-792.701887</td>\n",
       "      <td>40</td>\n",
       "      <td>среднее</td>\n",
       "      <td>1</td>\n",
       "      <td>женат / замужем</td>\n",
       "      <td>0</td>\n",
       "      <td>F</td>\n",
       "      <td>сотрудник</td>\n",
       "      <td>0</td>\n",
       "      <td>77069.234271</td>\n",
       "      <td>покупка коммерческой недвижимости</td>\n",
       "    </tr>\n",
       "    <tr>\n",
       "      <th>12</th>\n",
       "      <td>0</td>\n",
       "      <td>NaN</td>\n",
       "      <td>65</td>\n",
       "      <td>среднее</td>\n",
       "      <td>1</td>\n",
       "      <td>гражданский брак</td>\n",
       "      <td>1</td>\n",
       "      <td>M</td>\n",
       "      <td>пенсионер</td>\n",
       "      <td>0</td>\n",
       "      <td>NaN</td>\n",
       "      <td>сыграть свадьбу</td>\n",
       "    </tr>\n",
       "    <tr>\n",
       "      <th>13</th>\n",
       "      <td>0</td>\n",
       "      <td>-1846.641941</td>\n",
       "      <td>54</td>\n",
       "      <td>неоконченное высшее</td>\n",
       "      <td>2</td>\n",
       "      <td>женат / замужем</td>\n",
       "      <td>0</td>\n",
       "      <td>F</td>\n",
       "      <td>сотрудник</td>\n",
       "      <td>0</td>\n",
       "      <td>130458.228857</td>\n",
       "      <td>приобретение автомобиля</td>\n",
       "    </tr>\n",
       "    <tr>\n",
       "      <th>14</th>\n",
       "      <td>0</td>\n",
       "      <td>-1844.956182</td>\n",
       "      <td>56</td>\n",
       "      <td>высшее</td>\n",
       "      <td>0</td>\n",
       "      <td>гражданский брак</td>\n",
       "      <td>1</td>\n",
       "      <td>F</td>\n",
       "      <td>компаньон</td>\n",
       "      <td>1</td>\n",
       "      <td>165127.911772</td>\n",
       "      <td>покупка жилой недвижимости</td>\n",
       "    </tr>\n",
       "    <tr>\n",
       "      <th>15</th>\n",
       "      <td>1</td>\n",
       "      <td>-972.364419</td>\n",
       "      <td>26</td>\n",
       "      <td>среднее</td>\n",
       "      <td>1</td>\n",
       "      <td>женат / замужем</td>\n",
       "      <td>0</td>\n",
       "      <td>F</td>\n",
       "      <td>сотрудник</td>\n",
       "      <td>0</td>\n",
       "      <td>116820.904450</td>\n",
       "      <td>строительство собственной недвижимости</td>\n",
       "    </tr>\n",
       "    <tr>\n",
       "      <th>16</th>\n",
       "      <td>0</td>\n",
       "      <td>-1719.934226</td>\n",
       "      <td>35</td>\n",
       "      <td>среднее</td>\n",
       "      <td>1</td>\n",
       "      <td>женат / замужем</td>\n",
       "      <td>0</td>\n",
       "      <td>F</td>\n",
       "      <td>сотрудник</td>\n",
       "      <td>0</td>\n",
       "      <td>289202.704229</td>\n",
       "      <td>недвижимость</td>\n",
       "    </tr>\n",
       "    <tr>\n",
       "      <th>17</th>\n",
       "      <td>0</td>\n",
       "      <td>-2369.999720</td>\n",
       "      <td>33</td>\n",
       "      <td>высшее</td>\n",
       "      <td>0</td>\n",
       "      <td>гражданский брак</td>\n",
       "      <td>1</td>\n",
       "      <td>M</td>\n",
       "      <td>сотрудник</td>\n",
       "      <td>0</td>\n",
       "      <td>90410.586745</td>\n",
       "      <td>строительство недвижимости</td>\n",
       "    </tr>\n",
       "    <tr>\n",
       "      <th>18</th>\n",
       "      <td>0</td>\n",
       "      <td>400281.136913</td>\n",
       "      <td>53</td>\n",
       "      <td>среднее</td>\n",
       "      <td>1</td>\n",
       "      <td>вдовец / вдова</td>\n",
       "      <td>2</td>\n",
       "      <td>F</td>\n",
       "      <td>пенсионер</td>\n",
       "      <td>0</td>\n",
       "      <td>56823.777243</td>\n",
       "      <td>на покупку подержанного автомобиля</td>\n",
       "    </tr>\n",
       "    <tr>\n",
       "      <th>19</th>\n",
       "      <td>0</td>\n",
       "      <td>-10038.818549</td>\n",
       "      <td>48</td>\n",
       "      <td>СРЕДНЕЕ</td>\n",
       "      <td>1</td>\n",
       "      <td>в разводе</td>\n",
       "      <td>3</td>\n",
       "      <td>F</td>\n",
       "      <td>сотрудник</td>\n",
       "      <td>0</td>\n",
       "      <td>242831.107982</td>\n",
       "      <td>на покупку своего автомобиля</td>\n",
       "    </tr>\n",
       "  </tbody>\n",
       "</table>\n",
       "</div>"
      ],
      "text/plain": [
       "    children  days_employed  dob_years            education  education_id  \\\n",
       "0          1   -8437.673028         42               высшее             0   \n",
       "1          1   -4024.803754         36              среднее             1   \n",
       "2          0   -5623.422610         33              Среднее             1   \n",
       "3          3   -4124.747207         32              среднее             1   \n",
       "4          0  340266.072047         53              среднее             1   \n",
       "5          0    -926.185831         27               высшее             0   \n",
       "6          0   -2879.202052         43               высшее             0   \n",
       "7          0    -152.779569         50              СРЕДНЕЕ             1   \n",
       "8          2   -6929.865299         35               ВЫСШЕЕ             0   \n",
       "9          0   -2188.756445         41              среднее             1   \n",
       "10         2   -4171.483647         36               высшее             0   \n",
       "11         0    -792.701887         40              среднее             1   \n",
       "12         0            NaN         65              среднее             1   \n",
       "13         0   -1846.641941         54  неоконченное высшее             2   \n",
       "14         0   -1844.956182         56               высшее             0   \n",
       "15         1    -972.364419         26              среднее             1   \n",
       "16         0   -1719.934226         35              среднее             1   \n",
       "17         0   -2369.999720         33               высшее             0   \n",
       "18         0  400281.136913         53              среднее             1   \n",
       "19         0  -10038.818549         48              СРЕДНЕЕ             1   \n",
       "\n",
       "       family_status  family_status_id gender income_type  debt  \\\n",
       "0    женат / замужем                 0      F   сотрудник     0   \n",
       "1    женат / замужем                 0      F   сотрудник     0   \n",
       "2    женат / замужем                 0      M   сотрудник     0   \n",
       "3    женат / замужем                 0      M   сотрудник     0   \n",
       "4   гражданский брак                 1      F   пенсионер     0   \n",
       "5   гражданский брак                 1      M   компаньон     0   \n",
       "6    женат / замужем                 0      F   компаньон     0   \n",
       "7    женат / замужем                 0      M   сотрудник     0   \n",
       "8   гражданский брак                 1      F   сотрудник     0   \n",
       "9    женат / замужем                 0      M   сотрудник     0   \n",
       "10   женат / замужем                 0      M   компаньон     0   \n",
       "11   женат / замужем                 0      F   сотрудник     0   \n",
       "12  гражданский брак                 1      M   пенсионер     0   \n",
       "13   женат / замужем                 0      F   сотрудник     0   \n",
       "14  гражданский брак                 1      F   компаньон     1   \n",
       "15   женат / замужем                 0      F   сотрудник     0   \n",
       "16   женат / замужем                 0      F   сотрудник     0   \n",
       "17  гражданский брак                 1      M   сотрудник     0   \n",
       "18    вдовец / вдова                 2      F   пенсионер     0   \n",
       "19         в разводе                 3      F   сотрудник     0   \n",
       "\n",
       "     total_income                                 purpose  \n",
       "0   253875.639453                           покупка жилья  \n",
       "1   112080.014102                 приобретение автомобиля  \n",
       "2   145885.952297                           покупка жилья  \n",
       "3   267628.550329              дополнительное образование  \n",
       "4   158616.077870                         сыграть свадьбу  \n",
       "5   255763.565419                           покупка жилья  \n",
       "6   240525.971920                       операции с жильем  \n",
       "7   135823.934197                             образование  \n",
       "8    95856.832424                   на проведение свадьбы  \n",
       "9   144425.938277                 покупка жилья для семьи  \n",
       "10  113943.491460                    покупка недвижимости  \n",
       "11   77069.234271       покупка коммерческой недвижимости  \n",
       "12            NaN                         сыграть свадьбу  \n",
       "13  130458.228857                 приобретение автомобиля  \n",
       "14  165127.911772              покупка жилой недвижимости  \n",
       "15  116820.904450  строительство собственной недвижимости  \n",
       "16  289202.704229                            недвижимость  \n",
       "17   90410.586745              строительство недвижимости  \n",
       "18   56823.777243      на покупку подержанного автомобиля  \n",
       "19  242831.107982            на покупку своего автомобиля  "
      ]
     },
     "execution_count": 2,
     "metadata": {},
     "output_type": "execute_result"
    }
   ],
   "source": [
    "data.head(20)"
   ]
  },
  {
   "cell_type": "markdown",
   "id": "1c12e233",
   "metadata": {
    "deletable": false,
    "id": "1c12e233"
   },
   "source": [
    "**Задание 3. Выведем основную информацию о датафрейме с помощью метода `info()`.**"
   ]
  },
  {
   "cell_type": "code",
   "execution_count": 3,
   "id": "2b757bca",
   "metadata": {
    "deletable": false,
    "id": "2b757bca",
    "outputId": "15376089-8dad-46c9-b520-c05248d43158",
    "scrolled": true
   },
   "outputs": [
    {
     "name": "stdout",
     "output_type": "stream",
     "text": [
      "<class 'pandas.core.frame.DataFrame'>\n",
      "RangeIndex: 21525 entries, 0 to 21524\n",
      "Data columns (total 12 columns):\n",
      " #   Column            Non-Null Count  Dtype  \n",
      "---  ------            --------------  -----  \n",
      " 0   children          21525 non-null  int64  \n",
      " 1   days_employed     19351 non-null  float64\n",
      " 2   dob_years         21525 non-null  int64  \n",
      " 3   education         21525 non-null  object \n",
      " 4   education_id      21525 non-null  int64  \n",
      " 5   family_status     21525 non-null  object \n",
      " 6   family_status_id  21525 non-null  int64  \n",
      " 7   gender            21525 non-null  object \n",
      " 8   income_type       21525 non-null  object \n",
      " 9   debt              21525 non-null  int64  \n",
      " 10  total_income      19351 non-null  float64\n",
      " 11  purpose           21525 non-null  object \n",
      "dtypes: float64(2), int64(5), object(5)\n",
      "memory usage: 2.0+ MB\n"
     ]
    }
   ],
   "source": [
    "data.info()"
   ]
  },
  {
   "cell_type": "markdown",
   "id": "333ec665",
   "metadata": {
    "deletable": false,
    "id": "333ec665"
   },
   "source": [
    "## Предобработка данных"
   ]
  },
  {
   "cell_type": "markdown",
   "id": "02d92d53",
   "metadata": {
    "deletable": false,
    "id": "02d92d53"
   },
   "source": [
    "### Удаление пропусков"
   ]
  },
  {
   "cell_type": "markdown",
   "id": "cd84967c",
   "metadata": {
    "deletable": false,
    "id": "cd84967c"
   },
   "source": [
    "**Задание 4. Выведем количество пропущенных значений для каждого столбца.**"
   ]
  },
  {
   "cell_type": "code",
   "execution_count": 4,
   "id": "7f9b2309",
   "metadata": {
    "deletable": false,
    "id": "7f9b2309",
    "outputId": "81f4d817-781c-465c-ed15-91ce4446810d"
   },
   "outputs": [
    {
     "data": {
      "text/plain": [
       "children               0\n",
       "days_employed       2174\n",
       "dob_years              0\n",
       "education              0\n",
       "education_id           0\n",
       "family_status          0\n",
       "family_status_id       0\n",
       "gender                 0\n",
       "income_type            0\n",
       "debt                   0\n",
       "total_income        2174\n",
       "purpose                0\n",
       "dtype: int64"
      ]
     },
     "execution_count": 4,
     "metadata": {},
     "output_type": "execute_result"
    }
   ],
   "source": [
    "data.isna().sum()"
   ]
  },
  {
   "cell_type": "markdown",
   "id": "dd3d1b1b",
   "metadata": {},
   "source": [
    "Обнаружены пропуски в столбцах `total_income` и `days_employed`"
   ]
  },
  {
   "cell_type": "markdown",
   "id": "db86e27b",
   "metadata": {
    "deletable": false,
    "id": "db86e27b"
   },
   "source": [
    "**Задание 5. Заполним пропуски в столбце `total_income`. На сумму дохода сильнее всего влияет тип занятости, поэтому заполнить пропуски в этом столбце нужно медианным значением по каждому типу из столбца `income_type`.**"
   ]
  },
  {
   "cell_type": "code",
   "execution_count": 5,
   "id": "42006a93",
   "metadata": {
    "deletable": false,
    "id": "42006a93"
   },
   "outputs": [],
   "source": [
    "for t in data['income_type'].unique():\n",
    "    data.loc[(data['income_type'] == t) & (data['total_income'].isna()), 'total_income'] = \\\n",
    "    data.loc[(data['income_type'] == t), 'total_income'].median()"
   ]
  },
  {
   "cell_type": "markdown",
   "id": "89da5ece",
   "metadata": {
    "deletable": false,
    "id": "89da5ece"
   },
   "source": [
    "### Обработка аномальных значений"
   ]
  },
  {
   "cell_type": "markdown",
   "id": "57964554",
   "metadata": {
    "deletable": false,
    "id": "57964554"
   },
   "source": [
    "**Задание 6. В данных могут встречаться артефакты (аномалии) — значения, которые не отражают действительность и появились по какой-то ошибке. таким артефактом будет отрицательное количество дней трудового стажа в столбце `days_employed`. Для реальных данных это нормально. Обработаем значения в этом столбце: заменим все отрицательные значения положительными с помощью метода `abs()`.**"
   ]
  },
  {
   "cell_type": "code",
   "execution_count": 6,
   "id": "f6f055bf",
   "metadata": {
    "deletable": false,
    "id": "f6f055bf"
   },
   "outputs": [],
   "source": [
    "data['days_employed'] = data['days_employed'].abs()"
   ]
  },
  {
   "cell_type": "markdown",
   "id": "6107dd2f",
   "metadata": {
    "deletable": false,
    "id": "6107dd2f"
   },
   "source": [
    "**Задание 7. Для каждого типа занятости выведем медианное значение трудового стажа `days_employed` в днях.**"
   ]
  },
  {
   "cell_type": "code",
   "execution_count": 7,
   "id": "85a5faf6",
   "metadata": {
    "deletable": false,
    "id": "85a5faf6",
    "outputId": "801ef80e-522b-4668-f34e-565af7432bcf"
   },
   "outputs": [
    {
     "data": {
      "text/plain": [
       "income_type\n",
       "безработный        366413.652744\n",
       "в декрете            3296.759962\n",
       "госслужащий          2689.368353\n",
       "компаньон            1547.382223\n",
       "пенсионер          365213.306266\n",
       "предприниматель       520.848083\n",
       "сотрудник            1574.202821\n",
       "студент               578.751554\n",
       "Name: days_employed, dtype: float64"
      ]
     },
     "execution_count": 7,
     "metadata": {},
     "output_type": "execute_result"
    }
   ],
   "source": [
    "data.groupby('income_type')['days_employed'].agg('median')"
   ]
  },
  {
   "cell_type": "markdown",
   "id": "38d1a030",
   "metadata": {
    "deletable": false,
    "id": "38d1a030"
   },
   "source": [
    "У двух типов (безработные и пенсионеры) получатся аномально большие значения. Исправить такие значения сложно, поэтому оставьте их как есть. Тем более этот столбец не понадобится вам для исследования."
   ]
  },
  {
   "cell_type": "markdown",
   "id": "d8a9f147",
   "metadata": {
    "deletable": false,
    "id": "d8a9f147"
   },
   "source": [
    "**Задание 8. Выведем перечень уникальных значений столбца `children`.**"
   ]
  },
  {
   "cell_type": "code",
   "execution_count": 8,
   "id": "ef5056eb",
   "metadata": {
    "deletable": false,
    "id": "ef5056eb",
    "outputId": "6975b15c-7f95-4697-d16d-a0c79b657b03"
   },
   "outputs": [
    {
     "data": {
      "text/plain": [
       "array([ 1,  0,  3,  2, -1,  4, 20,  5])"
      ]
     },
     "execution_count": 8,
     "metadata": {},
     "output_type": "execute_result"
    }
   ],
   "source": [
    "data['children'].unique()"
   ]
  },
  {
   "cell_type": "markdown",
   "id": "40b9ebf2",
   "metadata": {
    "deletable": false,
    "id": "40b9ebf2"
   },
   "source": [
    "**Задание 9. В столбце `children` есть два аномальных значения. Удалим строки, в которых встречаются такие аномальные значения из датафрейма `data`.**"
   ]
  },
  {
   "cell_type": "code",
   "execution_count": 9,
   "id": "3ff9801d",
   "metadata": {
    "deletable": false,
    "id": "3ff9801d"
   },
   "outputs": [],
   "source": [
    "data = data[(data['children'] != -1) & (data['children'] != 20)]"
   ]
  },
  {
   "cell_type": "markdown",
   "id": "bbc4d0ce",
   "metadata": {
    "deletable": false,
    "id": "bbc4d0ce"
   },
   "source": [
    "**Задание 10. Ещё раз выведем перечень уникальных значений столбца `children`, чтобы убедиться, что артефакты удалены.**"
   ]
  },
  {
   "cell_type": "code",
   "execution_count": 10,
   "id": "ad4fa8b7",
   "metadata": {
    "deletable": false,
    "id": "ad4fa8b7",
    "outputId": "b2097101-d49d-44d9-901b-32a65c9463d1",
    "scrolled": true
   },
   "outputs": [
    {
     "data": {
      "text/plain": [
       "array([1, 0, 3, 2, 4, 5])"
      ]
     },
     "execution_count": 10,
     "metadata": {},
     "output_type": "execute_result"
    }
   ],
   "source": [
    "data['children'].unique()"
   ]
  },
  {
   "cell_type": "markdown",
   "id": "75440b63",
   "metadata": {
    "deletable": false,
    "id": "75440b63"
   },
   "source": [
    "### Удаление пропусков (продолжение)"
   ]
  },
  {
   "cell_type": "markdown",
   "id": "f4ea573f",
   "metadata": {
    "deletable": false,
    "id": "f4ea573f"
   },
   "source": [
    "**Задание 11. Заполним пропуски в столбце `days_employed` медианными значениями по каждого типа занятости `income_type`.**"
   ]
  },
  {
   "cell_type": "code",
   "execution_count": 11,
   "id": "af6b1a7e",
   "metadata": {
    "deletable": false,
    "id": "af6b1a7e"
   },
   "outputs": [],
   "source": [
    "for t in data['income_type'].unique():\n",
    "    data.loc[(data['income_type'] == t) & (data['days_employed'].isna()), 'days_employed'] = \\\n",
    "    data.loc[(data['income_type'] == t), 'days_employed'].median()"
   ]
  },
  {
   "cell_type": "markdown",
   "id": "2753f40d",
   "metadata": {
    "deletable": false,
    "id": "2753f40d"
   },
   "source": [
    "**Задание 12. Проверим пропуски.**"
   ]
  },
  {
   "cell_type": "code",
   "execution_count": 12,
   "id": "55f78bc2",
   "metadata": {
    "deletable": false,
    "id": "55f78bc2",
    "outputId": "8da1e4e1-358e-4e87-98c9-f261bce0a7b2"
   },
   "outputs": [
    {
     "data": {
      "text/plain": [
       "children            0\n",
       "days_employed       0\n",
       "dob_years           0\n",
       "education           0\n",
       "education_id        0\n",
       "family_status       0\n",
       "family_status_id    0\n",
       "gender              0\n",
       "income_type         0\n",
       "debt                0\n",
       "total_income        0\n",
       "purpose             0\n",
       "dtype: int64"
      ]
     },
     "execution_count": 12,
     "metadata": {},
     "output_type": "execute_result"
    }
   ],
   "source": [
    "data.isna().sum()"
   ]
  },
  {
   "cell_type": "markdown",
   "id": "b66b6c00",
   "metadata": {},
   "source": [
    "Все пропуски заполнены."
   ]
  },
  {
   "cell_type": "markdown",
   "id": "ddc81e43",
   "metadata": {
    "deletable": false,
    "id": "ddc81e43"
   },
   "source": [
    "### Изменение типов данных"
   ]
  },
  {
   "cell_type": "markdown",
   "id": "42d19d24",
   "metadata": {
    "deletable": false,
    "id": "42d19d24"
   },
   "source": [
    "**Задание 13. Заменим вещественный тип данных в столбце `total_income` на целочисленный с помощью метода `astype()`.**"
   ]
  },
  {
   "cell_type": "code",
   "execution_count": 13,
   "id": "920b65ad",
   "metadata": {
    "deletable": false,
    "id": "920b65ad"
   },
   "outputs": [],
   "source": [
    "data['total_income'] = data['total_income'].astype(int)"
   ]
  },
  {
   "cell_type": "markdown",
   "id": "80c420ba",
   "metadata": {
    "deletable": false,
    "id": "80c420ba"
   },
   "source": [
    "### Обработка дубликатов"
   ]
  },
  {
   "cell_type": "markdown",
   "id": "dc587695",
   "metadata": {
    "deletable": false,
    "id": "dc587695"
   },
   "source": [
    "**Задание 14. Выведем на экран количество строк-дубликатов в данных.**"
   ]
  },
  {
   "cell_type": "code",
   "execution_count": 14,
   "id": "3ee445e4",
   "metadata": {
    "deletable": false,
    "id": "3ee445e4",
    "outputId": "9684deba-1934-42d1-99e1-cda61740f822"
   },
   "outputs": [
    {
     "data": {
      "text/plain": [
       "54"
      ]
     },
     "execution_count": 14,
     "metadata": {},
     "output_type": "execute_result"
    }
   ],
   "source": [
    "data.duplicated().sum()"
   ]
  },
  {
   "cell_type": "code",
   "execution_count": 15,
   "id": "8575fe05",
   "metadata": {
    "deletable": false,
    "id": "8575fe05"
   },
   "outputs": [],
   "source": [
    "data = data.drop_duplicates()"
   ]
  },
  {
   "cell_type": "markdown",
   "id": "9771a76c",
   "metadata": {
    "deletable": false,
    "id": "9771a76c"
   },
   "source": [
    "**Задание 15. Обработаем неявные дубликаты в столбце `education`.**"
   ]
  },
  {
   "cell_type": "code",
   "execution_count": 16,
   "id": "a9f8e2bf",
   "metadata": {
    "deletable": false,
    "id": "a9f8e2bf"
   },
   "outputs": [],
   "source": [
    "data['education'] = data['education'].str.lower()"
   ]
  },
  {
   "cell_type": "markdown",
   "id": "9904cf55",
   "metadata": {
    "deletable": false,
    "id": "9904cf55"
   },
   "source": [
    "### Категоризация данных"
   ]
  },
  {
   "cell_type": "markdown",
   "id": "72fcc8a2",
   "metadata": {
    "deletable": false,
    "id": "72fcc8a2"
   },
   "source": [
    "**Задание 16. На основании диапазонов, указанных ниже, создадим в датафрейме `data` столбец `total_income_category` с категориями:**\n",
    "\n",
    "- 0–30000 — `'E'`;\n",
    "- 30001–50000 — `'D'`;\n",
    "- 50001–200000 — `'C'`;\n",
    "- 200001–1000000 — `'B'`;\n",
    "- 1000001 и выше — `'A'`."
   ]
  },
  {
   "cell_type": "code",
   "execution_count": 17,
   "id": "e1771346",
   "metadata": {
    "deletable": false,
    "id": "e1771346"
   },
   "outputs": [],
   "source": [
    "def categorize_income(income):\n",
    "    try:\n",
    "        if 0 <= income <= 30000:\n",
    "            return 'E'\n",
    "        elif 30001 <= income <= 50000:\n",
    "            return 'D'\n",
    "        elif 50001 <= income <= 200000:\n",
    "            return 'C'\n",
    "        elif 200001 <= income <= 1000000:\n",
    "            return 'B'\n",
    "        elif income >= 1000001:\n",
    "            return 'A'\n",
    "    except:\n",
    "        pass"
   ]
  },
  {
   "cell_type": "code",
   "execution_count": 18,
   "id": "d5f3586d",
   "metadata": {
    "deletable": false,
    "id": "d5f3586d"
   },
   "outputs": [],
   "source": [
    "data['total_income_category'] = data['total_income'].apply(categorize_income)"
   ]
  },
  {
   "cell_type": "markdown",
   "id": "dde49b5c",
   "metadata": {
    "deletable": false,
    "id": "dde49b5c"
   },
   "source": [
    "**Задание 17. Выведем на экран перечень уникальных целей взятия кредита из столбца `purpose`.**"
   ]
  },
  {
   "cell_type": "code",
   "execution_count": 19,
   "id": "f67ce9b3",
   "metadata": {
    "deletable": false,
    "id": "f67ce9b3",
    "outputId": "673c12d9-7d7e-4ae0-9812-c622c89dd244"
   },
   "outputs": [
    {
     "data": {
      "text/plain": [
       "array(['покупка жилья', 'приобретение автомобиля',\n",
       "       'дополнительное образование', 'сыграть свадьбу',\n",
       "       'операции с жильем', 'образование', 'на проведение свадьбы',\n",
       "       'покупка жилья для семьи', 'покупка недвижимости',\n",
       "       'покупка коммерческой недвижимости', 'покупка жилой недвижимости',\n",
       "       'строительство собственной недвижимости', 'недвижимость',\n",
       "       'строительство недвижимости', 'на покупку подержанного автомобиля',\n",
       "       'на покупку своего автомобиля',\n",
       "       'операции с коммерческой недвижимостью',\n",
       "       'строительство жилой недвижимости', 'жилье',\n",
       "       'операции со своей недвижимостью', 'автомобили',\n",
       "       'заняться образованием', 'сделка с подержанным автомобилем',\n",
       "       'получение образования', 'автомобиль', 'свадьба',\n",
       "       'получение дополнительного образования', 'покупка своего жилья',\n",
       "       'операции с недвижимостью', 'получение высшего образования',\n",
       "       'свой автомобиль', 'сделка с автомобилем',\n",
       "       'профильное образование', 'высшее образование',\n",
       "       'покупка жилья для сдачи', 'на покупку автомобиля', 'ремонт жилью',\n",
       "       'заняться высшим образованием'], dtype=object)"
      ]
     },
     "execution_count": 19,
     "metadata": {},
     "output_type": "execute_result"
    }
   ],
   "source": [
    "data['purpose'].unique()"
   ]
  },
  {
   "cell_type": "markdown",
   "id": "85d0aef0",
   "metadata": {
    "deletable": false,
    "id": "85d0aef0"
   },
   "source": [
    "**Задание 18. Создадим функцию, которая на основании данных из столбца `purpose` сформирует новый столбец `purpose_category`, в который войдут следующие категории:**\n",
    "\n",
    "- `'операции с автомобилем'`,\n",
    "- `'операции с недвижимостью'`,\n",
    "- `'проведение свадьбы'`,\n",
    "- `'получение образования'`."
   ]
  },
  {
   "cell_type": "code",
   "execution_count": 20,
   "id": "e149fab4",
   "metadata": {
    "deletable": false,
    "id": "e149fab4"
   },
   "outputs": [],
   "source": [
    "def categorize_purpose(row):\n",
    "    try:\n",
    "        if 'автом' in row:\n",
    "            return 'операции с автомобилем'\n",
    "        elif 'жил' in row or 'недвиж' in row:\n",
    "            return 'операции с недвижимостью'\n",
    "        elif 'свад' in row:\n",
    "            return 'проведение свадьбы'\n",
    "        elif 'образов' in row:\n",
    "            return 'получение образования'\n",
    "    except:\n",
    "        return 'нет категории'"
   ]
  },
  {
   "cell_type": "code",
   "execution_count": 21,
   "id": "bf36e69b",
   "metadata": {
    "deletable": false,
    "id": "bf36e69b"
   },
   "outputs": [],
   "source": [
    "data['purpose_category'] = data['purpose'].apply(categorize_purpose)"
   ]
  },
  {
   "cell_type": "code",
   "execution_count": 22,
   "id": "928e7a75",
   "metadata": {},
   "outputs": [
    {
     "data": {
      "text/html": [
       "<div>\n",
       "<style scoped>\n",
       "    .dataframe tbody tr th:only-of-type {\n",
       "        vertical-align: middle;\n",
       "    }\n",
       "\n",
       "    .dataframe tbody tr th {\n",
       "        vertical-align: top;\n",
       "    }\n",
       "\n",
       "    .dataframe thead th {\n",
       "        text-align: right;\n",
       "    }\n",
       "</style>\n",
       "<table border=\"1\" class=\"dataframe\">\n",
       "  <thead>\n",
       "    <tr style=\"text-align: right;\">\n",
       "      <th>debt</th>\n",
       "      <th>0</th>\n",
       "      <th>1</th>\n",
       "      <th>mean</th>\n",
       "    </tr>\n",
       "    <tr>\n",
       "      <th>total_income_category</th>\n",
       "      <th></th>\n",
       "      <th></th>\n",
       "      <th></th>\n",
       "    </tr>\n",
       "  </thead>\n",
       "  <tbody>\n",
       "    <tr>\n",
       "      <th>A</th>\n",
       "      <td>23</td>\n",
       "      <td>2</td>\n",
       "      <td>12.5</td>\n",
       "    </tr>\n",
       "    <tr>\n",
       "      <th>B</th>\n",
       "      <td>4660</td>\n",
       "      <td>354</td>\n",
       "      <td>2507.0</td>\n",
       "    </tr>\n",
       "    <tr>\n",
       "      <th>C</th>\n",
       "      <td>14585</td>\n",
       "      <td>1353</td>\n",
       "      <td>7969.0</td>\n",
       "    </tr>\n",
       "    <tr>\n",
       "      <th>D</th>\n",
       "      <td>328</td>\n",
       "      <td>21</td>\n",
       "      <td>174.5</td>\n",
       "    </tr>\n",
       "    <tr>\n",
       "      <th>E</th>\n",
       "      <td>20</td>\n",
       "      <td>2</td>\n",
       "      <td>11.0</td>\n",
       "    </tr>\n",
       "  </tbody>\n",
       "</table>\n",
       "</div>"
      ],
      "text/plain": [
       "debt                       0     1    mean\n",
       "total_income_category                     \n",
       "A                         23     2    12.5\n",
       "B                       4660   354  2507.0\n",
       "C                      14585  1353  7969.0\n",
       "D                        328    21   174.5\n",
       "E                         20     2    11.0"
      ]
     },
     "metadata": {},
     "output_type": "display_data"
    }
   ],
   "source": [
    "data_pivot_1 = data.pivot_table(index= 'total_income_category', columns='debt',values='children', aggfunc='count')\n",
    "data_pivot_1['mean'] = data_pivot_1.mean(axis = 1)\n",
    "display(data_pivot_1)"
   ]
  },
  {
   "cell_type": "markdown",
   "id": "09b242bf",
   "metadata": {
    "deletable": false,
    "editable": false,
    "id": "09b242bf"
   },
   "source": [
    "## Исследуйте данные и ответьте на вопросы"
   ]
  },
  {
   "cell_type": "code",
   "execution_count": 23,
   "id": "05f01c2e",
   "metadata": {
    "scrolled": false
   },
   "outputs": [
    {
     "data": {
      "text/html": [
       "<div>\n",
       "<style scoped>\n",
       "    .dataframe tbody tr th:only-of-type {\n",
       "        vertical-align: middle;\n",
       "    }\n",
       "\n",
       "    .dataframe tbody tr th {\n",
       "        vertical-align: top;\n",
       "    }\n",
       "\n",
       "    .dataframe thead th {\n",
       "        text-align: right;\n",
       "    }\n",
       "</style>\n",
       "<table border=\"1\" class=\"dataframe\">\n",
       "  <thead>\n",
       "    <tr style=\"text-align: right;\">\n",
       "      <th></th>\n",
       "      <th>children</th>\n",
       "      <th>days_employed</th>\n",
       "      <th>dob_years</th>\n",
       "      <th>education</th>\n",
       "      <th>education_id</th>\n",
       "      <th>family_status</th>\n",
       "      <th>family_status_id</th>\n",
       "      <th>gender</th>\n",
       "      <th>income_type</th>\n",
       "      <th>debt</th>\n",
       "      <th>total_income</th>\n",
       "      <th>purpose</th>\n",
       "      <th>total_income_category</th>\n",
       "      <th>purpose_category</th>\n",
       "    </tr>\n",
       "  </thead>\n",
       "  <tbody>\n",
       "    <tr>\n",
       "      <th>0</th>\n",
       "      <td>1</td>\n",
       "      <td>8437.673028</td>\n",
       "      <td>42</td>\n",
       "      <td>высшее</td>\n",
       "      <td>0</td>\n",
       "      <td>женат / замужем</td>\n",
       "      <td>0</td>\n",
       "      <td>F</td>\n",
       "      <td>сотрудник</td>\n",
       "      <td>0</td>\n",
       "      <td>253875</td>\n",
       "      <td>покупка жилья</td>\n",
       "      <td>B</td>\n",
       "      <td>операции с недвижимостью</td>\n",
       "    </tr>\n",
       "    <tr>\n",
       "      <th>1</th>\n",
       "      <td>1</td>\n",
       "      <td>4024.803754</td>\n",
       "      <td>36</td>\n",
       "      <td>среднее</td>\n",
       "      <td>1</td>\n",
       "      <td>женат / замужем</td>\n",
       "      <td>0</td>\n",
       "      <td>F</td>\n",
       "      <td>сотрудник</td>\n",
       "      <td>0</td>\n",
       "      <td>112080</td>\n",
       "      <td>приобретение автомобиля</td>\n",
       "      <td>C</td>\n",
       "      <td>операции с автомобилем</td>\n",
       "    </tr>\n",
       "    <tr>\n",
       "      <th>2</th>\n",
       "      <td>0</td>\n",
       "      <td>5623.422610</td>\n",
       "      <td>33</td>\n",
       "      <td>среднее</td>\n",
       "      <td>1</td>\n",
       "      <td>женат / замужем</td>\n",
       "      <td>0</td>\n",
       "      <td>M</td>\n",
       "      <td>сотрудник</td>\n",
       "      <td>0</td>\n",
       "      <td>145885</td>\n",
       "      <td>покупка жилья</td>\n",
       "      <td>C</td>\n",
       "      <td>операции с недвижимостью</td>\n",
       "    </tr>\n",
       "    <tr>\n",
       "      <th>3</th>\n",
       "      <td>3</td>\n",
       "      <td>4124.747207</td>\n",
       "      <td>32</td>\n",
       "      <td>среднее</td>\n",
       "      <td>1</td>\n",
       "      <td>женат / замужем</td>\n",
       "      <td>0</td>\n",
       "      <td>M</td>\n",
       "      <td>сотрудник</td>\n",
       "      <td>0</td>\n",
       "      <td>267628</td>\n",
       "      <td>дополнительное образование</td>\n",
       "      <td>B</td>\n",
       "      <td>получение образования</td>\n",
       "    </tr>\n",
       "    <tr>\n",
       "      <th>4</th>\n",
       "      <td>0</td>\n",
       "      <td>340266.072047</td>\n",
       "      <td>53</td>\n",
       "      <td>среднее</td>\n",
       "      <td>1</td>\n",
       "      <td>гражданский брак</td>\n",
       "      <td>1</td>\n",
       "      <td>F</td>\n",
       "      <td>пенсионер</td>\n",
       "      <td>0</td>\n",
       "      <td>158616</td>\n",
       "      <td>сыграть свадьбу</td>\n",
       "      <td>C</td>\n",
       "      <td>проведение свадьбы</td>\n",
       "    </tr>\n",
       "    <tr>\n",
       "      <th>5</th>\n",
       "      <td>0</td>\n",
       "      <td>926.185831</td>\n",
       "      <td>27</td>\n",
       "      <td>высшее</td>\n",
       "      <td>0</td>\n",
       "      <td>гражданский брак</td>\n",
       "      <td>1</td>\n",
       "      <td>M</td>\n",
       "      <td>компаньон</td>\n",
       "      <td>0</td>\n",
       "      <td>255763</td>\n",
       "      <td>покупка жилья</td>\n",
       "      <td>B</td>\n",
       "      <td>операции с недвижимостью</td>\n",
       "    </tr>\n",
       "    <tr>\n",
       "      <th>6</th>\n",
       "      <td>0</td>\n",
       "      <td>2879.202052</td>\n",
       "      <td>43</td>\n",
       "      <td>высшее</td>\n",
       "      <td>0</td>\n",
       "      <td>женат / замужем</td>\n",
       "      <td>0</td>\n",
       "      <td>F</td>\n",
       "      <td>компаньон</td>\n",
       "      <td>0</td>\n",
       "      <td>240525</td>\n",
       "      <td>операции с жильем</td>\n",
       "      <td>B</td>\n",
       "      <td>операции с недвижимостью</td>\n",
       "    </tr>\n",
       "    <tr>\n",
       "      <th>7</th>\n",
       "      <td>0</td>\n",
       "      <td>152.779569</td>\n",
       "      <td>50</td>\n",
       "      <td>среднее</td>\n",
       "      <td>1</td>\n",
       "      <td>женат / замужем</td>\n",
       "      <td>0</td>\n",
       "      <td>M</td>\n",
       "      <td>сотрудник</td>\n",
       "      <td>0</td>\n",
       "      <td>135823</td>\n",
       "      <td>образование</td>\n",
       "      <td>C</td>\n",
       "      <td>получение образования</td>\n",
       "    </tr>\n",
       "    <tr>\n",
       "      <th>8</th>\n",
       "      <td>2</td>\n",
       "      <td>6929.865299</td>\n",
       "      <td>35</td>\n",
       "      <td>высшее</td>\n",
       "      <td>0</td>\n",
       "      <td>гражданский брак</td>\n",
       "      <td>1</td>\n",
       "      <td>F</td>\n",
       "      <td>сотрудник</td>\n",
       "      <td>0</td>\n",
       "      <td>95856</td>\n",
       "      <td>на проведение свадьбы</td>\n",
       "      <td>C</td>\n",
       "      <td>проведение свадьбы</td>\n",
       "    </tr>\n",
       "    <tr>\n",
       "      <th>9</th>\n",
       "      <td>0</td>\n",
       "      <td>2188.756445</td>\n",
       "      <td>41</td>\n",
       "      <td>среднее</td>\n",
       "      <td>1</td>\n",
       "      <td>женат / замужем</td>\n",
       "      <td>0</td>\n",
       "      <td>M</td>\n",
       "      <td>сотрудник</td>\n",
       "      <td>0</td>\n",
       "      <td>144425</td>\n",
       "      <td>покупка жилья для семьи</td>\n",
       "      <td>C</td>\n",
       "      <td>операции с недвижимостью</td>\n",
       "    </tr>\n",
       "  </tbody>\n",
       "</table>\n",
       "</div>"
      ],
      "text/plain": [
       "   children  days_employed  dob_years education  education_id  \\\n",
       "0         1    8437.673028         42    высшее             0   \n",
       "1         1    4024.803754         36   среднее             1   \n",
       "2         0    5623.422610         33   среднее             1   \n",
       "3         3    4124.747207         32   среднее             1   \n",
       "4         0  340266.072047         53   среднее             1   \n",
       "5         0     926.185831         27    высшее             0   \n",
       "6         0    2879.202052         43    высшее             0   \n",
       "7         0     152.779569         50   среднее             1   \n",
       "8         2    6929.865299         35    высшее             0   \n",
       "9         0    2188.756445         41   среднее             1   \n",
       "\n",
       "      family_status  family_status_id gender income_type  debt  total_income  \\\n",
       "0   женат / замужем                 0      F   сотрудник     0        253875   \n",
       "1   женат / замужем                 0      F   сотрудник     0        112080   \n",
       "2   женат / замужем                 0      M   сотрудник     0        145885   \n",
       "3   женат / замужем                 0      M   сотрудник     0        267628   \n",
       "4  гражданский брак                 1      F   пенсионер     0        158616   \n",
       "5  гражданский брак                 1      M   компаньон     0        255763   \n",
       "6   женат / замужем                 0      F   компаньон     0        240525   \n",
       "7   женат / замужем                 0      M   сотрудник     0        135823   \n",
       "8  гражданский брак                 1      F   сотрудник     0         95856   \n",
       "9   женат / замужем                 0      M   сотрудник     0        144425   \n",
       "\n",
       "                      purpose total_income_category          purpose_category  \n",
       "0               покупка жилья                     B  операции с недвижимостью  \n",
       "1     приобретение автомобиля                     C    операции с автомобилем  \n",
       "2               покупка жилья                     C  операции с недвижимостью  \n",
       "3  дополнительное образование                     B     получение образования  \n",
       "4             сыграть свадьбу                     C        проведение свадьбы  \n",
       "5               покупка жилья                     B  операции с недвижимостью  \n",
       "6           операции с жильем                     B  операции с недвижимостью  \n",
       "7                 образование                     C     получение образования  \n",
       "8       на проведение свадьбы                     C        проведение свадьбы  \n",
       "9     покупка жилья для семьи                     C  операции с недвижимостью  "
      ]
     },
     "execution_count": 23,
     "metadata": {},
     "output_type": "execute_result"
    }
   ],
   "source": [
    "# Выведем первые 10 строк обработанного датасета:\n",
    "data.head(10)"
   ]
  },
  {
   "cell_type": "code",
   "execution_count": 24,
   "id": "ea540da6",
   "metadata": {},
   "outputs": [
    {
     "data": {
      "text/html": [
       "<div>\n",
       "<style scoped>\n",
       "    .dataframe tbody tr th:only-of-type {\n",
       "        vertical-align: middle;\n",
       "    }\n",
       "\n",
       "    .dataframe tbody tr th {\n",
       "        vertical-align: top;\n",
       "    }\n",
       "\n",
       "    .dataframe thead th {\n",
       "        text-align: right;\n",
       "    }\n",
       "</style>\n",
       "<table border=\"1\" class=\"dataframe\">\n",
       "  <thead>\n",
       "    <tr style=\"text-align: right;\">\n",
       "      <th>debt</th>\n",
       "      <th>0</th>\n",
       "      <th>1</th>\n",
       "      <th>count</th>\n",
       "      <th>count_%</th>\n",
       "      <th>ratio_%</th>\n",
       "    </tr>\n",
       "    <tr>\n",
       "      <th>children</th>\n",
       "      <th></th>\n",
       "      <th></th>\n",
       "      <th></th>\n",
       "      <th></th>\n",
       "      <th></th>\n",
       "    </tr>\n",
       "  </thead>\n",
       "  <tbody>\n",
       "    <tr>\n",
       "      <th>5</th>\n",
       "      <td>9.0</td>\n",
       "      <td>NaN</td>\n",
       "      <td>9.0</td>\n",
       "      <td>0.042</td>\n",
       "      <td>100.000</td>\n",
       "    </tr>\n",
       "    <tr>\n",
       "      <th>0</th>\n",
       "      <td>13044.0</td>\n",
       "      <td>1063.0</td>\n",
       "      <td>14107.0</td>\n",
       "      <td>66.081</td>\n",
       "      <td>92.465</td>\n",
       "    </tr>\n",
       "    <tr>\n",
       "      <th>3</th>\n",
       "      <td>303.0</td>\n",
       "      <td>27.0</td>\n",
       "      <td>330.0</td>\n",
       "      <td>1.546</td>\n",
       "      <td>91.818</td>\n",
       "    </tr>\n",
       "    <tr>\n",
       "      <th>1</th>\n",
       "      <td>4365.0</td>\n",
       "      <td>444.0</td>\n",
       "      <td>4809.0</td>\n",
       "      <td>22.527</td>\n",
       "      <td>90.767</td>\n",
       "    </tr>\n",
       "    <tr>\n",
       "      <th>2</th>\n",
       "      <td>1858.0</td>\n",
       "      <td>194.0</td>\n",
       "      <td>2052.0</td>\n",
       "      <td>9.612</td>\n",
       "      <td>90.546</td>\n",
       "    </tr>\n",
       "    <tr>\n",
       "      <th>4</th>\n",
       "      <td>37.0</td>\n",
       "      <td>4.0</td>\n",
       "      <td>41.0</td>\n",
       "      <td>0.192</td>\n",
       "      <td>90.244</td>\n",
       "    </tr>\n",
       "  </tbody>\n",
       "</table>\n",
       "</div>"
      ],
      "text/plain": [
       "debt            0       1    count  count_%  ratio_%\n",
       "children                                            \n",
       "5             9.0     NaN      9.0    0.042  100.000\n",
       "0         13044.0  1063.0  14107.0   66.081   92.465\n",
       "3           303.0    27.0    330.0    1.546   91.818\n",
       "1          4365.0   444.0   4809.0   22.527   90.767\n",
       "2          1858.0   194.0   2052.0    9.612   90.546\n",
       "4            37.0     4.0     41.0    0.192   90.244"
      ]
     },
     "execution_count": 24,
     "metadata": {},
     "output_type": "execute_result"
    }
   ],
   "source": [
    "# Создадим сводную таблицу\n",
    "data_pivot_children = data.pivot_table(index='children', columns='debt', values='total_income_category', aggfunc='count')\n",
    "\n",
    "# Добавим в сводную таблицу общее количество заемщиков\n",
    "data_pivot_children['count'] = data_pivot_children[0] + data_pivot_children[1]\n",
    "\n",
    "# В группе с 5-ю детьми всего 9 человек и все они вернули кредит, поэтому заменим общее число на 9\n",
    "data_pivot_children.loc[5, ['count']] = 9\n",
    "\n",
    "# Посчитаем процентное соотношение людей без задолженностей к общему числу по категории колличества детей в семье\n",
    "data_pivot_children['count_%'] = data_pivot_children['count'] / data_pivot_children['count'].sum() * 100\n",
    "\n",
    "# Добавим в сводную таблицу процентное отношение людей, вернувших кредит в срок к общему числу \n",
    "data_pivot_children['ratio_%'] = data_pivot_children[0] / data_pivot_children['count'] * 100\n",
    "\n",
    "# Округлим значения и отсортируем по убыванию процента возврата кредита в срок\n",
    "data_pivot_children.round(3).sort_values(by='ratio_%', ascending=False)"
   ]
  },
  {
   "cell_type": "markdown",
   "id": "c5d66278",
   "metadata": {
    "deletable": false,
    "editable": false,
    "id": "c5d66278"
   },
   "source": [
    "**Задание 19. Есть ли зависимость между количеством детей и возвратом кредита в срок?**"
   ]
  },
  {
   "cell_type": "code",
   "execution_count": 25,
   "id": "2cacfc4a",
   "metadata": {
    "id": "2cacfc4a",
    "scrolled": true
   },
   "outputs": [
    {
     "data": {
      "text/html": [
       "<div>\n",
       "<style scoped>\n",
       "    .dataframe tbody tr th:only-of-type {\n",
       "        vertical-align: middle;\n",
       "    }\n",
       "\n",
       "    .dataframe tbody tr th {\n",
       "        vertical-align: top;\n",
       "    }\n",
       "\n",
       "    .dataframe thead th {\n",
       "        text-align: right;\n",
       "    }\n",
       "</style>\n",
       "<table border=\"1\" class=\"dataframe\">\n",
       "  <thead>\n",
       "    <tr style=\"text-align: right;\">\n",
       "      <th>debt</th>\n",
       "      <th>0</th>\n",
       "      <th>1</th>\n",
       "      <th>count</th>\n",
       "      <th>count_%</th>\n",
       "      <th>ratio_%</th>\n",
       "    </tr>\n",
       "    <tr>\n",
       "      <th>children</th>\n",
       "      <th></th>\n",
       "      <th></th>\n",
       "      <th></th>\n",
       "      <th></th>\n",
       "      <th></th>\n",
       "    </tr>\n",
       "  </thead>\n",
       "  <tbody>\n",
       "    <tr>\n",
       "      <th>5</th>\n",
       "      <td>9.0</td>\n",
       "      <td>NaN</td>\n",
       "      <td>9.0</td>\n",
       "      <td>0.042</td>\n",
       "      <td>100.000</td>\n",
       "    </tr>\n",
       "    <tr>\n",
       "      <th>0</th>\n",
       "      <td>13044.0</td>\n",
       "      <td>1063.0</td>\n",
       "      <td>14107.0</td>\n",
       "      <td>66.081</td>\n",
       "      <td>92.465</td>\n",
       "    </tr>\n",
       "    <tr>\n",
       "      <th>3</th>\n",
       "      <td>303.0</td>\n",
       "      <td>27.0</td>\n",
       "      <td>330.0</td>\n",
       "      <td>1.546</td>\n",
       "      <td>91.818</td>\n",
       "    </tr>\n",
       "    <tr>\n",
       "      <th>1</th>\n",
       "      <td>4365.0</td>\n",
       "      <td>444.0</td>\n",
       "      <td>4809.0</td>\n",
       "      <td>22.527</td>\n",
       "      <td>90.767</td>\n",
       "    </tr>\n",
       "    <tr>\n",
       "      <th>2</th>\n",
       "      <td>1858.0</td>\n",
       "      <td>194.0</td>\n",
       "      <td>2052.0</td>\n",
       "      <td>9.612</td>\n",
       "      <td>90.546</td>\n",
       "    </tr>\n",
       "    <tr>\n",
       "      <th>4</th>\n",
       "      <td>37.0</td>\n",
       "      <td>4.0</td>\n",
       "      <td>41.0</td>\n",
       "      <td>0.192</td>\n",
       "      <td>90.244</td>\n",
       "    </tr>\n",
       "  </tbody>\n",
       "</table>\n",
       "</div>"
      ],
      "text/plain": [
       "debt            0       1    count  count_%  ratio_%\n",
       "children                                            \n",
       "5             9.0     NaN      9.0    0.042  100.000\n",
       "0         13044.0  1063.0  14107.0   66.081   92.465\n",
       "3           303.0    27.0    330.0    1.546   91.818\n",
       "1          4365.0   444.0   4809.0   22.527   90.767\n",
       "2          1858.0   194.0   2052.0    9.612   90.546\n",
       "4            37.0     4.0     41.0    0.192   90.244"
      ]
     },
     "execution_count": 25,
     "metadata": {},
     "output_type": "execute_result"
    }
   ],
   "source": [
    "# Создадим сводную таблицу\n",
    "data_pivot_children = data.pivot_table(index='children', columns='debt', values='total_income_category', aggfunc='count')\n",
    "\n",
    "# Добавим в сводную таблицу общее количество заемщиков\n",
    "data_pivot_children['count'] = data_pivot_children[0] + data_pivot_children[1]\n",
    "\n",
    "# В группе с 5-ю детьми всего 9 человек и все они вернули кредит, поэтому заменим общее число на 9\n",
    "data_pivot_children.loc[5, ['count']] = 9\n",
    "\n",
    "# Посчитаем процентное соотношение людей без задолженностей к общему числу по категории колличества детей в семье\n",
    "data_pivot_children['count_%'] = data_pivot_children['count'] / data_pivot_children['count'].sum() * 100\n",
    "\n",
    "# Добавим в сводную таблицу процентное отношение людей, вернувших кредит в срок к общему числу \n",
    "data_pivot_children['ratio_%'] = data_pivot_children[0] / data_pivot_children['count'] * 100\n",
    "\n",
    "# Округлим значения и отсортируем по убыванию процента возврата кредита в срок\n",
    "data_pivot_children.round(3).sort_values(by='ratio_%', ascending=False)"
   ]
  },
  {
   "cell_type": "markdown",
   "id": "3a6b99ec",
   "metadata": {
    "deletable": false,
    "id": "3a6b99ec"
   },
   "source": [
    "**Вывод:**\n",
    "\n",
    "Стоит обратить внимание на категории с 3-мя, 4-мя и 5-ю детьми.\n",
    "Количество заемщиков по этим категориям в сумме - **менее** 2% от общего числа заемщиков, поэтому процентное соотношение задолженности по кредиту подвержено большей волатильности и может быстро измениться, относительно категорий заемщиков с 0, 1, 2 детьми.\n",
    "Отдельно выделим категорию с 5-ю детьми. Процент погашения кредита в срок, объективно, не отражает статистическую действительность, т.к. в данной группе находится всего 9 человек. Даже один человек в данной группе, в перспективе, может кардинально поменять результаты исследования.\n",
    "\n",
    "*Учитывая вышеизложенные факты, **можно предположить**: риск задолженности по кредиту прямо пропорционален количеству детей в семье.*"
   ]
  },
  {
   "cell_type": "markdown",
   "id": "97be82ca",
   "metadata": {
    "deletable": false,
    "editable": false,
    "id": "97be82ca"
   },
   "source": [
    "**Задание 20. Есть ли зависимость между семейным положением и возвратом кредита в срок?**"
   ]
  },
  {
   "cell_type": "code",
   "execution_count": 26,
   "id": "dc3f7ee8",
   "metadata": {
    "id": "dc3f7ee8",
    "scrolled": true
   },
   "outputs": [
    {
     "data": {
      "text/html": [
       "<div>\n",
       "<style scoped>\n",
       "    .dataframe tbody tr th:only-of-type {\n",
       "        vertical-align: middle;\n",
       "    }\n",
       "\n",
       "    .dataframe tbody tr th {\n",
       "        vertical-align: top;\n",
       "    }\n",
       "\n",
       "    .dataframe thead th {\n",
       "        text-align: right;\n",
       "    }\n",
       "</style>\n",
       "<table border=\"1\" class=\"dataframe\">\n",
       "  <thead>\n",
       "    <tr style=\"text-align: right;\">\n",
       "      <th>debt</th>\n",
       "      <th>0</th>\n",
       "      <th>1</th>\n",
       "      <th>count</th>\n",
       "      <th>count_%</th>\n",
       "      <th>ratio_%</th>\n",
       "    </tr>\n",
       "    <tr>\n",
       "      <th>family_status</th>\n",
       "      <th></th>\n",
       "      <th></th>\n",
       "      <th></th>\n",
       "      <th></th>\n",
       "      <th></th>\n",
       "    </tr>\n",
       "  </thead>\n",
       "  <tbody>\n",
       "    <tr>\n",
       "      <th>вдовец / вдова</th>\n",
       "      <td>888</td>\n",
       "      <td>63</td>\n",
       "      <td>951</td>\n",
       "      <td>4.455</td>\n",
       "      <td>93.375</td>\n",
       "    </tr>\n",
       "    <tr>\n",
       "      <th>в разводе</th>\n",
       "      <td>1105</td>\n",
       "      <td>84</td>\n",
       "      <td>1189</td>\n",
       "      <td>5.570</td>\n",
       "      <td>92.935</td>\n",
       "    </tr>\n",
       "    <tr>\n",
       "      <th>женат / замужем</th>\n",
       "      <td>11339</td>\n",
       "      <td>927</td>\n",
       "      <td>12266</td>\n",
       "      <td>57.457</td>\n",
       "      <td>92.443</td>\n",
       "    </tr>\n",
       "    <tr>\n",
       "      <th>гражданский брак</th>\n",
       "      <td>3761</td>\n",
       "      <td>385</td>\n",
       "      <td>4146</td>\n",
       "      <td>19.421</td>\n",
       "      <td>90.714</td>\n",
       "    </tr>\n",
       "    <tr>\n",
       "      <th>Не женат / не замужем</th>\n",
       "      <td>2523</td>\n",
       "      <td>273</td>\n",
       "      <td>2796</td>\n",
       "      <td>13.097</td>\n",
       "      <td>90.236</td>\n",
       "    </tr>\n",
       "  </tbody>\n",
       "</table>\n",
       "</div>"
      ],
      "text/plain": [
       "debt                       0    1  count  count_%  ratio_%\n",
       "family_status                                             \n",
       "вдовец / вдова           888   63    951    4.455   93.375\n",
       "в разводе               1105   84   1189    5.570   92.935\n",
       "женат / замужем        11339  927  12266   57.457   92.443\n",
       "гражданский брак        3761  385   4146   19.421   90.714\n",
       "Не женат / не замужем   2523  273   2796   13.097   90.236"
      ]
     },
     "execution_count": 26,
     "metadata": {},
     "output_type": "execute_result"
    }
   ],
   "source": [
    "# Создадим сводную таблицу\n",
    "data_pivot_family = data.pivot_table(index='family_status', columns='debt', values='total_income_category', aggfunc='count')\n",
    "\n",
    "# Добавим в сводную таблицу общее количество людей по определенному семейному положению\n",
    "data_pivot_family['count'] = data_pivot_family[0] + data_pivot_family[1]\n",
    "\n",
    "# Посчитаем процентное соотношение людей без задолженностей к общему числу по определенному семейному положению\n",
    "data_pivot_family['count_%'] = data_pivot_family['count'] / data_pivot_family['count'].sum() * 100\n",
    "\n",
    "# Добавим в сводную таблицу процентное отношение людей, вернувших кредит в срок к общему числу \n",
    "data_pivot_family['ratio_%'] = data_pivot_family[0] / data_pivot_family['count'] * 100\n",
    "\n",
    "# Округлим значения и отсортируем по убыванию процента возврата кредита в срок\n",
    "data_pivot_family.round(3).sort_values(by='ratio_%', ascending=False)"
   ]
  },
  {
   "cell_type": "markdown",
   "id": "1cef7837",
   "metadata": {
    "deletable": false,
    "id": "1cef7837"
   },
   "source": [
    "**Вывод:** \n",
    "\n",
    "Исходя из данных сводной таблицы, можно констатировать факт - более половины заемщиков состоят в **зарегистрированных** отношениях (категория - \"женат / замужем\"). Данная категория является медианным значением группы. \n",
    "\n",
    "Стоит обратить внимание: т.к. данная категория является медианой, она делит группы на тех, кто, в данный момент, состоит или не состоит в **зарегистрированных** отношениях. Большему риску подвержены группы, **не зарегистрированные** в официальных отношениях, а именно категории: \"гражданский брак\" и \"Не женат / не замужем\". Вторая половина - напротив, более ответственно относится к возврату кредита в срок (категории: \"в разводе\" и \"вдовец / вдова\"), но стоит акцентировать внимание на том факте, что данные категории составляют приблизительно 10% от всех заемщиков, поэтому, статистические данные подвержены большей волатильности.\n",
    "\n",
    "*Учитывая вышеизложенные факты, **можно сделать следующие заключение:** по мере приобретения статуса семейного положения - увеличивается ответственность возврата заемных денег в срок.*"
   ]
  },
  {
   "cell_type": "markdown",
   "id": "1e8b2fca",
   "metadata": {
    "deletable": false,
    "editable": false,
    "id": "1e8b2fca"
   },
   "source": [
    "**Задание 21. Есть ли зависимость между уровнем дохода и возвратом кредита в срок?**"
   ]
  },
  {
   "cell_type": "code",
   "execution_count": 27,
   "id": "cd7e3720",
   "metadata": {
    "id": "cd7e3720"
   },
   "outputs": [
    {
     "data": {
      "text/html": [
       "<div>\n",
       "<style scoped>\n",
       "    .dataframe tbody tr th:only-of-type {\n",
       "        vertical-align: middle;\n",
       "    }\n",
       "\n",
       "    .dataframe tbody tr th {\n",
       "        vertical-align: top;\n",
       "    }\n",
       "\n",
       "    .dataframe thead th {\n",
       "        text-align: right;\n",
       "    }\n",
       "</style>\n",
       "<table border=\"1\" class=\"dataframe\">\n",
       "  <thead>\n",
       "    <tr style=\"text-align: right;\">\n",
       "      <th>debt</th>\n",
       "      <th>0</th>\n",
       "      <th>1</th>\n",
       "      <th>count</th>\n",
       "      <th>count_%</th>\n",
       "      <th>ratio_%</th>\n",
       "    </tr>\n",
       "    <tr>\n",
       "      <th>total_income_category</th>\n",
       "      <th></th>\n",
       "      <th></th>\n",
       "      <th></th>\n",
       "      <th></th>\n",
       "      <th></th>\n",
       "    </tr>\n",
       "  </thead>\n",
       "  <tbody>\n",
       "    <tr>\n",
       "      <th>D</th>\n",
       "      <td>328</td>\n",
       "      <td>21</td>\n",
       "      <td>349</td>\n",
       "      <td>1.635</td>\n",
       "      <td>93.983</td>\n",
       "    </tr>\n",
       "    <tr>\n",
       "      <th>B</th>\n",
       "      <td>4660</td>\n",
       "      <td>354</td>\n",
       "      <td>5014</td>\n",
       "      <td>23.487</td>\n",
       "      <td>92.940</td>\n",
       "    </tr>\n",
       "    <tr>\n",
       "      <th>A</th>\n",
       "      <td>23</td>\n",
       "      <td>2</td>\n",
       "      <td>25</td>\n",
       "      <td>0.117</td>\n",
       "      <td>92.000</td>\n",
       "    </tr>\n",
       "    <tr>\n",
       "      <th>C</th>\n",
       "      <td>14585</td>\n",
       "      <td>1353</td>\n",
       "      <td>15938</td>\n",
       "      <td>74.658</td>\n",
       "      <td>91.511</td>\n",
       "    </tr>\n",
       "    <tr>\n",
       "      <th>E</th>\n",
       "      <td>20</td>\n",
       "      <td>2</td>\n",
       "      <td>22</td>\n",
       "      <td>0.103</td>\n",
       "      <td>90.909</td>\n",
       "    </tr>\n",
       "  </tbody>\n",
       "</table>\n",
       "</div>"
      ],
      "text/plain": [
       "debt                       0     1  count  count_%  ratio_%\n",
       "total_income_category                                      \n",
       "D                        328    21    349    1.635   93.983\n",
       "B                       4660   354   5014   23.487   92.940\n",
       "A                         23     2     25    0.117   92.000\n",
       "C                      14585  1353  15938   74.658   91.511\n",
       "E                         20     2     22    0.103   90.909"
      ]
     },
     "execution_count": 27,
     "metadata": {},
     "output_type": "execute_result"
    }
   ],
   "source": [
    "# Создадим сводную таблицу\n",
    "data_pivot_income = data.pivot_table(index='total_income_category', columns='debt', values='gender', aggfunc='count')\n",
    "\n",
    "# Добавим в сводную таблицу общее количество людей по категории уровня дохода\n",
    "data_pivot_income['count'] = data_pivot_income[0] + data_pivot_income[1]\n",
    "\n",
    "# Посчитаем процентное соотношение людей без задолженностей к общему числу по категории уровня дохода\n",
    "data_pivot_income['count_%'] = data_pivot_income['count'] / data_pivot_income['count'].sum() * 100\n",
    "\n",
    "# Добавим в сводную таблицу процентное отношение людей, вернувших кредит в срок к общему числу \n",
    "data_pivot_income['ratio_%'] = data_pivot_income[0] / data_pivot_income['count'] * 100\n",
    "\n",
    "# Округлим значения и отсортируем по убыванию процента возврата кредита в срок\n",
    "data_pivot_income.round(3).sort_values(by='ratio_%', ascending=False)\n"
   ]
  },
  {
   "cell_type": "markdown",
   "id": "e8593def",
   "metadata": {
    "deletable": false,
    "id": "e8593def"
   },
   "source": [
    "**Вывод:** \n",
    "\n",
    "Стоит обратить внимание на категории \"A\", \"D\" и \"E\". Количество заемщиков по этим категориям в сумме - менее 2% от общего числа заемщиков, поэтому процентное соотношение задолженности по кредиту подвержено большей волатильности и может быстро поменяется, относительно категорий \"В\" и \"С\".\n",
    "\n",
    "Почти 3/4 всего числа заемщиков - это категория \"С\" с доходом 50 000 - 200 000 рублей. \n",
    "\n",
    "**Учитывая тот факт, что 3 категории из 5 составляют менее 2% от общего числа заемщиков, можно сказать о том, что статистические данные могут не отражать объективные данные. В данном случае не рекомендуется выстраивать взаимосвязь на основе данного анализа.**"
   ]
  },
  {
   "cell_type": "markdown",
   "id": "99ecbd1f",
   "metadata": {
    "deletable": false,
    "editable": false,
    "id": "99ecbd1f"
   },
   "source": [
    "**Задание 22. Как разные цели кредита влияют на его возврат в срок?**"
   ]
  },
  {
   "cell_type": "code",
   "execution_count": 28,
   "id": "2b687290",
   "metadata": {
    "id": "2b687290"
   },
   "outputs": [
    {
     "data": {
      "text/html": [
       "<div>\n",
       "<style scoped>\n",
       "    .dataframe tbody tr th:only-of-type {\n",
       "        vertical-align: middle;\n",
       "    }\n",
       "\n",
       "    .dataframe tbody tr th {\n",
       "        vertical-align: top;\n",
       "    }\n",
       "\n",
       "    .dataframe thead th {\n",
       "        text-align: right;\n",
       "    }\n",
       "</style>\n",
       "<table border=\"1\" class=\"dataframe\">\n",
       "  <thead>\n",
       "    <tr style=\"text-align: right;\">\n",
       "      <th>debt</th>\n",
       "      <th>0</th>\n",
       "      <th>1</th>\n",
       "      <th>count</th>\n",
       "      <th>count_%</th>\n",
       "      <th>ratio_%</th>\n",
       "    </tr>\n",
       "    <tr>\n",
       "      <th>purpose_category</th>\n",
       "      <th></th>\n",
       "      <th></th>\n",
       "      <th></th>\n",
       "      <th></th>\n",
       "      <th></th>\n",
       "    </tr>\n",
       "  </thead>\n",
       "  <tbody>\n",
       "    <tr>\n",
       "      <th>операции с недвижимостью</th>\n",
       "      <td>9974</td>\n",
       "      <td>780</td>\n",
       "      <td>10754</td>\n",
       "      <td>50.37</td>\n",
       "      <td>92.75</td>\n",
       "    </tr>\n",
       "    <tr>\n",
       "      <th>проведение свадьбы</th>\n",
       "      <td>2141</td>\n",
       "      <td>183</td>\n",
       "      <td>2324</td>\n",
       "      <td>10.89</td>\n",
       "      <td>92.13</td>\n",
       "    </tr>\n",
       "    <tr>\n",
       "      <th>получение образования</th>\n",
       "      <td>3620</td>\n",
       "      <td>369</td>\n",
       "      <td>3989</td>\n",
       "      <td>18.69</td>\n",
       "      <td>90.75</td>\n",
       "    </tr>\n",
       "    <tr>\n",
       "      <th>операции с автомобилем</th>\n",
       "      <td>3881</td>\n",
       "      <td>400</td>\n",
       "      <td>4281</td>\n",
       "      <td>20.05</td>\n",
       "      <td>90.66</td>\n",
       "    </tr>\n",
       "  </tbody>\n",
       "</table>\n",
       "</div>"
      ],
      "text/plain": [
       "debt                         0    1  count  count_%  ratio_%\n",
       "purpose_category                                            \n",
       "операции с недвижимостью  9974  780  10754    50.37    92.75\n",
       "проведение свадьбы        2141  183   2324    10.89    92.13\n",
       "получение образования     3620  369   3989    18.69    90.75\n",
       "операции с автомобилем    3881  400   4281    20.05    90.66"
      ]
     },
     "execution_count": 28,
     "metadata": {},
     "output_type": "execute_result"
    }
   ],
   "source": [
    "# Создадим сводную таблицу\n",
    "data_pivot_target = data.pivot_table(index='purpose_category', columns='debt', values='total_income_category', aggfunc='count')\n",
    "\n",
    "# Добавим в сводную таблицу общее количество людей по цели заема денежных средств\n",
    "data_pivot_target['count'] = data_pivot_target[0] + data_pivot_target[1]\n",
    "\n",
    "# Посчитаем процентное соотношение людей без задолженностей к общему числу по цели заема денежных средств\n",
    "data_pivot_target['count_%'] = data_pivot_target['count'] / data_pivot_target['count'].sum() * 100\n",
    "\n",
    "# Добавим в сводную таблицу процентное отношение людей, вернувших кредит в срок к общему числу \n",
    "data_pivot_target['ratio_%'] = data_pivot_target[0] / data_pivot_target['count'] * 100\n",
    "\n",
    "# Округлим значения и отсортируем по убыванию процента возврата кредита в срок\n",
    "data_pivot_target.round(2).sort_values(by='ratio_%', ascending=False)\n"
   ]
  },
  {
   "cell_type": "markdown",
   "id": "b4bb2ce6",
   "metadata": {
    "deletable": false,
    "id": "b4bb2ce6"
   },
   "source": [
    "**Вывод:** \n",
    "\n",
    "Стоит отметить, категория \"операции с недвижимостью\" имеет наименьший риск задолженностей. Данная категория составляет чуть более половины всех заемщиков. Наибольшее количество задолженностей у категории \"операции с автомобилем\".\n",
    "\n",
    "В целом в анализе нет явных аномалий и взаимосвязей. *Статистические данные можно считать объективными.*"
   ]
  },
  {
   "cell_type": "markdown",
   "id": "09c3ac4c",
   "metadata": {
    "deletable": false,
    "editable": false,
    "id": "09c3ac4c"
   },
   "source": [
    "**Задание 23. Приведите возможные причины появления пропусков в исходных данных.**"
   ]
  },
  {
   "cell_type": "markdown",
   "id": "9da2ceda",
   "metadata": {
    "deletable": false,
    "id": "9da2ceda"
   },
   "source": [
    "*Ответ:* \n",
    "\n",
    "1. Неправилная подгрузка/выгрузка данных.\n",
    "2. Неправильное заполнение данных.\n",
    "3. Потеря данных при операциях в работе с данными."
   ]
  },
  {
   "cell_type": "markdown",
   "id": "7b0487d6",
   "metadata": {
    "deletable": false,
    "editable": false,
    "id": "7b0487d6"
   },
   "source": [
    "**Задание 24. Объясните, почему заполнить пропуски медианным значением — лучшее решение для количественных переменных.**"
   ]
  },
  {
   "cell_type": "markdown",
   "id": "7ecf2b8e",
   "metadata": {
    "deletable": false,
    "id": "7ecf2b8e"
   },
   "source": [
    "*Ответ:* \n",
    "\n",
    "Для достоверности исследования (особенно в случае необходимости использования определенных значений), нужно заполнить пропуски или отсутствие значениями для корректного подсчета. \n",
    "\n",
    "Медианное значение подходит лучше среднего, т.к. она не учитывает дисперсию исследуемого диапазона. В случае среднего значения, данные будут сильнее искажать желаемый финальный результат."
   ]
  },
  {
   "cell_type": "markdown",
   "id": "6db5255a",
   "metadata": {
    "deletable": false,
    "editable": false,
    "id": "6db5255a"
   },
   "source": [
    "## Общий вывод."
   ]
  },
  {
   "cell_type": "markdown",
   "id": "bad65432",
   "metadata": {
    "id": "bad65432"
   },
   "source": [
    "Семейное положение, наличие детей, уровень дохода и цель кредита влияет на факт погашения кредита в срок.\n",
    "\n",
    "лица без детей, со средним или выше среднего доходом, берущие кредит с целью улучшения жилищных условий или на другие операции с недвижимостью, являются наиболее надежными заёмщиками;\n",
    "\n",
    "лица, не состоящие в официальном браке, но имеющие детей, с низким доходом, желающие потратить заёмные средства на покупку автомобиля, наиболее склонны к нарушению договорных обязательств и погашению кредита в срок.\n",
    "\n",
    "В ходе обзора данных выявили, что:\n",
    "\n",
    "В таблице 12 столбцов и 21525 строк. Типы данных — object, int, float\n",
    "Есть пропущенные значения в двух столбцах: days_employed и total_income\n",
    "Доля пропущенных значений 10,1% - значительная часть данных\n",
    "Есть отрицательные значения в столбцах children и days_employed\n",
    "Тип данных в total_income нужно поменять на целочисленный int\n",
    "В столбце education, есть одни и те же значения, но записанные по-разному: с использованием заглавных и строчных букв\n",
    "В ходе предобработки данных:\n",
    "\n",
    "Заполнили пропуски в столбце total_income медианным значением по каждому типу из столбца income_type\n",
    "Заменили все отрицательные значения в столбце days_employed положительными\n",
    "Удалили строки с аномальными значениями в стлобце children\n",
    "Заполнили пропуски в столбце days_employed медианными значениями по каждому типу занятости income_type\n",
    "Заменили вещественный тип данных в столбце total_income на целочисленный\n",
    "Обработали неявные дубликаты в столбце education\n",
    "Данные категоризировали по уровню дохода и по цели взятия кредита"
   ]
  }
 ],
 "metadata": {
  "ExecuteTimeLog": [
   {
    "duration": 50,
    "start_time": "2022-06-10T22:01:06.376Z"
   },
   {
    "duration": 426,
    "start_time": "2022-06-10T22:01:20.605Z"
   },
   {
    "duration": 23,
    "start_time": "2022-06-10T22:01:21.032Z"
   },
   {
    "duration": 19,
    "start_time": "2022-06-10T22:01:21.056Z"
   },
   {
    "duration": 10,
    "start_time": "2022-06-10T22:01:21.077Z"
   },
   {
    "duration": 40,
    "start_time": "2022-06-10T22:01:21.089Z"
   },
   {
    "duration": 3,
    "start_time": "2022-06-10T22:01:21.131Z"
   },
   {
    "duration": 11,
    "start_time": "2022-06-10T22:01:21.136Z"
   },
   {
    "duration": 18,
    "start_time": "2022-06-10T22:01:21.148Z"
   },
   {
    "duration": 8,
    "start_time": "2022-06-10T22:01:21.168Z"
   },
   {
    "duration": 6,
    "start_time": "2022-06-10T22:01:21.178Z"
   },
   {
    "duration": 37,
    "start_time": "2022-06-10T22:01:21.185Z"
   },
   {
    "duration": 10,
    "start_time": "2022-06-10T22:01:21.224Z"
   },
   {
    "duration": 29,
    "start_time": "2022-06-10T22:01:21.236Z"
   },
   {
    "duration": 21,
    "start_time": "2022-06-10T22:01:21.267Z"
   },
   {
    "duration": 16,
    "start_time": "2022-06-10T22:01:21.290Z"
   },
   {
    "duration": 10,
    "start_time": "2022-06-10T22:01:21.308Z"
   },
   {
    "duration": 6,
    "start_time": "2022-06-10T22:01:21.320Z"
   },
   {
    "duration": 12,
    "start_time": "2022-06-10T22:01:21.328Z"
   },
   {
    "duration": 7,
    "start_time": "2022-06-10T22:01:21.364Z"
   },
   {
    "duration": 4,
    "start_time": "2022-06-10T22:01:21.372Z"
   },
   {
    "duration": 12,
    "start_time": "2022-06-10T22:01:21.377Z"
   },
   {
    "duration": 13,
    "start_time": "2022-06-10T22:01:21.390Z"
   },
   {
    "duration": 12,
    "start_time": "2022-06-10T22:01:21.404Z"
   },
   {
    "duration": 6,
    "start_time": "2022-06-10T22:01:21.418Z"
   },
   {
    "duration": 9,
    "start_time": "2022-06-10T22:01:21.425Z"
   },
   {
    "duration": 22,
    "start_time": "2022-06-10T22:01:48.355Z"
   },
   {
    "duration": 20,
    "start_time": "2022-06-10T22:02:07.587Z"
   },
   {
    "duration": 20,
    "start_time": "2022-06-10T22:02:44.229Z"
   },
   {
    "duration": 19,
    "start_time": "2022-06-10T22:03:05.563Z"
   },
   {
    "duration": 15,
    "start_time": "2022-06-10T22:04:37.451Z"
   },
   {
    "duration": 59,
    "start_time": "2022-06-10T22:05:06.347Z"
   },
   {
    "duration": 42,
    "start_time": "2022-06-10T22:05:24.808Z"
   },
   {
    "duration": 17,
    "start_time": "2022-06-10T22:05:48.859Z"
   },
   {
    "duration": 38,
    "start_time": "2022-06-10T22:06:47.159Z"
   },
   {
    "duration": 23,
    "start_time": "2022-06-10T22:06:51.725Z"
   },
   {
    "duration": 3,
    "start_time": "2022-06-11T08:07:28.788Z"
   },
   {
    "duration": 77,
    "start_time": "2022-06-11T08:08:03.867Z"
   },
   {
    "duration": 874,
    "start_time": "2022-06-11T08:08:18.187Z"
   },
   {
    "duration": 27,
    "start_time": "2022-06-11T08:08:19.063Z"
   },
   {
    "duration": 69,
    "start_time": "2022-06-11T08:08:19.092Z"
   },
   {
    "duration": 52,
    "start_time": "2022-06-11T08:08:19.164Z"
   },
   {
    "duration": 128,
    "start_time": "2022-06-11T08:08:19.220Z"
   },
   {
    "duration": 21,
    "start_time": "2022-06-11T08:08:19.350Z"
   },
   {
    "duration": 96,
    "start_time": "2022-06-11T08:08:19.374Z"
   },
   {
    "duration": 17,
    "start_time": "2022-06-11T08:08:19.473Z"
   },
   {
    "duration": 89,
    "start_time": "2022-06-11T08:08:19.492Z"
   },
   {
    "duration": 65,
    "start_time": "2022-06-11T08:08:19.583Z"
   },
   {
    "duration": 61,
    "start_time": "2022-06-11T08:08:19.650Z"
   },
   {
    "duration": 19,
    "start_time": "2022-06-11T08:08:19.714Z"
   },
   {
    "duration": 12,
    "start_time": "2022-06-11T08:08:19.735Z"
   },
   {
    "duration": 27,
    "start_time": "2022-06-11T08:08:19.749Z"
   },
   {
    "duration": 28,
    "start_time": "2022-06-11T08:08:19.778Z"
   },
   {
    "duration": 19,
    "start_time": "2022-06-11T08:08:19.807Z"
   },
   {
    "duration": 16,
    "start_time": "2022-06-11T08:08:19.836Z"
   },
   {
    "duration": 13,
    "start_time": "2022-06-11T08:08:19.854Z"
   },
   {
    "duration": 10,
    "start_time": "2022-06-11T08:08:19.869Z"
   },
   {
    "duration": 4,
    "start_time": "2022-06-11T08:08:19.881Z"
   },
   {
    "duration": 36,
    "start_time": "2022-06-11T08:08:19.887Z"
   },
   {
    "duration": 37,
    "start_time": "2022-06-11T08:08:19.924Z"
   },
   {
    "duration": 7,
    "start_time": "2022-06-11T08:08:19.963Z"
   },
   {
    "duration": 7,
    "start_time": "2022-06-11T08:08:19.972Z"
   },
   {
    "duration": 5,
    "start_time": "2022-06-11T08:08:19.980Z"
   },
   {
    "duration": 4,
    "start_time": "2022-06-11T08:08:19.987Z"
   },
   {
    "duration": 17,
    "start_time": "2022-06-11T08:09:01.652Z"
   },
   {
    "duration": 83,
    "start_time": "2022-06-11T08:57:54.619Z"
   },
   {
    "duration": 46,
    "start_time": "2022-06-11T08:58:03.821Z"
   },
   {
    "duration": 56,
    "start_time": "2022-06-11T08:59:08.853Z"
   },
   {
    "duration": 54,
    "start_time": "2022-06-11T08:59:55.716Z"
   },
   {
    "duration": 35,
    "start_time": "2022-06-11T09:00:33.013Z"
   },
   {
    "duration": 34,
    "start_time": "2022-06-11T09:01:45.512Z"
   },
   {
    "duration": 19,
    "start_time": "2022-06-11T09:02:15.069Z"
   },
   {
    "duration": 38,
    "start_time": "2022-06-11T09:03:02.140Z"
   },
   {
    "duration": 57,
    "start_time": "2022-06-11T09:07:09.911Z"
   },
   {
    "duration": 500,
    "start_time": "2022-06-11T09:07:41.673Z"
   },
   {
    "duration": 34,
    "start_time": "2022-06-11T09:07:42.175Z"
   },
   {
    "duration": 17,
    "start_time": "2022-06-11T09:07:42.212Z"
   },
   {
    "duration": 11,
    "start_time": "2022-06-11T09:07:42.231Z"
   },
   {
    "duration": 59,
    "start_time": "2022-06-11T09:07:42.244Z"
   },
   {
    "duration": 5,
    "start_time": "2022-06-11T09:07:42.304Z"
   },
   {
    "duration": 19,
    "start_time": "2022-06-11T09:07:42.311Z"
   },
   {
    "duration": 5,
    "start_time": "2022-06-11T09:07:42.333Z"
   },
   {
    "duration": 19,
    "start_time": "2022-06-11T09:07:42.340Z"
   },
   {
    "duration": 13,
    "start_time": "2022-06-11T09:07:42.362Z"
   },
   {
    "duration": 58,
    "start_time": "2022-06-11T09:07:42.377Z"
   },
   {
    "duration": 15,
    "start_time": "2022-06-11T09:07:42.437Z"
   },
   {
    "duration": 7,
    "start_time": "2022-06-11T09:07:42.454Z"
   },
   {
    "duration": 38,
    "start_time": "2022-06-11T09:07:42.463Z"
   },
   {
    "duration": 39,
    "start_time": "2022-06-11T09:07:42.503Z"
   },
   {
    "duration": 14,
    "start_time": "2022-06-11T09:07:42.545Z"
   },
   {
    "duration": 8,
    "start_time": "2022-06-11T09:07:42.561Z"
   },
   {
    "duration": 15,
    "start_time": "2022-06-11T09:07:42.571Z"
   },
   {
    "duration": 21,
    "start_time": "2022-06-11T09:07:42.588Z"
   },
   {
    "duration": 12,
    "start_time": "2022-06-11T09:07:42.610Z"
   },
   {
    "duration": 18,
    "start_time": "2022-06-11T09:07:42.625Z"
   },
   {
    "duration": 21,
    "start_time": "2022-06-11T09:07:42.646Z"
   },
   {
    "duration": 57,
    "start_time": "2022-06-11T09:07:42.669Z"
   },
   {
    "duration": 3,
    "start_time": "2022-06-11T09:07:42.727Z"
   },
   {
    "duration": 8,
    "start_time": "2022-06-11T09:07:42.732Z"
   },
   {
    "duration": 6,
    "start_time": "2022-06-11T09:07:42.742Z"
   },
   {
    "duration": 64,
    "start_time": "2022-06-11T09:10:21.113Z"
   },
   {
    "duration": 50,
    "start_time": "2022-06-11T09:10:26.346Z"
   },
   {
    "duration": 6,
    "start_time": "2022-06-11T09:10:41.163Z"
   },
   {
    "duration": 7,
    "start_time": "2022-06-11T09:10:53.679Z"
   },
   {
    "duration": 6,
    "start_time": "2022-06-11T09:11:34.266Z"
   },
   {
    "duration": 6,
    "start_time": "2022-06-11T09:12:35.480Z"
   },
   {
    "duration": 6,
    "start_time": "2022-06-11T09:12:45.220Z"
   },
   {
    "duration": 38,
    "start_time": "2022-06-11T09:18:21.373Z"
   },
   {
    "duration": 31,
    "start_time": "2022-06-11T09:18:36.816Z"
   },
   {
    "duration": 48,
    "start_time": "2022-06-11T09:18:44.810Z"
   },
   {
    "duration": 54,
    "start_time": "2022-06-11T09:19:38.427Z"
   },
   {
    "duration": 43,
    "start_time": "2022-06-11T09:20:09.175Z"
   },
   {
    "duration": 51,
    "start_time": "2022-06-11T09:21:16.628Z"
   },
   {
    "duration": 19,
    "start_time": "2022-06-11T09:22:02.590Z"
   },
   {
    "duration": 25,
    "start_time": "2022-06-11T09:25:29.233Z"
   },
   {
    "duration": 591,
    "start_time": "2022-06-11T09:26:06.162Z"
   },
   {
    "duration": 35,
    "start_time": "2022-06-11T09:26:20.496Z"
   },
   {
    "duration": 25,
    "start_time": "2022-06-11T09:26:31.413Z"
   },
   {
    "duration": 22,
    "start_time": "2022-06-11T09:26:35.908Z"
   },
   {
    "duration": 28,
    "start_time": "2022-06-11T09:26:50.394Z"
   },
   {
    "duration": 50,
    "start_time": "2022-06-11T09:29:12.663Z"
   },
   {
    "duration": 49,
    "start_time": "2022-06-11T09:30:26.960Z"
   },
   {
    "duration": 30,
    "start_time": "2022-06-11T09:31:59.196Z"
   },
   {
    "duration": 43,
    "start_time": "2022-06-11T09:32:08.112Z"
   },
   {
    "duration": 45,
    "start_time": "2022-06-11T09:38:25.887Z"
   },
   {
    "duration": 37,
    "start_time": "2022-06-11T09:38:42.525Z"
   },
   {
    "duration": 33,
    "start_time": "2022-06-11T09:39:06.436Z"
   },
   {
    "duration": 24,
    "start_time": "2022-06-11T09:40:47.811Z"
   },
   {
    "duration": 26,
    "start_time": "2022-06-11T09:40:54.525Z"
   },
   {
    "duration": 39,
    "start_time": "2022-06-11T09:41:30.844Z"
   },
   {
    "duration": 26,
    "start_time": "2022-06-11T10:00:34.741Z"
   },
   {
    "duration": 19,
    "start_time": "2022-06-11T10:01:52.351Z"
   },
   {
    "duration": 19,
    "start_time": "2022-06-11T10:02:31.051Z"
   },
   {
    "duration": 34,
    "start_time": "2022-06-11T10:46:01.816Z"
   },
   {
    "duration": 13,
    "start_time": "2022-06-11T10:49:02.962Z"
   },
   {
    "duration": 7,
    "start_time": "2022-06-11T10:49:58.061Z"
   },
   {
    "duration": 42,
    "start_time": "2022-06-11T11:02:54.379Z"
   },
   {
    "duration": 33,
    "start_time": "2022-06-11T11:03:00.788Z"
   },
   {
    "duration": 16,
    "start_time": "2022-06-11T11:03:21.771Z"
   },
   {
    "duration": 18,
    "start_time": "2022-06-11T11:03:39.670Z"
   },
   {
    "duration": 18,
    "start_time": "2022-06-11T11:04:45.700Z"
   },
   {
    "duration": 273,
    "start_time": "2022-06-11T11:07:02.597Z"
   },
   {
    "duration": 12,
    "start_time": "2022-06-11T11:14:52.009Z"
   },
   {
    "duration": 9,
    "start_time": "2022-06-11T11:15:13.722Z"
   },
   {
    "duration": 18,
    "start_time": "2022-06-11T11:15:45.995Z"
   },
   {
    "duration": 353,
    "start_time": "2022-06-11T11:39:10.011Z"
   },
   {
    "duration": 387,
    "start_time": "2022-06-11T11:40:13.282Z"
   },
   {
    "duration": 330,
    "start_time": "2022-06-11T11:41:48.709Z"
   },
   {
    "duration": 57,
    "start_time": "2022-06-11T11:42:52.785Z"
   },
   {
    "duration": 60,
    "start_time": "2022-06-11T11:43:16.004Z"
   },
   {
    "duration": 73,
    "start_time": "2022-06-11T11:50:53.236Z"
   },
   {
    "duration": 101,
    "start_time": "2022-06-11T11:56:05.118Z"
   },
   {
    "duration": 93,
    "start_time": "2022-06-11T11:56:46.086Z"
   },
   {
    "duration": 120,
    "start_time": "2022-06-11T12:00:00.432Z"
   },
   {
    "duration": 40,
    "start_time": "2022-06-11T12:14:16.543Z"
   },
   {
    "duration": 86,
    "start_time": "2022-06-11T12:14:30.549Z"
   },
   {
    "duration": 32,
    "start_time": "2022-06-11T12:14:42.734Z"
   },
   {
    "duration": 124,
    "start_time": "2022-06-11T12:14:51.450Z"
   },
   {
    "duration": 122,
    "start_time": "2022-06-11T12:57:06.186Z"
   },
   {
    "duration": 157,
    "start_time": "2022-06-11T12:57:22.478Z"
   },
   {
    "duration": 479,
    "start_time": "2022-06-11T13:03:20.104Z"
   },
   {
    "duration": 29,
    "start_time": "2022-06-11T13:03:20.584Z"
   },
   {
    "duration": 23,
    "start_time": "2022-06-11T13:03:20.615Z"
   },
   {
    "duration": 30,
    "start_time": "2022-06-11T13:03:20.641Z"
   },
   {
    "duration": 44,
    "start_time": "2022-06-11T13:03:20.672Z"
   },
   {
    "duration": 4,
    "start_time": "2022-06-11T13:03:20.718Z"
   },
   {
    "duration": 20,
    "start_time": "2022-06-11T13:03:20.724Z"
   },
   {
    "duration": 16,
    "start_time": "2022-06-11T13:03:20.745Z"
   },
   {
    "duration": 23,
    "start_time": "2022-06-11T13:03:20.762Z"
   },
   {
    "duration": 23,
    "start_time": "2022-06-11T13:03:20.788Z"
   },
   {
    "duration": 43,
    "start_time": "2022-06-11T13:03:20.812Z"
   },
   {
    "duration": 10,
    "start_time": "2022-06-11T13:03:20.857Z"
   },
   {
    "duration": 42,
    "start_time": "2022-06-11T13:03:20.869Z"
   },
   {
    "duration": 40,
    "start_time": "2022-06-11T13:03:20.913Z"
   },
   {
    "duration": 16,
    "start_time": "2022-06-11T13:03:20.955Z"
   },
   {
    "duration": 19,
    "start_time": "2022-06-11T13:03:20.973Z"
   },
   {
    "duration": 19,
    "start_time": "2022-06-11T13:03:20.996Z"
   },
   {
    "duration": 30,
    "start_time": "2022-06-11T13:03:21.017Z"
   },
   {
    "duration": 21,
    "start_time": "2022-06-11T13:03:21.049Z"
   },
   {
    "duration": 33,
    "start_time": "2022-06-11T13:03:21.072Z"
   },
   {
    "duration": 16,
    "start_time": "2022-06-11T13:03:21.109Z"
   },
   {
    "duration": 26,
    "start_time": "2022-06-11T13:03:21.127Z"
   },
   {
    "duration": 58,
    "start_time": "2022-06-11T13:03:21.155Z"
   },
   {
    "duration": 92,
    "start_time": "2022-06-11T13:03:21.215Z"
   },
   {
    "duration": 0,
    "start_time": "2022-06-11T13:03:21.310Z"
   },
   {
    "duration": 0,
    "start_time": "2022-06-11T13:03:21.312Z"
   },
   {
    "duration": 0,
    "start_time": "2022-06-11T13:03:21.313Z"
   },
   {
    "duration": 31,
    "start_time": "2022-06-11T13:04:25.649Z"
   },
   {
    "duration": 44,
    "start_time": "2022-06-11T13:04:40.766Z"
   },
   {
    "duration": 13,
    "start_time": "2022-06-11T13:06:42.572Z"
   },
   {
    "duration": 31,
    "start_time": "2022-06-11T13:10:14.122Z"
   },
   {
    "duration": 40,
    "start_time": "2022-06-11T13:10:22.592Z"
   },
   {
    "duration": 21,
    "start_time": "2022-06-11T13:10:29.920Z"
   },
   {
    "duration": 31,
    "start_time": "2022-06-11T13:10:42.254Z"
   },
   {
    "duration": 32,
    "start_time": "2022-06-11T13:10:51.133Z"
   },
   {
    "duration": 38,
    "start_time": "2022-06-11T13:15:16.421Z"
   },
   {
    "duration": 38,
    "start_time": "2022-06-11T13:16:09.243Z"
   },
   {
    "duration": 23,
    "start_time": "2022-06-11T13:16:18.658Z"
   },
   {
    "duration": 35,
    "start_time": "2022-06-11T13:19:34.042Z"
   },
   {
    "duration": 32,
    "start_time": "2022-06-11T13:19:37.858Z"
   },
   {
    "duration": 54,
    "start_time": "2022-06-11T13:27:04.601Z"
   },
   {
    "duration": 290,
    "start_time": "2022-06-11T13:27:11.164Z"
   },
   {
    "duration": 40,
    "start_time": "2022-06-11T13:28:08.390Z"
   },
   {
    "duration": 125,
    "start_time": "2022-06-11T13:28:38.036Z"
   },
   {
    "duration": 14,
    "start_time": "2022-06-11T13:30:53.939Z"
   },
   {
    "duration": 396,
    "start_time": "2022-06-11T13:31:56.674Z"
   },
   {
    "duration": 329,
    "start_time": "2022-06-11T13:32:09.727Z"
   },
   {
    "duration": 3,
    "start_time": "2022-06-11T13:36:35.270Z"
   },
   {
    "duration": 5,
    "start_time": "2022-06-11T13:36:41.807Z"
   },
   {
    "duration": 6,
    "start_time": "2022-06-11T13:37:31.592Z"
   },
   {
    "duration": 404,
    "start_time": "2022-06-11T13:41:45.617Z"
   },
   {
    "duration": 27,
    "start_time": "2022-06-11T13:42:53.197Z"
   },
   {
    "duration": 19,
    "start_time": "2022-06-11T13:52:33.874Z"
   },
   {
    "duration": 22,
    "start_time": "2022-06-11T13:52:41.947Z"
   },
   {
    "duration": 17,
    "start_time": "2022-06-11T13:53:00.522Z"
   },
   {
    "duration": 21,
    "start_time": "2022-06-11T13:53:22.695Z"
   },
   {
    "duration": 17,
    "start_time": "2022-06-11T13:53:38.423Z"
   },
   {
    "duration": 21,
    "start_time": "2022-06-11T13:53:54.220Z"
   },
   {
    "duration": 21,
    "start_time": "2022-06-11T13:54:50.633Z"
   },
   {
    "duration": 17,
    "start_time": "2022-06-11T13:54:57.125Z"
   },
   {
    "duration": 31,
    "start_time": "2022-06-11T13:59:19.656Z"
   },
   {
    "duration": 56,
    "start_time": "2022-06-11T14:01:29.564Z"
   },
   {
    "duration": 45,
    "start_time": "2022-06-11T14:02:09.791Z"
   },
   {
    "duration": 36,
    "start_time": "2022-06-11T14:02:16.119Z"
   },
   {
    "duration": 55,
    "start_time": "2022-06-11T14:02:23.783Z"
   },
   {
    "duration": 25,
    "start_time": "2022-06-11T14:02:28.322Z"
   },
   {
    "duration": 49,
    "start_time": "2022-06-11T14:04:48.572Z"
   },
   {
    "duration": 25,
    "start_time": "2022-06-11T14:05:27.334Z"
   },
   {
    "duration": 33,
    "start_time": "2022-06-11T14:05:31.547Z"
   },
   {
    "duration": 36,
    "start_time": "2022-06-11T14:05:45.210Z"
   },
   {
    "duration": 45,
    "start_time": "2022-06-11T14:06:23.367Z"
   },
   {
    "duration": 33,
    "start_time": "2022-06-11T14:06:32.753Z"
   },
   {
    "duration": 43,
    "start_time": "2022-06-11T14:06:40.564Z"
   },
   {
    "duration": 38,
    "start_time": "2022-06-11T14:07:01.911Z"
   },
   {
    "duration": 6,
    "start_time": "2022-06-11T14:07:08.957Z"
   },
   {
    "duration": 52,
    "start_time": "2022-06-11T14:07:18.879Z"
   },
   {
    "duration": 25,
    "start_time": "2022-06-11T14:07:32.844Z"
   },
   {
    "duration": 37,
    "start_time": "2022-06-11T14:08:45.395Z"
   },
   {
    "duration": 37,
    "start_time": "2022-06-11T14:08:57.329Z"
   },
   {
    "duration": 33,
    "start_time": "2022-06-11T14:13:49.712Z"
   },
   {
    "duration": 30,
    "start_time": "2022-06-11T14:13:56.360Z"
   },
   {
    "duration": 46,
    "start_time": "2022-06-11T14:14:05.444Z"
   },
   {
    "duration": 21,
    "start_time": "2022-06-11T14:17:53.237Z"
   },
   {
    "duration": 51,
    "start_time": "2022-06-11T14:17:58.857Z"
   },
   {
    "duration": 50,
    "start_time": "2022-06-11T14:18:37.682Z"
   },
   {
    "duration": 27,
    "start_time": "2022-06-11T16:31:46.167Z"
   },
   {
    "duration": 39,
    "start_time": "2022-06-11T16:32:05.146Z"
   },
   {
    "duration": 38,
    "start_time": "2022-06-11T16:32:34.327Z"
   },
   {
    "duration": 11,
    "start_time": "2022-06-11T16:39:33.261Z"
   },
   {
    "duration": 14,
    "start_time": "2022-06-11T16:39:41.873Z"
   },
   {
    "duration": 13,
    "start_time": "2022-06-11T16:40:44.545Z"
   },
   {
    "duration": 23,
    "start_time": "2022-06-11T16:40:53.096Z"
   },
   {
    "duration": 22,
    "start_time": "2022-06-11T16:42:24.434Z"
   },
   {
    "duration": 20,
    "start_time": "2022-06-11T16:42:39.966Z"
   },
   {
    "duration": 17,
    "start_time": "2022-06-11T16:42:54.168Z"
   },
   {
    "duration": 17,
    "start_time": "2022-06-11T16:44:05.065Z"
   },
   {
    "duration": 20,
    "start_time": "2022-06-11T16:48:44.590Z"
   },
   {
    "duration": 27,
    "start_time": "2022-06-11T16:48:51.485Z"
   },
   {
    "duration": 27,
    "start_time": "2022-06-11T16:49:44.721Z"
   },
   {
    "duration": 22,
    "start_time": "2022-06-11T16:49:51.863Z"
   },
   {
    "duration": 23,
    "start_time": "2022-06-11T16:50:37.844Z"
   },
   {
    "duration": 31,
    "start_time": "2022-06-11T16:50:44.291Z"
   },
   {
    "duration": 24,
    "start_time": "2022-06-11T16:50:49.810Z"
   },
   {
    "duration": 19,
    "start_time": "2022-06-11T16:53:27.305Z"
   },
   {
    "duration": 12,
    "start_time": "2022-06-11T16:57:55.625Z"
   },
   {
    "duration": 7,
    "start_time": "2022-06-11T16:59:21.919Z"
   },
   {
    "duration": 6,
    "start_time": "2022-06-11T17:02:10.387Z"
   },
   {
    "duration": 9,
    "start_time": "2022-06-11T17:04:53.033Z"
   },
   {
    "duration": 27,
    "start_time": "2022-06-11T17:06:20.613Z"
   },
   {
    "duration": 31,
    "start_time": "2022-06-11T17:07:23.942Z"
   },
   {
    "duration": 22,
    "start_time": "2022-06-11T17:08:01.762Z"
   },
   {
    "duration": 23,
    "start_time": "2022-06-11T17:11:13.250Z"
   },
   {
    "duration": 25,
    "start_time": "2022-06-11T17:13:36.505Z"
   },
   {
    "duration": 23,
    "start_time": "2022-06-11T17:14:06.267Z"
   },
   {
    "duration": 34,
    "start_time": "2022-06-11T18:19:28.069Z"
   },
   {
    "duration": 38,
    "start_time": "2022-06-11T18:19:42.814Z"
   },
   {
    "duration": 33,
    "start_time": "2022-06-11T18:20:43.644Z"
   },
   {
    "duration": 32,
    "start_time": "2022-06-11T18:20:48.741Z"
   },
   {
    "duration": 40,
    "start_time": "2022-06-11T18:20:54.772Z"
   },
   {
    "duration": 52,
    "start_time": "2022-06-11T18:21:06.363Z"
   },
   {
    "duration": 14,
    "start_time": "2022-06-11T18:27:26.436Z"
   },
   {
    "duration": 14,
    "start_time": "2022-06-11T18:27:33.625Z"
   },
   {
    "duration": 23,
    "start_time": "2022-06-11T18:27:48.890Z"
   },
   {
    "duration": 21,
    "start_time": "2022-06-11T18:27:59.117Z"
   },
   {
    "duration": 14,
    "start_time": "2022-06-11T18:28:08.554Z"
   },
   {
    "duration": 27,
    "start_time": "2022-06-11T18:32:01.118Z"
   },
   {
    "duration": 13,
    "start_time": "2022-06-11T18:32:19.832Z"
   },
   {
    "duration": 40,
    "start_time": "2022-06-11T18:32:27.517Z"
   },
   {
    "duration": 24,
    "start_time": "2022-06-11T18:32:30.585Z"
   },
   {
    "duration": 17,
    "start_time": "2022-06-11T18:43:27.373Z"
   },
   {
    "duration": 14,
    "start_time": "2022-06-11T18:43:55.720Z"
   },
   {
    "duration": 69,
    "start_time": "2022-06-11T18:44:25.122Z"
   },
   {
    "duration": 20,
    "start_time": "2022-06-11T18:44:28.965Z"
   },
   {
    "duration": 17,
    "start_time": "2022-06-11T18:45:30.839Z"
   },
   {
    "duration": 23,
    "start_time": "2022-06-11T18:45:50.293Z"
   },
   {
    "duration": 9,
    "start_time": "2022-06-11T18:46:47.413Z"
   },
   {
    "duration": 12,
    "start_time": "2022-06-11T18:46:59.831Z"
   },
   {
    "duration": 16,
    "start_time": "2022-06-11T18:47:06.014Z"
   },
   {
    "duration": 35,
    "start_time": "2022-06-11T18:47:13.716Z"
   },
   {
    "duration": 19,
    "start_time": "2022-06-11T18:47:15.977Z"
   },
   {
    "duration": 572,
    "start_time": "2022-06-11T18:47:41.090Z"
   },
   {
    "duration": 23,
    "start_time": "2022-06-11T18:47:41.664Z"
   },
   {
    "duration": 26,
    "start_time": "2022-06-11T18:47:41.689Z"
   },
   {
    "duration": 20,
    "start_time": "2022-06-11T18:47:41.717Z"
   },
   {
    "duration": 33,
    "start_time": "2022-06-11T18:47:41.739Z"
   },
   {
    "duration": 3,
    "start_time": "2022-06-11T18:47:41.774Z"
   },
   {
    "duration": 32,
    "start_time": "2022-06-11T18:47:41.779Z"
   },
   {
    "duration": 6,
    "start_time": "2022-06-11T18:47:41.813Z"
   },
   {
    "duration": 12,
    "start_time": "2022-06-11T18:47:41.821Z"
   },
   {
    "duration": 7,
    "start_time": "2022-06-11T18:47:41.834Z"
   },
   {
    "duration": 36,
    "start_time": "2022-06-11T18:47:41.843Z"
   },
   {
    "duration": 35,
    "start_time": "2022-06-11T18:47:41.880Z"
   },
   {
    "duration": 471,
    "start_time": "2022-06-11T18:47:54.857Z"
   },
   {
    "duration": 23,
    "start_time": "2022-06-11T18:47:55.330Z"
   },
   {
    "duration": 17,
    "start_time": "2022-06-11T18:47:55.355Z"
   },
   {
    "duration": 28,
    "start_time": "2022-06-11T18:47:55.393Z"
   },
   {
    "duration": 36,
    "start_time": "2022-06-11T18:47:55.422Z"
   },
   {
    "duration": 3,
    "start_time": "2022-06-11T18:47:55.460Z"
   },
   {
    "duration": 11,
    "start_time": "2022-06-11T18:47:55.465Z"
   },
   {
    "duration": 26,
    "start_time": "2022-06-11T18:47:55.478Z"
   },
   {
    "duration": 11,
    "start_time": "2022-06-11T18:47:55.511Z"
   },
   {
    "duration": 6,
    "start_time": "2022-06-11T18:47:55.525Z"
   },
   {
    "duration": 52,
    "start_time": "2022-06-11T18:47:55.533Z"
   },
   {
    "duration": 28,
    "start_time": "2022-06-11T18:47:55.587Z"
   },
   {
    "duration": 5,
    "start_time": "2022-06-11T18:47:55.617Z"
   },
   {
    "duration": 22,
    "start_time": "2022-06-11T18:47:55.624Z"
   },
   {
    "duration": 16,
    "start_time": "2022-06-11T18:47:55.648Z"
   },
   {
    "duration": 36,
    "start_time": "2022-06-11T18:47:55.666Z"
   },
   {
    "duration": 12,
    "start_time": "2022-06-11T18:47:55.704Z"
   },
   {
    "duration": 14,
    "start_time": "2022-06-11T18:47:55.718Z"
   },
   {
    "duration": 7,
    "start_time": "2022-06-11T18:47:55.735Z"
   },
   {
    "duration": 7,
    "start_time": "2022-06-11T18:47:55.744Z"
   },
   {
    "duration": 11,
    "start_time": "2022-06-11T18:47:55.753Z"
   },
   {
    "duration": 13,
    "start_time": "2022-06-11T18:47:55.765Z"
   },
   {
    "duration": 45,
    "start_time": "2022-06-11T18:47:55.779Z"
   },
   {
    "duration": 42,
    "start_time": "2022-06-11T18:47:55.825Z"
   },
   {
    "duration": 47,
    "start_time": "2022-06-11T18:47:55.869Z"
   },
   {
    "duration": 3,
    "start_time": "2022-06-11T18:47:55.917Z"
   },
   {
    "duration": 6,
    "start_time": "2022-06-11T18:47:55.922Z"
   },
   {
    "duration": 4,
    "start_time": "2022-06-11T18:47:55.930Z"
   },
   {
    "duration": 16,
    "start_time": "2022-06-11T18:48:51.531Z"
   },
   {
    "duration": 40,
    "start_time": "2022-06-11T18:49:04.062Z"
   },
   {
    "duration": 17,
    "start_time": "2022-06-11T18:49:07.215Z"
   },
   {
    "duration": 813,
    "start_time": "2022-06-11T18:49:50.665Z"
   },
   {
    "duration": 18,
    "start_time": "2022-06-11T18:49:58.461Z"
   },
   {
    "duration": 17,
    "start_time": "2022-06-11T18:50:10.260Z"
   },
   {
    "duration": 40,
    "start_time": "2022-06-11T18:50:14.841Z"
   },
   {
    "duration": 17,
    "start_time": "2022-06-11T18:50:17.811Z"
   },
   {
    "duration": 50,
    "start_time": "2022-06-11T18:51:35.549Z"
   },
   {
    "duration": 46,
    "start_time": "2022-06-11T18:53:08.681Z"
   },
   {
    "duration": 39,
    "start_time": "2022-06-11T18:53:25.539Z"
   },
   {
    "duration": 78,
    "start_time": "2022-06-11T18:53:33.187Z"
   },
   {
    "duration": 43,
    "start_time": "2022-06-11T18:54:23.717Z"
   },
   {
    "duration": 34,
    "start_time": "2022-06-11T19:15:41.281Z"
   },
   {
    "duration": 10,
    "start_time": "2022-06-11T19:17:41.384Z"
   },
   {
    "duration": 9,
    "start_time": "2022-06-11T19:18:00.776Z"
   },
   {
    "duration": 12,
    "start_time": "2022-06-11T19:18:37.229Z"
   },
   {
    "duration": 7,
    "start_time": "2022-06-11T19:19:06.350Z"
   },
   {
    "duration": 24,
    "start_time": "2022-06-11T19:20:00.653Z"
   },
   {
    "duration": 24,
    "start_time": "2022-06-11T19:20:12.426Z"
   },
   {
    "duration": 27,
    "start_time": "2022-06-11T19:20:23.146Z"
   },
   {
    "duration": 25,
    "start_time": "2022-06-11T19:20:36.828Z"
   },
   {
    "duration": 9,
    "start_time": "2022-06-11T19:20:42.648Z"
   },
   {
    "duration": 10,
    "start_time": "2022-06-11T19:23:00.715Z"
   },
   {
    "duration": 495,
    "start_time": "2022-06-11T19:23:26.912Z"
   },
   {
    "duration": 24,
    "start_time": "2022-06-11T19:23:27.409Z"
   },
   {
    "duration": 18,
    "start_time": "2022-06-11T19:23:27.435Z"
   },
   {
    "duration": 10,
    "start_time": "2022-06-11T19:23:27.455Z"
   },
   {
    "duration": 63,
    "start_time": "2022-06-11T19:23:27.466Z"
   },
   {
    "duration": 4,
    "start_time": "2022-06-11T19:23:27.531Z"
   },
   {
    "duration": 19,
    "start_time": "2022-06-11T19:23:27.538Z"
   },
   {
    "duration": 6,
    "start_time": "2022-06-11T19:23:27.559Z"
   },
   {
    "duration": 34,
    "start_time": "2022-06-11T19:23:27.567Z"
   },
   {
    "duration": 5,
    "start_time": "2022-06-11T19:23:27.610Z"
   },
   {
    "duration": 38,
    "start_time": "2022-06-11T19:23:27.616Z"
   },
   {
    "duration": 9,
    "start_time": "2022-06-11T19:23:27.656Z"
   },
   {
    "duration": 4,
    "start_time": "2022-06-11T19:23:27.667Z"
   },
   {
    "duration": 39,
    "start_time": "2022-06-11T19:23:27.673Z"
   },
   {
    "duration": 24,
    "start_time": "2022-06-11T19:23:27.714Z"
   },
   {
    "duration": 10,
    "start_time": "2022-06-11T19:23:27.740Z"
   },
   {
    "duration": 7,
    "start_time": "2022-06-11T19:23:27.752Z"
   },
   {
    "duration": 15,
    "start_time": "2022-06-11T19:23:27.760Z"
   },
   {
    "duration": 30,
    "start_time": "2022-06-11T19:23:27.776Z"
   },
   {
    "duration": 9,
    "start_time": "2022-06-11T19:23:27.809Z"
   },
   {
    "duration": 10,
    "start_time": "2022-06-11T19:23:27.820Z"
   },
   {
    "duration": 22,
    "start_time": "2022-06-11T19:23:27.832Z"
   },
   {
    "duration": 31,
    "start_time": "2022-06-11T19:23:27.855Z"
   },
   {
    "duration": 75,
    "start_time": "2022-06-11T19:23:27.893Z"
   },
   {
    "duration": 0,
    "start_time": "2022-06-11T19:23:27.969Z"
   },
   {
    "duration": 0,
    "start_time": "2022-06-11T19:23:27.971Z"
   },
   {
    "duration": 0,
    "start_time": "2022-06-11T19:23:27.972Z"
   },
   {
    "duration": 11,
    "start_time": "2022-06-11T19:25:23.986Z"
   },
   {
    "duration": 91,
    "start_time": "2022-06-11T19:28:46.481Z"
   },
   {
    "duration": 28,
    "start_time": "2022-06-11T19:29:01.811Z"
   },
   {
    "duration": 10,
    "start_time": "2022-06-11T19:29:37.723Z"
   },
   {
    "duration": 10,
    "start_time": "2022-06-11T19:29:41.149Z"
   },
   {
    "duration": 10,
    "start_time": "2022-06-11T19:29:59.809Z"
   },
   {
    "duration": 10,
    "start_time": "2022-06-11T19:30:19.409Z"
   },
   {
    "duration": 22,
    "start_time": "2022-06-11T19:30:45.983Z"
   },
   {
    "duration": 17,
    "start_time": "2022-06-11T19:30:59.596Z"
   },
   {
    "duration": 18,
    "start_time": "2022-06-11T19:31:07.759Z"
   },
   {
    "duration": 17,
    "start_time": "2022-06-11T19:31:57.765Z"
   },
   {
    "duration": 138,
    "start_time": "2022-06-11T19:32:24.024Z"
   },
   {
    "duration": 9,
    "start_time": "2022-06-11T19:33:01.033Z"
   },
   {
    "duration": 15,
    "start_time": "2022-06-11T19:33:29.426Z"
   },
   {
    "duration": 14,
    "start_time": "2022-06-11T19:33:43.770Z"
   },
   {
    "duration": 9,
    "start_time": "2022-06-11T19:34:03.776Z"
   },
   {
    "duration": 9,
    "start_time": "2022-06-11T19:34:13.594Z"
   },
   {
    "duration": 22,
    "start_time": "2022-06-11T19:34:19.535Z"
   },
   {
    "duration": 24,
    "start_time": "2022-06-11T19:34:29.594Z"
   },
   {
    "duration": 23,
    "start_time": "2022-06-11T19:35:09.156Z"
   },
   {
    "duration": 12,
    "start_time": "2022-06-11T19:36:16.387Z"
   },
   {
    "duration": 22,
    "start_time": "2022-06-11T19:36:23.178Z"
   },
   {
    "duration": 25,
    "start_time": "2022-06-11T19:41:46.640Z"
   },
   {
    "duration": 31,
    "start_time": "2022-06-11T19:42:45.369Z"
   },
   {
    "duration": 29,
    "start_time": "2022-06-11T20:05:56.206Z"
   },
   {
    "duration": 27,
    "start_time": "2022-06-11T20:08:05.823Z"
   },
   {
    "duration": 33,
    "start_time": "2022-06-11T20:08:35.170Z"
   },
   {
    "duration": 31,
    "start_time": "2022-06-11T20:10:14.066Z"
   },
   {
    "duration": 28,
    "start_time": "2022-06-11T20:10:54.661Z"
   },
   {
    "duration": 25,
    "start_time": "2022-06-11T20:11:40.907Z"
   },
   {
    "duration": 33,
    "start_time": "2022-06-11T20:14:11.680Z"
   },
   {
    "duration": 38,
    "start_time": "2022-06-11T20:19:59.680Z"
   },
   {
    "duration": 19,
    "start_time": "2022-06-11T20:20:19.018Z"
   },
   {
    "duration": 18,
    "start_time": "2022-06-11T20:20:27.734Z"
   },
   {
    "duration": 31,
    "start_time": "2022-06-11T20:22:39.053Z"
   },
   {
    "duration": 346,
    "start_time": "2022-06-11T20:23:40.640Z"
   },
   {
    "duration": 26,
    "start_time": "2022-06-11T20:23:47.849Z"
   },
   {
    "duration": 25,
    "start_time": "2022-06-11T21:27:21.282Z"
   },
   {
    "duration": 27,
    "start_time": "2022-06-11T21:28:01.462Z"
   },
   {
    "duration": 20,
    "start_time": "2022-06-11T21:28:09.056Z"
   },
   {
    "duration": 26,
    "start_time": "2022-06-11T21:29:45.246Z"
   },
   {
    "duration": 42,
    "start_time": "2022-06-11T21:30:54.806Z"
   },
   {
    "duration": 14,
    "start_time": "2022-06-11T21:59:08.707Z"
   },
   {
    "duration": 26,
    "start_time": "2022-06-11T21:59:16.510Z"
   },
   {
    "duration": 19,
    "start_time": "2022-06-11T22:00:18.149Z"
   },
   {
    "duration": 25,
    "start_time": "2022-06-11T22:01:20.325Z"
   },
   {
    "duration": 36,
    "start_time": "2022-06-11T22:15:54.674Z"
   },
   {
    "duration": 32,
    "start_time": "2022-06-11T22:45:28.846Z"
   },
   {
    "duration": 712,
    "start_time": "2022-06-12T11:56:44.854Z"
   },
   {
    "duration": 21,
    "start_time": "2022-06-12T11:56:45.568Z"
   },
   {
    "duration": 24,
    "start_time": "2022-06-12T11:56:45.590Z"
   },
   {
    "duration": 21,
    "start_time": "2022-06-12T11:56:45.616Z"
   },
   {
    "duration": 59,
    "start_time": "2022-06-12T11:56:45.640Z"
   },
   {
    "duration": 3,
    "start_time": "2022-06-12T11:56:45.700Z"
   },
   {
    "duration": 35,
    "start_time": "2022-06-12T11:56:45.704Z"
   },
   {
    "duration": 10,
    "start_time": "2022-06-12T11:56:45.741Z"
   },
   {
    "duration": 21,
    "start_time": "2022-06-12T11:56:45.753Z"
   },
   {
    "duration": 5,
    "start_time": "2022-06-12T11:56:45.778Z"
   },
   {
    "duration": 54,
    "start_time": "2022-06-12T11:56:45.785Z"
   },
   {
    "duration": 12,
    "start_time": "2022-06-12T11:56:45.842Z"
   },
   {
    "duration": 10,
    "start_time": "2022-06-12T11:56:45.856Z"
   },
   {
    "duration": 33,
    "start_time": "2022-06-12T11:56:45.867Z"
   },
   {
    "duration": 17,
    "start_time": "2022-06-12T11:56:45.902Z"
   },
   {
    "duration": 19,
    "start_time": "2022-06-12T11:56:45.921Z"
   },
   {
    "duration": 24,
    "start_time": "2022-06-12T11:56:45.941Z"
   },
   {
    "duration": 23,
    "start_time": "2022-06-12T11:56:45.967Z"
   },
   {
    "duration": 24,
    "start_time": "2022-06-12T11:56:45.992Z"
   },
   {
    "duration": 27,
    "start_time": "2022-06-12T11:56:46.017Z"
   },
   {
    "duration": 24,
    "start_time": "2022-06-12T11:56:46.046Z"
   },
   {
    "duration": 22,
    "start_time": "2022-06-12T11:56:46.072Z"
   },
   {
    "duration": 51,
    "start_time": "2022-06-12T11:56:46.095Z"
   },
   {
    "duration": 24,
    "start_time": "2022-06-12T11:56:46.148Z"
   },
   {
    "duration": 26,
    "start_time": "2022-06-12T11:56:46.174Z"
   },
   {
    "duration": 40,
    "start_time": "2022-06-12T11:56:46.202Z"
   },
   {
    "duration": 55,
    "start_time": "2022-06-12T12:12:37.322Z"
   },
   {
    "duration": 48,
    "start_time": "2022-06-13T15:47:03.907Z"
   },
   {
    "duration": 481,
    "start_time": "2022-06-13T15:47:09.864Z"
   },
   {
    "duration": 19,
    "start_time": "2022-06-13T15:47:10.347Z"
   },
   {
    "duration": 16,
    "start_time": "2022-06-13T15:47:10.367Z"
   },
   {
    "duration": 14,
    "start_time": "2022-06-13T15:47:10.385Z"
   },
   {
    "duration": 65,
    "start_time": "2022-06-13T15:47:10.400Z"
   },
   {
    "duration": 4,
    "start_time": "2022-06-13T15:47:10.466Z"
   },
   {
    "duration": 9,
    "start_time": "2022-06-13T15:47:10.472Z"
   },
   {
    "duration": 8,
    "start_time": "2022-06-13T15:47:10.482Z"
   },
   {
    "duration": 10,
    "start_time": "2022-06-13T15:47:10.491Z"
   },
   {
    "duration": 4,
    "start_time": "2022-06-13T15:47:10.503Z"
   },
   {
    "duration": 35,
    "start_time": "2022-06-13T15:47:10.509Z"
   },
   {
    "duration": 8,
    "start_time": "2022-06-13T15:47:10.546Z"
   },
   {
    "duration": 5,
    "start_time": "2022-06-13T15:47:10.555Z"
   },
   {
    "duration": 20,
    "start_time": "2022-06-13T15:47:10.561Z"
   },
   {
    "duration": 15,
    "start_time": "2022-06-13T15:47:10.582Z"
   },
   {
    "duration": 35,
    "start_time": "2022-06-13T15:47:10.598Z"
   },
   {
    "duration": 15,
    "start_time": "2022-06-13T15:47:10.638Z"
   },
   {
    "duration": 10,
    "start_time": "2022-06-13T15:47:10.655Z"
   },
   {
    "duration": 6,
    "start_time": "2022-06-13T15:47:10.666Z"
   },
   {
    "duration": 3,
    "start_time": "2022-06-13T15:47:10.674Z"
   },
   {
    "duration": 10,
    "start_time": "2022-06-13T15:47:10.679Z"
   },
   {
    "duration": 12,
    "start_time": "2022-06-13T15:47:10.690Z"
   },
   {
    "duration": 38,
    "start_time": "2022-06-13T15:47:10.703Z"
   },
   {
    "duration": 22,
    "start_time": "2022-06-13T15:47:10.743Z"
   },
   {
    "duration": 20,
    "start_time": "2022-06-13T15:47:10.766Z"
   },
   {
    "duration": 21,
    "start_time": "2022-06-13T15:47:10.787Z"
   },
   {
    "duration": 23,
    "start_time": "2022-06-13T15:47:31.478Z"
   },
   {
    "duration": 8,
    "start_time": "2022-06-13T23:02:01.475Z"
   },
   {
    "duration": 40,
    "start_time": "2022-06-13T23:02:29.843Z"
   },
   {
    "duration": 695,
    "start_time": "2022-06-13T23:02:41.001Z"
   },
   {
    "duration": 21,
    "start_time": "2022-06-13T23:02:41.698Z"
   },
   {
    "duration": 14,
    "start_time": "2022-06-13T23:02:41.721Z"
   },
   {
    "duration": 10,
    "start_time": "2022-06-13T23:02:41.737Z"
   },
   {
    "duration": 32,
    "start_time": "2022-06-13T23:02:41.748Z"
   },
   {
    "duration": 3,
    "start_time": "2022-06-13T23:02:41.782Z"
   },
   {
    "duration": 11,
    "start_time": "2022-06-13T23:02:41.786Z"
   },
   {
    "duration": 5,
    "start_time": "2022-06-13T23:02:41.798Z"
   },
   {
    "duration": 27,
    "start_time": "2022-06-13T23:02:41.805Z"
   },
   {
    "duration": 8,
    "start_time": "2022-06-13T23:02:41.834Z"
   },
   {
    "duration": 56,
    "start_time": "2022-06-13T23:02:41.844Z"
   },
   {
    "duration": 10,
    "start_time": "2022-06-13T23:02:41.902Z"
   },
   {
    "duration": 14,
    "start_time": "2022-06-13T23:02:41.913Z"
   },
   {
    "duration": 20,
    "start_time": "2022-06-13T23:02:41.928Z"
   },
   {
    "duration": 15,
    "start_time": "2022-06-13T23:02:41.949Z"
   },
   {
    "duration": 10,
    "start_time": "2022-06-13T23:02:41.965Z"
   },
   {
    "duration": 9,
    "start_time": "2022-06-13T23:02:41.976Z"
   },
   {
    "duration": 16,
    "start_time": "2022-06-13T23:02:41.986Z"
   },
   {
    "duration": 12,
    "start_time": "2022-06-13T23:02:42.004Z"
   },
   {
    "duration": 10,
    "start_time": "2022-06-13T23:02:42.018Z"
   },
   {
    "duration": 14,
    "start_time": "2022-06-13T23:02:42.029Z"
   },
   {
    "duration": 21,
    "start_time": "2022-06-13T23:02:42.044Z"
   },
   {
    "duration": 11,
    "start_time": "2022-06-13T23:02:42.067Z"
   },
   {
    "duration": 24,
    "start_time": "2022-06-13T23:02:42.080Z"
   },
   {
    "duration": 42,
    "start_time": "2022-06-13T23:02:42.105Z"
   },
   {
    "duration": 22,
    "start_time": "2022-06-13T23:02:42.149Z"
   },
   {
    "duration": 21,
    "start_time": "2022-06-13T23:02:42.173Z"
   },
   {
    "duration": 46,
    "start_time": "2022-06-13T23:02:42.197Z"
   },
   {
    "duration": 21,
    "start_time": "2022-06-13T23:03:45.253Z"
   },
   {
    "duration": 18,
    "start_time": "2022-06-13T23:04:10.693Z"
   },
   {
    "duration": 17,
    "start_time": "2022-06-13T23:06:27.574Z"
   },
   {
    "duration": 20,
    "start_time": "2022-06-13T23:08:46.572Z"
   },
   {
    "duration": 19,
    "start_time": "2022-06-13T23:08:54.021Z"
   },
   {
    "duration": 20,
    "start_time": "2022-06-13T23:09:22.007Z"
   },
   {
    "duration": 18,
    "start_time": "2022-06-13T23:09:45.472Z"
   },
   {
    "duration": 17,
    "start_time": "2022-06-13T23:09:57.287Z"
   },
   {
    "duration": 25,
    "start_time": "2022-06-13T23:10:32.818Z"
   },
   {
    "duration": 18,
    "start_time": "2022-06-13T23:10:39.543Z"
   },
   {
    "duration": 19,
    "start_time": "2022-06-13T23:11:02.659Z"
   },
   {
    "duration": 18,
    "start_time": "2022-06-13T23:11:13.189Z"
   },
   {
    "duration": 17,
    "start_time": "2022-06-13T23:11:20.951Z"
   },
   {
    "duration": 17,
    "start_time": "2022-06-13T23:11:40.107Z"
   },
   {
    "duration": 16,
    "start_time": "2022-06-13T23:12:13.587Z"
   },
   {
    "duration": 43,
    "start_time": "2022-12-30T05:40:31.728Z"
   }
  ],
  "colab": {
   "name": "dpp_template_part2.ipynb",
   "provenance": []
  },
  "kernelspec": {
   "display_name": "Python 3 (ipykernel)",
   "language": "python",
   "name": "python3"
  },
  "language_info": {
   "codemirror_mode": {
    "name": "ipython",
    "version": 3
   },
   "file_extension": ".py",
   "mimetype": "text/x-python",
   "name": "python",
   "nbconvert_exporter": "python",
   "pygments_lexer": "ipython3",
   "version": "3.9.12"
  },
  "toc": {
   "base_numbering": 1,
   "nav_menu": {},
   "number_sections": true,
   "sideBar": true,
   "skip_h1_title": true,
   "title_cell": "Table of Contents",
   "title_sidebar": "Contents",
   "toc_cell": false,
   "toc_position": {},
   "toc_section_display": true,
   "toc_window_display": true
  }
 },
 "nbformat": 4,
 "nbformat_minor": 5
}
