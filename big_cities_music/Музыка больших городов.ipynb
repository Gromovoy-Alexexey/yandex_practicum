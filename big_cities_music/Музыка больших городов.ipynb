{
 "cells": [
  {
   "cell_type": "markdown",
   "metadata": {
    "deletable": false,
    "editable": false,
    "id": "E0vqbgi9ay0H"
   },
   "source": [
    "# Яндекс.Музыка"
   ]
  },
  {
   "cell_type": "markdown",
   "metadata": {
    "deletable": false,
    "editable": false,
    "id": "VUC88oWjTJw2"
   },
   "source": [
    "Сравнение Москвы и Петербурга окружено мифами. Например:\n",
    " * Москва — мегаполис, подчинённый жёсткому ритму рабочей недели;\n",
    " * Петербург — культурная столица, со своими вкусами.\n",
    "\n",
    "На данных Яндекс.Музыки вы сравните поведение пользователей двух столиц.\n",
    "\n",
    "**Цель исследования** — проверьте три гипотезы:\n",
    "1. Активность пользователей зависит от дня недели. Причём в Москве и Петербурге это проявляется по-разному.\n",
    "2. В понедельник утром в Москве преобладают одни жанры, а в Петербурге — другие. Так же и вечером пятницы преобладают разные жанры — в зависимости от города. \n",
    "3. Москва и Петербург предпочитают разные жанры музыки. В Москве чаще слушают поп-музыку, в Петербурге — русский рэп.\n",
    "\n",
    "**Ход исследования**\n",
    "\n",
    "Данные о поведении пользователей вы получите из файла `yandex_music_project.csv`. О качестве данных ничего не известно. Поэтому перед проверкой гипотез понадобится обзор данных. \n",
    "\n",
    "Вы проверите данные на ошибки и оцените их влияние на исследование. Затем, на этапе предобработки вы поищете возможность исправить самые критичные ошибки данных.\n",
    " \n",
    "Таким образом, исследование пройдёт в три этапа:\n",
    " 1. Обзор данных.\n",
    " 2. Предобработка данных.\n",
    " 3. Проверка гипотез.\n",
    "\n"
   ]
  },
  {
   "cell_type": "markdown",
   "metadata": {
    "deletable": false,
    "editable": false,
    "id": "Ml1hmfXC_Zcs"
   },
   "source": [
    "## Обзор данных\n",
    "\n",
    "Составьте первое представление о данных Яндекс.Музыки.\n",
    "\n",
    "\n"
   ]
  },
  {
   "cell_type": "markdown",
   "metadata": {
    "deletable": false,
    "editable": false,
    "id": "57eAOGIz_Zcs",
    "tags": [
     "start_task"
    ]
   },
   "source": [
    "**Задание 1**\n",
    "\n",
    "Основной инструмент аналитика — `pandas`. Импортируйте эту библиотеку."
   ]
  },
  {
   "cell_type": "code",
   "execution_count": 1,
   "metadata": {
    "deletable": false,
    "id": "AXN7PHPN_Zcs"
   },
   "outputs": [],
   "source": [
    "# импорт библиотеки pandas\n",
    "import pandas as pd"
   ]
  },
  {
   "cell_type": "markdown",
   "metadata": {
    "deletable": false,
    "editable": false,
    "id": "SG23P8tt_Zcs",
    "tags": [
     "start_task"
    ]
   },
   "source": [
    "**Задание 2**\n",
    "\n",
    "Прочитайте файл `yandex_music_project.csv` из папки `/datasets` и сохраните его в переменной `df`:"
   ]
  },
  {
   "cell_type": "code",
   "execution_count": 2,
   "metadata": {
    "deletable": false,
    "id": "fFVu7vqh_Zct"
   },
   "outputs": [],
   "source": [
    "# чтение файла с данными и сохранение в df\n",
    "df = pd.read_csv('practicum_datasets/yandex_music_project.csv')"
   ]
  },
  {
   "cell_type": "markdown",
   "metadata": {
    "deletable": false,
    "editable": false,
    "id": "rDoOMd3uTqnZ",
    "tags": [
     "start_task"
    ]
   },
   "source": [
    "**Задание 3**\n",
    "\n",
    "\n",
    "Выведите на экран первые десять строк таблицы:"
   ]
  },
  {
   "cell_type": "code",
   "execution_count": 3,
   "metadata": {
    "deletable": false,
    "id": "oWTVX3gW_Zct"
   },
   "outputs": [
    {
     "data": {
      "text/html": [
       "<div>\n",
       "<style scoped>\n",
       "    .dataframe tbody tr th:only-of-type {\n",
       "        vertical-align: middle;\n",
       "    }\n",
       "\n",
       "    .dataframe tbody tr th {\n",
       "        vertical-align: top;\n",
       "    }\n",
       "\n",
       "    .dataframe thead th {\n",
       "        text-align: right;\n",
       "    }\n",
       "</style>\n",
       "<table border=\"1\" class=\"dataframe\">\n",
       "  <thead>\n",
       "    <tr style=\"text-align: right;\">\n",
       "      <th></th>\n",
       "      <th>userID</th>\n",
       "      <th>Track</th>\n",
       "      <th>artist</th>\n",
       "      <th>genre</th>\n",
       "      <th>City</th>\n",
       "      <th>time</th>\n",
       "      <th>Day</th>\n",
       "    </tr>\n",
       "  </thead>\n",
       "  <tbody>\n",
       "    <tr>\n",
       "      <th>0</th>\n",
       "      <td>FFB692EC</td>\n",
       "      <td>Kamigata To Boots</td>\n",
       "      <td>The Mass Missile</td>\n",
       "      <td>rock</td>\n",
       "      <td>Saint-Petersburg</td>\n",
       "      <td>20:28:33</td>\n",
       "      <td>Wednesday</td>\n",
       "    </tr>\n",
       "    <tr>\n",
       "      <th>1</th>\n",
       "      <td>55204538</td>\n",
       "      <td>Delayed Because of Accident</td>\n",
       "      <td>Andreas Rönnberg</td>\n",
       "      <td>rock</td>\n",
       "      <td>Moscow</td>\n",
       "      <td>14:07:09</td>\n",
       "      <td>Friday</td>\n",
       "    </tr>\n",
       "    <tr>\n",
       "      <th>2</th>\n",
       "      <td>20EC38</td>\n",
       "      <td>Funiculì funiculà</td>\n",
       "      <td>Mario Lanza</td>\n",
       "      <td>pop</td>\n",
       "      <td>Saint-Petersburg</td>\n",
       "      <td>20:58:07</td>\n",
       "      <td>Wednesday</td>\n",
       "    </tr>\n",
       "    <tr>\n",
       "      <th>3</th>\n",
       "      <td>A3DD03C9</td>\n",
       "      <td>Dragons in the Sunset</td>\n",
       "      <td>Fire + Ice</td>\n",
       "      <td>folk</td>\n",
       "      <td>Saint-Petersburg</td>\n",
       "      <td>08:37:09</td>\n",
       "      <td>Monday</td>\n",
       "    </tr>\n",
       "    <tr>\n",
       "      <th>4</th>\n",
       "      <td>E2DC1FAE</td>\n",
       "      <td>Soul People</td>\n",
       "      <td>Space Echo</td>\n",
       "      <td>dance</td>\n",
       "      <td>Moscow</td>\n",
       "      <td>08:34:34</td>\n",
       "      <td>Monday</td>\n",
       "    </tr>\n",
       "    <tr>\n",
       "      <th>5</th>\n",
       "      <td>842029A1</td>\n",
       "      <td>Преданная</td>\n",
       "      <td>IMPERVTOR</td>\n",
       "      <td>rusrap</td>\n",
       "      <td>Saint-Petersburg</td>\n",
       "      <td>13:09:41</td>\n",
       "      <td>Friday</td>\n",
       "    </tr>\n",
       "    <tr>\n",
       "      <th>6</th>\n",
       "      <td>4CB90AA5</td>\n",
       "      <td>True</td>\n",
       "      <td>Roman Messer</td>\n",
       "      <td>dance</td>\n",
       "      <td>Moscow</td>\n",
       "      <td>13:00:07</td>\n",
       "      <td>Wednesday</td>\n",
       "    </tr>\n",
       "    <tr>\n",
       "      <th>7</th>\n",
       "      <td>F03E1C1F</td>\n",
       "      <td>Feeling This Way</td>\n",
       "      <td>Polina Griffith</td>\n",
       "      <td>dance</td>\n",
       "      <td>Moscow</td>\n",
       "      <td>20:47:49</td>\n",
       "      <td>Wednesday</td>\n",
       "    </tr>\n",
       "    <tr>\n",
       "      <th>8</th>\n",
       "      <td>8FA1D3BE</td>\n",
       "      <td>И вновь продолжается бой</td>\n",
       "      <td>NaN</td>\n",
       "      <td>ruspop</td>\n",
       "      <td>Moscow</td>\n",
       "      <td>09:17:40</td>\n",
       "      <td>Friday</td>\n",
       "    </tr>\n",
       "    <tr>\n",
       "      <th>9</th>\n",
       "      <td>E772D5C0</td>\n",
       "      <td>Pessimist</td>\n",
       "      <td>NaN</td>\n",
       "      <td>dance</td>\n",
       "      <td>Saint-Petersburg</td>\n",
       "      <td>21:20:49</td>\n",
       "      <td>Wednesday</td>\n",
       "    </tr>\n",
       "  </tbody>\n",
       "</table>\n",
       "</div>"
      ],
      "text/plain": [
       "     userID                        Track            artist   genre  \\\n",
       "0  FFB692EC            Kamigata To Boots  The Mass Missile    rock   \n",
       "1  55204538  Delayed Because of Accident  Andreas Rönnberg    rock   \n",
       "2    20EC38            Funiculì funiculà       Mario Lanza     pop   \n",
       "3  A3DD03C9        Dragons in the Sunset        Fire + Ice    folk   \n",
       "4  E2DC1FAE                  Soul People        Space Echo   dance   \n",
       "5  842029A1                    Преданная         IMPERVTOR  rusrap   \n",
       "6  4CB90AA5                         True      Roman Messer   dance   \n",
       "7  F03E1C1F             Feeling This Way   Polina Griffith   dance   \n",
       "8  8FA1D3BE     И вновь продолжается бой               NaN  ruspop   \n",
       "9  E772D5C0                    Pessimist               NaN   dance   \n",
       "\n",
       "             City        time        Day  \n",
       "0  Saint-Petersburg  20:28:33  Wednesday  \n",
       "1            Moscow  14:07:09     Friday  \n",
       "2  Saint-Petersburg  20:58:07  Wednesday  \n",
       "3  Saint-Petersburg  08:37:09     Monday  \n",
       "4            Moscow  08:34:34     Monday  \n",
       "5  Saint-Petersburg  13:09:41     Friday  \n",
       "6            Moscow  13:00:07  Wednesday  \n",
       "7            Moscow  20:47:49  Wednesday  \n",
       "8            Moscow  09:17:40     Friday  \n",
       "9  Saint-Petersburg  21:20:49  Wednesday  "
      ]
     },
     "execution_count": 3,
     "metadata": {},
     "output_type": "execute_result"
    }
   ],
   "source": [
    "# получение первых 10 строк таблицы df\n",
    "df.head(10)"
   ]
  },
  {
   "cell_type": "markdown",
   "metadata": {
    "deletable": false,
    "editable": false,
    "id": "EO73Kwic_Zct",
    "tags": [
     "start_task"
    ]
   },
   "source": [
    "**Задание 4**\n",
    "\n",
    "\n",
    "Одной командой получить общую информацию о таблице c помощью метода `info()`:"
   ]
  },
  {
   "cell_type": "code",
   "execution_count": 4,
   "metadata": {
    "deletable": false,
    "id": "DSf2kIb-_Zct"
   },
   "outputs": [
    {
     "name": "stdout",
     "output_type": "stream",
     "text": [
      "<class 'pandas.core.frame.DataFrame'>\n",
      "RangeIndex: 65079 entries, 0 to 65078\n",
      "Data columns (total 7 columns):\n",
      " #   Column    Non-Null Count  Dtype \n",
      "---  ------    --------------  ----- \n",
      " 0     userID  65079 non-null  object\n",
      " 1   Track     63848 non-null  object\n",
      " 2   artist    57876 non-null  object\n",
      " 3   genre     63881 non-null  object\n",
      " 4     City    65079 non-null  object\n",
      " 5   time      65079 non-null  object\n",
      " 6   Day       65079 non-null  object\n",
      "dtypes: object(7)\n",
      "memory usage: 3.5+ MB\n"
     ]
    }
   ],
   "source": [
    "# получение общей информации о данных в таблице df\n",
    "df.info()"
   ]
  },
  {
   "cell_type": "markdown",
   "metadata": {
    "deletable": false,
    "editable": false,
    "id": "TaQ2Iwbr_Zct"
   },
   "source": [
    "Итак, в таблице семь столбцов. Тип данных во всех столбцах — `object`.\n",
    "\n",
    "Согласно документации к данным:\n",
    "* `userID` — идентификатор пользователя;\n",
    "* `Track` — название трека;  \n",
    "* `artist` — имя исполнителя;\n",
    "* `genre` — название жанра;\n",
    "* `City` — город пользователя;\n",
    "* `time` — время начала прослушивания;\n",
    "* `Day` — день недели.\n",
    "\n",
    "Количество значений в столбцах различается. Значит, в данных есть пропущенные значения."
   ]
  },
  {
   "cell_type": "markdown",
   "metadata": {
    "deletable": false,
    "editable": false,
    "tags": [
     "start_task"
    ]
   },
   "source": [
    "**Задание 5**\n",
    "\n",
    "**Вопрос со свободной формой ответа**\n",
    "\n",
    "В названиях колонок видны три нарушения стиля:\n",
    "1. Строчные буквы сочетаются с прописными.\n",
    "2. Встречаются пробелы."
   ]
  },
  {
   "cell_type": "code",
   "execution_count": 5,
   "metadata": {},
   "outputs": [],
   "source": [
    "# 3. Не соблюдается змеиный регистр."
   ]
  },
  {
   "cell_type": "markdown",
   "metadata": {
    "deletable": false,
    "editable": false,
    "id": "MCB6-dXG_Zct"
   },
   "source": [
    "**Выводы**\n",
    "\n",
    "В каждой строке таблицы — данные о прослушанном треке. Часть колонок описывает саму композицию: название, исполнителя и жанр. Остальные данные рассказывают о пользователе: из какого он города, когда он слушал музыку. \n",
    "\n",
    "Предварительно можно утверждать, что, данных достаточно для проверки гипотез. Но встречаются пропуски в данных, а в названиях колонок — расхождения с хорошим стилем.\n",
    "\n",
    "Чтобы двигаться дальше, нужно устранить проблемы в данных."
   ]
  },
  {
   "cell_type": "markdown",
   "metadata": {
    "deletable": false,
    "editable": false,
    "id": "SjYF6Ub9_Zct"
   },
   "source": [
    "## Предобработка данных\n",
    "Исправьте стиль в заголовках столбцов, исключите пропуски. Затем проверьте данные на дубликаты."
   ]
  },
  {
   "cell_type": "markdown",
   "metadata": {
    "deletable": false,
    "editable": false,
    "id": "dIaKXr29_Zct",
    "tags": [
     "start_task"
    ]
   },
   "source": [
    "### Стиль заголовков\n",
    "\n",
    "**Задание 6**\n",
    "\n",
    "Выведите на экран названия столбцов:"
   ]
  },
  {
   "cell_type": "code",
   "execution_count": 6,
   "metadata": {
    "deletable": false,
    "id": "oKOTdF_Q_Zct"
   },
   "outputs": [
    {
     "data": {
      "text/plain": [
       "Index(['  userID', 'Track', 'artist', 'genre', '  City  ', 'time', 'Day'], dtype='object')"
      ]
     },
     "execution_count": 6,
     "metadata": {},
     "output_type": "execute_result"
    }
   ],
   "source": [
    "# перечень названий столбцов таблицы df\n",
    "df.columns"
   ]
  },
  {
   "cell_type": "markdown",
   "metadata": {
    "deletable": false,
    "editable": false,
    "id": "zj5534cv_Zct",
    "tags": [
     "start_task"
    ]
   },
   "source": [
    "**Задание 7**\n",
    "\n",
    "\n",
    "Приведите названия в соответствие с хорошим стилем:\n",
    "* несколько слов в названии запишите в «змеином_регистре»,\n",
    "* все символы сделайте строчными,\n",
    "* устраните пробелы.\n",
    "\n",
    "Для этого переименуйте колонки так:\n",
    "* `'  userID'` → `'user_id'`;\n",
    "* `'Track'` → `'track'`;\n",
    "* `'  City  '` → `'city'`;\n",
    "* `'Day'` → `'day'`."
   ]
  },
  {
   "cell_type": "code",
   "execution_count": 7,
   "metadata": {
    "deletable": false,
    "id": "ISlFqs5y_Zct"
   },
   "outputs": [],
   "source": [
    "# переименование столбцов\n",
    "df = df.rename(columns={'  userID': 'user_id', 'Track': 'track', '  City  ': 'city', 'Day': 'day'})"
   ]
  },
  {
   "cell_type": "markdown",
   "metadata": {
    "deletable": false,
    "editable": false,
    "id": "1dqbh00J_Zct",
    "tags": [
     "start_task"
    ]
   },
   "source": [
    "**Задание 8**\n",
    "\n",
    "\n",
    "Проверьте результат. Для этого ещё раз выведите на экран названия столбцов:"
   ]
  },
  {
   "cell_type": "code",
   "execution_count": 8,
   "metadata": {
    "deletable": false,
    "id": "d4NOAmTW_Zct"
   },
   "outputs": [
    {
     "data": {
      "text/plain": [
       "Index(['user_id', 'track', 'artist', 'genre', 'city', 'time', 'day'], dtype='object')"
      ]
     },
     "execution_count": 8,
     "metadata": {},
     "output_type": "execute_result"
    }
   ],
   "source": [
    "# проверка результатов - перечень названий столбцов\n",
    "df.columns"
   ]
  },
  {
   "cell_type": "markdown",
   "metadata": {
    "deletable": false,
    "editable": false,
    "id": "5ISfbcfY_Zct",
    "tags": [
     "start_task"
    ]
   },
   "source": [
    "### Пропуски значений\n",
    "\n",
    "**Задание 9**\n",
    "\n",
    "Сначала посчитайте, сколько в таблице пропущенных значений. Для этого достаточно двух методов `pandas`:"
   ]
  },
  {
   "cell_type": "code",
   "execution_count": 9,
   "metadata": {
    "deletable": false,
    "id": "RskX29qr_Zct"
   },
   "outputs": [
    {
     "data": {
      "text/plain": [
       "user_id       0\n",
       "track      1231\n",
       "artist     7203\n",
       "genre      1198\n",
       "city          0\n",
       "time          0\n",
       "day           0\n",
       "dtype: int64"
      ]
     },
     "execution_count": 9,
     "metadata": {},
     "output_type": "execute_result"
    }
   ],
   "source": [
    "# подсчёт пропусков\n",
    "df.isna().sum()"
   ]
  },
  {
   "cell_type": "markdown",
   "metadata": {
    "deletable": false,
    "editable": false,
    "id": "qubhgnlO_Zct"
   },
   "source": [
    "Не все пропущенные значения влияют на исследование. Так в `track` и `artist` пропуски не важны для вашей работы. Достаточно заменить их явными обозначениями.\n",
    "\n",
    "Но пропуски в `genre` могут помешать сравнению музыкальных вкусов в Москве и Санкт-Петербурге. На практике было бы правильно установить причину пропусков и восстановить данные. Такой возможности нет в учебном проекте. Придётся:\n",
    "* заполнить и эти пропуски явными обозначениями,\n",
    "* оценить, насколько они повредят расчётам. "
   ]
  },
  {
   "cell_type": "markdown",
   "metadata": {
    "deletable": false,
    "editable": false,
    "id": "fSv2laPA_Zct",
    "tags": [
     "start_task"
    ]
   },
   "source": [
    "**Задание 10**\n",
    "\n",
    "Замените пропущенные значения в столбцах `track`, `artist` и `genre` на строку `'unknown'`. Для этого создайте список `columns_to_replace`, переберите его элементы циклом `for` и для каждого столбца выполните замену пропущенных значений:"
   ]
  },
  {
   "cell_type": "code",
   "execution_count": 10,
   "metadata": {
    "deletable": false,
    "id": "KplB5qWs_Zct"
   },
   "outputs": [],
   "source": [
    "# перебор названий столбцов в цикле и замена пропущенных значений на 'unknown'\n",
    "df[['track', 'artist', 'genre']] = df[['track', 'artist', 'genre']].fillna('unknown')"
   ]
  },
  {
   "cell_type": "markdown",
   "metadata": {
    "deletable": false,
    "editable": false,
    "id": "Ilsm-MZo_Zct",
    "tags": [
     "start_task"
    ]
   },
   "source": [
    "**Задание 11**\n",
    "\n",
    "Убедитесь, что в таблице не осталось пропусков. Для этого ещё раз посчитайте пропущенные значения."
   ]
  },
  {
   "cell_type": "code",
   "execution_count": 11,
   "metadata": {
    "deletable": false,
    "id": "Tq4nYRX4_Zct"
   },
   "outputs": [
    {
     "data": {
      "text/plain": [
       "user_id    0\n",
       "track      0\n",
       "artist     0\n",
       "genre      0\n",
       "city       0\n",
       "time       0\n",
       "day        0\n",
       "dtype: int64"
      ]
     },
     "execution_count": 11,
     "metadata": {},
     "output_type": "execute_result"
    }
   ],
   "source": [
    "# подсчёт пропусков\n",
    "df.isna().sum()"
   ]
  },
  {
   "cell_type": "markdown",
   "metadata": {
    "deletable": false,
    "editable": false,
    "id": "BWKRtBJ3_Zct",
    "tags": [
     "start_task"
    ]
   },
   "source": [
    "### Дубликаты\n",
    "\n",
    "**Задание 12**\n",
    "\n",
    "Посчитайте явные дубликаты в таблице одной командой:"
   ]
  },
  {
   "cell_type": "code",
   "execution_count": 12,
   "metadata": {
    "deletable": false,
    "id": "36eES_S0_Zct"
   },
   "outputs": [
    {
     "data": {
      "text/plain": [
       "3826"
      ]
     },
     "execution_count": 12,
     "metadata": {},
     "output_type": "execute_result"
    }
   ],
   "source": [
    "# подсчёт явных дубликатов\n",
    "df.duplicated().sum()"
   ]
  },
  {
   "cell_type": "markdown",
   "metadata": {
    "deletable": false,
    "editable": false,
    "id": "Ot25h6XR_Zct",
    "tags": [
     "start_task"
    ]
   },
   "source": [
    "**Задание 13**\n",
    "\n",
    "Вызовите специальный метод `pandas`, чтобы удалить явные дубликаты:"
   ]
  },
  {
   "cell_type": "code",
   "execution_count": 13,
   "metadata": {
    "deletable": false,
    "id": "exFHq6tt_Zct"
   },
   "outputs": [],
   "source": [
    "# удаление явных дубликатов (с удалением старых индексов и формированием новых)\n",
    "df = df.drop_duplicates()"
   ]
  },
  {
   "cell_type": "markdown",
   "metadata": {
    "deletable": false,
    "editable": false,
    "id": "Im2YwBEG_Zct",
    "tags": [
     "start_task"
    ]
   },
   "source": [
    "**Задание 14**\n",
    "\n",
    "Ещё раз посчитайте явные дубликаты в таблице — убедитесь, что полностью от них избавились:"
   ]
  },
  {
   "cell_type": "code",
   "execution_count": 14,
   "metadata": {
    "deletable": false,
    "id": "-8PuNWQ0_Zct"
   },
   "outputs": [
    {
     "data": {
      "text/plain": [
       "0"
      ]
     },
     "execution_count": 14,
     "metadata": {},
     "output_type": "execute_result"
    }
   ],
   "source": [
    "# проверка на отсутствие дубликатов\n",
    "df.duplicated().sum()"
   ]
  },
  {
   "cell_type": "markdown",
   "metadata": {
    "deletable": false,
    "editable": false,
    "id": "QlFBsxAr_Zct"
   },
   "source": [
    "Теперь избавьтесь от неявных дубликатов в колонке `genre`. Например, название одного и того же жанра может быть записано немного по-разному. Такие ошибки тоже повлияют на результат исследования."
   ]
  },
  {
   "cell_type": "markdown",
   "metadata": {
    "deletable": false,
    "editable": false,
    "id": "eSjWwsOh_Zct",
    "tags": [
     "start_task"
    ]
   },
   "source": [
    "**Задание 15**\n",
    "\n",
    "Выведите на экран список уникальных названий жанров, отсортированный в алфавитном порядке. Для этого:\n",
    "* извлеките нужный столбец датафрейма, \n",
    "* примените к нему метод сортировки,\n",
    "* для отсортированного столбца вызовите метод, который вернёт уникальные значения из столбца."
   ]
  },
  {
   "cell_type": "code",
   "execution_count": 15,
   "metadata": {
    "deletable": false,
    "id": "JIUcqzZN_Zct"
   },
   "outputs": [
    {
     "data": {
      "text/plain": [
       "array(['acid', 'acoustic', 'action', 'adult', 'africa', 'afrikaans',\n",
       "       'alternative', 'alternativepunk', 'ambient', 'americana',\n",
       "       'animated', 'anime', 'arabesk', 'arabic', 'arena',\n",
       "       'argentinetango', 'art', 'audiobook', 'author', 'avantgarde',\n",
       "       'axé', 'baile', 'balkan', 'beats', 'bigroom', 'black', 'bluegrass',\n",
       "       'blues', 'bollywood', 'bossa', 'brazilian', 'breakbeat', 'breaks',\n",
       "       'broadway', 'cantautori', 'cantopop', 'canzone', 'caribbean',\n",
       "       'caucasian', 'celtic', 'chamber', 'chanson', 'children', 'chill',\n",
       "       'chinese', 'choral', 'christian', 'christmas', 'classical',\n",
       "       'classicmetal', 'club', 'colombian', 'comedy', 'conjazz',\n",
       "       'contemporary', 'country', 'cuban', 'dance', 'dancehall',\n",
       "       'dancepop', 'dark', 'death', 'deep', 'deutschrock', 'deutschspr',\n",
       "       'dirty', 'disco', 'dnb', 'documentary', 'downbeat', 'downtempo',\n",
       "       'drum', 'dub', 'dubstep', 'eastern', 'easy', 'electronic',\n",
       "       'electropop', 'emo', 'entehno', 'epicmetal', 'estrada', 'ethnic',\n",
       "       'eurofolk', 'european', 'experimental', 'extrememetal', 'fado',\n",
       "       'fairytail', 'film', 'fitness', 'flamenco', 'folk', 'folklore',\n",
       "       'folkmetal', 'folkrock', 'folktronica', 'forró', 'frankreich',\n",
       "       'französisch', 'french', 'funk', 'future', 'gangsta', 'garage',\n",
       "       'german', 'ghazal', 'gitarre', 'glitch', 'gospel', 'gothic',\n",
       "       'grime', 'grunge', 'gypsy', 'handsup', \"hard'n'heavy\", 'hardcore',\n",
       "       'hardstyle', 'hardtechno', 'hip', 'hip-hop', 'hiphop',\n",
       "       'historisch', 'holiday', 'hop', 'horror', 'house', 'hymn', 'idm',\n",
       "       'independent', 'indian', 'indie', 'indipop', 'industrial',\n",
       "       'inspirational', 'instrumental', 'international', 'irish', 'jam',\n",
       "       'japanese', 'jazz', 'jewish', 'jpop', 'jungle', 'k-pop',\n",
       "       'karadeniz', 'karaoke', 'kayokyoku', 'korean', 'laiko', 'latin',\n",
       "       'latino', 'leftfield', 'local', 'lounge', 'loungeelectronic',\n",
       "       'lovers', 'malaysian', 'mandopop', 'marschmusik', 'meditative',\n",
       "       'mediterranean', 'melodic', 'metal', 'metalcore', 'mexican',\n",
       "       'middle', 'minimal', 'miscellaneous', 'modern', 'mood', 'mpb',\n",
       "       'muslim', 'native', 'neoklassik', 'neue', 'new', 'newage',\n",
       "       'newwave', 'nu', 'nujazz', 'numetal', 'oceania', 'old', 'opera',\n",
       "       'orchestral', 'other', 'piano', 'podcasts', 'pop', 'popdance',\n",
       "       'popelectronic', 'popeurodance', 'poprussian', 'post',\n",
       "       'posthardcore', 'postrock', 'power', 'progmetal', 'progressive',\n",
       "       'psychedelic', 'punjabi', 'punk', 'quebecois', 'ragga', 'ram',\n",
       "       'rancheras', 'rap', 'rave', 'reggae', 'reggaeton', 'regional',\n",
       "       'relax', 'religious', 'retro', 'rhythm', 'rnb', 'rnr', 'rock',\n",
       "       'rockabilly', 'rockalternative', 'rockindie', 'rockother',\n",
       "       'romance', 'roots', 'ruspop', 'rusrap', 'rusrock', 'russian',\n",
       "       'salsa', 'samba', 'scenic', 'schlager', 'self', 'sertanejo',\n",
       "       'shanson', 'shoegazing', 'showtunes', 'singer', 'ska', 'skarock',\n",
       "       'slow', 'smooth', 'soft', 'soul', 'soulful', 'sound', 'soundtrack',\n",
       "       'southern', 'specialty', 'speech', 'spiritual', 'sport',\n",
       "       'stonerrock', 'surf', 'swing', 'synthpop', 'synthrock',\n",
       "       'sängerportrait', 'tango', 'tanzorchester', 'taraftar', 'tatar',\n",
       "       'tech', 'techno', 'teen', 'thrash', 'top', 'traditional',\n",
       "       'tradjazz', 'trance', 'tribal', 'trip', 'triphop', 'tropical',\n",
       "       'türk', 'türkçe', 'ukrrock', 'unknown', 'urban', 'uzbek',\n",
       "       'variété', 'vi', 'videogame', 'vocal', 'western', 'world',\n",
       "       'worldbeat', 'ïîï', 'электроника'], dtype=object)"
      ]
     },
     "execution_count": 15,
     "metadata": {},
     "output_type": "execute_result"
    }
   ],
   "source": [
    "# Просмотр уникальных названий жанров\n",
    "df['genre'].sort_values().unique()"
   ]
  },
  {
   "cell_type": "markdown",
   "metadata": {
    "deletable": false,
    "editable": false,
    "id": "qej-Qmuo_Zct",
    "tags": [
     "start_task"
    ]
   },
   "source": [
    "**Задание 16**\n",
    "\n",
    "Просмотрите список и найдите неявные дубликаты названия `hiphop`. Это могут быть названия с ошибками или альтернативные названия того же жанра.\n",
    "\n",
    "Вы увидите следующие неявные дубликаты:\n",
    "* *hip*,\n",
    "* *hop*,\n",
    "* *hip-hop*.\n",
    "\n",
    "Чтобы очистить от них таблицу используйте метод `replace()` с двумя аргументами: списком строк-дубликатов (включащий *hip*, *hop* и *hip-hop*) и строкой с правильным значением. Вам нужно исправить колонку `genre` в таблице `df`: заменить каждое значение из списка дубликатов на верное. Вместо `hip`, `hop` и `hip-hop` в таблице должно быть значение `hiphop`:"
   ]
  },
  {
   "cell_type": "code",
   "execution_count": 16,
   "metadata": {
    "deletable": false,
    "id": "ErNDkmns_Zct"
   },
   "outputs": [],
   "source": [
    "# Устранение неявных дубликатов\n",
    "df['genre'] = df['genre'].replace(['hip', 'hop', 'hip-hop'], 'hiphop')"
   ]
  },
  {
   "cell_type": "markdown",
   "metadata": {
    "deletable": false,
    "editable": false,
    "id": "zQKF16_RG15m",
    "tags": [
     "start_task"
    ]
   },
   "source": [
    "**Задание 17**\n",
    "\n",
    "Проверьте, что заменили неправильные названия:\n",
    "\n",
    "*   hip\n",
    "*   hop\n",
    "*   hip-hop\n",
    "\n",
    "Выведите отсортированный список уникальных значений столбца `genre`:"
   ]
  },
  {
   "cell_type": "code",
   "execution_count": 17,
   "metadata": {
    "deletable": false,
    "id": "wvixALnFG15m"
   },
   "outputs": [
    {
     "data": {
      "text/plain": [
       "array(['acid', 'acoustic', 'action', 'adult', 'africa', 'afrikaans',\n",
       "       'alternative', 'alternativepunk', 'ambient', 'americana',\n",
       "       'animated', 'anime', 'arabesk', 'arabic', 'arena',\n",
       "       'argentinetango', 'art', 'audiobook', 'author', 'avantgarde',\n",
       "       'axé', 'baile', 'balkan', 'beats', 'bigroom', 'black', 'bluegrass',\n",
       "       'blues', 'bollywood', 'bossa', 'brazilian', 'breakbeat', 'breaks',\n",
       "       'broadway', 'cantautori', 'cantopop', 'canzone', 'caribbean',\n",
       "       'caucasian', 'celtic', 'chamber', 'chanson', 'children', 'chill',\n",
       "       'chinese', 'choral', 'christian', 'christmas', 'classical',\n",
       "       'classicmetal', 'club', 'colombian', 'comedy', 'conjazz',\n",
       "       'contemporary', 'country', 'cuban', 'dance', 'dancehall',\n",
       "       'dancepop', 'dark', 'death', 'deep', 'deutschrock', 'deutschspr',\n",
       "       'dirty', 'disco', 'dnb', 'documentary', 'downbeat', 'downtempo',\n",
       "       'drum', 'dub', 'dubstep', 'eastern', 'easy', 'electronic',\n",
       "       'electropop', 'emo', 'entehno', 'epicmetal', 'estrada', 'ethnic',\n",
       "       'eurofolk', 'european', 'experimental', 'extrememetal', 'fado',\n",
       "       'fairytail', 'film', 'fitness', 'flamenco', 'folk', 'folklore',\n",
       "       'folkmetal', 'folkrock', 'folktronica', 'forró', 'frankreich',\n",
       "       'französisch', 'french', 'funk', 'future', 'gangsta', 'garage',\n",
       "       'german', 'ghazal', 'gitarre', 'glitch', 'gospel', 'gothic',\n",
       "       'grime', 'grunge', 'gypsy', 'handsup', \"hard'n'heavy\", 'hardcore',\n",
       "       'hardstyle', 'hardtechno', 'hiphop', 'historisch', 'holiday',\n",
       "       'horror', 'house', 'hymn', 'idm', 'independent', 'indian', 'indie',\n",
       "       'indipop', 'industrial', 'inspirational', 'instrumental',\n",
       "       'international', 'irish', 'jam', 'japanese', 'jazz', 'jewish',\n",
       "       'jpop', 'jungle', 'k-pop', 'karadeniz', 'karaoke', 'kayokyoku',\n",
       "       'korean', 'laiko', 'latin', 'latino', 'leftfield', 'local',\n",
       "       'lounge', 'loungeelectronic', 'lovers', 'malaysian', 'mandopop',\n",
       "       'marschmusik', 'meditative', 'mediterranean', 'melodic', 'metal',\n",
       "       'metalcore', 'mexican', 'middle', 'minimal', 'miscellaneous',\n",
       "       'modern', 'mood', 'mpb', 'muslim', 'native', 'neoklassik', 'neue',\n",
       "       'new', 'newage', 'newwave', 'nu', 'nujazz', 'numetal', 'oceania',\n",
       "       'old', 'opera', 'orchestral', 'other', 'piano', 'podcasts', 'pop',\n",
       "       'popdance', 'popelectronic', 'popeurodance', 'poprussian', 'post',\n",
       "       'posthardcore', 'postrock', 'power', 'progmetal', 'progressive',\n",
       "       'psychedelic', 'punjabi', 'punk', 'quebecois', 'ragga', 'ram',\n",
       "       'rancheras', 'rap', 'rave', 'reggae', 'reggaeton', 'regional',\n",
       "       'relax', 'religious', 'retro', 'rhythm', 'rnb', 'rnr', 'rock',\n",
       "       'rockabilly', 'rockalternative', 'rockindie', 'rockother',\n",
       "       'romance', 'roots', 'ruspop', 'rusrap', 'rusrock', 'russian',\n",
       "       'salsa', 'samba', 'scenic', 'schlager', 'self', 'sertanejo',\n",
       "       'shanson', 'shoegazing', 'showtunes', 'singer', 'ska', 'skarock',\n",
       "       'slow', 'smooth', 'soft', 'soul', 'soulful', 'sound', 'soundtrack',\n",
       "       'southern', 'specialty', 'speech', 'spiritual', 'sport',\n",
       "       'stonerrock', 'surf', 'swing', 'synthpop', 'synthrock',\n",
       "       'sängerportrait', 'tango', 'tanzorchester', 'taraftar', 'tatar',\n",
       "       'tech', 'techno', 'teen', 'thrash', 'top', 'traditional',\n",
       "       'tradjazz', 'trance', 'tribal', 'trip', 'triphop', 'tropical',\n",
       "       'türk', 'türkçe', 'ukrrock', 'unknown', 'urban', 'uzbek',\n",
       "       'variété', 'vi', 'videogame', 'vocal', 'western', 'world',\n",
       "       'worldbeat', 'ïîï', 'электроника'], dtype=object)"
      ]
     },
     "execution_count": 17,
     "metadata": {},
     "output_type": "execute_result"
    }
   ],
   "source": [
    "# Проверка на неявные дубликаты\n",
    "df['genre'].sort_values().unique()"
   ]
  },
  {
   "cell_type": "markdown",
   "metadata": {
    "deletable": false,
    "editable": false,
    "id": "jz6a9-7HQUDd"
   },
   "source": [
    "**Выводы**\n",
    "\n",
    "Предобработка обнаружила три проблемы в данных:\n",
    "\n",
    "- нарушения в стиле заголовков,\n",
    "- пропущенные значения,\n",
    "- дубликаты — явные и неявные.\n",
    "\n",
    "Вы исправили заголовки, чтобы упростить работу с таблицей. Без дубликатов исследование станет более точным.\n",
    "\n",
    "Пропущенные значения вы заменили на `'unknown'`. Ещё предстоит увидеть, не повредят ли исследованию пропуски в колонке `genre`.\n",
    "\n",
    "Теперь можно перейти к проверке гипотез. "
   ]
  },
  {
   "cell_type": "markdown",
   "metadata": {
    "deletable": false,
    "editable": false,
    "id": "WttZHXH0SqKk"
   },
   "source": [
    "## Проверка гипотез"
   ]
  },
  {
   "cell_type": "markdown",
   "metadata": {
    "deletable": false,
    "editable": false,
    "id": "Im936VVi_Zcu"
   },
   "source": [
    "### Сравнение поведения пользователей двух столиц"
   ]
  },
  {
   "cell_type": "markdown",
   "metadata": {
    "deletable": false,
    "editable": false,
    "id": "nwt_MuaL_Zcu"
   },
   "source": [
    "Первая гипотеза утверждает, что пользователи по-разному слушают музыку в Москве и Санкт-Петербурге. Проверьте это предположение по данным о трёх днях недели — понедельнике, среде и пятнице. Для этого:\n",
    "\n",
    "* Разделите пользователей Москвы и Санкт-Петербурга\n",
    "* Сравните, сколько треков послушала каждая группа пользователей в понедельник, среду и пятницу.\n"
   ]
  },
  {
   "cell_type": "markdown",
   "metadata": {
    "deletable": false,
    "editable": false,
    "id": "8Dw_YMmT_Zcu",
    "tags": [
     "start_task"
    ]
   },
   "source": [
    "**Задание 18**\n",
    "\n",
    "Для тренировки сначала выполните каждый из расчётов по отдельности. \n",
    "\n",
    "Оцените активность пользователей в каждом городе. Сгруппируйте данные по городу и посчитайте прослушивания в каждой группе.\n",
    "\n"
   ]
  },
  {
   "cell_type": "code",
   "execution_count": 18,
   "metadata": {
    "deletable": false,
    "id": "0_Qs96oh_Zcu"
   },
   "outputs": [
    {
     "data": {
      "text/plain": [
       "city\n",
       "Moscow              42741\n",
       "Saint-Petersburg    18512\n",
       "Name: track, dtype: int64"
      ]
     },
     "execution_count": 18,
     "metadata": {},
     "output_type": "execute_result"
    }
   ],
   "source": [
    "# Подсчёт прослушиваний в каждом городе\n",
    "df.groupby('city')['track'].count()"
   ]
  },
  {
   "cell_type": "markdown",
   "metadata": {
    "deletable": false,
    "editable": false,
    "id": "dzli3w8o_Zcu",
    "tags": [
     "start_task"
    ]
   },
   "source": [
    "В Москве прослушиваний больше, чем в Петербурге. Из этого не следует, что московские пользователи чаще слушают музыку. Просто самих пользователей в Москве больше.\n",
    "\n",
    "**Задание 19**\n",
    "\n",
    "Теперь сгруппируйте данные по дню недели и подсчитайте прослушивания в понедельник, среду и пятницу. Учтите, что в данных есть информация только о прослушиваниях только за эти дни.\n"
   ]
  },
  {
   "cell_type": "code",
   "execution_count": 19,
   "metadata": {
    "deletable": false,
    "id": "uZMKjiJz_Zcu"
   },
   "outputs": [
    {
     "data": {
      "text/plain": [
       "day\n",
       "Friday       21840\n",
       "Monday       21354\n",
       "Wednesday    18059\n",
       "Name: track, dtype: int64"
      ]
     },
     "execution_count": 19,
     "metadata": {},
     "output_type": "execute_result"
    }
   ],
   "source": [
    "# Подсчёт прослушиваний в каждый из трёх дней\n",
    "df.groupby('day')['track'].count()"
   ]
  },
  {
   "cell_type": "markdown",
   "metadata": {
    "deletable": false,
    "editable": false,
    "id": "cC2tNrlL_Zcu"
   },
   "source": [
    "В среднем пользователи из двух городов менее активны по средам. Но картина может измениться, если рассмотреть каждый город в отдельности."
   ]
  },
  {
   "cell_type": "markdown",
   "metadata": {
    "deletable": false,
    "editable": false,
    "id": "POzs8bGa_Zcu",
    "tags": [
     "start_task"
    ]
   },
   "source": [
    "**Задание 20**\n",
    "\n",
    "\n",
    "Вы видели, как работает группировка по городу и по дням недели. Теперь напишите функцию, которая объединит два эти расчёта.\n",
    "\n",
    "Создайте функцию `number_tracks()`, которая посчитает прослушивания для заданного дня и города. Ей понадобятся два параметра:\n",
    "* день недели,\n",
    "* название города.\n",
    "\n",
    "В функции сохраните в переменную строки исходной таблицы, у которых значение:\n",
    "  * в колонке `day` равно параметру `day`,\n",
    "  * в колонке `city` равно параметру `city`.\n",
    "\n",
    "Для этого примените последовательную фильтрацию с логической индексацией (или сложные логические выражения в одну строку, если вы уже знакомы с ними).\n",
    "\n",
    "Затем посчитайте значения в столбце `user_id` получившейся таблицы. Результат сохраните в новую переменную. Верните эту переменную из функции."
   ]
  },
  {
   "cell_type": "code",
   "execution_count": 20,
   "metadata": {
    "deletable": false,
    "id": "Nz3GdQB1_Zcu"
   },
   "outputs": [],
   "source": [
    "# <создание функции number_tracks()>\n",
    "# Объявляется функция с двумя параметрами: day, city.\n",
    "# В переменной track_list сохраняются те строки таблицы df, для которых \n",
    "# значение в столбце 'day' равно параметру day и одновременно значение\n",
    "# в столбце 'city' равно параметру city (используйте последовательную фильтрацию\n",
    "# с помощью логической индексации или сложные логические выражения в одну строку, если вы уже знакомы с ними).\n",
    "# В переменной track_list_count сохраняется число значений столбца 'user_id',\n",
    "# рассчитанное методом count() для таблицы track_list.\n",
    "# Функция возвращает число - значение track_list_count.\n",
    "def number_tracks(day, city):\n",
    "    track_list = df[df['day'] == day]\n",
    "    track_list = track_list[track_list['city'] == city]\n",
    "    track_list_count = track_list.count()['user_id']\n",
    "    return track_list_count\n"
   ]
  },
  {
   "cell_type": "markdown",
   "metadata": {
    "deletable": false,
    "editable": false,
    "id": "ytf7xFrFJQ2r",
    "tags": [
     "start_task"
    ]
   },
   "source": [
    "**Задание 21**\n",
    "\n",
    "Вызовите `number_tracks()` шесть раз, меняя значение параметров — так, чтобы получить данные для каждого города в каждый из трёх дней."
   ]
  },
  {
   "cell_type": "code",
   "execution_count": 21,
   "metadata": {
    "deletable": false,
    "id": "rJcRATNQ_Zcu"
   },
   "outputs": [
    {
     "data": {
      "text/plain": [
       "15740"
      ]
     },
     "execution_count": 21,
     "metadata": {},
     "output_type": "execute_result"
    }
   ],
   "source": [
    "# количество прослушиваний в Москве по понедельникам\n",
    "number_tracks('Monday', 'Moscow')"
   ]
  },
  {
   "cell_type": "code",
   "execution_count": 22,
   "metadata": {
    "deletable": false,
    "id": "hq_ncZ5T_Zcu"
   },
   "outputs": [
    {
     "data": {
      "text/plain": [
       "5614"
      ]
     },
     "execution_count": 22,
     "metadata": {},
     "output_type": "execute_result"
    }
   ],
   "source": [
    "# количество прослушиваний в Санкт-Петербурге по понедельникам\n",
    "number_tracks('Monday', 'Saint-Petersburg')"
   ]
  },
  {
   "cell_type": "code",
   "execution_count": 23,
   "metadata": {
    "deletable": false,
    "id": "_NTy2VPU_Zcu"
   },
   "outputs": [
    {
     "data": {
      "text/plain": [
       "11056"
      ]
     },
     "execution_count": 23,
     "metadata": {},
     "output_type": "execute_result"
    }
   ],
   "source": [
    "# количество прослушиваний в Москве по средам\n",
    "number_tracks('Wednesday', 'Moscow')"
   ]
  },
  {
   "cell_type": "code",
   "execution_count": 24,
   "metadata": {
    "deletable": false,
    "id": "j2y3TAwo_Zcu"
   },
   "outputs": [
    {
     "data": {
      "text/plain": [
       "7003"
      ]
     },
     "execution_count": 24,
     "metadata": {},
     "output_type": "execute_result"
    }
   ],
   "source": [
    "# количество прослушиваний в Санкт-Петербурге по средам\n",
    "number_tracks('Wednesday', 'Saint-Petersburg')"
   ]
  },
  {
   "cell_type": "code",
   "execution_count": 25,
   "metadata": {
    "deletable": false,
    "id": "vYDw5u_K_Zcu"
   },
   "outputs": [
    {
     "data": {
      "text/plain": [
       "15945"
      ]
     },
     "execution_count": 25,
     "metadata": {},
     "output_type": "execute_result"
    }
   ],
   "source": [
    "# количество прослушиваний в Москве по пятницам\n",
    "number_tracks('Friday', 'Moscow')"
   ]
  },
  {
   "cell_type": "code",
   "execution_count": 26,
   "metadata": {
    "deletable": false,
    "id": "8_yzFtW3_Zcu"
   },
   "outputs": [
    {
     "data": {
      "text/plain": [
       "5895"
      ]
     },
     "execution_count": 26,
     "metadata": {},
     "output_type": "execute_result"
    }
   ],
   "source": [
    "# количество прослушиваний в Санкт-Петербурге по пятницам\n",
    "number_tracks('Friday', 'Saint-Petersburg')"
   ]
  },
  {
   "cell_type": "markdown",
   "metadata": {
    "deletable": false,
    "editable": false,
    "id": "7QXffbO-_Zcu",
    "tags": [
     "start_task"
    ]
   },
   "source": [
    "**Задание 22**\n",
    "\n",
    "Создайте c помощью конструктора `pd.DataFrame` таблицу, где\n",
    "* названия колонок — `['city', 'monday', 'wednesday', 'friday']`;\n",
    "* данные — результаты, которые вы получили с помощью `number_tracks`."
   ]
  },
  {
   "cell_type": "code",
   "execution_count": 27,
   "metadata": {
    "deletable": false,
    "id": "APAcLpOr_Zcu"
   },
   "outputs": [
    {
     "data": {
      "text/html": [
       "<div>\n",
       "<style scoped>\n",
       "    .dataframe tbody tr th:only-of-type {\n",
       "        vertical-align: middle;\n",
       "    }\n",
       "\n",
       "    .dataframe tbody tr th {\n",
       "        vertical-align: top;\n",
       "    }\n",
       "\n",
       "    .dataframe thead th {\n",
       "        text-align: right;\n",
       "    }\n",
       "</style>\n",
       "<table border=\"1\" class=\"dataframe\">\n",
       "  <thead>\n",
       "    <tr style=\"text-align: right;\">\n",
       "      <th></th>\n",
       "      <th>city</th>\n",
       "      <th>monday</th>\n",
       "      <th>wednesday</th>\n",
       "      <th>friday</th>\n",
       "    </tr>\n",
       "  </thead>\n",
       "  <tbody>\n",
       "    <tr>\n",
       "      <th>0</th>\n",
       "      <td>Moscow</td>\n",
       "      <td>15740</td>\n",
       "      <td>11056</td>\n",
       "      <td>15945</td>\n",
       "    </tr>\n",
       "    <tr>\n",
       "      <th>1</th>\n",
       "      <td>Saint-Petersburg</td>\n",
       "      <td>5614</td>\n",
       "      <td>7003</td>\n",
       "      <td>5895</td>\n",
       "    </tr>\n",
       "  </tbody>\n",
       "</table>\n",
       "</div>"
      ],
      "text/plain": [
       "               city  monday  wednesday  friday\n",
       "0            Moscow   15740      11056   15945\n",
       "1  Saint-Petersburg    5614       7003    5895"
      ]
     },
     "execution_count": 27,
     "metadata": {},
     "output_type": "execute_result"
    }
   ],
   "source": [
    "# Таблица с результатами\n",
    "columns = ['city', 'monday', 'wednesday', 'friday']\n",
    "data = [\n",
    "    {'city': 'Moscow', 'monday': 15740, 'wednesday': 11056, 'friday': 15945},\n",
    "    {'city': 'Saint-Petersburg', 'monday': 5614, 'wednesday': 7003, 'friday': 5895}\n",
    "]\n",
    "pd.DataFrame(data=data, columns=columns)\n"
   ]
  },
  {
   "cell_type": "markdown",
   "metadata": {
    "deletable": false,
    "editable": false,
    "id": "-EgPIHYu_Zcu"
   },
   "source": [
    "**Выводы**\n",
    "\n",
    "Данные показывают разницу поведения пользователей:\n",
    "\n",
    "- В Москве пик прослушиваний приходится на понедельник и пятницу, а в среду заметен спад.\n",
    "- В Петербурге, наоборот, больше слушают музыку по средам. Активность в понедельник и пятницу здесь почти в равной мере уступает среде.\n",
    "\n",
    "Значит, данные говорят в пользу первой гипотезы."
   ]
  },
  {
   "cell_type": "markdown",
   "metadata": {
    "deletable": false,
    "editable": false,
    "id": "atZAxtq4_Zcu"
   },
   "source": [
    "### Музыка в начале и в конце недели"
   ]
  },
  {
   "cell_type": "markdown",
   "metadata": {
    "deletable": false,
    "editable": false,
    "id": "eXrQqXFH_Zcu"
   },
   "source": [
    "Согласно второй гипотезе, утром в понедельник в Москве преобладают одни жанры, а в Петербурге — другие. Так же и вечером пятницы преобладают разные жанры — в зависимости от города."
   ]
  },
  {
   "cell_type": "markdown",
   "metadata": {
    "deletable": false,
    "editable": false,
    "id": "S8UcW6Hw_Zcu",
    "tags": [
     "start_task"
    ]
   },
   "source": [
    "**Задание 23**\n",
    "\n",
    "Сохраните таблицы с данными в две переменные:\n",
    "* по Москве — в `moscow_general`;\n",
    "* по Санкт-Петербургу — в `spb_general`."
   ]
  },
  {
   "cell_type": "code",
   "execution_count": 28,
   "metadata": {
    "deletable": false,
    "id": "qeaFfM_P_Zcu"
   },
   "outputs": [],
   "source": [
    "# получение таблицы moscow_general из тех строк таблицы df, \n",
    "# для которых значение в столбце 'city' равно 'Moscow'\n",
    "moscow_general = df[df['city'] == 'Moscow']\n"
   ]
  },
  {
   "cell_type": "code",
   "execution_count": 29,
   "metadata": {
    "deletable": false,
    "id": "ORaVRKto_Zcu"
   },
   "outputs": [],
   "source": [
    "# получение таблицы spb_general из тех строк таблицы df,\n",
    "# для которых значение в столбце 'city' равно 'Saint-Petersburg'\n",
    "spb_general = df[df['city'] == 'Saint-Petersburg']\n"
   ]
  },
  {
   "cell_type": "markdown",
   "metadata": {
    "deletable": false,
    "id": "MEJV-CX2_Zcu",
    "tags": [
     "start_task"
    ]
   },
   "source": [
    "**Задание 24**\n",
    "\n",
    "Создайте функцию `genre_weekday()` с четырьмя параметрами:\n",
    "* таблица (датафрейм) с данными,\n",
    "* день недели,\n",
    "* начальная временная метка в формате 'hh:mm', \n",
    "* последняя временная метка в формате 'hh:mm'.\n",
    "\n",
    "Функция должна вернуть информацию о топ-10 жанров тех треков, которые прослушивали в указанный день, в промежутке между двумя отметками времени."
   ]
  },
  {
   "cell_type": "code",
   "execution_count": 30,
   "metadata": {
    "deletable": false,
    "id": "laJT9BYl_Zcu"
   },
   "outputs": [],
   "source": [
    "# Объявление функции genre_weekday() с параметрами table, day, time1, time2,\n",
    "# которая возвращает информацию о самых популярных жанрах в указанный день в\n",
    "# заданное время:\n",
    "# 1) в переменную genre_df сохраняются те строки переданного датафрейма table, для\n",
    "#    которых одновременно:\n",
    "#    - значение в столбце day равно значению аргумента day\n",
    "#    - значение в столбце time больше значения аргумента time1\n",
    "#    - значение в столбце time меньше значения аргумента time2\n",
    "#    Используйте последовательную фильтрацию с помощью логической индексации.\n",
    "# 2) сгруппировать датафрейм genre_df по столбцу genre, взять один из его\n",
    "#    столбцов и посчитать методом count() количество записей для каждого из\n",
    "#    присутствующих жанров, получившийся Series записать в переменную\n",
    "#    genre_df_count\n",
    "# 3) отсортировать genre_df_count по убыванию встречаемости и сохранить\n",
    "#    в переменную genre_df_sorted\n",
    "# 4) вернуть Series из 10 первых значений genre_df_sorted, это будут топ-10\n",
    "#    популярных жанров (в указанный день, в заданное время)\n",
    "\n",
    "def genre_weekday(table, day, time1, time2):\n",
    "\n",
    "    # последовательная фильтрация\n",
    "    # оставляем в genre_df только те строки df, у которых день равен day\n",
    "    genre_df = table[table['day'] == day]\n",
    "    # оставляем в genre_df только те строки genre_df, у которых время меньше time2\n",
    "    genre_df = genre_df[genre_df['time'] < time2]\n",
    "    # оставляем в genre_df только те строки genre_df, у которых время больше time1\n",
    "    genre_df = genre_df[genre_df['time'] > time1]\n",
    "    # сгруппируем отфильтрованный датафрейм по столбцу с названиями жанров, возьмём столбец genre_name и посчитаем кол-во строк для каждого жанра методом count()\n",
    "    genre_df_grouped = genre_df.groupby('genre')['genre'].count()\n",
    "    # отсортируем результат по убыванию (чтобы в начале Series оказались самые популярные жанры)\n",
    "    genre_df_sorted = genre_df_grouped.sort_values(ascending=False)\n",
    "    # вернём Series с 10 самыми популярными жанрами в указанный отрезок времени заданного дня\n",
    "    return genre_df_sorted[:10]\n",
    "    \n"
   ]
  },
  {
   "cell_type": "markdown",
   "metadata": {
    "deletable": false,
    "editable": false,
    "id": "la2s2_PF_Zcu",
    "tags": [
     "start_task"
    ]
   },
   "source": [
    "**Задание 25**\n",
    "\n",
    "\n",
    "Cравните результаты функции `genre_weekday()` для Москвы и Санкт-Петербурга в понедельник утром (с 7:00 до 11:00) и в пятницу вечером (с 17:00 до 23:00):"
   ]
  },
  {
   "cell_type": "code",
   "execution_count": 31,
   "metadata": {
    "deletable": false,
    "id": "yz7itPUQ_Zcu"
   },
   "outputs": [
    {
     "data": {
      "text/plain": [
       "genre\n",
       "pop            781\n",
       "dance          549\n",
       "electronic     480\n",
       "rock           474\n",
       "hiphop         286\n",
       "ruspop         186\n",
       "world          181\n",
       "rusrap         175\n",
       "alternative    164\n",
       "unknown        161\n",
       "Name: genre, dtype: int64"
      ]
     },
     "execution_count": 31,
     "metadata": {},
     "output_type": "execute_result"
    }
   ],
   "source": [
    "# вызов функции для утра понедельника в Москве (вместо df — таблица moscow_general)\n",
    "# объекты, хранящие время, являются строками и сравниваются как строки\n",
    "# пример вызова: genre_weekday(moscow_general, 'Monday', '07:00', '11:00')\n",
    "genre_weekday(moscow_general, 'Monday', '07:00', '11:00')"
   ]
  },
  {
   "cell_type": "code",
   "execution_count": 32,
   "metadata": {
    "deletable": false,
    "id": "kwUcHPdy_Zcu"
   },
   "outputs": [
    {
     "data": {
      "text/plain": [
       "genre\n",
       "pop            218\n",
       "dance          182\n",
       "rock           162\n",
       "electronic     147\n",
       "hiphop          80\n",
       "ruspop          64\n",
       "alternative     58\n",
       "rusrap          55\n",
       "jazz            44\n",
       "classical       40\n",
       "Name: genre, dtype: int64"
      ]
     },
     "execution_count": 32,
     "metadata": {},
     "output_type": "execute_result"
    }
   ],
   "source": [
    "# вызов функции для утра понедельника в Петербурге (вместо df — таблица spb_general)\n",
    "genre_weekday(spb_general, 'Monday', '07:00', '11:00')"
   ]
  },
  {
   "cell_type": "code",
   "execution_count": 33,
   "metadata": {
    "deletable": false,
    "id": "EzXVRE1o_Zcu"
   },
   "outputs": [
    {
     "data": {
      "text/plain": [
       "genre\n",
       "pop            713\n",
       "rock           517\n",
       "dance          495\n",
       "electronic     482\n",
       "hiphop         273\n",
       "world          208\n",
       "ruspop         170\n",
       "alternative    163\n",
       "classical      163\n",
       "rusrap         142\n",
       "Name: genre, dtype: int64"
      ]
     },
     "execution_count": 33,
     "metadata": {},
     "output_type": "execute_result"
    }
   ],
   "source": [
    "# вызов функции для вечера пятницы в Москве\n",
    "genre_weekday(moscow_general, 'Friday', '17:00', '23:00')"
   ]
  },
  {
   "cell_type": "code",
   "execution_count": 34,
   "metadata": {
    "deletable": false,
    "id": "JZaEKu5v_Zcu"
   },
   "outputs": [
    {
     "data": {
      "text/plain": [
       "genre\n",
       "pop            256\n",
       "electronic     216\n",
       "rock           216\n",
       "dance          210\n",
       "hiphop          97\n",
       "alternative     63\n",
       "jazz            61\n",
       "classical       60\n",
       "rusrap          59\n",
       "world           54\n",
       "Name: genre, dtype: int64"
      ]
     },
     "execution_count": 34,
     "metadata": {},
     "output_type": "execute_result"
    }
   ],
   "source": [
    "# вызов функции для вечера пятницы в Петербурге\n",
    "genre_weekday(spb_general, 'Friday', '17:00', '23:00')"
   ]
  },
  {
   "cell_type": "markdown",
   "metadata": {
    "deletable": false,
    "editable": false,
    "id": "wrCe4MNX_Zcu"
   },
   "source": [
    "**Выводы**\n",
    "\n",
    "Если сравнить топ-10 жанров в понедельник утром, можно сделать такие выводы:\n",
    "\n",
    "1. В Москве и Петербурге слушают похожую музыку. Единственное отличие — в московский рейтинг вошёл жанр “world”, а в петербургский — джаз и классика.\n",
    "\n",
    "2. В Москве пропущенных значений оказалось так много, что значение `'unknown'` заняло десятое место среди самых популярных жанров. Значит, пропущенные значения занимают существенную долю в данных и угрожают достоверности исследования.\n",
    "\n",
    "Вечер пятницы не меняет эту картину. Некоторые жанры поднимаются немного выше, другие спускаются, но в целом топ-10 остаётся тем же самым.\n",
    "\n",
    "Таким образом, вторая гипотеза подтвердилась лишь частично:\n",
    "* Пользователи слушают похожую музыку в начале недели и в конце.\n",
    "* Разница между Москвой и Петербургом не слишком выражена. В Москве чаще слушают русскую популярную музыку, в Петербурге — джаз.\n",
    "\n",
    "Однако пропуски в данных ставят под сомнение этот результат. В Москве их так много, что рейтинг топ-10 мог бы выглядеть иначе, если бы не утерянные  данные о жанрах."
   ]
  },
  {
   "cell_type": "markdown",
   "metadata": {
    "deletable": false,
    "editable": false,
    "id": "JolODAqr_Zcu"
   },
   "source": [
    "### Жанровые предпочтения в Москве и Петербурге\n",
    "\n",
    "Гипотеза: Петербург — столица рэпа, музыку этого жанра там слушают чаще, чем в Москве.  А Москва — город контрастов, в котором, тем не менее, преобладает поп-музыка."
   ]
  },
  {
   "cell_type": "markdown",
   "metadata": {
    "deletable": false,
    "editable": false,
    "id": "DlegSvaT_Zcu",
    "tags": [
     "start_task"
    ]
   },
   "source": [
    "**Задание 26**\n",
    "\n",
    "Сгруппируйте таблицу `moscow_general` по жанру и посчитайте прослушивания треков каждого жанра методом `count()`. Затем отсортируйте результат в порядке убывания и сохраните его в таблице `moscow_genres`."
   ]
  },
  {
   "cell_type": "code",
   "execution_count": 35,
   "metadata": {
    "deletable": false,
    "id": "r19lIPke_Zcu"
   },
   "outputs": [],
   "source": [
    "# одной строкой: группировка таблицы moscow_general по столбцу 'genre', \n",
    "# подсчёт числа значений 'genre' в этой группировке методом count(), \n",
    "# сортировка получившегося Series в порядке убывания и сохранение в moscow_genres\n",
    "moscow_genres = moscow_general.groupby('genre')['genre'].count().sort_values(ascending=False)"
   ]
  },
  {
   "cell_type": "markdown",
   "metadata": {
    "deletable": false,
    "editable": false,
    "id": "6kMuomxTiIr8",
    "tags": [
     "start_task"
    ]
   },
   "source": [
    "**Задание 27**\n",
    "\n",
    "Выведите на экран первые десять строк `moscow_genres`:"
   ]
  },
  {
   "cell_type": "code",
   "execution_count": 36,
   "metadata": {
    "deletable": false,
    "id": "WhCSooF8_Zcv"
   },
   "outputs": [
    {
     "data": {
      "text/plain": [
       "genre\n",
       "pop            5892\n",
       "dance          4435\n",
       "rock           3965\n",
       "electronic     3786\n",
       "hiphop         2096\n",
       "classical      1616\n",
       "world          1432\n",
       "alternative    1379\n",
       "ruspop         1372\n",
       "rusrap         1161\n",
       "Name: genre, dtype: int64"
      ]
     },
     "execution_count": 36,
     "metadata": {},
     "output_type": "execute_result"
    }
   ],
   "source": [
    "# просмотр первых 10 строк moscow_genres\n",
    "moscow_genres.head(10)"
   ]
  },
  {
   "cell_type": "markdown",
   "metadata": {
    "deletable": false,
    "editable": false,
    "id": "cnPG2vnN_Zcv",
    "tags": [
     "start_task"
    ]
   },
   "source": [
    "**Задание 28**\n",
    "\n",
    "\n",
    "Теперь повторите то же и для Петербурга.\n",
    "\n",
    "Сгруппируйте таблицу `spb_general` по жанру. Посчитайте прослушивания треков каждого жанра. Результат отсортируйте в порядке убывания и сохраните в таблице `spb_genres`:\n"
   ]
  },
  {
   "cell_type": "code",
   "execution_count": 37,
   "metadata": {
    "deletable": false,
    "id": "gluLIpE7_Zcv"
   },
   "outputs": [],
   "source": [
    "# одной строкой: группировка таблицы spb_general по столбцу 'genre', \n",
    "# подсчёт числа значений 'genre' в этой группировке методом count(), \n",
    "# сортировка получившегося Series в порядке убывания и сохранение в spb_genres\n",
    "spb_genres = spb_general.groupby('genre')['genre'].count().sort_values(ascending=False)"
   ]
  },
  {
   "cell_type": "markdown",
   "metadata": {
    "deletable": false,
    "editable": false,
    "id": "5Doha_ODgyQ8",
    "tags": [
     "start_task"
    ]
   },
   "source": [
    "**Задание 29**\n",
    "\n",
    "Выведите на экран первые десять строк `spb_genres`:"
   ]
  },
  {
   "cell_type": "code",
   "execution_count": 38,
   "metadata": {
    "deletable": false,
    "id": "uaGJHjVU_Zcv"
   },
   "outputs": [
    {
     "data": {
      "text/plain": [
       "genre\n",
       "pop            2431\n",
       "dance          1932\n",
       "rock           1879\n",
       "electronic     1736\n",
       "hiphop          960\n",
       "alternative     649\n",
       "classical       646\n",
       "rusrap          564\n",
       "ruspop          538\n",
       "world           515\n",
       "Name: genre, dtype: int64"
      ]
     },
     "execution_count": 38,
     "metadata": {},
     "output_type": "execute_result"
    }
   ],
   "source": [
    "# просмотр первых 10 строк spb_genres\n",
    "spb_genres.head(10)"
   ]
  },
  {
   "cell_type": "markdown",
   "metadata": {
    "deletable": false,
    "editable": false,
    "id": "RY51YJYu_Zcv"
   },
   "source": [
    "**Выводы**"
   ]
  },
  {
   "cell_type": "markdown",
   "metadata": {
    "deletable": false,
    "editable": false,
    "id": "nVhnJEm__Zcv"
   },
   "source": [
    "Гипотеза частично подтвердилась:\n",
    "* Поп-музыка — самый популярный жанр в Москве, как и предполагала гипотеза. Более того, в топ-10 жанров встречается близкий жанр — русская популярная музыка.\n",
    "* Вопреки ожиданиям, рэп одинаково популярен в Москве и Петербурге. \n"
   ]
  },
  {
   "cell_type": "markdown",
   "metadata": {
    "deletable": false,
    "editable": false,
    "id": "ykKQ0N65_Zcv"
   },
   "source": [
    "## Итоги исследования"
   ]
  },
  {
   "cell_type": "markdown",
   "metadata": {
    "deletable": false,
    "editable": false,
    "id": "tjUwbHb3_Zcv"
   },
   "source": [
    "Вы проверили три гипотезы и установили:\n",
    "\n",
    "1. День недели по-разному влияет на активность пользователей в Москве и Петербурге. \n",
    "\n",
    "Первая гипотеза полностью подтвердилась.\n",
    "\n",
    "2. Музыкальные предпочтения не сильно меняются в течение недели — будь то Москва или Петербург. Небольшие различия заметны в начале недели, по понедельникам:\n",
    "* в Москве слушают музыку жанра “world”,\n",
    "* в Петербурге — джаз и классику.\n",
    "\n",
    "Таким образом, вторая гипотеза подтвердилась лишь отчасти. Этот результат мог оказаться иным, если бы не пропуски в данных.\n",
    "\n",
    "3. Во вкусах пользователей Москвы и Петербурга больше общего чем различий. Вопреки ожиданиям, предпочтения жанров в Петербурге напоминают московские.\n",
    "\n",
    "Третья гипотеза не подтвердилась. Если различия в предпочтениях и существуют, на основной массе пользователей они незаметны.\n",
    "\n",
    "**На практике исследования содержат проверки статистических гипотез.**\n",
    "Из данных одного сервиса не всегда можно сделать вывод о всех жителях города.\n",
    "Проверки статистических гипотез покажут, насколько они достоверны, исходя из имеющихся данных. \n",
    "С методами проверок гипотез вы ещё познакомитесь в следующих темах."
   ]
  }
 ],
 "metadata": {
  "ExecuteTimeLog": [
   {
    "duration": 54,
    "start_time": "2022-05-22T01:47:42.101Z"
   },
   {
    "duration": 8,
    "start_time": "2022-05-22T01:49:24.695Z"
   },
   {
    "duration": 661,
    "start_time": "2022-05-22T01:49:34.406Z"
   },
   {
    "duration": 229,
    "start_time": "2022-05-22T01:49:37.935Z"
   },
   {
    "duration": 523,
    "start_time": "2022-05-22T01:49:59.125Z"
   },
   {
    "duration": 168,
    "start_time": "2022-05-22T01:58:15.994Z"
   },
   {
    "duration": 28,
    "start_time": "2022-05-22T02:14:44.122Z"
   },
   {
    "duration": 28,
    "start_time": "2022-05-22T02:15:20.140Z"
   },
   {
    "duration": 423,
    "start_time": "2022-05-22T02:16:49.119Z"
   },
   {
    "duration": 155,
    "start_time": "2022-05-22T02:16:49.544Z"
   },
   {
    "duration": 33,
    "start_time": "2022-05-22T02:16:49.701Z"
   },
   {
    "duration": 29,
    "start_time": "2022-05-22T02:16:49.738Z"
   },
   {
    "duration": 2,
    "start_time": "2022-05-22T02:16:49.768Z"
   },
   {
    "duration": 5,
    "start_time": "2022-05-22T02:16:49.772Z"
   },
   {
    "duration": 5,
    "start_time": "2022-05-22T02:16:49.778Z"
   },
   {
    "duration": 5,
    "start_time": "2022-05-22T02:16:49.785Z"
   },
   {
    "duration": 6,
    "start_time": "2022-05-22T02:16:49.792Z"
   },
   {
    "duration": 4,
    "start_time": "2022-05-22T02:16:49.801Z"
   },
   {
    "duration": 6,
    "start_time": "2022-05-22T02:16:49.807Z"
   },
   {
    "duration": 12,
    "start_time": "2022-05-22T02:16:49.828Z"
   },
   {
    "duration": 7,
    "start_time": "2022-05-22T02:16:49.842Z"
   },
   {
    "duration": 6,
    "start_time": "2022-05-22T02:16:49.850Z"
   },
   {
    "duration": 8,
    "start_time": "2022-05-22T02:16:49.857Z"
   },
   {
    "duration": 6,
    "start_time": "2022-05-22T02:16:49.867Z"
   },
   {
    "duration": 9,
    "start_time": "2022-05-22T02:16:49.874Z"
   },
   {
    "duration": 8,
    "start_time": "2022-05-22T02:16:49.884Z"
   },
   {
    "duration": 8,
    "start_time": "2022-05-22T02:16:49.894Z"
   },
   {
    "duration": 8,
    "start_time": "2022-05-22T02:16:49.903Z"
   },
   {
    "duration": 6,
    "start_time": "2022-05-22T02:16:49.913Z"
   },
   {
    "duration": 22,
    "start_time": "2022-05-22T02:16:49.920Z"
   },
   {
    "duration": 9,
    "start_time": "2022-05-22T02:16:49.943Z"
   },
   {
    "duration": 5,
    "start_time": "2022-05-22T02:16:49.954Z"
   },
   {
    "duration": 5,
    "start_time": "2022-05-22T02:16:49.960Z"
   },
   {
    "duration": 5,
    "start_time": "2022-05-22T02:16:49.967Z"
   },
   {
    "duration": 7,
    "start_time": "2022-05-22T02:16:49.974Z"
   },
   {
    "duration": 4,
    "start_time": "2022-05-22T02:16:49.984Z"
   },
   {
    "duration": 5,
    "start_time": "2022-05-22T02:16:49.990Z"
   },
   {
    "duration": 8,
    "start_time": "2022-05-22T02:16:49.997Z"
   },
   {
    "duration": 0,
    "start_time": "2022-05-22T02:16:50.007Z"
   },
   {
    "duration": 0,
    "start_time": "2022-05-22T02:16:50.008Z"
   },
   {
    "duration": 0,
    "start_time": "2022-05-22T02:16:50.009Z"
   },
   {
    "duration": 0,
    "start_time": "2022-05-22T02:16:50.011Z"
   },
   {
    "duration": 0,
    "start_time": "2022-05-22T02:16:50.012Z"
   },
   {
    "duration": 0,
    "start_time": "2022-05-22T02:16:50.013Z"
   },
   {
    "duration": 0,
    "start_time": "2022-05-22T02:16:50.014Z"
   },
   {
    "duration": 0,
    "start_time": "2022-05-22T02:16:50.015Z"
   },
   {
    "duration": 465,
    "start_time": "2022-05-22T02:17:26.918Z"
   },
   {
    "duration": 154,
    "start_time": "2022-05-22T02:17:33.627Z"
   },
   {
    "duration": 19,
    "start_time": "2022-05-22T02:17:45.853Z"
   },
   {
    "duration": 14,
    "start_time": "2022-05-22T02:20:05.428Z"
   },
   {
    "duration": 29,
    "start_time": "2022-05-22T02:23:06.967Z"
   },
   {
    "duration": 3,
    "start_time": "2022-05-22T02:51:04.140Z"
   },
   {
    "duration": 28,
    "start_time": "2022-05-22T02:51:27.940Z"
   },
   {
    "duration": 3,
    "start_time": "2022-05-22T02:52:56.190Z"
   },
   {
    "duration": 151,
    "start_time": "2022-05-22T02:52:58.610Z"
   },
   {
    "duration": 10,
    "start_time": "2022-05-22T02:53:28.746Z"
   },
   {
    "duration": 55,
    "start_time": "2022-05-25T01:04:32.276Z"
   },
   {
    "duration": 6,
    "start_time": "2022-05-25T01:04:45.243Z"
   },
   {
    "duration": 436,
    "start_time": "2022-05-25T01:05:21.099Z"
   },
   {
    "duration": 219,
    "start_time": "2022-05-25T01:05:21.536Z"
   },
   {
    "duration": 16,
    "start_time": "2022-05-25T01:05:21.756Z"
   },
   {
    "duration": 28,
    "start_time": "2022-05-25T01:05:21.774Z"
   },
   {
    "duration": 9,
    "start_time": "2022-05-25T01:05:21.803Z"
   },
   {
    "duration": 8,
    "start_time": "2022-05-25T01:05:21.814Z"
   },
   {
    "duration": 3,
    "start_time": "2022-05-25T01:05:21.827Z"
   },
   {
    "duration": 6,
    "start_time": "2022-05-25T01:05:21.831Z"
   },
   {
    "duration": 11,
    "start_time": "2022-05-25T01:05:21.838Z"
   },
   {
    "duration": 9,
    "start_time": "2022-05-25T01:05:21.852Z"
   },
   {
    "duration": 10,
    "start_time": "2022-05-25T01:05:21.862Z"
   },
   {
    "duration": 5,
    "start_time": "2022-05-25T01:05:21.874Z"
   },
   {
    "duration": 8,
    "start_time": "2022-05-25T01:05:21.881Z"
   },
   {
    "duration": 7,
    "start_time": "2022-05-25T01:05:21.890Z"
   },
   {
    "duration": 11,
    "start_time": "2022-05-25T01:05:21.899Z"
   },
   {
    "duration": 6,
    "start_time": "2022-05-25T01:05:21.912Z"
   },
   {
    "duration": 11,
    "start_time": "2022-05-25T01:05:21.920Z"
   },
   {
    "duration": 13,
    "start_time": "2022-05-25T01:05:21.932Z"
   },
   {
    "duration": 10,
    "start_time": "2022-05-25T01:05:21.947Z"
   },
   {
    "duration": 14,
    "start_time": "2022-05-25T01:05:21.959Z"
   },
   {
    "duration": 9,
    "start_time": "2022-05-25T01:05:21.974Z"
   },
   {
    "duration": 5,
    "start_time": "2022-05-25T01:05:21.984Z"
   },
   {
    "duration": 9,
    "start_time": "2022-05-25T01:05:21.990Z"
   },
   {
    "duration": 8,
    "start_time": "2022-05-25T01:05:22.000Z"
   },
   {
    "duration": 5,
    "start_time": "2022-05-25T01:05:22.009Z"
   },
   {
    "duration": 7,
    "start_time": "2022-05-25T01:05:22.016Z"
   },
   {
    "duration": 8,
    "start_time": "2022-05-25T01:05:22.024Z"
   },
   {
    "duration": 5,
    "start_time": "2022-05-25T01:05:22.035Z"
   },
   {
    "duration": 6,
    "start_time": "2022-05-25T01:05:22.041Z"
   },
   {
    "duration": 9,
    "start_time": "2022-05-25T01:05:22.048Z"
   },
   {
    "duration": 0,
    "start_time": "2022-05-25T01:05:22.059Z"
   },
   {
    "duration": 0,
    "start_time": "2022-05-25T01:05:22.060Z"
   },
   {
    "duration": 0,
    "start_time": "2022-05-25T01:05:22.061Z"
   },
   {
    "duration": 0,
    "start_time": "2022-05-25T01:05:22.062Z"
   },
   {
    "duration": 0,
    "start_time": "2022-05-25T01:05:22.063Z"
   },
   {
    "duration": 0,
    "start_time": "2022-05-25T01:05:22.064Z"
   },
   {
    "duration": 0,
    "start_time": "2022-05-25T01:05:22.066Z"
   },
   {
    "duration": 0,
    "start_time": "2022-05-25T01:05:22.066Z"
   },
   {
    "duration": 3,
    "start_time": "2022-05-25T01:06:18.434Z"
   },
   {
    "duration": 5,
    "start_time": "2022-05-25T01:06:37.463Z"
   },
   {
    "duration": 19,
    "start_time": "2022-05-25T01:59:10.569Z"
   },
   {
    "duration": 19,
    "start_time": "2022-05-25T01:59:51.341Z"
   },
   {
    "duration": 16,
    "start_time": "2022-05-25T02:01:16.535Z"
   },
   {
    "duration": 4,
    "start_time": "2022-05-25T02:01:28.338Z"
   },
   {
    "duration": 10,
    "start_time": "2022-05-25T02:02:05.380Z"
   },
   {
    "duration": 2,
    "start_time": "2022-05-25T02:02:09.936Z"
   },
   {
    "duration": 158,
    "start_time": "2022-05-25T02:02:13.649Z"
   },
   {
    "duration": 10,
    "start_time": "2022-05-25T02:02:16.642Z"
   },
   {
    "duration": 26,
    "start_time": "2022-05-25T02:02:20.347Z"
   },
   {
    "duration": 4,
    "start_time": "2022-05-25T02:02:27.237Z"
   },
   {
    "duration": 20,
    "start_time": "2022-05-25T02:02:32.467Z"
   },
   {
    "duration": 3,
    "start_time": "2022-05-25T02:02:37.086Z"
   },
   {
    "duration": 354,
    "start_time": "2022-05-25T02:03:27.782Z"
   },
   {
    "duration": 150,
    "start_time": "2022-05-25T02:03:28.138Z"
   },
   {
    "duration": 16,
    "start_time": "2022-05-25T02:03:28.290Z"
   },
   {
    "duration": 31,
    "start_time": "2022-05-25T02:03:28.308Z"
   },
   {
    "duration": 3,
    "start_time": "2022-05-25T02:03:28.340Z"
   },
   {
    "duration": 9,
    "start_time": "2022-05-25T02:03:28.344Z"
   },
   {
    "duration": 23,
    "start_time": "2022-05-25T02:03:28.355Z"
   },
   {
    "duration": 8,
    "start_time": "2022-05-25T02:03:28.379Z"
   },
   {
    "duration": 9,
    "start_time": "2022-05-25T02:03:28.388Z"
   },
   {
    "duration": 8,
    "start_time": "2022-05-25T02:03:28.399Z"
   },
   {
    "duration": 19,
    "start_time": "2022-05-25T02:03:28.408Z"
   },
   {
    "duration": 5,
    "start_time": "2022-05-25T02:03:28.428Z"
   },
   {
    "duration": 4,
    "start_time": "2022-05-25T02:03:28.435Z"
   },
   {
    "duration": 4,
    "start_time": "2022-05-25T02:03:28.441Z"
   },
   {
    "duration": 4,
    "start_time": "2022-05-25T02:03:28.447Z"
   },
   {
    "duration": 6,
    "start_time": "2022-05-25T02:03:28.453Z"
   },
   {
    "duration": 4,
    "start_time": "2022-05-25T02:03:28.460Z"
   },
   {
    "duration": 4,
    "start_time": "2022-05-25T02:03:28.466Z"
   },
   {
    "duration": 5,
    "start_time": "2022-05-25T02:03:28.471Z"
   },
   {
    "duration": 5,
    "start_time": "2022-05-25T02:03:28.478Z"
   },
   {
    "duration": 7,
    "start_time": "2022-05-25T02:03:28.484Z"
   },
   {
    "duration": 4,
    "start_time": "2022-05-25T02:03:28.493Z"
   },
   {
    "duration": 4,
    "start_time": "2022-05-25T02:03:28.499Z"
   },
   {
    "duration": 5,
    "start_time": "2022-05-25T02:03:28.505Z"
   },
   {
    "duration": 17,
    "start_time": "2022-05-25T02:03:28.511Z"
   },
   {
    "duration": 5,
    "start_time": "2022-05-25T02:03:28.529Z"
   },
   {
    "duration": 5,
    "start_time": "2022-05-25T02:03:28.535Z"
   },
   {
    "duration": 4,
    "start_time": "2022-05-25T02:03:28.543Z"
   },
   {
    "duration": 5,
    "start_time": "2022-05-25T02:03:28.548Z"
   },
   {
    "duration": 8,
    "start_time": "2022-05-25T02:03:28.554Z"
   },
   {
    "duration": 0,
    "start_time": "2022-05-25T02:03:28.563Z"
   },
   {
    "duration": 0,
    "start_time": "2022-05-25T02:03:28.564Z"
   },
   {
    "duration": 0,
    "start_time": "2022-05-25T02:03:28.565Z"
   },
   {
    "duration": 0,
    "start_time": "2022-05-25T02:03:28.566Z"
   },
   {
    "duration": 0,
    "start_time": "2022-05-25T02:03:28.567Z"
   },
   {
    "duration": 0,
    "start_time": "2022-05-25T02:03:28.568Z"
   },
   {
    "duration": 0,
    "start_time": "2022-05-25T02:03:28.569Z"
   },
   {
    "duration": 0,
    "start_time": "2022-05-25T02:03:28.570Z"
   },
   {
    "duration": 6,
    "start_time": "2022-05-25T02:57:22.042Z"
   },
   {
    "duration": 175,
    "start_time": "2022-05-25T02:57:22.050Z"
   },
   {
    "duration": 23,
    "start_time": "2022-05-25T02:57:22.227Z"
   },
   {
    "duration": 29,
    "start_time": "2022-05-25T02:57:22.252Z"
   },
   {
    "duration": 6,
    "start_time": "2022-05-25T02:57:22.282Z"
   },
   {
    "duration": 19,
    "start_time": "2022-05-25T02:57:22.289Z"
   },
   {
    "duration": 32,
    "start_time": "2022-05-25T02:57:22.310Z"
   },
   {
    "duration": 20,
    "start_time": "2022-05-25T03:12:43.581Z"
   },
   {
    "duration": 27,
    "start_time": "2022-05-25T03:15:33.723Z"
   },
   {
    "duration": 2,
    "start_time": "2022-05-25T03:15:42.960Z"
   },
   {
    "duration": 22,
    "start_time": "2022-05-25T03:15:47.281Z"
   },
   {
    "duration": 3,
    "start_time": "2022-05-25T03:16:15.495Z"
   },
   {
    "duration": 29,
    "start_time": "2022-05-25T03:16:21.587Z"
   },
   {
    "duration": 21,
    "start_time": "2022-05-25T03:18:13.366Z"
   },
   {
    "duration": 20,
    "start_time": "2022-05-25T03:19:05.497Z"
   },
   {
    "duration": 457,
    "start_time": "2022-05-25T03:19:43.242Z"
   },
   {
    "duration": 239,
    "start_time": "2022-05-25T03:19:46.208Z"
   },
   {
    "duration": 29,
    "start_time": "2022-05-25T03:19:49.613Z"
   },
   {
    "duration": 39,
    "start_time": "2022-05-25T03:19:52.997Z"
   },
   {
    "duration": 5,
    "start_time": "2022-05-25T03:20:01.510Z"
   },
   {
    "duration": 24,
    "start_time": "2022-05-25T03:20:05.427Z"
   },
   {
    "duration": 20,
    "start_time": "2022-05-25T03:23:26.454Z"
   },
   {
    "duration": 21,
    "start_time": "2022-05-25T03:27:21.048Z"
   },
   {
    "duration": 21,
    "start_time": "2022-05-25T03:35:47.982Z"
   },
   {
    "duration": 4,
    "start_time": "2022-05-25T03:41:04.435Z"
   },
   {
    "duration": 11,
    "start_time": "2022-05-25T03:41:11.396Z"
   },
   {
    "duration": 4,
    "start_time": "2022-05-25T03:41:21.737Z"
   },
   {
    "duration": 3,
    "start_time": "2022-05-25T03:41:28.028Z"
   },
   {
    "duration": 22,
    "start_time": "2022-05-25T03:42:30.375Z"
   },
   {
    "duration": 86,
    "start_time": "2022-05-25T03:55:28.151Z"
   },
   {
    "duration": 22,
    "start_time": "2022-05-25T03:56:05.986Z"
   },
   {
    "duration": 28,
    "start_time": "2022-05-25T03:57:10.018Z"
   },
   {
    "duration": 38,
    "start_time": "2022-05-25T03:57:39.261Z"
   },
   {
    "duration": 15,
    "start_time": "2022-05-25T03:58:32.308Z"
   },
   {
    "duration": 21,
    "start_time": "2022-05-25T03:58:45.081Z"
   },
   {
    "duration": 22,
    "start_time": "2022-05-25T03:59:18.378Z"
   },
   {
    "duration": 18,
    "start_time": "2022-05-25T03:59:55.822Z"
   },
   {
    "duration": 10,
    "start_time": "2022-05-25T04:00:49.759Z"
   },
   {
    "duration": 23,
    "start_time": "2022-05-25T04:04:01.079Z"
   },
   {
    "duration": 418,
    "start_time": "2022-05-25T04:04:21.321Z"
   },
   {
    "duration": 162,
    "start_time": "2022-05-25T04:04:21.741Z"
   },
   {
    "duration": 16,
    "start_time": "2022-05-25T04:04:21.905Z"
   },
   {
    "duration": 35,
    "start_time": "2022-05-25T04:04:21.927Z"
   },
   {
    "duration": 5,
    "start_time": "2022-05-25T04:04:21.964Z"
   },
   {
    "duration": 15,
    "start_time": "2022-05-25T04:04:21.971Z"
   },
   {
    "duration": 13,
    "start_time": "2022-05-25T04:04:21.987Z"
   },
   {
    "duration": 8,
    "start_time": "2022-05-25T04:04:22.001Z"
   },
   {
    "duration": 26,
    "start_time": "2022-05-25T04:04:22.011Z"
   },
   {
    "duration": 22,
    "start_time": "2022-05-25T04:04:22.041Z"
   },
   {
    "duration": 2,
    "start_time": "2022-05-25T04:04:22.065Z"
   },
   {
    "duration": 6,
    "start_time": "2022-05-25T04:04:22.069Z"
   },
   {
    "duration": 10,
    "start_time": "2022-05-25T04:04:22.076Z"
   },
   {
    "duration": 5,
    "start_time": "2022-05-25T04:04:22.087Z"
   },
   {
    "duration": 6,
    "start_time": "2022-05-25T04:04:22.094Z"
   },
   {
    "duration": 9,
    "start_time": "2022-05-25T04:04:22.102Z"
   },
   {
    "duration": 17,
    "start_time": "2022-05-25T04:04:22.112Z"
   },
   {
    "duration": 8,
    "start_time": "2022-05-25T04:04:22.130Z"
   },
   {
    "duration": 9,
    "start_time": "2022-05-25T04:04:22.139Z"
   },
   {
    "duration": 7,
    "start_time": "2022-05-25T04:04:22.149Z"
   },
   {
    "duration": 10,
    "start_time": "2022-05-25T04:04:22.158Z"
   },
   {
    "duration": 10,
    "start_time": "2022-05-25T04:04:22.170Z"
   },
   {
    "duration": 6,
    "start_time": "2022-05-25T04:04:22.182Z"
   },
   {
    "duration": 6,
    "start_time": "2022-05-25T04:04:22.189Z"
   },
   {
    "duration": 10,
    "start_time": "2022-05-25T04:04:22.196Z"
   },
   {
    "duration": 10,
    "start_time": "2022-05-25T04:04:22.207Z"
   },
   {
    "duration": 6,
    "start_time": "2022-05-25T04:04:22.219Z"
   },
   {
    "duration": 6,
    "start_time": "2022-05-25T04:04:22.228Z"
   },
   {
    "duration": 5,
    "start_time": "2022-05-25T04:04:22.235Z"
   },
   {
    "duration": 8,
    "start_time": "2022-05-25T04:04:22.242Z"
   },
   {
    "duration": 0,
    "start_time": "2022-05-25T04:04:22.252Z"
   },
   {
    "duration": 0,
    "start_time": "2022-05-25T04:04:22.253Z"
   },
   {
    "duration": 0,
    "start_time": "2022-05-25T04:04:22.255Z"
   },
   {
    "duration": 0,
    "start_time": "2022-05-25T04:04:22.256Z"
   },
   {
    "duration": 0,
    "start_time": "2022-05-25T04:04:22.258Z"
   },
   {
    "duration": 0,
    "start_time": "2022-05-25T04:04:22.260Z"
   },
   {
    "duration": 0,
    "start_time": "2022-05-25T04:04:22.262Z"
   },
   {
    "duration": 0,
    "start_time": "2022-05-25T04:04:22.263Z"
   },
   {
    "duration": 25,
    "start_time": "2022-05-25T04:05:13.583Z"
   },
   {
    "duration": 81,
    "start_time": "2022-05-25T04:05:40.795Z"
   },
   {
    "duration": 69,
    "start_time": "2022-05-25T04:06:19.387Z"
   },
   {
    "duration": 78,
    "start_time": "2022-05-25T04:06:26.407Z"
   },
   {
    "duration": 9,
    "start_time": "2022-05-25T04:08:01.273Z"
   },
   {
    "duration": 115,
    "start_time": "2022-05-25T04:08:26.179Z"
   },
   {
    "duration": 76,
    "start_time": "2022-05-25T04:10:19.597Z"
   },
   {
    "duration": 64,
    "start_time": "2022-05-25T04:10:40.955Z"
   },
   {
    "duration": 38,
    "start_time": "2022-05-25T04:15:58.087Z"
   },
   {
    "duration": 51,
    "start_time": "2022-05-25T04:16:11.426Z"
   },
   {
    "duration": 48,
    "start_time": "2022-05-25T04:16:15.654Z"
   },
   {
    "duration": 37,
    "start_time": "2022-05-25T04:17:18.482Z"
   },
   {
    "duration": 9,
    "start_time": "2022-05-25T04:19:43.474Z"
   },
   {
    "duration": 7,
    "start_time": "2022-05-25T04:20:10.261Z"
   },
   {
    "duration": 18,
    "start_time": "2022-05-25T04:20:21.431Z"
   },
   {
    "duration": 73,
    "start_time": "2022-05-25T04:20:31.817Z"
   },
   {
    "duration": 12,
    "start_time": "2022-05-25T04:25:47.270Z"
   },
   {
    "duration": 47,
    "start_time": "2022-05-25T04:26:03.490Z"
   },
   {
    "duration": 60,
    "start_time": "2022-05-25T04:27:08.687Z"
   },
   {
    "duration": 44,
    "start_time": "2022-05-25T04:27:37.650Z"
   },
   {
    "duration": 10,
    "start_time": "2022-05-25T05:19:19.286Z"
   },
   {
    "duration": 7,
    "start_time": "2022-05-25T05:20:24.770Z"
   },
   {
    "duration": 4548,
    "start_time": "2022-05-25T05:20:40.916Z"
   },
   {
    "duration": 2053,
    "start_time": "2022-05-25T05:21:45.996Z"
   },
   {
    "duration": 16,
    "start_time": "2022-05-25T05:22:32.049Z"
   },
   {
    "duration": 12,
    "start_time": "2022-05-25T05:29:44.413Z"
   },
   {
    "duration": 31,
    "start_time": "2022-05-25T05:30:24.374Z"
   },
   {
    "duration": 4,
    "start_time": "2022-05-25T05:54:20.305Z"
   },
   {
    "duration": 4,
    "start_time": "2022-05-25T05:57:38.921Z"
   },
   {
    "duration": 13,
    "start_time": "2022-05-25T06:13:36.681Z"
   },
   {
    "duration": 26,
    "start_time": "2022-05-25T06:14:48.578Z"
   },
   {
    "duration": 4,
    "start_time": "2022-05-25T06:15:41.005Z"
   },
   {
    "duration": 35,
    "start_time": "2022-05-25T06:15:44.379Z"
   },
   {
    "duration": 483,
    "start_time": "2022-05-25T06:22:15.830Z"
   },
   {
    "duration": 213,
    "start_time": "2022-05-25T06:22:16.315Z"
   },
   {
    "duration": 24,
    "start_time": "2022-05-25T06:22:16.536Z"
   },
   {
    "duration": 37,
    "start_time": "2022-05-25T06:22:16.563Z"
   },
   {
    "duration": 5,
    "start_time": "2022-05-25T06:22:16.602Z"
   },
   {
    "duration": 19,
    "start_time": "2022-05-25T06:22:16.609Z"
   },
   {
    "duration": 17,
    "start_time": "2022-05-25T06:22:16.631Z"
   },
   {
    "duration": 15,
    "start_time": "2022-05-25T06:22:16.651Z"
   },
   {
    "duration": 28,
    "start_time": "2022-05-25T06:22:16.668Z"
   },
   {
    "duration": 57,
    "start_time": "2022-05-25T06:22:16.700Z"
   },
   {
    "duration": 28,
    "start_time": "2022-05-25T06:22:16.759Z"
   },
   {
    "duration": 82,
    "start_time": "2022-05-25T06:22:16.789Z"
   },
   {
    "duration": 93,
    "start_time": "2022-05-25T06:22:16.873Z"
   },
   {
    "duration": 73,
    "start_time": "2022-05-25T06:22:16.968Z"
   },
   {
    "duration": 98,
    "start_time": "2022-05-25T06:22:17.043Z"
   },
   {
    "duration": 16,
    "start_time": "2022-05-25T06:22:17.143Z"
   },
   {
    "duration": 45,
    "start_time": "2022-05-25T06:22:17.161Z"
   },
   {
    "duration": 13,
    "start_time": "2022-05-25T06:22:17.207Z"
   },
   {
    "duration": 26,
    "start_time": "2022-05-25T06:22:17.222Z"
   },
   {
    "duration": 20,
    "start_time": "2022-05-25T06:22:17.251Z"
   },
   {
    "duration": 7,
    "start_time": "2022-05-25T06:22:17.272Z"
   },
   {
    "duration": 0,
    "start_time": "2022-05-25T06:22:17.281Z"
   },
   {
    "duration": 0,
    "start_time": "2022-05-25T06:22:17.282Z"
   },
   {
    "duration": 0,
    "start_time": "2022-05-25T06:22:17.284Z"
   },
   {
    "duration": 0,
    "start_time": "2022-05-25T06:22:17.285Z"
   },
   {
    "duration": 0,
    "start_time": "2022-05-25T06:22:17.287Z"
   },
   {
    "duration": 0,
    "start_time": "2022-05-25T06:22:17.288Z"
   },
   {
    "duration": 0,
    "start_time": "2022-05-25T06:22:17.289Z"
   },
   {
    "duration": 0,
    "start_time": "2022-05-25T06:22:17.290Z"
   },
   {
    "duration": 0,
    "start_time": "2022-05-25T06:22:17.291Z"
   },
   {
    "duration": 0,
    "start_time": "2022-05-25T06:22:17.292Z"
   },
   {
    "duration": 0,
    "start_time": "2022-05-25T06:22:17.294Z"
   },
   {
    "duration": 0,
    "start_time": "2022-05-25T06:22:17.295Z"
   },
   {
    "duration": 0,
    "start_time": "2022-05-25T06:22:17.296Z"
   },
   {
    "duration": 0,
    "start_time": "2022-05-25T06:22:17.327Z"
   },
   {
    "duration": 0,
    "start_time": "2022-05-25T06:22:17.328Z"
   },
   {
    "duration": 0,
    "start_time": "2022-05-25T06:22:17.329Z"
   },
   {
    "duration": 0,
    "start_time": "2022-05-25T06:22:17.330Z"
   },
   {
    "duration": 3,
    "start_time": "2022-05-25T06:22:42.284Z"
   },
   {
    "duration": 7,
    "start_time": "2022-05-25T06:22:45.138Z"
   },
   {
    "duration": 446,
    "start_time": "2022-05-25T06:22:56.301Z"
   },
   {
    "duration": 177,
    "start_time": "2022-05-25T06:22:56.748Z"
   },
   {
    "duration": 26,
    "start_time": "2022-05-25T06:22:56.927Z"
   },
   {
    "duration": 29,
    "start_time": "2022-05-25T06:22:56.955Z"
   },
   {
    "duration": 3,
    "start_time": "2022-05-25T06:22:56.986Z"
   },
   {
    "duration": 9,
    "start_time": "2022-05-25T06:22:56.990Z"
   },
   {
    "duration": 41,
    "start_time": "2022-05-25T06:22:57.000Z"
   },
   {
    "duration": 6,
    "start_time": "2022-05-25T06:22:57.043Z"
   },
   {
    "duration": 26,
    "start_time": "2022-05-25T06:22:57.051Z"
   },
   {
    "duration": 28,
    "start_time": "2022-05-25T06:22:57.078Z"
   },
   {
    "duration": 48,
    "start_time": "2022-05-25T06:22:57.108Z"
   },
   {
    "duration": 80,
    "start_time": "2022-05-25T06:22:57.158Z"
   },
   {
    "duration": 79,
    "start_time": "2022-05-25T06:22:57.243Z"
   },
   {
    "duration": 73,
    "start_time": "2022-05-25T06:22:57.325Z"
   },
   {
    "duration": 61,
    "start_time": "2022-05-25T06:22:57.400Z"
   },
   {
    "duration": 11,
    "start_time": "2022-05-25T06:22:57.463Z"
   },
   {
    "duration": 65,
    "start_time": "2022-05-25T06:22:57.475Z"
   },
   {
    "duration": 14,
    "start_time": "2022-05-25T06:22:57.542Z"
   },
   {
    "duration": 13,
    "start_time": "2022-05-25T06:22:57.557Z"
   },
   {
    "duration": 4,
    "start_time": "2022-05-25T06:22:57.572Z"
   },
   {
    "duration": 8,
    "start_time": "2022-05-25T06:22:57.578Z"
   },
   {
    "duration": 0,
    "start_time": "2022-05-25T06:22:57.588Z"
   },
   {
    "duration": 0,
    "start_time": "2022-05-25T06:22:57.589Z"
   },
   {
    "duration": 0,
    "start_time": "2022-05-25T06:22:57.590Z"
   },
   {
    "duration": 0,
    "start_time": "2022-05-25T06:22:57.591Z"
   },
   {
    "duration": 0,
    "start_time": "2022-05-25T06:22:57.593Z"
   },
   {
    "duration": 0,
    "start_time": "2022-05-25T06:22:57.594Z"
   },
   {
    "duration": 0,
    "start_time": "2022-05-25T06:22:57.595Z"
   },
   {
    "duration": 0,
    "start_time": "2022-05-25T06:22:57.596Z"
   },
   {
    "duration": 0,
    "start_time": "2022-05-25T06:22:57.597Z"
   },
   {
    "duration": 0,
    "start_time": "2022-05-25T06:22:57.598Z"
   },
   {
    "duration": 0,
    "start_time": "2022-05-25T06:22:57.598Z"
   },
   {
    "duration": 0,
    "start_time": "2022-05-25T06:22:57.599Z"
   },
   {
    "duration": 0,
    "start_time": "2022-05-25T06:22:57.599Z"
   },
   {
    "duration": 0,
    "start_time": "2022-05-25T06:22:57.600Z"
   },
   {
    "duration": 0,
    "start_time": "2022-05-25T06:22:57.601Z"
   },
   {
    "duration": 0,
    "start_time": "2022-05-25T06:22:57.642Z"
   },
   {
    "duration": 0,
    "start_time": "2022-05-25T06:22:57.644Z"
   },
   {
    "duration": 4,
    "start_time": "2022-05-25T06:23:10.567Z"
   },
   {
    "duration": 26,
    "start_time": "2022-05-25T06:23:17.998Z"
   },
   {
    "duration": 19,
    "start_time": "2022-05-25T06:24:10.695Z"
   },
   {
    "duration": 464,
    "start_time": "2022-05-25T06:24:32.626Z"
   },
   {
    "duration": 194,
    "start_time": "2022-05-25T06:24:33.092Z"
   },
   {
    "duration": 16,
    "start_time": "2022-05-25T06:24:33.288Z"
   },
   {
    "duration": 46,
    "start_time": "2022-05-25T06:24:33.305Z"
   },
   {
    "duration": 5,
    "start_time": "2022-05-25T06:24:33.354Z"
   },
   {
    "duration": 15,
    "start_time": "2022-05-25T06:24:33.360Z"
   },
   {
    "duration": 32,
    "start_time": "2022-05-25T06:24:33.377Z"
   },
   {
    "duration": 30,
    "start_time": "2022-05-25T06:24:33.410Z"
   },
   {
    "duration": 38,
    "start_time": "2022-05-25T06:24:33.446Z"
   },
   {
    "duration": 57,
    "start_time": "2022-05-25T06:24:33.486Z"
   },
   {
    "duration": 46,
    "start_time": "2022-05-25T06:24:33.544Z"
   },
   {
    "duration": 89,
    "start_time": "2022-05-25T06:24:33.592Z"
   },
   {
    "duration": 91,
    "start_time": "2022-05-25T06:24:33.683Z"
   },
   {
    "duration": 77,
    "start_time": "2022-05-25T06:24:33.778Z"
   },
   {
    "duration": 52,
    "start_time": "2022-05-25T06:24:33.857Z"
   },
   {
    "duration": 35,
    "start_time": "2022-05-25T06:24:33.912Z"
   },
   {
    "duration": 44,
    "start_time": "2022-05-25T06:24:33.948Z"
   },
   {
    "duration": 11,
    "start_time": "2022-05-25T06:24:33.994Z"
   },
   {
    "duration": 43,
    "start_time": "2022-05-25T06:24:34.007Z"
   },
   {
    "duration": 9,
    "start_time": "2022-05-25T06:24:34.052Z"
   },
   {
    "duration": 36,
    "start_time": "2022-05-25T06:24:34.062Z"
   },
   {
    "duration": 0,
    "start_time": "2022-05-25T06:24:34.100Z"
   },
   {
    "duration": 0,
    "start_time": "2022-05-25T06:24:34.101Z"
   },
   {
    "duration": 0,
    "start_time": "2022-05-25T06:24:34.102Z"
   },
   {
    "duration": 0,
    "start_time": "2022-05-25T06:24:34.104Z"
   },
   {
    "duration": 0,
    "start_time": "2022-05-25T06:24:34.105Z"
   },
   {
    "duration": 0,
    "start_time": "2022-05-25T06:24:34.106Z"
   },
   {
    "duration": 0,
    "start_time": "2022-05-25T06:24:34.107Z"
   },
   {
    "duration": 0,
    "start_time": "2022-05-25T06:24:34.109Z"
   },
   {
    "duration": 0,
    "start_time": "2022-05-25T06:24:34.110Z"
   },
   {
    "duration": 0,
    "start_time": "2022-05-25T06:24:34.111Z"
   },
   {
    "duration": 0,
    "start_time": "2022-05-25T06:24:34.113Z"
   },
   {
    "duration": 1,
    "start_time": "2022-05-25T06:24:34.114Z"
   },
   {
    "duration": 0,
    "start_time": "2022-05-25T06:24:34.116Z"
   },
   {
    "duration": 0,
    "start_time": "2022-05-25T06:24:34.118Z"
   },
   {
    "duration": 0,
    "start_time": "2022-05-25T06:24:34.120Z"
   },
   {
    "duration": 0,
    "start_time": "2022-05-25T06:24:34.121Z"
   },
   {
    "duration": 1,
    "start_time": "2022-05-25T06:24:34.128Z"
   },
   {
    "duration": 4,
    "start_time": "2022-05-25T06:24:52.005Z"
   },
   {
    "duration": 14,
    "start_time": "2022-05-25T06:29:40.930Z"
   },
   {
    "duration": 436,
    "start_time": "2022-05-25T06:29:49.744Z"
   },
   {
    "duration": 194,
    "start_time": "2022-05-25T06:29:50.182Z"
   },
   {
    "duration": 19,
    "start_time": "2022-05-25T06:29:50.378Z"
   },
   {
    "duration": 47,
    "start_time": "2022-05-25T06:29:50.399Z"
   },
   {
    "duration": 3,
    "start_time": "2022-05-25T06:29:50.447Z"
   },
   {
    "duration": 12,
    "start_time": "2022-05-25T06:29:50.452Z"
   },
   {
    "duration": 12,
    "start_time": "2022-05-25T06:29:50.466Z"
   },
   {
    "duration": 7,
    "start_time": "2022-05-25T06:29:50.480Z"
   },
   {
    "duration": 42,
    "start_time": "2022-05-25T06:29:50.488Z"
   },
   {
    "duration": 28,
    "start_time": "2022-05-25T06:29:50.534Z"
   },
   {
    "duration": 27,
    "start_time": "2022-05-25T06:29:50.564Z"
   },
   {
    "duration": 80,
    "start_time": "2022-05-25T06:29:50.592Z"
   },
   {
    "duration": 74,
    "start_time": "2022-05-25T06:29:50.674Z"
   },
   {
    "duration": 53,
    "start_time": "2022-05-25T06:29:50.750Z"
   },
   {
    "duration": 59,
    "start_time": "2022-05-25T06:29:50.804Z"
   },
   {
    "duration": 10,
    "start_time": "2022-05-25T06:29:50.864Z"
   },
   {
    "duration": 38,
    "start_time": "2022-05-25T06:29:50.876Z"
   },
   {
    "duration": 20,
    "start_time": "2022-05-25T06:29:50.928Z"
   },
   {
    "duration": 12,
    "start_time": "2022-05-25T06:29:50.949Z"
   },
   {
    "duration": 5,
    "start_time": "2022-05-25T06:29:50.962Z"
   },
   {
    "duration": 16,
    "start_time": "2022-05-25T06:29:50.968Z"
   },
   {
    "duration": 0,
    "start_time": "2022-05-25T06:29:50.986Z"
   },
   {
    "duration": 0,
    "start_time": "2022-05-25T06:29:50.988Z"
   },
   {
    "duration": 0,
    "start_time": "2022-05-25T06:29:50.989Z"
   },
   {
    "duration": 0,
    "start_time": "2022-05-25T06:29:50.990Z"
   },
   {
    "duration": 0,
    "start_time": "2022-05-25T06:29:50.991Z"
   },
   {
    "duration": 0,
    "start_time": "2022-05-25T06:29:50.992Z"
   },
   {
    "duration": 0,
    "start_time": "2022-05-25T06:29:50.993Z"
   },
   {
    "duration": 0,
    "start_time": "2022-05-25T06:29:50.994Z"
   },
   {
    "duration": 0,
    "start_time": "2022-05-25T06:29:50.995Z"
   },
   {
    "duration": 0,
    "start_time": "2022-05-25T06:29:50.996Z"
   },
   {
    "duration": 0,
    "start_time": "2022-05-25T06:29:51.037Z"
   },
   {
    "duration": 0,
    "start_time": "2022-05-25T06:29:51.040Z"
   },
   {
    "duration": 0,
    "start_time": "2022-05-25T06:29:51.041Z"
   },
   {
    "duration": 0,
    "start_time": "2022-05-25T06:29:51.042Z"
   },
   {
    "duration": 0,
    "start_time": "2022-05-25T06:29:51.043Z"
   },
   {
    "duration": 0,
    "start_time": "2022-05-25T06:29:51.045Z"
   },
   {
    "duration": 0,
    "start_time": "2022-05-25T06:29:51.046Z"
   },
   {
    "duration": 35,
    "start_time": "2022-05-25T06:33:50.425Z"
   },
   {
    "duration": 17,
    "start_time": "2022-05-25T06:33:52.782Z"
   },
   {
    "duration": 33,
    "start_time": "2022-05-25T06:33:55.013Z"
   },
   {
    "duration": 18,
    "start_time": "2022-05-25T06:34:12.445Z"
   },
   {
    "duration": 18,
    "start_time": "2022-05-25T06:34:14.946Z"
   },
   {
    "duration": 31,
    "start_time": "2022-05-25T06:34:17.293Z"
   },
   {
    "duration": 21,
    "start_time": "2022-05-25T06:34:19.344Z"
   },
   {
    "duration": 415,
    "start_time": "2022-05-25T06:37:03.046Z"
   },
   {
    "duration": 171,
    "start_time": "2022-05-25T06:37:03.463Z"
   },
   {
    "duration": 17,
    "start_time": "2022-05-25T06:37:03.636Z"
   },
   {
    "duration": 33,
    "start_time": "2022-05-25T06:37:03.654Z"
   },
   {
    "duration": 3,
    "start_time": "2022-05-25T06:37:03.689Z"
   },
   {
    "duration": 11,
    "start_time": "2022-05-25T06:37:03.693Z"
   },
   {
    "duration": 26,
    "start_time": "2022-05-25T06:37:03.705Z"
   },
   {
    "duration": 11,
    "start_time": "2022-05-25T06:37:03.734Z"
   },
   {
    "duration": 28,
    "start_time": "2022-05-25T06:37:03.746Z"
   },
   {
    "duration": 23,
    "start_time": "2022-05-25T06:37:03.775Z"
   },
   {
    "duration": 32,
    "start_time": "2022-05-25T06:37:03.800Z"
   },
   {
    "duration": 78,
    "start_time": "2022-05-25T06:37:03.834Z"
   },
   {
    "duration": 77,
    "start_time": "2022-05-25T06:37:03.914Z"
   },
   {
    "duration": 69,
    "start_time": "2022-05-25T06:37:03.993Z"
   },
   {
    "duration": 44,
    "start_time": "2022-05-25T06:37:04.064Z"
   },
   {
    "duration": 27,
    "start_time": "2022-05-25T06:37:04.110Z"
   },
   {
    "duration": 47,
    "start_time": "2022-05-25T06:37:04.138Z"
   },
   {
    "duration": 13,
    "start_time": "2022-05-25T06:37:04.187Z"
   },
   {
    "duration": 27,
    "start_time": "2022-05-25T06:37:04.201Z"
   },
   {
    "duration": 3,
    "start_time": "2022-05-25T06:37:04.230Z"
   },
   {
    "duration": 19,
    "start_time": "2022-05-25T06:37:04.235Z"
   },
   {
    "duration": 35,
    "start_time": "2022-05-25T06:37:04.255Z"
   },
   {
    "duration": 25,
    "start_time": "2022-05-25T06:37:04.292Z"
   },
   {
    "duration": 15,
    "start_time": "2022-05-25T06:37:04.318Z"
   },
   {
    "duration": 16,
    "start_time": "2022-05-25T06:37:04.334Z"
   },
   {
    "duration": 18,
    "start_time": "2022-05-25T06:37:04.352Z"
   },
   {
    "duration": 6,
    "start_time": "2022-05-25T06:37:04.372Z"
   },
   {
    "duration": 6,
    "start_time": "2022-05-25T06:37:04.379Z"
   },
   {
    "duration": 6,
    "start_time": "2022-05-25T06:37:04.387Z"
   },
   {
    "duration": 7,
    "start_time": "2022-05-25T06:37:04.394Z"
   },
   {
    "duration": 0,
    "start_time": "2022-05-25T06:37:04.403Z"
   },
   {
    "duration": 0,
    "start_time": "2022-05-25T06:37:04.404Z"
   },
   {
    "duration": 0,
    "start_time": "2022-05-25T06:37:04.405Z"
   },
   {
    "duration": 0,
    "start_time": "2022-05-25T06:37:04.406Z"
   },
   {
    "duration": 0,
    "start_time": "2022-05-25T06:37:04.407Z"
   },
   {
    "duration": 0,
    "start_time": "2022-05-25T06:37:04.427Z"
   },
   {
    "duration": 0,
    "start_time": "2022-05-25T06:37:04.428Z"
   },
   {
    "duration": 0,
    "start_time": "2022-05-25T06:37:04.429Z"
   },
   {
    "duration": 420,
    "start_time": "2022-05-25T06:37:52.744Z"
   },
   {
    "duration": 177,
    "start_time": "2022-05-25T06:37:53.166Z"
   },
   {
    "duration": 20,
    "start_time": "2022-05-25T06:37:53.345Z"
   },
   {
    "duration": 29,
    "start_time": "2022-05-25T06:37:53.366Z"
   },
   {
    "duration": 3,
    "start_time": "2022-05-25T06:37:53.397Z"
   },
   {
    "duration": 7,
    "start_time": "2022-05-25T06:37:53.402Z"
   },
   {
    "duration": 11,
    "start_time": "2022-05-25T06:37:53.434Z"
   },
   {
    "duration": 8,
    "start_time": "2022-05-25T06:37:53.447Z"
   },
   {
    "duration": 28,
    "start_time": "2022-05-25T06:37:53.456Z"
   },
   {
    "duration": 24,
    "start_time": "2022-05-25T06:37:53.486Z"
   },
   {
    "duration": 37,
    "start_time": "2022-05-25T06:37:53.512Z"
   },
   {
    "duration": 79,
    "start_time": "2022-05-25T06:37:53.551Z"
   },
   {
    "duration": 81,
    "start_time": "2022-05-25T06:37:53.634Z"
   },
   {
    "duration": 83,
    "start_time": "2022-05-25T06:37:53.719Z"
   },
   {
    "duration": 61,
    "start_time": "2022-05-25T06:37:53.804Z"
   },
   {
    "duration": 11,
    "start_time": "2022-05-25T06:37:53.866Z"
   },
   {
    "duration": 69,
    "start_time": "2022-05-25T06:37:53.879Z"
   },
   {
    "duration": 12,
    "start_time": "2022-05-25T06:37:53.950Z"
   },
   {
    "duration": 12,
    "start_time": "2022-05-25T06:37:53.964Z"
   },
   {
    "duration": 4,
    "start_time": "2022-05-25T06:37:53.977Z"
   },
   {
    "duration": 25,
    "start_time": "2022-05-25T06:37:53.982Z"
   },
   {
    "duration": 45,
    "start_time": "2022-05-25T06:37:54.009Z"
   },
   {
    "duration": 17,
    "start_time": "2022-05-25T06:37:54.056Z"
   },
   {
    "duration": 14,
    "start_time": "2022-05-25T06:37:54.075Z"
   },
   {
    "duration": 48,
    "start_time": "2022-05-25T06:37:54.090Z"
   },
   {
    "duration": 19,
    "start_time": "2022-05-25T06:37:54.140Z"
   },
   {
    "duration": 2,
    "start_time": "2022-05-25T06:37:54.160Z"
   },
   {
    "duration": 6,
    "start_time": "2022-05-25T06:37:54.164Z"
   },
   {
    "duration": 18,
    "start_time": "2022-05-25T06:37:54.172Z"
   },
   {
    "duration": 20,
    "start_time": "2022-05-25T06:37:54.191Z"
   },
   {
    "duration": 0,
    "start_time": "2022-05-25T06:37:54.213Z"
   },
   {
    "duration": 0,
    "start_time": "2022-05-25T06:37:54.214Z"
   },
   {
    "duration": 0,
    "start_time": "2022-05-25T06:37:54.215Z"
   },
   {
    "duration": 0,
    "start_time": "2022-05-25T06:37:54.216Z"
   },
   {
    "duration": 0,
    "start_time": "2022-05-25T06:37:54.218Z"
   },
   {
    "duration": 0,
    "start_time": "2022-05-25T06:37:54.219Z"
   },
   {
    "duration": 0,
    "start_time": "2022-05-25T06:37:54.220Z"
   },
   {
    "duration": 0,
    "start_time": "2022-05-25T06:37:54.221Z"
   },
   {
    "duration": 71,
    "start_time": "2022-05-25T06:40:47.746Z"
   },
   {
    "duration": 29,
    "start_time": "2022-05-25T06:47:43.452Z"
   },
   {
    "duration": 58,
    "start_time": "2022-05-25T06:49:43.653Z"
   },
   {
    "duration": 9,
    "start_time": "2022-05-25T06:54:26.848Z"
   },
   {
    "duration": 4,
    "start_time": "2022-05-25T07:57:47.196Z"
   },
   {
    "duration": 4,
    "start_time": "2022-05-25T07:57:50.972Z"
   },
   {
    "duration": 4,
    "start_time": "2022-05-25T08:02:15.517Z"
   },
   {
    "duration": 4,
    "start_time": "2022-05-25T08:10:58.869Z"
   },
   {
    "duration": 4,
    "start_time": "2022-05-25T08:17:22.973Z"
   },
   {
    "duration": 4,
    "start_time": "2022-05-25T08:25:50.204Z"
   },
   {
    "duration": 4,
    "start_time": "2022-05-25T08:25:53.816Z"
   },
   {
    "duration": 9,
    "start_time": "2022-05-25T08:26:03.644Z"
   },
   {
    "duration": 381,
    "start_time": "2022-05-25T08:26:19.076Z"
   },
   {
    "duration": 192,
    "start_time": "2022-05-25T08:26:19.458Z"
   },
   {
    "duration": 16,
    "start_time": "2022-05-25T08:26:19.652Z"
   },
   {
    "duration": 28,
    "start_time": "2022-05-25T08:26:19.670Z"
   },
   {
    "duration": 3,
    "start_time": "2022-05-25T08:26:19.699Z"
   },
   {
    "duration": 7,
    "start_time": "2022-05-25T08:26:19.703Z"
   },
   {
    "duration": 27,
    "start_time": "2022-05-25T08:26:19.711Z"
   },
   {
    "duration": 10,
    "start_time": "2022-05-25T08:26:19.740Z"
   },
   {
    "duration": 27,
    "start_time": "2022-05-25T08:26:19.751Z"
   },
   {
    "duration": 31,
    "start_time": "2022-05-25T08:26:19.781Z"
   },
   {
    "duration": 32,
    "start_time": "2022-05-25T08:26:19.814Z"
   },
   {
    "duration": 68,
    "start_time": "2022-05-25T08:26:19.848Z"
   },
   {
    "duration": 67,
    "start_time": "2022-05-25T08:26:19.917Z"
   },
   {
    "duration": 69,
    "start_time": "2022-05-25T08:26:19.986Z"
   },
   {
    "duration": 37,
    "start_time": "2022-05-25T08:26:20.057Z"
   },
   {
    "duration": 10,
    "start_time": "2022-05-25T08:26:20.095Z"
   },
   {
    "duration": 61,
    "start_time": "2022-05-25T08:26:20.106Z"
   },
   {
    "duration": 12,
    "start_time": "2022-05-25T08:26:20.168Z"
   },
   {
    "duration": 20,
    "start_time": "2022-05-25T08:26:20.181Z"
   },
   {
    "duration": 5,
    "start_time": "2022-05-25T08:26:20.202Z"
   },
   {
    "duration": 30,
    "start_time": "2022-05-25T08:26:20.230Z"
   },
   {
    "duration": 17,
    "start_time": "2022-05-25T08:26:20.262Z"
   },
   {
    "duration": 19,
    "start_time": "2022-05-25T08:26:20.280Z"
   },
   {
    "duration": 43,
    "start_time": "2022-05-25T08:26:20.301Z"
   },
   {
    "duration": 30,
    "start_time": "2022-05-25T08:26:20.345Z"
   },
   {
    "duration": 15,
    "start_time": "2022-05-25T08:26:20.376Z"
   },
   {
    "duration": 8,
    "start_time": "2022-05-25T08:26:20.392Z"
   },
   {
    "duration": 25,
    "start_time": "2022-05-25T08:26:20.403Z"
   },
   {
    "duration": 10,
    "start_time": "2022-05-25T08:26:20.438Z"
   },
   {
    "duration": 10,
    "start_time": "2022-05-25T08:26:20.450Z"
   },
   {
    "duration": 8,
    "start_time": "2022-05-25T08:26:20.461Z"
   },
   {
    "duration": 6,
    "start_time": "2022-05-25T08:26:20.471Z"
   },
   {
    "duration": 11,
    "start_time": "2022-05-25T08:26:20.478Z"
   },
   {
    "duration": 9,
    "start_time": "2022-05-25T08:26:20.491Z"
   },
   {
    "duration": 5,
    "start_time": "2022-05-25T08:26:20.502Z"
   },
   {
    "duration": 11,
    "start_time": "2022-05-25T08:26:20.508Z"
   },
   {
    "duration": 24,
    "start_time": "2022-05-25T08:26:20.520Z"
   },
   {
    "duration": 6,
    "start_time": "2022-05-25T08:26:20.545Z"
   },
   {
    "duration": 5,
    "start_time": "2022-05-25T08:26:52.455Z"
   },
   {
    "duration": 4,
    "start_time": "2022-05-25T08:27:11.837Z"
   },
   {
    "duration": 71,
    "start_time": "2022-05-25T08:27:39.830Z"
   },
   {
    "duration": 4,
    "start_time": "2022-05-25T08:28:02.802Z"
   },
   {
    "duration": 5,
    "start_time": "2022-05-25T08:28:05.246Z"
   },
   {
    "duration": 5,
    "start_time": "2022-05-25T08:28:23.603Z"
   },
   {
    "duration": 7,
    "start_time": "2022-05-25T08:28:31.990Z"
   },
   {
    "duration": 6,
    "start_time": "2022-05-25T08:28:44.477Z"
   },
   {
    "duration": 5,
    "start_time": "2022-05-25T08:30:29.875Z"
   },
   {
    "duration": 4,
    "start_time": "2022-05-25T08:32:38.283Z"
   },
   {
    "duration": 14,
    "start_time": "2022-05-25T08:53:44.217Z"
   },
   {
    "duration": 12,
    "start_time": "2022-05-25T09:01:38.203Z"
   },
   {
    "duration": 5,
    "start_time": "2022-05-25T09:01:42.484Z"
   },
   {
    "duration": 19,
    "start_time": "2022-05-25T09:01:45.311Z"
   },
   {
    "duration": 11,
    "start_time": "2022-05-25T09:01:49.971Z"
   },
   {
    "duration": 18,
    "start_time": "2022-05-25T09:01:53.056Z"
   },
   {
    "duration": 12,
    "start_time": "2022-05-25T09:01:55.908Z"
   },
   {
    "duration": 18,
    "start_time": "2022-05-25T09:03:11.367Z"
   },
   {
    "duration": 13,
    "start_time": "2022-05-25T09:04:23.296Z"
   },
   {
    "duration": 18,
    "start_time": "2022-05-25T09:04:26.766Z"
   },
   {
    "duration": 11,
    "start_time": "2022-05-25T09:05:13.341Z"
   },
   {
    "duration": 10,
    "start_time": "2022-05-25T09:05:44.357Z"
   },
   {
    "duration": 16,
    "start_time": "2022-05-25T09:05:56.050Z"
   },
   {
    "duration": 24,
    "start_time": "2022-05-25T09:06:26.497Z"
   },
   {
    "duration": 10,
    "start_time": "2022-05-25T09:06:31.944Z"
   },
   {
    "duration": 20,
    "start_time": "2022-05-25T09:06:36.508Z"
   },
   {
    "duration": 12,
    "start_time": "2022-05-25T09:06:39.540Z"
   },
   {
    "duration": 10,
    "start_time": "2022-05-25T09:06:53.788Z"
   },
   {
    "duration": 25,
    "start_time": "2022-05-25T09:07:06.840Z"
   },
   {
    "duration": 14,
    "start_time": "2022-05-25T09:07:15.194Z"
   },
   {
    "duration": 447,
    "start_time": "2022-05-25T09:07:38.793Z"
   },
   {
    "duration": 175,
    "start_time": "2022-05-25T09:07:39.242Z"
   },
   {
    "duration": 25,
    "start_time": "2022-05-25T09:07:39.418Z"
   },
   {
    "duration": 31,
    "start_time": "2022-05-25T09:07:39.445Z"
   },
   {
    "duration": 3,
    "start_time": "2022-05-25T09:07:39.478Z"
   },
   {
    "duration": 8,
    "start_time": "2022-05-25T09:07:39.482Z"
   },
   {
    "duration": 13,
    "start_time": "2022-05-25T09:07:39.491Z"
   },
   {
    "duration": 35,
    "start_time": "2022-05-25T09:07:39.505Z"
   },
   {
    "duration": 25,
    "start_time": "2022-05-25T09:07:39.542Z"
   },
   {
    "duration": 25,
    "start_time": "2022-05-25T09:07:39.570Z"
   },
   {
    "duration": 36,
    "start_time": "2022-05-25T09:07:39.597Z"
   },
   {
    "duration": 66,
    "start_time": "2022-05-25T09:07:39.639Z"
   },
   {
    "duration": 85,
    "start_time": "2022-05-25T09:07:39.707Z"
   },
   {
    "duration": 67,
    "start_time": "2022-05-25T09:07:39.794Z"
   },
   {
    "duration": 45,
    "start_time": "2022-05-25T09:07:39.862Z"
   },
   {
    "duration": 32,
    "start_time": "2022-05-25T09:07:39.909Z"
   },
   {
    "duration": 44,
    "start_time": "2022-05-25T09:07:39.943Z"
   },
   {
    "duration": 12,
    "start_time": "2022-05-25T09:07:39.989Z"
   },
   {
    "duration": 34,
    "start_time": "2022-05-25T09:07:40.002Z"
   },
   {
    "duration": 5,
    "start_time": "2022-05-25T09:07:40.037Z"
   },
   {
    "duration": 38,
    "start_time": "2022-05-25T09:07:40.043Z"
   },
   {
    "duration": 21,
    "start_time": "2022-05-25T09:07:40.083Z"
   },
   {
    "duration": 34,
    "start_time": "2022-05-25T09:07:40.105Z"
   },
   {
    "duration": 18,
    "start_time": "2022-05-25T09:07:40.141Z"
   },
   {
    "duration": 21,
    "start_time": "2022-05-25T09:07:40.160Z"
   },
   {
    "duration": 17,
    "start_time": "2022-05-25T09:07:40.183Z"
   },
   {
    "duration": 9,
    "start_time": "2022-05-25T09:07:40.202Z"
   },
   {
    "duration": 12,
    "start_time": "2022-05-25T09:07:40.241Z"
   },
   {
    "duration": 25,
    "start_time": "2022-05-25T09:07:40.255Z"
   },
   {
    "duration": 5,
    "start_time": "2022-05-25T09:07:40.281Z"
   },
   {
    "duration": 27,
    "start_time": "2022-05-25T09:07:40.288Z"
   },
   {
    "duration": 14,
    "start_time": "2022-05-25T09:07:40.316Z"
   },
   {
    "duration": 34,
    "start_time": "2022-05-25T09:07:40.333Z"
   },
   {
    "duration": 12,
    "start_time": "2022-05-25T09:07:40.369Z"
   },
   {
    "duration": 11,
    "start_time": "2022-05-25T09:07:40.383Z"
   },
   {
    "duration": 3,
    "start_time": "2022-05-25T09:07:40.395Z"
   },
   {
    "duration": 5,
    "start_time": "2022-05-25T09:07:40.399Z"
   },
   {
    "duration": 6,
    "start_time": "2022-05-25T09:07:40.406Z"
   },
   {
    "duration": 5,
    "start_time": "2022-05-25T09:09:53.519Z"
   },
   {
    "duration": 94,
    "start_time": "2022-05-25T09:09:57.065Z"
   },
   {
    "duration": 4,
    "start_time": "2022-05-25T09:10:10.981Z"
   },
   {
    "duration": 17,
    "start_time": "2022-05-25T09:10:14.088Z"
   },
   {
    "duration": 12,
    "start_time": "2022-05-25T09:10:17.882Z"
   },
   {
    "duration": 18,
    "start_time": "2022-05-25T09:10:20.896Z"
   },
   {
    "duration": 14,
    "start_time": "2022-05-25T09:10:24.148Z"
   },
   {
    "duration": 10,
    "start_time": "2022-05-25T09:39:16.119Z"
   },
   {
    "duration": 5,
    "start_time": "2022-05-25T09:39:52.760Z"
   },
   {
    "duration": 6,
    "start_time": "2022-05-25T09:40:18.372Z"
   },
   {
    "duration": 16,
    "start_time": "2022-05-25T09:43:10.525Z"
   },
   {
    "duration": 7,
    "start_time": "2022-05-25T09:43:12.724Z"
   },
   {
    "duration": 456,
    "start_time": "2022-05-25T09:44:12.500Z"
   },
   {
    "duration": 187,
    "start_time": "2022-05-25T09:44:12.958Z"
   },
   {
    "duration": 17,
    "start_time": "2022-05-25T09:44:13.147Z"
   },
   {
    "duration": 30,
    "start_time": "2022-05-25T09:44:13.167Z"
   },
   {
    "duration": 44,
    "start_time": "2022-05-25T09:44:13.199Z"
   },
   {
    "duration": 43,
    "start_time": "2022-05-25T09:44:13.245Z"
   },
   {
    "duration": 58,
    "start_time": "2022-05-25T09:44:13.290Z"
   },
   {
    "duration": 18,
    "start_time": "2022-05-25T09:44:13.350Z"
   },
   {
    "duration": 39,
    "start_time": "2022-05-25T09:44:13.370Z"
   },
   {
    "duration": 45,
    "start_time": "2022-05-25T09:44:13.411Z"
   },
   {
    "duration": 44,
    "start_time": "2022-05-25T09:44:13.458Z"
   },
   {
    "duration": 104,
    "start_time": "2022-05-25T09:44:13.504Z"
   },
   {
    "duration": 74,
    "start_time": "2022-05-25T09:44:13.610Z"
   },
   {
    "duration": 72,
    "start_time": "2022-05-25T09:44:13.686Z"
   },
   {
    "duration": 40,
    "start_time": "2022-05-25T09:44:13.760Z"
   },
   {
    "duration": 44,
    "start_time": "2022-05-25T09:44:13.803Z"
   },
   {
    "duration": 42,
    "start_time": "2022-05-25T09:44:13.849Z"
   },
   {
    "duration": 14,
    "start_time": "2022-05-25T09:44:13.893Z"
   },
   {
    "duration": 27,
    "start_time": "2022-05-25T09:44:13.910Z"
   },
   {
    "duration": 5,
    "start_time": "2022-05-25T09:44:13.938Z"
   },
   {
    "duration": 49,
    "start_time": "2022-05-25T09:44:13.947Z"
   },
   {
    "duration": 21,
    "start_time": "2022-05-25T09:44:13.998Z"
   },
   {
    "duration": 43,
    "start_time": "2022-05-25T09:44:14.021Z"
   },
   {
    "duration": 20,
    "start_time": "2022-05-25T09:44:14.066Z"
   },
   {
    "duration": 34,
    "start_time": "2022-05-25T09:44:14.087Z"
   },
   {
    "duration": 21,
    "start_time": "2022-05-25T09:44:14.122Z"
   },
   {
    "duration": 12,
    "start_time": "2022-05-25T09:44:14.145Z"
   },
   {
    "duration": 12,
    "start_time": "2022-05-25T09:44:14.160Z"
   },
   {
    "duration": 10,
    "start_time": "2022-05-25T09:44:14.173Z"
   },
   {
    "duration": 6,
    "start_time": "2022-05-25T09:44:14.185Z"
   },
   {
    "duration": 41,
    "start_time": "2022-05-25T09:44:14.192Z"
   },
   {
    "duration": 17,
    "start_time": "2022-05-25T09:44:14.234Z"
   },
   {
    "duration": 20,
    "start_time": "2022-05-25T09:44:14.252Z"
   },
   {
    "duration": 25,
    "start_time": "2022-05-25T09:44:14.274Z"
   },
   {
    "duration": 9,
    "start_time": "2022-05-25T09:44:14.301Z"
   },
   {
    "duration": 28,
    "start_time": "2022-05-25T09:44:14.312Z"
   },
   {
    "duration": 5,
    "start_time": "2022-05-25T09:44:14.343Z"
   },
   {
    "duration": 7,
    "start_time": "2022-05-25T09:44:14.350Z"
   },
   {
    "duration": 8,
    "start_time": "2022-05-25T09:44:44.763Z"
   },
   {
    "duration": 4,
    "start_time": "2022-05-25T09:44:47.150Z"
   },
   {
    "duration": 77,
    "start_time": "2022-05-25T09:45:54.683Z"
   },
   {
    "duration": 6,
    "start_time": "2022-05-25T09:46:27.844Z"
   },
   {
    "duration": 5,
    "start_time": "2022-05-25T09:47:01.445Z"
   },
   {
    "duration": 411,
    "start_time": "2022-05-25T09:47:26.950Z"
   },
   {
    "duration": 181,
    "start_time": "2022-05-25T09:47:27.363Z"
   },
   {
    "duration": 15,
    "start_time": "2022-05-25T09:47:27.546Z"
   },
   {
    "duration": 41,
    "start_time": "2022-05-25T09:47:27.563Z"
   },
   {
    "duration": 10,
    "start_time": "2022-05-25T09:47:27.607Z"
   },
   {
    "duration": 29,
    "start_time": "2022-05-25T09:47:27.618Z"
   },
   {
    "duration": 38,
    "start_time": "2022-05-25T09:47:27.649Z"
   },
   {
    "duration": 24,
    "start_time": "2022-05-25T09:47:27.689Z"
   },
   {
    "duration": 47,
    "start_time": "2022-05-25T09:47:27.714Z"
   },
   {
    "duration": 48,
    "start_time": "2022-05-25T09:47:27.764Z"
   },
   {
    "duration": 71,
    "start_time": "2022-05-25T09:47:27.814Z"
   },
   {
    "duration": 86,
    "start_time": "2022-05-25T09:47:27.886Z"
   },
   {
    "duration": 76,
    "start_time": "2022-05-25T09:47:27.974Z"
   },
   {
    "duration": 58,
    "start_time": "2022-05-25T09:47:28.053Z"
   },
   {
    "duration": 54,
    "start_time": "2022-05-25T09:47:28.113Z"
   },
   {
    "duration": 10,
    "start_time": "2022-05-25T09:47:28.169Z"
   },
   {
    "duration": 74,
    "start_time": "2022-05-25T09:47:28.180Z"
   },
   {
    "duration": 11,
    "start_time": "2022-05-25T09:47:28.256Z"
   },
   {
    "duration": 30,
    "start_time": "2022-05-25T09:47:28.269Z"
   },
   {
    "duration": 19,
    "start_time": "2022-05-25T09:47:28.301Z"
   },
   {
    "duration": 73,
    "start_time": "2022-05-25T09:47:28.322Z"
   },
   {
    "duration": 33,
    "start_time": "2022-05-25T09:47:28.397Z"
   },
   {
    "duration": 44,
    "start_time": "2022-05-25T09:47:28.434Z"
   },
   {
    "duration": 15,
    "start_time": "2022-05-25T09:47:28.480Z"
   },
   {
    "duration": 37,
    "start_time": "2022-05-25T09:47:28.497Z"
   },
   {
    "duration": 32,
    "start_time": "2022-05-25T09:47:28.535Z"
   },
   {
    "duration": 13,
    "start_time": "2022-05-25T09:47:28.568Z"
   },
   {
    "duration": 20,
    "start_time": "2022-05-25T09:47:28.583Z"
   },
   {
    "duration": 18,
    "start_time": "2022-05-25T09:47:28.604Z"
   },
   {
    "duration": 26,
    "start_time": "2022-05-25T09:47:28.624Z"
   },
   {
    "duration": 50,
    "start_time": "2022-05-25T09:47:28.651Z"
   },
   {
    "duration": 10,
    "start_time": "2022-05-25T09:47:28.703Z"
   },
   {
    "duration": 42,
    "start_time": "2022-05-25T09:47:28.715Z"
   },
   {
    "duration": 11,
    "start_time": "2022-05-25T09:47:28.759Z"
   },
   {
    "duration": 18,
    "start_time": "2022-05-25T09:47:28.772Z"
   },
   {
    "duration": 23,
    "start_time": "2022-05-25T09:47:28.792Z"
   },
   {
    "duration": 33,
    "start_time": "2022-05-25T09:47:28.817Z"
   },
   {
    "duration": 41,
    "start_time": "2022-05-25T09:47:28.851Z"
   },
   {
    "duration": 41,
    "start_time": "2022-06-26T22:47:16.071Z"
   },
   {
    "duration": 402,
    "start_time": "2022-06-26T22:47:26.583Z"
   },
   {
    "duration": 462,
    "start_time": "2022-06-26T22:47:26.987Z"
   },
   {
    "duration": 16,
    "start_time": "2022-06-26T22:47:27.450Z"
   },
   {
    "duration": 30,
    "start_time": "2022-06-26T22:47:27.468Z"
   },
   {
    "duration": 2,
    "start_time": "2022-06-26T22:47:27.500Z"
   },
   {
    "duration": 7,
    "start_time": "2022-06-26T22:47:27.503Z"
   },
   {
    "duration": 15,
    "start_time": "2022-06-26T22:47:27.511Z"
   },
   {
    "duration": 6,
    "start_time": "2022-06-26T22:47:27.527Z"
   },
   {
    "duration": 22,
    "start_time": "2022-06-26T22:47:27.535Z"
   },
   {
    "duration": 21,
    "start_time": "2022-06-26T22:47:27.559Z"
   },
   {
    "duration": 20,
    "start_time": "2022-06-26T22:47:27.582Z"
   },
   {
    "duration": 79,
    "start_time": "2022-06-26T22:47:27.604Z"
   },
   {
    "duration": 78,
    "start_time": "2022-06-26T22:47:27.685Z"
   },
   {
    "duration": 65,
    "start_time": "2022-06-26T22:47:27.766Z"
   },
   {
    "duration": 34,
    "start_time": "2022-06-26T22:47:27.833Z"
   },
   {
    "duration": 10,
    "start_time": "2022-06-26T22:47:27.869Z"
   },
   {
    "duration": 12,
    "start_time": "2022-06-26T22:47:27.939Z"
   },
   {
    "duration": 4,
    "start_time": "2022-06-26T22:47:54.574Z"
   },
   {
    "duration": 22,
    "start_time": "2022-06-26T22:47:54.580Z"
   },
   {
    "duration": 15,
    "start_time": "2022-06-26T22:47:54.604Z"
   },
   {
    "duration": 16,
    "start_time": "2022-06-26T22:47:54.620Z"
   },
   {
    "duration": 15,
    "start_time": "2022-06-26T22:47:54.638Z"
   },
   {
    "duration": 20,
    "start_time": "2022-06-26T22:47:54.654Z"
   },
   {
    "duration": 17,
    "start_time": "2022-06-26T22:47:54.676Z"
   },
   {
    "duration": 38,
    "start_time": "2022-06-26T22:47:54.694Z"
   },
   {
    "duration": 11,
    "start_time": "2022-06-26T22:47:54.734Z"
   },
   {
    "duration": 10,
    "start_time": "2022-06-26T22:47:54.747Z"
   },
   {
    "duration": 6,
    "start_time": "2022-06-26T22:47:54.759Z"
   },
   {
    "duration": 23,
    "start_time": "2022-06-26T22:47:54.767Z"
   },
   {
    "duration": 11,
    "start_time": "2022-06-26T22:47:54.791Z"
   },
   {
    "duration": 17,
    "start_time": "2022-06-26T22:47:54.827Z"
   },
   {
    "duration": 16,
    "start_time": "2022-06-26T22:47:54.846Z"
   },
   {
    "duration": 12,
    "start_time": "2022-06-26T22:47:54.863Z"
   },
   {
    "duration": 6,
    "start_time": "2022-06-26T22:47:54.877Z"
   },
   {
    "duration": 8,
    "start_time": "2022-06-26T22:47:54.885Z"
   },
   {
    "duration": 33,
    "start_time": "2022-06-26T22:47:54.895Z"
   },
   {
    "duration": 13,
    "start_time": "2022-06-26T22:47:54.930Z"
   },
   {
    "duration": 35,
    "start_time": "2022-06-26T22:47:54.944Z"
   },
   {
    "duration": 46,
    "start_time": "2022-09-06T22:28:32.168Z"
   },
   {
    "duration": 373,
    "start_time": "2022-09-06T22:28:43.436Z"
   },
   {
    "duration": 222,
    "start_time": "2022-09-06T22:28:43.811Z"
   },
   {
    "duration": 18,
    "start_time": "2022-09-06T22:28:44.034Z"
   },
   {
    "duration": 30,
    "start_time": "2022-09-06T22:28:44.054Z"
   },
   {
    "duration": 3,
    "start_time": "2022-09-06T22:28:44.085Z"
   },
   {
    "duration": 16,
    "start_time": "2022-09-06T22:28:44.089Z"
   },
   {
    "duration": 21,
    "start_time": "2022-09-06T22:28:44.107Z"
   },
   {
    "duration": 9,
    "start_time": "2022-09-06T22:28:44.130Z"
   },
   {
    "duration": 30,
    "start_time": "2022-09-06T22:28:44.141Z"
   },
   {
    "duration": 29,
    "start_time": "2022-09-06T22:28:44.175Z"
   },
   {
    "duration": 25,
    "start_time": "2022-09-06T22:28:44.206Z"
   },
   {
    "duration": 83,
    "start_time": "2022-09-06T22:28:44.233Z"
   },
   {
    "duration": 85,
    "start_time": "2022-09-06T22:28:44.318Z"
   },
   {
    "duration": 81,
    "start_time": "2022-09-06T22:28:44.405Z"
   },
   {
    "duration": 47,
    "start_time": "2022-09-06T22:28:44.488Z"
   },
   {
    "duration": 9,
    "start_time": "2022-09-06T22:28:44.537Z"
   },
   {
    "duration": 42,
    "start_time": "2022-09-06T22:28:44.548Z"
   },
   {
    "duration": 21,
    "start_time": "2022-09-06T22:28:44.592Z"
   },
   {
    "duration": 17,
    "start_time": "2022-09-06T22:28:44.616Z"
   },
   {
    "duration": 3,
    "start_time": "2022-09-06T22:28:44.635Z"
   },
   {
    "duration": 38,
    "start_time": "2022-09-06T22:28:44.640Z"
   },
   {
    "duration": 30,
    "start_time": "2022-09-06T22:28:44.680Z"
   },
   {
    "duration": 20,
    "start_time": "2022-09-06T22:28:44.712Z"
   },
   {
    "duration": 18,
    "start_time": "2022-09-06T22:28:44.734Z"
   },
   {
    "duration": 55,
    "start_time": "2022-09-06T22:28:44.754Z"
   },
   {
    "duration": 21,
    "start_time": "2022-09-06T22:28:44.811Z"
   },
   {
    "duration": 10,
    "start_time": "2022-09-06T22:28:44.834Z"
   },
   {
    "duration": 19,
    "start_time": "2022-09-06T22:28:44.847Z"
   },
   {
    "duration": 16,
    "start_time": "2022-09-06T22:28:44.868Z"
   },
   {
    "duration": 20,
    "start_time": "2022-09-06T22:28:44.886Z"
   },
   {
    "duration": 29,
    "start_time": "2022-09-06T22:28:44.907Z"
   },
   {
    "duration": 12,
    "start_time": "2022-09-06T22:28:44.937Z"
   },
   {
    "duration": 20,
    "start_time": "2022-09-06T22:28:44.951Z"
   },
   {
    "duration": 36,
    "start_time": "2022-09-06T22:28:44.973Z"
   },
   {
    "duration": 8,
    "start_time": "2022-09-06T22:28:45.011Z"
   },
   {
    "duration": 12,
    "start_time": "2022-09-06T22:28:45.020Z"
   },
   {
    "duration": 13,
    "start_time": "2022-09-06T22:28:45.034Z"
   },
   {
    "duration": 21,
    "start_time": "2022-09-06T22:28:45.049Z"
   }
  ],
  "colab": {
   "collapsed_sections": [
    "E0vqbgi9ay0H",
    "VUC88oWjTJw2"
   ],
   "name": "yandex_music_project_2021.2.ipynb",
   "provenance": []
  },
  "kernelspec": {
   "display_name": "Python 3 (ipykernel)",
   "language": "python",
   "name": "python3"
  },
  "language_info": {
   "codemirror_mode": {
    "name": "ipython",
    "version": 3
   },
   "file_extension": ".py",
   "mimetype": "text/x-python",
   "name": "python",
   "nbconvert_exporter": "python",
   "pygments_lexer": "ipython3",
   "version": "3.9.12"
  },
  "toc": {
   "base_numbering": 1,
   "nav_menu": {
    "height": "215px",
    "width": "403px"
   },
   "number_sections": true,
   "sideBar": true,
   "skip_h1_title": true,
   "title_cell": "Table of Contents",
   "title_sidebar": "Contents",
   "toc_cell": false,
   "toc_position": {
    "height": "calc(100% - 180px)",
    "left": "10px",
    "top": "150px",
    "width": "285.825px"
   },
   "toc_section_display": true,
   "toc_window_display": false
  }
 },
 "nbformat": 4,
 "nbformat_minor": 1
}
